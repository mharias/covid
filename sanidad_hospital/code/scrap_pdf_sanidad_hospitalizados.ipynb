{
 "cells": [
  {
   "cell_type": "markdown",
   "metadata": {},
   "source": [
    "# Descarga de datos de hospitalizados desde Sanidad"
   ]
  },
  {
   "cell_type": "markdown",
   "metadata": {},
   "source": [
    "## Objetivo"
   ]
  },
  {
   "cell_type": "markdown",
   "metadata": {},
   "source": [
    "Vamos a hacer una lectura de los datos de hospitalizados publicados en los informes diarios de datos de Covid19 publicados por Sanidad. Este es un [ejemplo](https://www.mscbs.gob.es/profesionales/saludPublica/ccayes/alertasActual/nCov/documentos/Actualizacion_265_COVID-19.pdf) en página 3,  publicado del 4 de Diciembre 2020.\n",
    "  \n",
    "Manuel H. Arias  \n",
    "[@walyt](https://twitter.com/walyt)  \n",
    "\n",
    "[#escovid19data](https://github.com/montera34/escovid19data)\n",
    "\n",
    "versión definitiva documentada, para ser publicar en el repo\n",
    "\n",
    "[@walyt](https://twitter.com/walyt)"
   ]
  },
  {
   "cell_type": "markdown",
   "metadata": {},
   "source": [
    "## Código"
   ]
  },
  {
   "cell_type": "markdown",
   "metadata": {},
   "source": [
    "Tenemos un montón de librerias con las que vamos a trabajar, no he tenido ningún problema en instalar aquellas no disponibles en el entorno Anaconda con el que trabajo por medio de `pip install libreria` realizado desde un terminal abierto desde el entorno `env`."
   ]
  },
  {
   "cell_type": "code",
   "execution_count": 1,
   "metadata": {},
   "outputs": [],
   "source": [
    "import os.path as pth\n",
    "import datetime as dt\n",
    "import time\n",
    "from glob import glob\n",
    "import re\n",
    "import pandas as pd\n",
    "import numpy as np\n",
    "\n",
    "import requests\n",
    "from shutil import copyfile\n",
    "\n",
    "import matplotlib.pyplot as plt\n",
    "from matplotlib.ticker import FuncFormatter\n",
    "from matplotlib import cm\n",
    "import matplotlib.dates as mdates\n",
    "import matplotlib.ticker as ticker\n",
    "from matplotlib.dates import (YEARLY, MONTHLY, DateFormatter, WeekdayLocator, MonthLocator,DayLocator,\n",
    "                              rrulewrapper, RRuleLocator, drange)\n",
    "import seaborn as sns\n",
    "import matplotlib.colors as colors\n",
    "\n",
    "import numpy as np\n",
    "from datetime import datetime\n",
    "import seaborn as sns\n",
    "%matplotlib inline\n",
    "\n",
    "import fitz\n",
    "# https://pypi.org/project/PyMuPDF/#description"
   ]
  },
  {
   "cell_type": "markdown",
   "metadata": {},
   "source": [
    "Preparamos las expresiones regulares que nos ayudarán en la interpretación de la información que sacamos de los pdf."
   ]
  },
  {
   "cell_type": "markdown",
   "metadata": {},
   "source": [
    "Definimos variables que nos ayuden en la gestión de los nombres de los ficheros."
   ]
  },
  {
   "cell_type": "code",
   "execution_count": 2,
   "metadata": {},
   "outputs": [],
   "source": [
    "\n",
    "fuente_ficheros_pdf_sanidad = '/Users/mharias/documents/proyectos/covid/scrap_sanidad/datos_sanidad/'\n",
    "dir_csv = '/Users/mharias/documents/proyectos/covid/sanidad_hospital/data/'\n",
    "URL_reg='https://www.mscbs.gob.es/profesionales/saludPublica/ccayes/alertasActual/nCov/documentos/Actualizacion_{:02d}_COVID-19.pdf'"
   ]
  },
  {
   "cell_type": "markdown",
   "metadata": {},
   "source": [
    "## Descarga de los ficheros de Sanidad"
   ]
  },
  {
   "cell_type": "markdown",
   "metadata": {},
   "source": [
    "### Función de para descargar un fichero pdf, copiada del script de [@alfonsotwr](https://github.com/alfonsotwr/snippets/tree/master/covidia-cam)"
   ]
  },
  {
   "cell_type": "code",
   "execution_count": 3,
   "metadata": {},
   "outputs": [],
   "source": [
    "def descarga(url,num):\n",
    "    print('Descargando:', url)\n",
    "    fn=fuente_ficheros_pdf_sanidad+str(num)+'.pdf'\n",
    "    headers = {'User-Agent': 'Mozilla/5.0 (Macintosh; Intel Mac OS X 10_10_1) AppleWebKit/537.36 (KHTML, like Gecko) Chrome/39.0.2171.95 Safari/537.36'}\n",
    "    with requests.Session() as s:\n",
    "        r = s.get(url, headers=headers)\n",
    "    if r.status_code == requests.codes.ok:\n",
    "        with open(fn, 'wb') as fp:\n",
    "                fp.write(r.content)\n",
    "    else:\n",
    "        print ('Error con el ',num)\n",
    "    return True"
   ]
  },
  {
   "cell_type": "markdown",
   "metadata": {},
   "source": [
    "### Descarga de un rango o de un solo pdf"
   ]
  },
  {
   "cell_type": "markdown",
   "metadata": {},
   "source": [
    "Descargamos el rango completo en el caso de que sea la primera vez. Arrancamos con el 77, pues no pude descifrar el formato de los pdf anteriores."
   ]
  },
  {
   "cell_type": "code",
   "execution_count": 4,
   "metadata": {},
   "outputs": [
    {
     "name": "stdout",
     "output_type": "stream",
     "text": [
      "Descargando: https://www.mscbs.gob.es/profesionales/saludPublica/ccayes/alertasActual/nCov/documentos/Actualizacion_287_COVID-19.pdf\n"
     ]
    },
    {
     "ename": "NameError",
     "evalue": "name 'fuentes_ficheros_pdf_sanidad' is not defined",
     "output_type": "error",
     "traceback": [
      "\u001b[0;31m---------------------------------------------------------------------------\u001b[0m",
      "\u001b[0;31mNameError\u001b[0m                                 Traceback (most recent call last)",
      "\u001b[0;32m<ipython-input-4-6eb2d42947d1>\u001b[0m in \u001b[0;36m<module>\u001b[0;34m\u001b[0m\n\u001b[1;32m      1\u001b[0m \u001b[0;32mfor\u001b[0m \u001b[0mi\u001b[0m \u001b[0;32min\u001b[0m \u001b[0mrange\u001b[0m\u001b[0;34m(\u001b[0m\u001b[0;36m287\u001b[0m\u001b[0;34m,\u001b[0m\u001b[0;36m297\u001b[0m\u001b[0;34m)\u001b[0m\u001b[0;34m:\u001b[0m\u001b[0;34m\u001b[0m\u001b[0;34m\u001b[0m\u001b[0m\n\u001b[0;32m----> 2\u001b[0;31m     \u001b[0mdescarga\u001b[0m\u001b[0;34m(\u001b[0m\u001b[0mURL_reg\u001b[0m\u001b[0;34m.\u001b[0m\u001b[0mformat\u001b[0m\u001b[0;34m(\u001b[0m\u001b[0mi\u001b[0m\u001b[0;34m)\u001b[0m\u001b[0;34m,\u001b[0m\u001b[0mi\u001b[0m\u001b[0;34m)\u001b[0m\u001b[0;34m\u001b[0m\u001b[0;34m\u001b[0m\u001b[0m\n\u001b[0m",
      "\u001b[0;32m<ipython-input-3-eda5ab453e36>\u001b[0m in \u001b[0;36mdescarga\u001b[0;34m(url, num)\u001b[0m\n\u001b[1;32m      1\u001b[0m \u001b[0;32mdef\u001b[0m \u001b[0mdescarga\u001b[0m\u001b[0;34m(\u001b[0m\u001b[0murl\u001b[0m\u001b[0;34m,\u001b[0m\u001b[0mnum\u001b[0m\u001b[0;34m)\u001b[0m\u001b[0;34m:\u001b[0m\u001b[0;34m\u001b[0m\u001b[0;34m\u001b[0m\u001b[0m\n\u001b[1;32m      2\u001b[0m     \u001b[0mprint\u001b[0m\u001b[0;34m(\u001b[0m\u001b[0;34m'Descargando:'\u001b[0m\u001b[0;34m,\u001b[0m \u001b[0murl\u001b[0m\u001b[0;34m)\u001b[0m\u001b[0;34m\u001b[0m\u001b[0;34m\u001b[0m\u001b[0m\n\u001b[0;32m----> 3\u001b[0;31m     \u001b[0mfn\u001b[0m\u001b[0;34m=\u001b[0m\u001b[0mfuentes_ficheros_pdf_sanidad\u001b[0m\u001b[0;34m+\u001b[0m\u001b[0mstr\u001b[0m\u001b[0;34m(\u001b[0m\u001b[0mnum\u001b[0m\u001b[0;34m)\u001b[0m\u001b[0;34m+\u001b[0m\u001b[0;34m'.pdf'\u001b[0m\u001b[0;34m\u001b[0m\u001b[0;34m\u001b[0m\u001b[0m\n\u001b[0m\u001b[1;32m      4\u001b[0m     \u001b[0mheaders\u001b[0m \u001b[0;34m=\u001b[0m \u001b[0;34m{\u001b[0m\u001b[0;34m'User-Agent'\u001b[0m\u001b[0;34m:\u001b[0m \u001b[0;34m'Mozilla/5.0 (Macintosh; Intel Mac OS X 10_10_1) AppleWebKit/537.36 (KHTML, like Gecko) Chrome/39.0.2171.95 Safari/537.36'\u001b[0m\u001b[0;34m}\u001b[0m\u001b[0;34m\u001b[0m\u001b[0;34m\u001b[0m\u001b[0m\n\u001b[1;32m      5\u001b[0m     \u001b[0;32mwith\u001b[0m \u001b[0mrequests\u001b[0m\u001b[0;34m.\u001b[0m\u001b[0mSession\u001b[0m\u001b[0;34m(\u001b[0m\u001b[0;34m)\u001b[0m \u001b[0;32mas\u001b[0m \u001b[0ms\u001b[0m\u001b[0;34m:\u001b[0m\u001b[0;34m\u001b[0m\u001b[0;34m\u001b[0m\u001b[0m\n",
      "\u001b[0;31mNameError\u001b[0m: name 'fuentes_ficheros_pdf_sanidad' is not defined"
     ]
    }
   ],
   "source": [
    "for i in range(287,297):\n",
    "    descarga(URL_reg.format(i),i)"
   ]
  },
  {
   "cell_type": "markdown",
   "metadata": {},
   "source": [
    "### Descarga de un solo fichero"
   ]
  },
  {
   "cell_type": "markdown",
   "metadata": {},
   "source": [
    "Como ejemplo 266 corresponde al Viernes 4 Diciembre 2020, grabamos el fichero en el directorio local con el nº de orden del documento."
   ]
  },
  {
   "cell_type": "code",
   "execution_count": 5,
   "metadata": {},
   "outputs": [
    {
     "name": "stdout",
     "output_type": "stream",
     "text": [
      "Descargando: https://www.mscbs.gob.es/profesionales/saludPublica/ccayes/alertasActual/nCov/documentos/Actualizacion_316_COVID-19.pdf\n"
     ]
    },
    {
     "data": {
      "text/plain": [
       "True"
      ]
     },
     "execution_count": 5,
     "metadata": {},
     "output_type": "execute_result"
    }
   ],
   "source": [
    "descarga(URL_reg.format(316),316)"
   ]
  },
  {
   "cell_type": "markdown",
   "metadata": {},
   "source": [
    "## Parseado y preparación del pandas"
   ]
  },
  {
   "cell_type": "code",
   "execution_count": 12,
   "metadata": {},
   "outputs": [],
   "source": [
    "columnas = ['fecha','ccaa','Hosp_Totales','Hosp_7días','UCI_Totales','UCI_7dias','Hosp_actual','%CamasCovid',\n",
    "        'UCI_actual','%CamasUCI','Ingresos_24horas','Altas_24horas']\n",
    "datos = pd.DataFrame(columns=columnas)"
   ]
  },
  {
   "cell_type": "markdown",
   "metadata": {},
   "source": [
    "fichero auxiliar que mapea nº de informes con fechas....Mejora: automatizarlo"
   ]
  },
  {
   "cell_type": "code",
   "execution_count": 13,
   "metadata": {},
   "outputs": [
    {
     "name": "stderr",
     "output_type": "stream",
     "text": [
      "<ipython-input-13-bbd0d5524e77>:1: FutureWarning: Your version of xlrd is 1.2.0. In xlrd >= 2.0, only the xls format is supported. As a result, the openpyxl engine will be used if it is installed and the engine argument is not specified. Install openpyxl instead.\n",
      "  claves=pd.read_excel(fuente_ficheros_pdf_sanidad+'clave_numero_fecha.xlsx')\n"
     ]
    }
   ],
   "source": [
    "claves=pd.read_excel(fuente_ficheros_pdf_sanidad+'clave_numero_fecha.xlsx')\n",
    "claves['Fecha']=claves['Fecha'].astype(str)"
   ]
  },
  {
   "cell_type": "code",
   "execution_count": 14,
   "metadata": {},
   "outputs": [],
   "source": [
    "claves['Fecha'] = claves.apply(lambda x: datetime.strptime(x['Fecha'],format('%Y-%m-%d')).strftime('%Y-%m-%d'),axis=1)"
   ]
  },
  {
   "cell_type": "code",
   "execution_count": 15,
   "metadata": {},
   "outputs": [
    {
     "data": {
      "text/html": [
       "<div>\n",
       "<style scoped>\n",
       "    .dataframe tbody tr th:only-of-type {\n",
       "        vertical-align: middle;\n",
       "    }\n",
       "\n",
       "    .dataframe tbody tr th {\n",
       "        vertical-align: top;\n",
       "    }\n",
       "\n",
       "    .dataframe thead th {\n",
       "        text-align: right;\n",
       "    }\n",
       "</style>\n",
       "<table border=\"1\" class=\"dataframe\">\n",
       "  <thead>\n",
       "    <tr style=\"text-align: right;\">\n",
       "      <th></th>\n",
       "      <th>Codigo</th>\n",
       "      <th>Fecha</th>\n",
       "    </tr>\n",
       "  </thead>\n",
       "  <tbody>\n",
       "    <tr>\n",
       "      <th>220</th>\n",
       "      <td>297</td>\n",
       "      <td>2021-01-25</td>\n",
       "    </tr>\n",
       "    <tr>\n",
       "      <th>221</th>\n",
       "      <td>298</td>\n",
       "      <td>2021-01-26</td>\n",
       "    </tr>\n",
       "    <tr>\n",
       "      <th>222</th>\n",
       "      <td>299</td>\n",
       "      <td>2021-01-27</td>\n",
       "    </tr>\n",
       "    <tr>\n",
       "      <th>223</th>\n",
       "      <td>300</td>\n",
       "      <td>2021-01-28</td>\n",
       "    </tr>\n",
       "    <tr>\n",
       "      <th>224</th>\n",
       "      <td>301</td>\n",
       "      <td>2021-01-29</td>\n",
       "    </tr>\n",
       "    <tr>\n",
       "      <th>225</th>\n",
       "      <td>302</td>\n",
       "      <td>2021-02-01</td>\n",
       "    </tr>\n",
       "    <tr>\n",
       "      <th>226</th>\n",
       "      <td>303</td>\n",
       "      <td>2021-02-02</td>\n",
       "    </tr>\n",
       "    <tr>\n",
       "      <th>227</th>\n",
       "      <td>304</td>\n",
       "      <td>2021-02-03</td>\n",
       "    </tr>\n",
       "    <tr>\n",
       "      <th>228</th>\n",
       "      <td>305</td>\n",
       "      <td>2021-02-04</td>\n",
       "    </tr>\n",
       "    <tr>\n",
       "      <th>229</th>\n",
       "      <td>306</td>\n",
       "      <td>2021-02-05</td>\n",
       "    </tr>\n",
       "    <tr>\n",
       "      <th>230</th>\n",
       "      <td>307</td>\n",
       "      <td>2021-02-08</td>\n",
       "    </tr>\n",
       "    <tr>\n",
       "      <th>231</th>\n",
       "      <td>308</td>\n",
       "      <td>2021-02-09</td>\n",
       "    </tr>\n",
       "    <tr>\n",
       "      <th>232</th>\n",
       "      <td>309</td>\n",
       "      <td>2021-02-10</td>\n",
       "    </tr>\n",
       "    <tr>\n",
       "      <th>233</th>\n",
       "      <td>310</td>\n",
       "      <td>2021-02-11</td>\n",
       "    </tr>\n",
       "    <tr>\n",
       "      <th>234</th>\n",
       "      <td>311</td>\n",
       "      <td>2021-02-12</td>\n",
       "    </tr>\n",
       "    <tr>\n",
       "      <th>235</th>\n",
       "      <td>312</td>\n",
       "      <td>2021-02-15</td>\n",
       "    </tr>\n",
       "    <tr>\n",
       "      <th>236</th>\n",
       "      <td>313</td>\n",
       "      <td>2021-02-16</td>\n",
       "    </tr>\n",
       "    <tr>\n",
       "      <th>237</th>\n",
       "      <td>314</td>\n",
       "      <td>2021-02-17</td>\n",
       "    </tr>\n",
       "    <tr>\n",
       "      <th>238</th>\n",
       "      <td>315</td>\n",
       "      <td>2021-02-18</td>\n",
       "    </tr>\n",
       "    <tr>\n",
       "      <th>239</th>\n",
       "      <td>316</td>\n",
       "      <td>2021-02-19</td>\n",
       "    </tr>\n",
       "  </tbody>\n",
       "</table>\n",
       "</div>"
      ],
      "text/plain": [
       "     Codigo       Fecha\n",
       "220     297  2021-01-25\n",
       "221     298  2021-01-26\n",
       "222     299  2021-01-27\n",
       "223     300  2021-01-28\n",
       "224     301  2021-01-29\n",
       "225     302  2021-02-01\n",
       "226     303  2021-02-02\n",
       "227     304  2021-02-03\n",
       "228     305  2021-02-04\n",
       "229     306  2021-02-05\n",
       "230     307  2021-02-08\n",
       "231     308  2021-02-09\n",
       "232     309  2021-02-10\n",
       "233     310  2021-02-11\n",
       "234     311  2021-02-12\n",
       "235     312  2021-02-15\n",
       "236     313  2021-02-16\n",
       "237     314  2021-02-17\n",
       "238     315  2021-02-18\n",
       "239     316  2021-02-19"
      ]
     },
     "execution_count": 15,
     "metadata": {},
     "output_type": "execute_result"
    }
   ],
   "source": [
    "claves[-20:]"
   ]
  },
  {
   "cell_type": "code",
   "execution_count": 16,
   "metadata": {},
   "outputs": [],
   "source": [
    "comunidades=['Andalucía','Aragón','Asturias','Baleares','Canarias','Cantabria','Castilla La Mancha',\n",
    "             'Castilla y León','Cataluña','Ceuta','C. Valenciana','Extremadura','Galicia',\n",
    "             'Madrid','Melilla','Murcia','Navarra','País Vasco','La Rioja']"
   ]
  },
  {
   "cell_type": "markdown",
   "metadata": {},
   "source": [
    "## desde 235"
   ]
  },
  {
   "cell_type": "code",
   "execution_count": 17,
   "metadata": {},
   "outputs": [],
   "source": [
    "rango = np.concatenate([np.arange(235,266),np.arange(267,317)])\n",
    "opt='text'\n",
    "for i in rango:\n",
    "    fn=fuente_ficheros_pdf_sanidad+str(i)+'.pdf'\n",
    "    doc = fitz.open(fn)\n",
    "    numero_pagina = 3 if i==282 else 2\n",
    "    page = doc.load_page(numero_pagina)\n",
    "    text = page.get_text(opt)\n",
    "    \n",
    "    for comunidad in comunidades:\n",
    "        regexp = r'{} '.format(comunidad)+'((\\n\\d*[,.]?\\d+¥? ){4})'+\\\n",
    "        '(\\n \\n(\\w+[ .\\w]*) )((\\n\\d*[,.]?\\d+¥? ))'+\\\n",
    "        '((\\n+\\d{1,2}[,]?\\d*% ))'+\\\n",
    "        '((\\n\\d*[,.]?\\d+¥? ))'+\\\n",
    "        '((\\n+\\d{1,2}[,]?\\d*% ))'+\\\n",
    "        '(((\\n\\d*[,.]?\\d+¥? )){2})'\n",
    "        pattern = re.compile(regexp)\n",
    "        c1,c2,c3,c4 = re.search(pattern,text).group(1).replace('\\n','').split()\n",
    "        c5 = re.search(pattern,text).group(6).replace('\\n','')\n",
    "        c6 = re.search(pattern,text).group(8).replace('\\n','')\n",
    "        c7 = re.search(pattern,text).group(9).replace('\\n','')\n",
    "        c8 = re.search(pattern,text).group(11).replace('\\n','')\n",
    "        c9, c10 = re.search(pattern,text).group(13).replace('\\n','').split()\n",
    "        \n",
    "        #print (i,'--->',comunidad,c1,'-',c2,'-',c3,'-',c4,'-',c5,'-',c6,'-',c7,'-',c8,'-',c9,'-',c10)\n",
    "        datos = datos.append({'fecha':claves.loc[claves['Codigo']==i,'Fecha'].values[0],\n",
    "                                                 'ccaa':comunidad,'Hosp_Totales':c1,\n",
    "                                               'Hosp_7días':c2,'UCI_Totales':c3,\n",
    "                                                 'UCI_7dias':c4,'Hosp_actual':c5,\n",
    "                                                 '%CamasCovid':c6,'UCI_actual':c7,\n",
    "                                                 '%CamasUCI':c8,'Ingresos_24horas':c9,\n",
    "                                                 'Altas_24horas':c10},ignore_index=True)\n",
    "        "
   ]
  },
  {
   "cell_type": "markdown",
   "metadata": {},
   "source": [
    "## antes 235"
   ]
  },
  {
   "cell_type": "code",
   "execution_count": 18,
   "metadata": {},
   "outputs": [],
   "source": [
    "rango_informes = np.concatenate([np.arange(88,137),np.arange(138,234)])\n",
    "#rango_informes = np.concatenate([np.arange(88,90)])\n",
    "\n",
    "for informe in rango_informes:\n",
    "    fn=fuente_ficheros_pdf_sanidad+str(informe)+'.pdf'\n",
    "    doc = fitz.open(fn)\n",
    "    page = doc.load_page(1)\n",
    "    text = page.get_text(opt)\n",
    "    \n",
    "    for comunidad in comunidades:\n",
    "        regexp = r'{}[*]* '.format(comunidad)+'((\\n\\d*[,.]?\\d+¥? ){6})'\n",
    "        regexp = r'{}[*]* '.format(comunidad)+'(((\\n\\d*[,.]?\\d+¥? )|(\\n- )){6})'\n",
    "        regexp = r'{}[*¥]* '.format(comunidad)+'(((\\n\\d*[,.]?\\d+¥? )|(\\n- )|(\\n )){6})'\n",
    "        cadena = re.search(regexp,text).group(0)  \n",
    "        #c1,c2,c3,c4,c5,c6 = re.search(regexp,text).group(1).replace('\\n','').split()\n",
    "        c1,c2,c3,c4,c5,c6 = re.search(regexp,text).group(1).split('\\n')[1:]\n",
    "        \n",
    "        datos = datos.append({'fecha':claves.loc[claves['Codigo']==informe,'Fecha'].values[0],\n",
    "                                                 'ccaa':comunidad,'Hosp_Totales':c1,\n",
    "                                               'Hosp_7días':c2,'UCI_Totales':c3,\n",
    "                                                 'UCI_7dias':c4},ignore_index=True)\n",
    "        \n",
    "        \n",
    "        #print (informe,'--->',comunidad,c1,'-',c2,'-',c3,'-',c4,'-',c5,'-',c6)\n",
    "        #print (cadena)"
   ]
  },
  {
   "cell_type": "code",
   "execution_count": 19,
   "metadata": {},
   "outputs": [],
   "source": [
    "datos = datos.sort_values('fecha',ascending=True)"
   ]
  },
  {
   "cell_type": "code",
   "execution_count": 20,
   "metadata": {},
   "outputs": [
    {
     "data": {
      "text/html": [
       "<div>\n",
       "<style scoped>\n",
       "    .dataframe tbody tr th:only-of-type {\n",
       "        vertical-align: middle;\n",
       "    }\n",
       "\n",
       "    .dataframe tbody tr th {\n",
       "        vertical-align: top;\n",
       "    }\n",
       "\n",
       "    .dataframe thead th {\n",
       "        text-align: right;\n",
       "    }\n",
       "</style>\n",
       "<table border=\"1\" class=\"dataframe\">\n",
       "  <thead>\n",
       "    <tr style=\"text-align: right;\">\n",
       "      <th></th>\n",
       "      <th>fecha</th>\n",
       "      <th>ccaa</th>\n",
       "      <th>Hosp_Totales</th>\n",
       "      <th>Hosp_7días</th>\n",
       "      <th>UCI_Totales</th>\n",
       "      <th>UCI_7dias</th>\n",
       "      <th>Hosp_actual</th>\n",
       "      <th>%CamasCovid</th>\n",
       "      <th>UCI_actual</th>\n",
       "      <th>%CamasUCI</th>\n",
       "      <th>Ingresos_24horas</th>\n",
       "      <th>Altas_24horas</th>\n",
       "    </tr>\n",
       "  </thead>\n",
       "  <tbody>\n",
       "    <tr>\n",
       "      <th>1551</th>\n",
       "      <td>2020-04-27</td>\n",
       "      <td>Galicia</td>\n",
       "      <td>2.746</td>\n",
       "      <td>11</td>\n",
       "      <td>83¥</td>\n",
       "      <td></td>\n",
       "      <td>NaN</td>\n",
       "      <td>NaN</td>\n",
       "      <td>NaN</td>\n",
       "      <td>NaN</td>\n",
       "      <td>NaN</td>\n",
       "      <td>NaN</td>\n",
       "    </tr>\n",
       "    <tr>\n",
       "      <th>1557</th>\n",
       "      <td>2020-04-27</td>\n",
       "      <td>La Rioja</td>\n",
       "      <td>1.392</td>\n",
       "      <td>12</td>\n",
       "      <td>85</td>\n",
       "      <td>1</td>\n",
       "      <td>NaN</td>\n",
       "      <td>NaN</td>\n",
       "      <td>NaN</td>\n",
       "      <td>NaN</td>\n",
       "      <td>NaN</td>\n",
       "      <td>NaN</td>\n",
       "    </tr>\n",
       "    <tr>\n",
       "      <th>1556</th>\n",
       "      <td>2020-04-27</td>\n",
       "      <td>País Vasco</td>\n",
       "      <td>6.457</td>\n",
       "      <td>31</td>\n",
       "      <td>538</td>\n",
       "      <td>5</td>\n",
       "      <td>NaN</td>\n",
       "      <td>NaN</td>\n",
       "      <td>NaN</td>\n",
       "      <td>NaN</td>\n",
       "      <td>NaN</td>\n",
       "      <td>NaN</td>\n",
       "    </tr>\n",
       "    <tr>\n",
       "      <th>1555</th>\n",
       "      <td>2020-04-27</td>\n",
       "      <td>Navarra</td>\n",
       "      <td>1.942</td>\n",
       "      <td>0</td>\n",
       "      <td>130</td>\n",
       "      <td>1</td>\n",
       "      <td>NaN</td>\n",
       "      <td>NaN</td>\n",
       "      <td>NaN</td>\n",
       "      <td>NaN</td>\n",
       "      <td>NaN</td>\n",
       "      <td>NaN</td>\n",
       "    </tr>\n",
       "    <tr>\n",
       "      <th>1554</th>\n",
       "      <td>2020-04-27</td>\n",
       "      <td>Murcia</td>\n",
       "      <td>627</td>\n",
       "      <td>0</td>\n",
       "      <td>106</td>\n",
       "      <td>0</td>\n",
       "      <td>NaN</td>\n",
       "      <td>NaN</td>\n",
       "      <td>NaN</td>\n",
       "      <td>NaN</td>\n",
       "      <td>NaN</td>\n",
       "      <td>NaN</td>\n",
       "    </tr>\n",
       "    <tr>\n",
       "      <th>...</th>\n",
       "      <td>...</td>\n",
       "      <td>...</td>\n",
       "      <td>...</td>\n",
       "      <td>...</td>\n",
       "      <td>...</td>\n",
       "      <td>...</td>\n",
       "      <td>...</td>\n",
       "      <td>...</td>\n",
       "      <td>...</td>\n",
       "      <td>...</td>\n",
       "      <td>...</td>\n",
       "      <td>...</td>\n",
       "    </tr>\n",
       "    <tr>\n",
       "      <th>1522</th>\n",
       "      <td>2021-02-19</td>\n",
       "      <td>Asturias</td>\n",
       "      <td>7.040</td>\n",
       "      <td>182</td>\n",
       "      <td>520</td>\n",
       "      <td>13</td>\n",
       "      <td>539</td>\n",
       "      <td>15,43%</td>\n",
       "      <td>127</td>\n",
       "      <td>38,14%</td>\n",
       "      <td>44</td>\n",
       "      <td>56</td>\n",
       "    </tr>\n",
       "    <tr>\n",
       "      <th>1521</th>\n",
       "      <td>2021-02-19</td>\n",
       "      <td>Aragón</td>\n",
       "      <td>12.055</td>\n",
       "      <td>175</td>\n",
       "      <td>1.082</td>\n",
       "      <td>19</td>\n",
       "      <td>503</td>\n",
       "      <td>11,97%</td>\n",
       "      <td>80</td>\n",
       "      <td>33,90%</td>\n",
       "      <td>43</td>\n",
       "      <td>60</td>\n",
       "    </tr>\n",
       "    <tr>\n",
       "      <th>1520</th>\n",
       "      <td>2021-02-19</td>\n",
       "      <td>Andalucía</td>\n",
       "      <td>36.341</td>\n",
       "      <td>608</td>\n",
       "      <td>3.504</td>\n",
       "      <td>42</td>\n",
       "      <td>2.623</td>\n",
       "      <td>14,45%</td>\n",
       "      <td>612</td>\n",
       "      <td>31,60%</td>\n",
       "      <td>209</td>\n",
       "      <td>386</td>\n",
       "    </tr>\n",
       "    <tr>\n",
       "      <th>1529</th>\n",
       "      <td>2021-02-19</td>\n",
       "      <td>Ceuta</td>\n",
       "      <td>256</td>\n",
       "      <td>3</td>\n",
       "      <td>30</td>\n",
       "      <td>0</td>\n",
       "      <td>32</td>\n",
       "      <td>16,00%</td>\n",
       "      <td>7</td>\n",
       "      <td>41,18%</td>\n",
       "      <td>2</td>\n",
       "      <td>0</td>\n",
       "    </tr>\n",
       "    <tr>\n",
       "      <th>1538</th>\n",
       "      <td>2021-02-19</td>\n",
       "      <td>La Rioja</td>\n",
       "      <td>3.154</td>\n",
       "      <td>31</td>\n",
       "      <td>351</td>\n",
       "      <td>1</td>\n",
       "      <td>108</td>\n",
       "      <td>12,90%</td>\n",
       "      <td>33</td>\n",
       "      <td>37,93%</td>\n",
       "      <td>3</td>\n",
       "      <td>13</td>\n",
       "    </tr>\n",
       "  </tbody>\n",
       "</table>\n",
       "<p>4294 rows × 12 columns</p>\n",
       "</div>"
      ],
      "text/plain": [
       "           fecha        ccaa Hosp_Totales Hosp_7días UCI_Totales UCI_7dias  \\\n",
       "1551  2020-04-27     Galicia       2.746         11         83¥              \n",
       "1557  2020-04-27    La Rioja       1.392         12          85         1    \n",
       "1556  2020-04-27  País Vasco       6.457         31         538         5    \n",
       "1555  2020-04-27     Navarra       1.942          0         130         1    \n",
       "1554  2020-04-27      Murcia         627          0         106         0    \n",
       "...          ...         ...          ...        ...         ...       ...   \n",
       "1522  2021-02-19    Asturias        7.040        182         520        13   \n",
       "1521  2021-02-19      Aragón       12.055        175       1.082        19   \n",
       "1520  2021-02-19   Andalucía       36.341        608       3.504        42   \n",
       "1529  2021-02-19       Ceuta          256          3          30         0   \n",
       "1538  2021-02-19    La Rioja        3.154         31         351         1   \n",
       "\n",
       "     Hosp_actual %CamasCovid UCI_actual %CamasUCI Ingresos_24horas  \\\n",
       "1551         NaN         NaN        NaN       NaN              NaN   \n",
       "1557         NaN         NaN        NaN       NaN              NaN   \n",
       "1556         NaN         NaN        NaN       NaN              NaN   \n",
       "1555         NaN         NaN        NaN       NaN              NaN   \n",
       "1554         NaN         NaN        NaN       NaN              NaN   \n",
       "...          ...         ...        ...       ...              ...   \n",
       "1522        539      15,43%        127    38,14%                44   \n",
       "1521        503      11,97%         80    33,90%                43   \n",
       "1520      2.623      14,45%        612    31,60%               209   \n",
       "1529         32      16,00%          7    41,18%                 2   \n",
       "1538        108      12,90%         33    37,93%                 3   \n",
       "\n",
       "     Altas_24horas  \n",
       "1551           NaN  \n",
       "1557           NaN  \n",
       "1556           NaN  \n",
       "1555           NaN  \n",
       "1554           NaN  \n",
       "...            ...  \n",
       "1522            56  \n",
       "1521            60  \n",
       "1520           386  \n",
       "1529             0  \n",
       "1538            13  \n",
       "\n",
       "[4294 rows x 12 columns]"
      ]
     },
     "execution_count": 20,
     "metadata": {},
     "output_type": "execute_result"
    }
   ],
   "source": [
    "datos"
   ]
  },
  {
   "cell_type": "code",
   "execution_count": 21,
   "metadata": {},
   "outputs": [
    {
     "data": {
      "text/plain": [
       "array(['2020-04-27', '2020-04-28', '2020-04-29', '2020-04-30',\n",
       "       '2020-05-01', '2020-05-02', '2020-05-03', '2020-05-04',\n",
       "       '2020-05-05', '2020-05-06', '2020-05-07', '2020-05-08',\n",
       "       '2020-05-09', '2020-05-10', '2020-05-11', '2020-05-12',\n",
       "       '2020-05-13', '2020-05-14', '2020-05-15', '2020-05-16',\n",
       "       '2020-05-17', '2020-05-18', '2020-05-19', '2020-05-20',\n",
       "       '2020-05-21', '2020-05-22', '2020-05-23', '2020-05-24',\n",
       "       '2020-05-25', '2020-05-26', '2020-05-27', '2020-05-28',\n",
       "       '2020-05-29', '2020-05-30', '2020-05-31', '2020-06-01',\n",
       "       '2020-06-02', '2020-06-03', '2020-06-04', '2020-06-05',\n",
       "       '2020-06-06', '2020-06-07', '2020-06-08', '2020-06-09',\n",
       "       '2020-06-10', '2020-06-11', '2020-06-12', '2020-06-13',\n",
       "       '2020-06-14', '2020-06-16', '2020-06-17', '2020-06-18',\n",
       "       '2020-06-19', '2020-06-20', '2020-06-21', '2020-06-22',\n",
       "       '2020-06-23', '2020-06-24', '2020-06-25', '2020-06-26',\n",
       "       '2020-06-27', '2020-06-28', '2020-06-29', '2020-06-30',\n",
       "       '2020-07-01', '2020-07-02', '2020-07-03', '2020-07-06',\n",
       "       '2020-07-07', '2020-07-08', '2020-07-09', '2020-07-10',\n",
       "       '2020-07-13', '2020-07-14', '2020-07-15', '2020-07-16',\n",
       "       '2020-07-17', '2020-07-20', '2020-07-21', '2020-07-22',\n",
       "       '2020-07-23', '2020-07-24', '2020-07-27', '2020-07-28',\n",
       "       '2020-07-29', '2020-07-30', '2020-07-31', '2020-08-03',\n",
       "       '2020-08-04', '2020-08-05', '2020-08-06', '2020-08-07',\n",
       "       '2020-08-10', '2020-08-11', '2020-08-12', '2020-08-13',\n",
       "       '2020-08-14', '2020-08-17', '2020-08-18', '2020-08-19',\n",
       "       '2020-08-20', '2020-08-21', '2020-08-24', '2020-08-25',\n",
       "       '2020-08-26', '2020-08-27', '2020-08-28', '2020-08-31',\n",
       "       '2020-09-01', '2020-09-02', '2020-09-03', '2020-09-04',\n",
       "       '2020-09-07', '2020-09-08', '2020-09-09', '2020-09-10',\n",
       "       '2020-09-11', '2020-09-14', '2020-09-15', '2020-09-16',\n",
       "       '2020-09-17', '2020-09-18', '2020-09-21', '2020-09-22',\n",
       "       '2020-09-23', '2020-09-24', '2020-09-25', '2020-09-28',\n",
       "       '2020-09-29', '2020-09-30', '2020-10-01', '2020-10-02',\n",
       "       '2020-10-05', '2020-10-06', '2020-10-07', '2020-10-08',\n",
       "       '2020-10-09', '2020-10-12', '2020-10-13', '2020-10-14',\n",
       "       '2020-10-15', '2020-10-16', '2020-10-19', '2020-10-20',\n",
       "       '2020-10-21', '2020-10-23', '2020-10-26', '2020-10-27',\n",
       "       '2020-10-28', '2020-10-29', '2020-10-30', '2020-11-02',\n",
       "       '2020-11-03', '2020-11-04', '2020-11-05', '2020-11-06',\n",
       "       '2020-11-09', '2020-11-10', '2020-11-11', '2020-11-12',\n",
       "       '2020-11-13', '2020-11-16', '2020-11-17', '2020-11-18',\n",
       "       '2020-11-19', '2020-11-20', '2020-11-23', '2020-11-24',\n",
       "       '2020-11-25', '2020-11-26', '2020-11-27', '2020-11-30',\n",
       "       '2020-12-01', '2020-12-02', '2020-12-03', '2020-12-04',\n",
       "       '2020-12-09', '2020-12-10', '2020-12-11', '2020-12-14',\n",
       "       '2020-12-15', '2020-12-16', '2020-12-17', '2020-12-18',\n",
       "       '2020-12-21', '2020-12-22', '2020-12-23', '2020-12-24',\n",
       "       '2020-12-28', '2020-12-29', '2020-12-30', '2020-12-31',\n",
       "       '2021-01-04', '2021-01-05', '2021-01-07', '2021-01-08',\n",
       "       '2021-01-11', '2021-01-12', '2021-01-13', '2021-01-14',\n",
       "       '2021-01-15', '2021-01-18', '2021-01-19', '2021-01-20',\n",
       "       '2021-01-21', '2021-01-22', '2021-01-25', '2021-01-26',\n",
       "       '2021-01-27', '2021-01-28', '2021-01-29', '2021-02-01',\n",
       "       '2021-02-02', '2021-02-03', '2021-02-04', '2021-02-05',\n",
       "       '2021-02-08', '2021-02-09', '2021-02-10', '2021-02-11',\n",
       "       '2021-02-12', '2021-02-15', '2021-02-16', '2021-02-17',\n",
       "       '2021-02-18', '2021-02-19'], dtype=object)"
      ]
     },
     "execution_count": 21,
     "metadata": {},
     "output_type": "execute_result"
    }
   ],
   "source": [
    "datos['fecha'].unique()"
   ]
  },
  {
   "cell_type": "code",
   "execution_count": 22,
   "metadata": {},
   "outputs": [],
   "source": [
    "datos.to_csv(dir_csv+'datos_sanidad_hosp.csv',index=False,index_label=False)"
   ]
  },
  {
   "cell_type": "markdown",
   "metadata": {},
   "source": [
    "## Parseado pre 235, con la página 2, Tabla 2"
   ]
  },
  {
   "cell_type": "code",
   "execution_count": null,
   "metadata": {
    "scrolled": true
   },
   "outputs": [],
   "source": [
    "i = 87\n",
    "fn=fuente_ficheros_pdf_sanidad+str(i)+'.pdf'\n",
    "doc = fitz.open(fn)\n",
    "page = doc.load_page(1)\n",
    "text = page.get_text(opt)\n",
    "comunidad='Galicia'\n",
    "regexp = r'{}[*]? '.format(comunidad)+'((\\n\\d*[,.]?\\d+¥? ){6})'\n",
    "regexp = r'{}[*¥]* '.format(comunidad)+'(((\\n\\d*[,.]?\\d+¥? )|(\\n- )|(\\n )){6})'\n",
    "cadena = re.search(regexp,text).group(1).split(('\\n'))\n",
    "print (cadena)\n"
   ]
  },
  {
   "cell_type": "code",
   "execution_count": null,
   "metadata": {},
   "outputs": [],
   "source": [
    "text"
   ]
  },
  {
   "cell_type": "code",
   "execution_count": null,
   "metadata": {},
   "outputs": [],
   "source": [
    "i = 211\n",
    "fn=fuente_ficheros_pdf_sanidad+str(i)+'.pdf'\n",
    "doc = fitz.open(fn)\n",
    "page = doc.load_page(1)\n",
    "text = page.get_text(opt)\n",
    "comunidad='Andalucía'\n",
    "for comunidad in comunidades:\n",
    "    regexp = r'{}[*]* '.format(comunidad)+'((\\n\\d*[,.]?\\d+¥? ){6})'\n",
    "    regexp = r'{}[*]* '.format(comunidad)+'(((\\n\\d*[,.]?\\d+¥? )|(\\n- )){6})'\n",
    "    regexp = r'{}[*¥]* '.format(comunidad)+'(((\\n\\d*[,.]?\\d+¥? )|(\\n- )|(\\n )){6})'\n",
    "    cadena = re.search(regexp,text).group(0)\n",
    "    c1,c2,c3,c4,c5,c6 = re.search(regexp,text).group(1).split('\\n')[1:]\n",
    "    print (cadena)\n",
    "    print (informe,'--->',comunidad,c1,'-',c2,'-',c3,'-',c4,'-',c5,'-',c6)"
   ]
  },
  {
   "cell_type": "code",
   "execution_count": null,
   "metadata": {},
   "outputs": [],
   "source": [
    "text"
   ]
  },
  {
   "cell_type": "code",
   "execution_count": null,
   "metadata": {},
   "outputs": [],
   "source": [
    "rango_informes = np.concatenate([np.arange(88,137),np.arange(138,234)])\n",
    "#rango_informes = np.concatenate([np.arange(88,90)])\n",
    "\n",
    "for informe in rango_informes:\n",
    "    fn=fuente_ficheros_pdf_sanidad+str(informe)+'.pdf'\n",
    "    doc = fitz.open(fn)\n",
    "    page = doc.load_page(1)\n",
    "    text = page.get_text(opt)\n",
    "    \n",
    "    for comunidad in comunidades:\n",
    "        regexp = r'{}[*]* '.format(comunidad)+'((\\n\\d*[,.]?\\d+¥? ){6})'\n",
    "        regexp = r'{}[*]* '.format(comunidad)+'(((\\n\\d*[,.]?\\d+¥? )|(\\n- )){6})'\n",
    "        regexp = r'{}[*¥]* '.format(comunidad)+'(((\\n\\d*[,.]?\\d+¥? )|(\\n- )|(\\n )){6})'\n",
    "        cadena = re.search(regexp,text).group(0)  \n",
    "        #c1,c2,c3,c4,c5,c6 = re.search(regexp,text).group(1).replace('\\n','').split()\n",
    "        c1,c2,c3,c4,c5,c6 = re.search(regexp,text).group(1).split('\\n')[1:]\n",
    "        \n",
    "        datos = datos.append({'fecha':claves.loc[claves['Codigo']==informe,'Fecha'].values[0],\n",
    "                                                 'ccaa':comunidad,'Hosp_Totales':c1,\n",
    "                                               'Hosp_7días':c2,'UCI_Totales':c3,\n",
    "                                                 'UCI_7dias':c4},ignore_index=True)\n",
    "        \n",
    "        \n",
    "        print (informe,'--->',comunidad,c1,'-',c2,'-',c3,'-',c4,'-',c5,'-',c6)\n",
    "        #print (cadena)"
   ]
  },
  {
   "cell_type": "code",
   "execution_count": null,
   "metadata": {},
   "outputs": [],
   "source": [
    "re.search(regexp,text).group(1)  "
   ]
  },
  {
   "cell_type": "code",
   "execution_count": null,
   "metadata": {},
   "outputs": [],
   "source": [
    "datos=datos.sort_values(['fecha','ccaa']).reset_index()"
   ]
  },
  {
   "cell_type": "code",
   "execution_count": null,
   "metadata": {},
   "outputs": [],
   "source": [
    "datos.to_csv(dir_csv+'datos_sanidad_hosp.csv',index=False,index_label=False)"
   ]
  },
  {
   "cell_type": "code",
   "execution_count": null,
   "metadata": {},
   "outputs": [],
   "source": [
    "datos"
   ]
  },
  {
   "cell_type": "markdown",
   "metadata": {},
   "source": [
    "## Parseado pre 235, con la página 3 Tabla 3, % camas, ingresados diarios "
   ]
  },
  {
   "cell_type": "code",
   "execution_count": null,
   "metadata": {},
   "outputs": [],
   "source": [
    "i = 211\n",
    "fn=fuente_ficheros_pdf_sanidad+str(i)+'.pdf'\n",
    "doc = fitz.open(fn)\n",
    "page = doc.load_page(3)\n",
    "text = page.get_text(opt)\n",
    "comunidad='Andalucía'\n",
    "regexp = r'{}[*¥]* '.format(comunidad)+'((\\n\\d*[,.]?\\d+¥? ))'+'((\\n+\\d{1,2}[,]?\\d*% ))'+\\\n",
    "'((\\n\\d*[,.]?\\d+¥? ))'+'((\\n+\\d{1,2}[,]?\\d*% ))'+'((\\n\\d*[,.]?\\d+¥? )){2}'\n",
    "#para el 211\n",
    "regexp = r'{}[*¥]* '.format(comunidad)+'((\\n\\d*[,.]?\\d+¥? )){2}'+'((\\n+\\d{1,2}[,]?\\d*% ))'+'((\\n\\d*[,.]?\\d+¥? )){2}'\n",
    "\n",
    "cadena = re.search(regexp,text).group(0).split(('\\n'))[1:]\n",
    "print (cadena)\n"
   ]
  },
  {
   "cell_type": "code",
   "execution_count": null,
   "metadata": {},
   "outputs": [],
   "source": [
    "text"
   ]
  },
  {
   "cell_type": "markdown",
   "metadata": {},
   "source": [
    "## un informe todas las comunidades"
   ]
  },
  {
   "cell_type": "code",
   "execution_count": null,
   "metadata": {},
   "outputs": [],
   "source": [
    "i = 233\n",
    "fn=fuente_ficheros_pdf_sanidad+str(i)+'.pdf'\n",
    "doc = fitz.open(fn)\n",
    "\n",
    "page = doc.load_page(2)\n",
    "text = page.get_text(opt)\n",
    "comunidad='Andalucía'\n",
    "for comunidad in comunidades:\n",
    "    regexp = r'{}[*¥]* '.format(comunidad)+'((\\n\\d*[,.]?\\d+¥? ))'+'((\\n+\\d{1,2}[,]?\\d*% ))'+\\\n",
    "    '((\\n\\d*[,.]?\\d+¥? ))'+'((\\n+\\d{1,2}[,]?\\d*% ))'+'((\\n\\d*[,.]?\\d+¥? )){2}'\n",
    "    cadena = re.search(regexp,text).group(0)\n",
    "    c1,c2,c3,c4,c5,c6 = re.search(regexp,text).group(0).split('\\n')[1:]\n",
    "    print (cadena)\n",
    "    print (informe,'--->',comunidad,c1,'-',c2,'-',c3,'-',c4,'-',c5,'-',c6)"
   ]
  },
  {
   "cell_type": "markdown",
   "metadata": {},
   "source": [
    "## todos los informes todas las comunidades"
   ]
  },
  {
   "cell_type": "code",
   "execution_count": null,
   "metadata": {},
   "outputs": [],
   "source": [
    "#rango_informes = np.concatenate([np224.arange(88,137),np.arange(138,234)])\n",
    "rango_informes = np.concatenate([np.arange(212,215)])\n",
    "\n",
    "for informe in rango_informes:\n",
    "    fn=fuente_ficheros_pdf_sanidad+str(informe)+'.pdf'\n",
    "    doc = fitz.open(fn)\n",
    "    n_pagina = 3 if informe<=224 else 2\n",
    "    page = doc.load_page(n_pagina)\n",
    "    text = page.get_text(opt)\n",
    "    \n",
    "    for comunidad in comunidades:\n",
    "        regexp = r'{}[*¥]* '.format(comunidad)+'((\\n\\d*[,.]?\\d+¥? ))'+'((\\n+\\d{1,2}[,]?\\d*% ))'+\\\n",
    "    '((\\n\\d*[,.]?\\d+¥? ))'+'((\\n+\\d{1,2}[,]?\\d*% ))'+'((\\n\\d*[,.]?\\d+¥? )){2}'\n",
    "        cadena = re.search(regexp,text).group(0)\n",
    "        c1,c2,c3,c4,c5,c6 = re.search(regexp,text).group(0).split('\\n')[1:]\n",
    "        #print (cadena)\n",
    "        print (informe,'--->',comunidad,c1,'-',c2,'-',c3,'-',c4,'-',c5,'-',c6)\n",
    "        \n",
    "        "
   ]
  },
  {
   "cell_type": "markdown",
   "metadata": {},
   "source": [
    "## 211 y anteriores, no publican % camas hospital"
   ]
  },
  {
   "cell_type": "code",
   "execution_count": null,
   "metadata": {},
   "outputs": [],
   "source": [
    "#rango_informes = np.concatenate([np224.arange(88,137),np.arange(138,234)])\n",
    "rango_informes = np.concatenate([np.arange(204,212)])\n",
    "\n",
    "for informe in rango_informes:\n",
    "    fn=fuente_ficheros_pdf_sanidad+str(informe)+'.pdf'\n",
    "    doc = fitz.open(fn)\n",
    "    n_pagina = 3\n",
    "    page = doc.load_page(n_pagina)\n",
    "    text = page.get_text(opt)\n",
    "    \n",
    "    for comunidad in comunidades:\n",
    "        regexp = r'{}[*¥]* '.format(comunidad)+'((\\n\\d*[,.]?\\d+¥? )){2}'+'((\\n+\\d{1,2}[,]?\\d*% ))'+'((\\n\\d*[,.]?\\d+¥? )){2}'\n",
    "        cadena = re.search(regexp,text).group(0)\n",
    "        c1,c2,c3,c4,c5 = re.search(regexp,text).group(0).split('\\n')[1:]\n",
    "        #print (cadena)\n",
    "        print (informe,'--->',comunidad,c1,'-',c2,'-',c3,'-',c4,'-',c5,'-',c6)\n",
    "        \n",
    "        "
   ]
  },
  {
   "cell_type": "code",
   "execution_count": null,
   "metadata": {},
   "outputs": [],
   "source": [
    "text"
   ]
  },
  {
   "cell_type": "code",
   "execution_count": null,
   "metadata": {},
   "outputs": [],
   "source": []
  }
 ],
 "metadata": {
  "kernelspec": {
   "display_name": "Python 3",
   "language": "python",
   "name": "python3"
  },
  "language_info": {
   "codemirror_mode": {
    "name": "ipython",
    "version": 3
   },
   "file_extension": ".py",
   "mimetype": "text/x-python",
   "name": "python",
   "nbconvert_exporter": "python",
   "pygments_lexer": "ipython3",
   "version": "3.8.5"
  }
 },
 "nbformat": 4,
 "nbformat_minor": 4
}
