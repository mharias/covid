{
 "cells": [
  {
   "cell_type": "markdown",
   "metadata": {},
   "source": [
    "\n",
    "\n",
    "# Objetivo"
   ]
  },
  {
   "cell_type": "markdown",
   "metadata": {},
   "source": [
    "En este trabajo vamos a analizar los datos epidemiológicos generados por el grupo de trabajo [#escovid19data](https://github.com/montera34/escovid19data). Siguiendo los procesos estándares descargaremos los datos desde gitub, analizaremos los campos y prepararemos una serie de gráficas como ayuda para entender como estñá progresando la enfermedad."
   ]
  },
  {
   "cell_type": "markdown",
   "metadata": {},
   "source": [
    "\n",
    "@author: Manuel H. Arias \n",
    "\n",
    "@Twitter: @walyt\n",
    "\n",
    "@mail: mharias@me.com\n",
    "\n"
   ]
  },
  {
   "cell_type": "markdown",
   "metadata": {},
   "source": [
    "## Importación de librerias estándares para DAE"
   ]
  },
  {
   "cell_type": "code",
   "execution_count": 1,
   "metadata": {},
   "outputs": [],
   "source": [
    "import pandas as pd\n",
    "\n",
    "import matplotlib.pyplot as plt\n",
    "\n",
    "from matplotlib.ticker import FuncFormatter\n",
    "from matplotlib import cm\n",
    "import matplotlib.dates as mdates\n",
    "import matplotlib.ticker as ticker\n",
    "from matplotlib.dates import (YEARLY, MONTHLY, DateFormatter, MonthLocator,DayLocator,\n",
    "                              rrulewrapper, RRuleLocator, drange)\n",
    "import matplotlib.image as mpimg\n",
    "from matplotlib.animation import FuncAnimation\n",
    "from matplotlib.offsetbox import TextArea, DrawingArea, OffsetImage, AnnotationBbox\n",
    "import matplotlib.colors as colors\n",
    "\n",
    "import numpy as np\n",
    "from datetime import datetime,timedelta\n",
    "import seaborn as sns\n",
    "%matplotlib inline\n",
    "\n",
    "import urllib.request\n",
    "\n",
    "import matplotlib.image as mpimg\n",
    "from matplotlib.animation import FuncAnimation\n",
    "from matplotlib.offsetbox import TextArea, DrawingArea, OffsetImage, AnnotationBbox"
   ]
  },
  {
   "cell_type": "markdown",
   "metadata": {},
   "source": [
    "## Descargamos la información"
   ]
  },
  {
   "cell_type": "markdown",
   "metadata": {},
   "source": [
    "Hacemos en primer lugar una actualización de parámetros y preparación de variables que necesitaremos durante el ejercicio"
   ]
  },
  {
   "cell_type": "code",
   "execution_count": 2,
   "metadata": {},
   "outputs": [],
   "source": [
    "pd.options.display.max_rows = 999 #Variable de contexto para permitir la presentación de datos por pantalla\n",
    "pd.set_option('display.max_columns', None)"
   ]
  },
  {
   "cell_type": "code",
   "execution_count": 3,
   "metadata": {},
   "outputs": [],
   "source": [
    "#fuente de pdatos\n",
    "data_path = '/Users/mharias/documents/proyectos/covid/sanidad_hospital/data/datos_sanidad_hosp.csv'\n",
    "img_path = '/Users/mharias/documents/proyectos/covid/sanidad_hospital/img/'"
   ]
  },
  {
   "cell_type": "code",
   "execution_count": 4,
   "metadata": {},
   "outputs": [],
   "source": [
    "hashtag_fuente='#escovid19data' #hashtag de la fuente para los créditos"
   ]
  },
  {
   "cell_type": "code",
   "execution_count": null,
   "metadata": {},
   "outputs": [],
   "source": []
  },
  {
   "cell_type": "markdown",
   "metadata": {},
   "source": [
    "Leemos los datos en un `pandas`"
   ]
  },
  {
   "cell_type": "code",
   "execution_count": 5,
   "metadata": {},
   "outputs": [],
   "source": [
    "df = pd.read_csv(data_path)"
   ]
  },
  {
   "cell_type": "markdown",
   "metadata": {},
   "source": [
    "veamos una rápida descripción de la información:"
   ]
  },
  {
   "cell_type": "code",
   "execution_count": 6,
   "metadata": {},
   "outputs": [
    {
     "data": {
      "text/html": [
       "<div>\n",
       "<style scoped>\n",
       "    .dataframe tbody tr th:only-of-type {\n",
       "        vertical-align: middle;\n",
       "    }\n",
       "\n",
       "    .dataframe tbody tr th {\n",
       "        vertical-align: top;\n",
       "    }\n",
       "\n",
       "    .dataframe thead th {\n",
       "        text-align: right;\n",
       "    }\n",
       "</style>\n",
       "<table border=\"1\" class=\"dataframe\">\n",
       "  <thead>\n",
       "    <tr style=\"text-align: right;\">\n",
       "      <th></th>\n",
       "      <th>Hosp_Totales</th>\n",
       "      <th>Hosp_actual</th>\n",
       "      <th>UCI_actual</th>\n",
       "      <th>Ingresos_24horas</th>\n",
       "      <th>Altas_24horas</th>\n",
       "    </tr>\n",
       "  </thead>\n",
       "  <tbody>\n",
       "    <tr>\n",
       "      <th>count</th>\n",
       "      <td>8455.000000</td>\n",
       "      <td>2945.000000</td>\n",
       "      <td>2945.000000</td>\n",
       "      <td>2945.000000</td>\n",
       "      <td>2945.000000</td>\n",
       "    </tr>\n",
       "    <tr>\n",
       "      <th>mean</th>\n",
       "      <td>158.034793</td>\n",
       "      <td>264.460576</td>\n",
       "      <td>158.691681</td>\n",
       "      <td>103.791171</td>\n",
       "      <td>97.557895</td>\n",
       "    </tr>\n",
       "    <tr>\n",
       "      <th>std</th>\n",
       "      <td>541.942406</td>\n",
       "      <td>280.060555</td>\n",
       "      <td>187.133069</td>\n",
       "      <td>130.765688</td>\n",
       "      <td>131.668580</td>\n",
       "    </tr>\n",
       "    <tr>\n",
       "      <th>min</th>\n",
       "      <td>1.000000</td>\n",
       "      <td>1.000000</td>\n",
       "      <td>0.000000</td>\n",
       "      <td>0.000000</td>\n",
       "      <td>0.000000</td>\n",
       "    </tr>\n",
       "    <tr>\n",
       "      <th>25%</th>\n",
       "      <td>2.655000</td>\n",
       "      <td>4.488000</td>\n",
       "      <td>38.000000</td>\n",
       "      <td>19.000000</td>\n",
       "      <td>16.000000</td>\n",
       "    </tr>\n",
       "    <tr>\n",
       "      <th>50%</th>\n",
       "      <td>7.776000</td>\n",
       "      <td>182.000000</td>\n",
       "      <td>84.000000</td>\n",
       "      <td>51.000000</td>\n",
       "      <td>44.000000</td>\n",
       "    </tr>\n",
       "    <tr>\n",
       "      <th>75%</th>\n",
       "      <td>29.449500</td>\n",
       "      <td>469.000000</td>\n",
       "      <td>207.000000</td>\n",
       "      <td>133.000000</td>\n",
       "      <td>122.000000</td>\n",
       "    </tr>\n",
       "    <tr>\n",
       "      <th>max</th>\n",
       "      <td>4991.000000</td>\n",
       "      <td>996.000000</td>\n",
       "      <td>824.000000</td>\n",
       "      <td>684.000000</td>\n",
       "      <td>729.000000</td>\n",
       "    </tr>\n",
       "  </tbody>\n",
       "</table>\n",
       "</div>"
      ],
      "text/plain": [
       "       Hosp_Totales  Hosp_actual   UCI_actual  Ingresos_24horas  Altas_24horas\n",
       "count   8455.000000  2945.000000  2945.000000       2945.000000    2945.000000\n",
       "mean     158.034793   264.460576   158.691681        103.791171      97.557895\n",
       "std      541.942406   280.060555   187.133069        130.765688     131.668580\n",
       "min        1.000000     1.000000     0.000000          0.000000       0.000000\n",
       "25%        2.655000     4.488000    38.000000         19.000000      16.000000\n",
       "50%        7.776000   182.000000    84.000000         51.000000      44.000000\n",
       "75%       29.449500   469.000000   207.000000        133.000000     122.000000\n",
       "max     4991.000000   996.000000   824.000000        684.000000     729.000000"
      ]
     },
     "execution_count": 6,
     "metadata": {},
     "output_type": "execute_result"
    }
   ],
   "source": [
    "df.describe()"
   ]
  },
  {
   "cell_type": "markdown",
   "metadata": {},
   "source": [
    "y un muestreo de valores y de algunas columnas de interés:"
   ]
  },
  {
   "cell_type": "code",
   "execution_count": 7,
   "metadata": {},
   "outputs": [
    {
     "data": {
      "text/html": [
       "<div>\n",
       "<style scoped>\n",
       "    .dataframe tbody tr th:only-of-type {\n",
       "        vertical-align: middle;\n",
       "    }\n",
       "\n",
       "    .dataframe tbody tr th {\n",
       "        vertical-align: top;\n",
       "    }\n",
       "\n",
       "    .dataframe thead th {\n",
       "        text-align: right;\n",
       "    }\n",
       "</style>\n",
       "<table border=\"1\" class=\"dataframe\">\n",
       "  <thead>\n",
       "    <tr style=\"text-align: right;\">\n",
       "      <th></th>\n",
       "      <th>fecha</th>\n",
       "      <th>ccaa</th>\n",
       "      <th>Hosp_Totales</th>\n",
       "      <th>Hosp_7días</th>\n",
       "      <th>UCI_Totales</th>\n",
       "      <th>UCI_7dias</th>\n",
       "      <th>Hosp_actual</th>\n",
       "      <th>%CamasCovid</th>\n",
       "      <th>UCI_actual</th>\n",
       "      <th>%CamasUCI</th>\n",
       "      <th>Ingresos_24horas</th>\n",
       "      <th>Altas_24horas</th>\n",
       "    </tr>\n",
       "  </thead>\n",
       "  <tbody>\n",
       "    <tr>\n",
       "      <th>0</th>\n",
       "      <td>2020-04-27</td>\n",
       "      <td>Madrid</td>\n",
       "      <td>39.472</td>\n",
       "      <td></td>\n",
       "      <td>3.309</td>\n",
       "      <td></td>\n",
       "      <td>NaN</td>\n",
       "      <td>NaN</td>\n",
       "      <td>NaN</td>\n",
       "      <td>NaN</td>\n",
       "      <td>NaN</td>\n",
       "      <td>NaN</td>\n",
       "    </tr>\n",
       "    <tr>\n",
       "      <th>1</th>\n",
       "      <td>2020-04-27</td>\n",
       "      <td>País Vasco</td>\n",
       "      <td>6.457</td>\n",
       "      <td>31</td>\n",
       "      <td>538</td>\n",
       "      <td>5</td>\n",
       "      <td>NaN</td>\n",
       "      <td>NaN</td>\n",
       "      <td>NaN</td>\n",
       "      <td>NaN</td>\n",
       "      <td>NaN</td>\n",
       "      <td>NaN</td>\n",
       "    </tr>\n",
       "    <tr>\n",
       "      <th>2</th>\n",
       "      <td>2020-04-27</td>\n",
       "      <td>Navarra</td>\n",
       "      <td>1.942</td>\n",
       "      <td>0</td>\n",
       "      <td>130</td>\n",
       "      <td>1</td>\n",
       "      <td>NaN</td>\n",
       "      <td>NaN</td>\n",
       "      <td>NaN</td>\n",
       "      <td>NaN</td>\n",
       "      <td>NaN</td>\n",
       "      <td>NaN</td>\n",
       "    </tr>\n",
       "    <tr>\n",
       "      <th>3</th>\n",
       "      <td>2020-04-27</td>\n",
       "      <td>Murcia</td>\n",
       "      <td>627.000</td>\n",
       "      <td>0</td>\n",
       "      <td>106</td>\n",
       "      <td>0</td>\n",
       "      <td>NaN</td>\n",
       "      <td>NaN</td>\n",
       "      <td>NaN</td>\n",
       "      <td>NaN</td>\n",
       "      <td>NaN</td>\n",
       "      <td>NaN</td>\n",
       "    </tr>\n",
       "    <tr>\n",
       "      <th>4</th>\n",
       "      <td>2020-04-27</td>\n",
       "      <td>Melilla</td>\n",
       "      <td>44.000</td>\n",
       "      <td>0</td>\n",
       "      <td>3</td>\n",
       "      <td>0</td>\n",
       "      <td>NaN</td>\n",
       "      <td>NaN</td>\n",
       "      <td>NaN</td>\n",
       "      <td>NaN</td>\n",
       "      <td>NaN</td>\n",
       "      <td>NaN</td>\n",
       "    </tr>\n",
       "  </tbody>\n",
       "</table>\n",
       "</div>"
      ],
      "text/plain": [
       "        fecha        ccaa  Hosp_Totales Hosp_7días UCI_Totales UCI_7dias  \\\n",
       "0  2020-04-27      Madrid        39.472                 3.309              \n",
       "1  2020-04-27  País Vasco         6.457        31         538         5    \n",
       "2  2020-04-27     Navarra         1.942         0         130         1    \n",
       "3  2020-04-27      Murcia       627.000         0         106         0    \n",
       "4  2020-04-27     Melilla        44.000         0           3         0    \n",
       "\n",
       "   Hosp_actual %CamasCovid  UCI_actual %CamasUCI  Ingresos_24horas  \\\n",
       "0          NaN         NaN         NaN       NaN               NaN   \n",
       "1          NaN         NaN         NaN       NaN               NaN   \n",
       "2          NaN         NaN         NaN       NaN               NaN   \n",
       "3          NaN         NaN         NaN       NaN               NaN   \n",
       "4          NaN         NaN         NaN       NaN               NaN   \n",
       "\n",
       "   Altas_24horas  \n",
       "0            NaN  \n",
       "1            NaN  \n",
       "2            NaN  \n",
       "3            NaN  \n",
       "4            NaN  "
      ]
     },
     "execution_count": 7,
     "metadata": {},
     "output_type": "execute_result"
    }
   ],
   "source": [
    "df.head()"
   ]
  },
  {
   "cell_type": "code",
   "execution_count": 8,
   "metadata": {},
   "outputs": [
    {
     "data": {
      "text/html": [
       "<div>\n",
       "<style scoped>\n",
       "    .dataframe tbody tr th:only-of-type {\n",
       "        vertical-align: middle;\n",
       "    }\n",
       "\n",
       "    .dataframe tbody tr th {\n",
       "        vertical-align: top;\n",
       "    }\n",
       "\n",
       "    .dataframe thead th {\n",
       "        text-align: right;\n",
       "    }\n",
       "</style>\n",
       "<table border=\"1\" class=\"dataframe\">\n",
       "  <thead>\n",
       "    <tr style=\"text-align: right;\">\n",
       "      <th></th>\n",
       "      <th>fecha</th>\n",
       "      <th>ccaa</th>\n",
       "      <th>Hosp_Totales</th>\n",
       "      <th>Hosp_7días</th>\n",
       "      <th>UCI_Totales</th>\n",
       "      <th>UCI_7dias</th>\n",
       "      <th>Hosp_actual</th>\n",
       "      <th>%CamasCovid</th>\n",
       "      <th>UCI_actual</th>\n",
       "      <th>%CamasUCI</th>\n",
       "      <th>Ingresos_24horas</th>\n",
       "      <th>Altas_24horas</th>\n",
       "    </tr>\n",
       "  </thead>\n",
       "  <tbody>\n",
       "    <tr>\n",
       "      <th>8450</th>\n",
       "      <td>2021-02-16</td>\n",
       "      <td>Madrid</td>\n",
       "      <td>85.342</td>\n",
       "      <td>692</td>\n",
       "      <td>6.141</td>\n",
       "      <td>59</td>\n",
       "      <td>3.794</td>\n",
       "      <td>21,57%</td>\n",
       "      <td>690.0</td>\n",
       "      <td>49,29%</td>\n",
       "      <td>286.0</td>\n",
       "      <td>506.0</td>\n",
       "    </tr>\n",
       "    <tr>\n",
       "      <th>8451</th>\n",
       "      <td>2021-02-16</td>\n",
       "      <td>Melilla</td>\n",
       "      <td>472.000</td>\n",
       "      <td>15</td>\n",
       "      <td>71</td>\n",
       "      <td>2</td>\n",
       "      <td>33.000</td>\n",
       "      <td>18,13%</td>\n",
       "      <td>6.0</td>\n",
       "      <td>35,29%</td>\n",
       "      <td>2.0</td>\n",
       "      <td>5.0</td>\n",
       "    </tr>\n",
       "    <tr>\n",
       "      <th>8452</th>\n",
       "      <td>2021-02-16</td>\n",
       "      <td>Murcia</td>\n",
       "      <td>8.295</td>\n",
       "      <td>121</td>\n",
       "      <td>1.057</td>\n",
       "      <td>12</td>\n",
       "      <td>457.000</td>\n",
       "      <td>11,08%</td>\n",
       "      <td>119.0</td>\n",
       "      <td>24,29%</td>\n",
       "      <td>48.0</td>\n",
       "      <td>69.0</td>\n",
       "    </tr>\n",
       "    <tr>\n",
       "      <th>8453</th>\n",
       "      <td>2021-02-16</td>\n",
       "      <td>La Rioja</td>\n",
       "      <td>3.132</td>\n",
       "      <td>42</td>\n",
       "      <td>350</td>\n",
       "      <td>3</td>\n",
       "      <td>133.000</td>\n",
       "      <td>15,89%</td>\n",
       "      <td>46.0</td>\n",
       "      <td>52,87%</td>\n",
       "      <td>4.0</td>\n",
       "      <td>33.0</td>\n",
       "    </tr>\n",
       "    <tr>\n",
       "      <th>8454</th>\n",
       "      <td>2021-02-16</td>\n",
       "      <td>Navarra</td>\n",
       "      <td>5.071</td>\n",
       "      <td>54</td>\n",
       "      <td>436</td>\n",
       "      <td>5</td>\n",
       "      <td>125.000</td>\n",
       "      <td>6,44%</td>\n",
       "      <td>24.0</td>\n",
       "      <td>18,32%</td>\n",
       "      <td>10.0</td>\n",
       "      <td>16.0</td>\n",
       "    </tr>\n",
       "  </tbody>\n",
       "</table>\n",
       "</div>"
      ],
      "text/plain": [
       "           fecha      ccaa  Hosp_Totales Hosp_7días UCI_Totales UCI_7dias  \\\n",
       "8450  2021-02-16    Madrid        85.342        692       6.141        59   \n",
       "8451  2021-02-16   Melilla       472.000         15          71         2   \n",
       "8452  2021-02-16    Murcia         8.295        121       1.057        12   \n",
       "8453  2021-02-16  La Rioja         3.132         42         350         3   \n",
       "8454  2021-02-16   Navarra         5.071         54         436         5   \n",
       "\n",
       "      Hosp_actual %CamasCovid  UCI_actual %CamasUCI  Ingresos_24horas  \\\n",
       "8450        3.794     21,57%        690.0   49,29%              286.0   \n",
       "8451       33.000     18,13%          6.0   35,29%                2.0   \n",
       "8452      457.000     11,08%        119.0   24,29%               48.0   \n",
       "8453      133.000     15,89%         46.0   52,87%                4.0   \n",
       "8454      125.000      6,44%         24.0   18,32%               10.0   \n",
       "\n",
       "      Altas_24horas  \n",
       "8450          506.0  \n",
       "8451            5.0  \n",
       "8452           69.0  \n",
       "8453           33.0  \n",
       "8454           16.0  "
      ]
     },
     "execution_count": 8,
     "metadata": {},
     "output_type": "execute_result"
    }
   ],
   "source": [
    "df.tail()"
   ]
  },
  {
   "cell_type": "code",
   "execution_count": 9,
   "metadata": {},
   "outputs": [],
   "source": [
    "def formato_(x):\n",
    "    if x is np.NaN:\n",
    "        return x\n",
    "    else:\n",
    "        return float(x[:-2].replace(',','.'))\n",
    "    "
   ]
  },
  {
   "cell_type": "code",
   "execution_count": 10,
   "metadata": {},
   "outputs": [],
   "source": [
    "df['%CamasUCI'] = df['%CamasUCI'].apply(formato_)\n",
    "df['%CamasCovid'] = df['%CamasCovid'].apply(formato_)"
   ]
  },
  {
   "cell_type": "code",
   "execution_count": 11,
   "metadata": {},
   "outputs": [],
   "source": [
    "comunidades = sorted(df['ccaa'].unique())"
   ]
  },
  {
   "cell_type": "markdown",
   "metadata": {},
   "source": [
    "Vamos a formatear correctamente la columna `Date`, para posteriormente ordenar el $pandas$ por fecha creciente:"
   ]
  },
  {
   "cell_type": "code",
   "execution_count": 12,
   "metadata": {},
   "outputs": [],
   "source": [
    "df['fecha']=pd.to_datetime(df['fecha'],format='%Y-%m-%d')"
   ]
  },
  {
   "cell_type": "code",
   "execution_count": 13,
   "metadata": {},
   "outputs": [
    {
     "data": {
      "text/html": [
       "<div>\n",
       "<style scoped>\n",
       "    .dataframe tbody tr th:only-of-type {\n",
       "        vertical-align: middle;\n",
       "    }\n",
       "\n",
       "    .dataframe tbody tr th {\n",
       "        vertical-align: top;\n",
       "    }\n",
       "\n",
       "    .dataframe thead th {\n",
       "        text-align: right;\n",
       "    }\n",
       "</style>\n",
       "<table border=\"1\" class=\"dataframe\">\n",
       "  <thead>\n",
       "    <tr style=\"text-align: right;\">\n",
       "      <th></th>\n",
       "      <th>fecha</th>\n",
       "      <th>ccaa</th>\n",
       "      <th>Hosp_Totales</th>\n",
       "      <th>Hosp_7días</th>\n",
       "      <th>UCI_Totales</th>\n",
       "      <th>UCI_7dias</th>\n",
       "      <th>Hosp_actual</th>\n",
       "      <th>%CamasCovid</th>\n",
       "      <th>UCI_actual</th>\n",
       "      <th>%CamasUCI</th>\n",
       "      <th>Ingresos_24horas</th>\n",
       "      <th>Altas_24horas</th>\n",
       "    </tr>\n",
       "  </thead>\n",
       "  <tbody>\n",
       "    <tr>\n",
       "      <th>8438</th>\n",
       "      <td>2021-02-16</td>\n",
       "      <td>Andalucía</td>\n",
       "      <td>35.631</td>\n",
       "      <td>791</td>\n",
       "      <td>3.408</td>\n",
       "      <td>33</td>\n",
       "      <td>3.23</td>\n",
       "      <td>17.80</td>\n",
       "      <td>644.0</td>\n",
       "      <td>33.33</td>\n",
       "      <td>284.0</td>\n",
       "      <td>483.0</td>\n",
       "    </tr>\n",
       "    <tr>\n",
       "      <th>8437</th>\n",
       "      <td>2021-02-16</td>\n",
       "      <td>País Vasco</td>\n",
       "      <td>11.879</td>\n",
       "      <td>29</td>\n",
       "      <td>993</td>\n",
       "      <td>7</td>\n",
       "      <td>707.00</td>\n",
       "      <td>14.14</td>\n",
       "      <td>151.0</td>\n",
       "      <td>33.33</td>\n",
       "      <td>72.0</td>\n",
       "      <td>132.0</td>\n",
       "    </tr>\n",
       "    <tr>\n",
       "      <th>8453</th>\n",
       "      <td>2021-02-16</td>\n",
       "      <td>La Rioja</td>\n",
       "      <td>3.132</td>\n",
       "      <td>42</td>\n",
       "      <td>350</td>\n",
       "      <td>3</td>\n",
       "      <td>133.00</td>\n",
       "      <td>15.89</td>\n",
       "      <td>46.0</td>\n",
       "      <td>52.87</td>\n",
       "      <td>4.0</td>\n",
       "      <td>33.0</td>\n",
       "    </tr>\n",
       "    <tr>\n",
       "      <th>8444</th>\n",
       "      <td>2021-02-16</td>\n",
       "      <td>Castilla La Mancha</td>\n",
       "      <td>17.230</td>\n",
       "      <td>56</td>\n",
       "      <td>1.188</td>\n",
       "      <td>6</td>\n",
       "      <td>825.00</td>\n",
       "      <td>15.38</td>\n",
       "      <td>202.0</td>\n",
       "      <td>41.91</td>\n",
       "      <td>34.0</td>\n",
       "      <td>108.0</td>\n",
       "    </tr>\n",
       "    <tr>\n",
       "      <th>8454</th>\n",
       "      <td>2021-02-16</td>\n",
       "      <td>Navarra</td>\n",
       "      <td>5.071</td>\n",
       "      <td>54</td>\n",
       "      <td>436</td>\n",
       "      <td>5</td>\n",
       "      <td>125.00</td>\n",
       "      <td>6.44</td>\n",
       "      <td>24.0</td>\n",
       "      <td>18.32</td>\n",
       "      <td>10.0</td>\n",
       "      <td>16.0</td>\n",
       "    </tr>\n",
       "  </tbody>\n",
       "</table>\n",
       "</div>"
      ],
      "text/plain": [
       "          fecha                ccaa  Hosp_Totales Hosp_7días UCI_Totales  \\\n",
       "8438 2021-02-16           Andalucía        35.631        791       3.408   \n",
       "8437 2021-02-16          País Vasco        11.879         29         993   \n",
       "8453 2021-02-16            La Rioja         3.132         42         350   \n",
       "8444 2021-02-16  Castilla La Mancha        17.230         56       1.188   \n",
       "8454 2021-02-16             Navarra         5.071         54         436   \n",
       "\n",
       "     UCI_7dias  Hosp_actual  %CamasCovid  UCI_actual  %CamasUCI  \\\n",
       "8438        33         3.23        17.80       644.0      33.33   \n",
       "8437         7       707.00        14.14       151.0      33.33   \n",
       "8453         3       133.00        15.89        46.0      52.87   \n",
       "8444         6       825.00        15.38       202.0      41.91   \n",
       "8454         5       125.00         6.44        24.0      18.32   \n",
       "\n",
       "      Ingresos_24horas  Altas_24horas  \n",
       "8438             284.0          483.0  \n",
       "8437              72.0          132.0  \n",
       "8453               4.0           33.0  \n",
       "8444              34.0          108.0  \n",
       "8454              10.0           16.0  "
      ]
     },
     "execution_count": 13,
     "metadata": {},
     "output_type": "execute_result"
    }
   ],
   "source": [
    "df.sort_values(['fecha']).tail()"
   ]
  },
  {
   "cell_type": "code",
   "execution_count": 14,
   "metadata": {},
   "outputs": [
    {
     "data": {
      "text/plain": [
       "Index(['fecha', 'ccaa', 'Hosp_Totales', 'Hosp_7días', 'UCI_Totales',\n",
       "       'UCI_7dias', 'Hosp_actual', '%CamasCovid', 'UCI_actual', '%CamasUCI',\n",
       "       'Ingresos_24horas', 'Altas_24horas'],\n",
       "      dtype='object')"
      ]
     },
     "execution_count": 14,
     "metadata": {},
     "output_type": "execute_result"
    }
   ],
   "source": [
    "df.columns"
   ]
  },
  {
   "cell_type": "code",
   "execution_count": 15,
   "metadata": {},
   "outputs": [],
   "source": [
    "campos = {'Almería':'daily_cases', 'Cádiz':'daily_cases', 'Córdoba':'daily_cases',\n",
    "          'Granada':'daily_cases', 'Huelva':'daily_cases', 'Jaén':'daily_cases',\n",
    "       'Málaga':'daily_cases', 'Sevilla':'daily_cases', 'Huesca':'casos_nuevos_aragon',\n",
    "          'Teruel':'casos_nuevos_aragon', 'Zaragoza':'casos_nuevos_aragon', \n",
    "          'Asturias':'PCR','Balears, Illes':'PCR', 'Palmas, Las':'daily_cases', \n",
    "          'Santa Cruz de Tenerife':'daily_cases','Cantabria':'PCR',\n",
    "          'Albacete':'daily_cases_PCR', 'Ciudad Real':'daily_cases_PCR',\n",
    "          'Cuenca':'daily_cases_PCR', 'Guadalajara':'daily_cases_PCR',\n",
    "       'Toledo':'daily_cases_PCR', 'Ávila':'daily_cases_PCR', 'Burgos':'daily_cases_PCR',\n",
    "          'León':'daily_cases_PCR', 'Palencia':'daily_cases_PCR', 'Salamanca':'daily_cases_PCR',\n",
    "       'Segovia':'daily_cases_PCR', 'Soria':'daily_cases_PCR', 'Valladolid':'daily_cases_PCR',\n",
    "          'Zamora':'daily_cases_PCR', 'Barcelona':'daily_cases', 'Girona':'daily_cases',\n",
    "       'Lleida':'daily_cases', 'Tarragona':'daily_cases', 'Ceuta':'new_cases',\n",
    "          'Alicante/Alacant':'casos_nuevos_valencia','Castellón/Castelló':'casos_nuevos_valencia',\n",
    "          'Valencia/València':'casos_nuevos_valencia','Badajoz':'new_cases', 'Cáceres':'new_cases',\n",
    "       'Coruña, A':'daily_cases', 'Lugo':'daily_cases', 'Ourense':'daily_cases', \n",
    "          'Pontevedra':'daily_cases', 'Madrid':'daily_cases_PCR', 'Melilla':'PCR',\n",
    "       'Murcia':'daily_cases', 'Navarra':'PCR', 'Araba/Álava':'casos_nuevos_paisvasco',\n",
    "          'Bizkaia':'casos_nuevos_paisvasco', 'Gipuzkoa':'casos_nuevos_paisvasco',\n",
    "       'Rioja, La':'PCR'}"
   ]
  },
  {
   "cell_type": "markdown",
   "metadata": {},
   "source": [
    "# Gráficos"
   ]
  },
  {
   "cell_type": "markdown",
   "metadata": {},
   "source": [
    " A continuación vamos a crear un gráfico múltiple que nos permita visualizar cada una de las columnas con datos numéricos. Ello nos permitirá"
   ]
  },
  {
   "cell_type": "markdown",
   "metadata": {},
   "source": [
    "Preparemos un gráfico tipo [Facetgrid](https://seaborn.pydata.org/generated/seaborn.FacetGrid.html), al que añadiremos tantos gráficos como provincias, presentando una de las columnas de datos. Elegimos nº de hospitalizados por 100.000 habitantes. Dejo otras claves con `#` para que fácilmente se puedan generar. Este ejemplo esta basado en el código del link anterior."
   ]
  },
  {
   "cell_type": "code",
   "execution_count": 16,
   "metadata": {},
   "outputs": [
    {
     "data": {
      "text/plain": [
       "2020"
      ]
     },
     "execution_count": 16,
     "metadata": {},
     "output_type": "execute_result"
    }
   ],
   "source": [
    "df.iloc[1]['fecha'].year"
   ]
  },
  {
   "cell_type": "code",
   "execution_count": 17,
   "metadata": {},
   "outputs": [
    {
     "data": {
      "text/plain": [
       "0      2020-04-27\n",
       "1      2020-04-27\n",
       "2      2020-04-27\n",
       "3      2020-04-27\n",
       "4      2020-04-27\n",
       "          ...    \n",
       "8450   2021-02-16\n",
       "8451   2021-02-16\n",
       "8452   2021-02-16\n",
       "8453   2021-02-16\n",
       "8454   2021-02-16\n",
       "Name: fecha, Length: 8455, dtype: datetime64[ns]"
      ]
     },
     "execution_count": 17,
     "metadata": {},
     "output_type": "execute_result"
    }
   ],
   "source": [
    "df['fecha']"
   ]
  },
  {
   "cell_type": "code",
   "execution_count": null,
   "metadata": {},
   "outputs": [],
   "source": [
    "# Creamos la figura desde Matplotlib\n",
    "#plt.figure()\n",
    "\n",
    "# Initialize the FacetGrid object\n",
    "#pal = sns.cubehelix_palette(52, rot=-.25, light=.7)\n",
    "\n",
    "with sns.plotting_context('paper', font_scale = 1.3):\n",
    "    g = sns.FacetGrid(df,col='ccaa',hue='ccaa',col_wrap=3,aspect=3, \n",
    "                      margin_titles=False,height=1.5,sharey=True)\n",
    "\n",
    "# Título\n",
    "\n",
    "titulo = 'EVOLUCION DE OCUPACION DE CAMAS HOSPITAL Y UCI POR COVID \\n Fuente Informes diarios Sanidad: {}'.format('16-feb')\n",
    "color_titulos = 'navy'\n",
    "color_uci='red'\n",
    "color_covid='navy'\n",
    "\n",
    "#g.fig.text(1, 0,'Fuente: {}'.format(hashtag_fuente), fontsize=10,horizontalalignment='right') #add text\n",
    "#g.fig.text(1,0.01,'Código:{}'.format(github_url),\n",
    "          # fontsize=10,horizontalalignment='right')\n",
    "# Draw the densities in a few steps\n",
    "\n",
    "XmajorFmt = DateFormatter('%-d-%-b')\n",
    "fmt = '%.0f%%' # Format you want the ticks, e.g. '40%'\n",
    "yticks = ticker.FormatStrFormatter(fmt)\n",
    "def grafica(x, color, label):\n",
    "    ax1 = plt.gca()\n",
    "    ax1.xaxis_date()\n",
    "    df_datos = df.loc[df['ccaa'] == label].sort_values(['fecha'])\n",
    "   \n",
    "    #ax1.fill_between(datos['date'].unique(), datos[AI],color=color_diarios)\n",
    "    ax1.text(0.5, .8, label, fontweight=\"bold\", color=color_titulos,\n",
    "            ha=\"center\", va=\"center\", size=16,transform=ax1.transAxes)\n",
    "    ax1.set_ylim(0,75)\n",
    "    ax1.set_yticks([0,25,50,75])\n",
    "    \n",
    "    ax1.yaxis.set_major_formatter(yticks)\n",
    "    #ax1.set_yticks([]\n",
    "    ax1.yaxis.set_tick_params(labelsize=12,width=0,labelcolor=color_covid)\n",
    "    #ax1.yaxis.set_major_locator(plt.MaxNLocator(5))\n",
    "    ax1.xaxis.set_tick_params(labelsize=12,width=0,labelcolor=color_covid,rotation=45)\n",
    "    ax1.xaxis.set_major_formatter(XmajorFmt)\n",
    "    #ax1.set_xticks([])\n",
    "    ax1.grid(True,axis='both',which='both')\n",
    "    ax1.plot(df_datos['fecha'], df_datos['%CamasCovid'],lw=3,color=color_covid,label='A')\n",
    "    \n",
    "    \n",
    "    ax2 = ax1.twinx()\n",
    "    ax2.plot(df_datos['fecha'], df_datos['%CamasUCI'], lw=3, color=color_uci,label='B')\n",
    "    ax2.yaxis.set_tick_params(labelsize=12,width=0,labelcolor=color_uci,pad=-10)\n",
    "    ax2.yaxis.set_major_formatter(yticks)\n",
    "    #ax2.set_ylim(0,4)\n",
    "    #ax2.set_yticks([1])\n",
    "    ax2.xaxis.set_major_formatter(XmajorFmt)\n",
    "    \n",
    "    ax2.set_ylim(0,75)\n",
    "    ax2.set_yticks([0,25,50,75])\n",
    "    ax2.set_yticks([])\n",
    "    #ax2.xaxis.set_tick_params(labelsize=20,labelcolor='navy')\n",
    "    #ax2.xaxis.set_major_locator(DayLocator([1]))\n",
    "    #ax2.legend()\n",
    "    \n",
    "g.map(grafica,'ccaa')\n",
    "\n",
    "#plt.legend()\n",
    "g.set_titles(\"\")\n",
    "#g.set(yticks=[])\n",
    "g.set(xlabel='')\n",
    "\n",
    "g.despine(bottom=False, left=True)\n",
    "g.fig.suptitle('{}'.format(titulo),fontsize=24,color='navy')\n",
    "g.fig.text(x=.35,y=.05,s='ROJO: CAMAS UCI COVID vs UCI TOTALES',color='red',fontsize=26)\n",
    "g.fig.text(x=.35,y=.1,s='AZUL: CAMAS HOSP COVID vs CAMAS TOTALES',color='navy',fontsize=26)\n",
    "\n",
    "g.fig.subplots_adjust(top=.9,wspace=0.25,hspace=0.4)\n",
    "#plt.tight_layout()\n",
    "plt.savefig(img_path+'uci_hosp_comunidades.png',dpi=288)  \n",
    "\n",
    "plt.show()\n"
   ]
  },
  {
   "cell_type": "code",
   "execution_count": null,
   "metadata": {},
   "outputs": [],
   "source": []
  },
  {
   "cell_type": "code",
   "execution_count": null,
   "metadata": {},
   "outputs": [],
   "source": []
  },
  {
   "cell_type": "code",
   "execution_count": null,
   "metadata": {},
   "outputs": [],
   "source": []
  },
  {
   "cell_type": "code",
   "execution_count": null,
   "metadata": {},
   "outputs": [],
   "source": []
  }
 ],
 "metadata": {
  "kernelspec": {
   "display_name": "Python 3",
   "language": "python",
   "name": "python3"
  },
  "language_info": {
   "codemirror_mode": {
    "name": "ipython",
    "version": 3
   },
   "file_extension": ".py",
   "mimetype": "text/x-python",
   "name": "python",
   "nbconvert_exporter": "python",
   "pygments_lexer": "ipython3",
   "version": "3.8.5"
  }
 },
 "nbformat": 4,
 "nbformat_minor": 2
}
