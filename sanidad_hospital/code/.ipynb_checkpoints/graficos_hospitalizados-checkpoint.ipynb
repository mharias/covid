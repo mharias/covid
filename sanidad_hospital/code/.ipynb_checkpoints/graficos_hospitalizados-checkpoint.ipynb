{
 "cells": [
  {
   "cell_type": "markdown",
   "metadata": {},
   "source": [
    "\n",
    "\n",
    "# Objetivo"
   ]
  },
  {
   "cell_type": "markdown",
   "metadata": {},
   "source": [
    "En este trabajo vamos a analizar los datos epidemiológicos generados por el grupo de trabajo [#escovid19data](https://github.com/montera34/escovid19data). Siguiendo los procesos estándares descargaremos los datos desde gitub, analizaremos los campos y prepararemos una serie de gráficas como ayuda para entender como estñá progresando la enfermedad."
   ]
  },
  {
   "cell_type": "markdown",
   "metadata": {},
   "source": [
    "\n",
    "@author: Manuel H. Arias \n",
    "\n",
    "@Twitter: @walyt\n",
    "\n",
    "@mail: mharias@me.com\n",
    "\n"
   ]
  },
  {
   "cell_type": "markdown",
   "metadata": {},
   "source": [
    "## Importación de librerias estándares para DAE"
   ]
  },
  {
   "cell_type": "code",
   "execution_count": 38,
   "metadata": {},
   "outputs": [],
   "source": [
    "import pandas as pd\n",
    "\n",
    "import matplotlib.pyplot as plt\n",
    "\n",
    "from matplotlib.ticker import FuncFormatter\n",
    "from matplotlib import cm\n",
    "import matplotlib.dates as mdates\n",
    "import matplotlib.ticker as ticker\n",
    "from matplotlib.dates import (YEARLY, MONTHLY, DateFormatter, MonthLocator,DayLocator,\n",
    "                              rrulewrapper, RRuleLocator, drange)\n",
    "import matplotlib.image as mpimg\n",
    "from matplotlib.animation import FuncAnimation\n",
    "from matplotlib.offsetbox import TextArea, DrawingArea, OffsetImage, AnnotationBbox\n",
    "import matplotlib.colors as colors\n",
    "\n",
    "import numpy as np\n",
    "from datetime import datetime,timedelta\n",
    "import seaborn as sns\n",
    "%matplotlib inline\n",
    "\n",
    "import urllib.request\n",
    "\n",
    "import matplotlib.image as mpimg\n",
    "from matplotlib.animation import FuncAnimation\n",
    "from matplotlib.offsetbox import TextArea, DrawingArea, OffsetImage, AnnotationBbox"
   ]
  },
  {
   "cell_type": "markdown",
   "metadata": {},
   "source": [
    "## Descargamos la información"
   ]
  },
  {
   "cell_type": "markdown",
   "metadata": {},
   "source": [
    "Hacemos en primer lugar una actualización de parámetros y preparación de variables que necesitaremos durante el ejercicio"
   ]
  },
  {
   "cell_type": "code",
   "execution_count": 39,
   "metadata": {},
   "outputs": [],
   "source": [
    "pd.options.display.max_rows = 999 #Variable de contexto para permitir la presentación de datos por pantalla\n",
    "pd.set_option('display.max_columns', None)"
   ]
  },
  {
   "cell_type": "code",
   "execution_count": 40,
   "metadata": {},
   "outputs": [],
   "source": [
    "#fuente de pdatos\n",
    "data_path = '/Users/mharias/documents/proyectos/covid/sanidad_hospital/data/datos_sanidad_hosp.csv'\n",
    "img_path = '/Users/mharias/documents/proyectos/covid/sanidad_hospital/img/'"
   ]
  },
  {
   "cell_type": "code",
   "execution_count": 41,
   "metadata": {},
   "outputs": [],
   "source": [
    "hashtag_fuente='#escovid19data' #hashtag de la fuente para los créditos"
   ]
  },
  {
   "cell_type": "code",
   "execution_count": null,
   "metadata": {},
   "outputs": [],
   "source": []
  },
  {
   "cell_type": "markdown",
   "metadata": {},
   "source": [
    "Leemos los datos en un `pandas`"
   ]
  },
  {
   "cell_type": "code",
   "execution_count": 42,
   "metadata": {},
   "outputs": [],
   "source": [
    "df = pd.read_csv(data_path)"
   ]
  },
  {
   "cell_type": "markdown",
   "metadata": {},
   "source": [
    "veamos una rápida descripción de la información:"
   ]
  },
  {
   "cell_type": "code",
   "execution_count": 43,
   "metadata": {},
   "outputs": [
    {
     "data": {
      "text/html": [
       "<div>\n",
       "<style scoped>\n",
       "    .dataframe tbody tr th:only-of-type {\n",
       "        vertical-align: middle;\n",
       "    }\n",
       "\n",
       "    .dataframe tbody tr th {\n",
       "        vertical-align: top;\n",
       "    }\n",
       "\n",
       "    .dataframe thead th {\n",
       "        text-align: right;\n",
       "    }\n",
       "</style>\n",
       "<table border=\"1\" class=\"dataframe\">\n",
       "  <thead>\n",
       "    <tr style=\"text-align: right;\">\n",
       "      <th></th>\n",
       "      <th>Hosp_Totales</th>\n",
       "      <th>Hosp_actual</th>\n",
       "      <th>UCI_actual</th>\n",
       "      <th>Ingresos_24horas</th>\n",
       "      <th>Altas_24horas</th>\n",
       "    </tr>\n",
       "  </thead>\n",
       "  <tbody>\n",
       "    <tr>\n",
       "      <th>count</th>\n",
       "      <td>4218.000000</td>\n",
       "      <td>1463.000000</td>\n",
       "      <td>1463.000000</td>\n",
       "      <td>1463.000000</td>\n",
       "      <td>1463.000000</td>\n",
       "    </tr>\n",
       "    <tr>\n",
       "      <th>mean</th>\n",
       "      <td>158.268301</td>\n",
       "      <td>264.316553</td>\n",
       "      <td>158.336979</td>\n",
       "      <td>103.942584</td>\n",
       "      <td>97.263841</td>\n",
       "    </tr>\n",
       "    <tr>\n",
       "      <th>std</th>\n",
       "      <td>542.535507</td>\n",
       "      <td>279.939652</td>\n",
       "      <td>186.808755</td>\n",
       "      <td>130.976040</td>\n",
       "      <td>131.407830</td>\n",
       "    </tr>\n",
       "    <tr>\n",
       "      <th>min</th>\n",
       "      <td>1.000000</td>\n",
       "      <td>1.000000</td>\n",
       "      <td>0.000000</td>\n",
       "      <td>0.000000</td>\n",
       "      <td>0.000000</td>\n",
       "    </tr>\n",
       "    <tr>\n",
       "      <th>25%</th>\n",
       "      <td>2.649750</td>\n",
       "      <td>4.498000</td>\n",
       "      <td>38.000000</td>\n",
       "      <td>19.000000</td>\n",
       "      <td>16.000000</td>\n",
       "    </tr>\n",
       "    <tr>\n",
       "      <th>50%</th>\n",
       "      <td>7.759500</td>\n",
       "      <td>182.000000</td>\n",
       "      <td>84.000000</td>\n",
       "      <td>51.000000</td>\n",
       "      <td>44.000000</td>\n",
       "    </tr>\n",
       "    <tr>\n",
       "      <th>75%</th>\n",
       "      <td>29.448250</td>\n",
       "      <td>469.000000</td>\n",
       "      <td>206.000000</td>\n",
       "      <td>133.000000</td>\n",
       "      <td>122.000000</td>\n",
       "    </tr>\n",
       "    <tr>\n",
       "      <th>max</th>\n",
       "      <td>4991.000000</td>\n",
       "      <td>996.000000</td>\n",
       "      <td>824.000000</td>\n",
       "      <td>684.000000</td>\n",
       "      <td>729.000000</td>\n",
       "    </tr>\n",
       "  </tbody>\n",
       "</table>\n",
       "</div>"
      ],
      "text/plain": [
       "       Hosp_Totales  Hosp_actual   UCI_actual  Ingresos_24horas  Altas_24horas\n",
       "count   4218.000000  1463.000000  1463.000000       1463.000000    1463.000000\n",
       "mean     158.268301   264.316553   158.336979        103.942584      97.263841\n",
       "std      542.535507   279.939652   186.808755        130.976040     131.407830\n",
       "min        1.000000     1.000000     0.000000          0.000000       0.000000\n",
       "25%        2.649750     4.498000    38.000000         19.000000      16.000000\n",
       "50%        7.759500   182.000000    84.000000         51.000000      44.000000\n",
       "75%       29.448250   469.000000   206.000000        133.000000     122.000000\n",
       "max     4991.000000   996.000000   824.000000        684.000000     729.000000"
      ]
     },
     "execution_count": 43,
     "metadata": {},
     "output_type": "execute_result"
    }
   ],
   "source": [
    "df.describe()"
   ]
  },
  {
   "cell_type": "markdown",
   "metadata": {},
   "source": [
    "y un muestreo de valores y de algunas columnas de interés:"
   ]
  },
  {
   "cell_type": "code",
   "execution_count": 44,
   "metadata": {},
   "outputs": [
    {
     "data": {
      "text/html": [
       "<div>\n",
       "<style scoped>\n",
       "    .dataframe tbody tr th:only-of-type {\n",
       "        vertical-align: middle;\n",
       "    }\n",
       "\n",
       "    .dataframe tbody tr th {\n",
       "        vertical-align: top;\n",
       "    }\n",
       "\n",
       "    .dataframe thead th {\n",
       "        text-align: right;\n",
       "    }\n",
       "</style>\n",
       "<table border=\"1\" class=\"dataframe\">\n",
       "  <thead>\n",
       "    <tr style=\"text-align: right;\">\n",
       "      <th></th>\n",
       "      <th>fecha</th>\n",
       "      <th>ccaa</th>\n",
       "      <th>Hosp_Totales</th>\n",
       "      <th>Hosp_7días</th>\n",
       "      <th>UCI_Totales</th>\n",
       "      <th>UCI_7dias</th>\n",
       "      <th>Hosp_actual</th>\n",
       "      <th>%CamasCovid</th>\n",
       "      <th>UCI_actual</th>\n",
       "      <th>%CamasUCI</th>\n",
       "      <th>Ingresos_24horas</th>\n",
       "      <th>Altas_24horas</th>\n",
       "    </tr>\n",
       "  </thead>\n",
       "  <tbody>\n",
       "    <tr>\n",
       "      <th>0</th>\n",
       "      <td>2020-04-27</td>\n",
       "      <td>Madrid</td>\n",
       "      <td>39.472</td>\n",
       "      <td></td>\n",
       "      <td>3.309</td>\n",
       "      <td></td>\n",
       "      <td>NaN</td>\n",
       "      <td>NaN</td>\n",
       "      <td>NaN</td>\n",
       "      <td>NaN</td>\n",
       "      <td>NaN</td>\n",
       "      <td>NaN</td>\n",
       "    </tr>\n",
       "    <tr>\n",
       "      <th>1</th>\n",
       "      <td>2020-04-27</td>\n",
       "      <td>La Rioja</td>\n",
       "      <td>1.392</td>\n",
       "      <td>12</td>\n",
       "      <td>85</td>\n",
       "      <td>1</td>\n",
       "      <td>NaN</td>\n",
       "      <td>NaN</td>\n",
       "      <td>NaN</td>\n",
       "      <td>NaN</td>\n",
       "      <td>NaN</td>\n",
       "      <td>NaN</td>\n",
       "    </tr>\n",
       "    <tr>\n",
       "      <th>2</th>\n",
       "      <td>2020-04-27</td>\n",
       "      <td>País Vasco</td>\n",
       "      <td>6.457</td>\n",
       "      <td>31</td>\n",
       "      <td>538</td>\n",
       "      <td>5</td>\n",
       "      <td>NaN</td>\n",
       "      <td>NaN</td>\n",
       "      <td>NaN</td>\n",
       "      <td>NaN</td>\n",
       "      <td>NaN</td>\n",
       "      <td>NaN</td>\n",
       "    </tr>\n",
       "    <tr>\n",
       "      <th>3</th>\n",
       "      <td>2020-04-27</td>\n",
       "      <td>Navarra</td>\n",
       "      <td>1.942</td>\n",
       "      <td>0</td>\n",
       "      <td>130</td>\n",
       "      <td>1</td>\n",
       "      <td>NaN</td>\n",
       "      <td>NaN</td>\n",
       "      <td>NaN</td>\n",
       "      <td>NaN</td>\n",
       "      <td>NaN</td>\n",
       "      <td>NaN</td>\n",
       "    </tr>\n",
       "    <tr>\n",
       "      <th>4</th>\n",
       "      <td>2020-04-27</td>\n",
       "      <td>Murcia</td>\n",
       "      <td>627.000</td>\n",
       "      <td>0</td>\n",
       "      <td>106</td>\n",
       "      <td>0</td>\n",
       "      <td>NaN</td>\n",
       "      <td>NaN</td>\n",
       "      <td>NaN</td>\n",
       "      <td>NaN</td>\n",
       "      <td>NaN</td>\n",
       "      <td>NaN</td>\n",
       "    </tr>\n",
       "  </tbody>\n",
       "</table>\n",
       "</div>"
      ],
      "text/plain": [
       "        fecha        ccaa  Hosp_Totales Hosp_7días UCI_Totales UCI_7dias  \\\n",
       "0  2020-04-27      Madrid        39.472                 3.309              \n",
       "1  2020-04-27    La Rioja         1.392        12          85         1    \n",
       "2  2020-04-27  País Vasco         6.457        31         538         5    \n",
       "3  2020-04-27     Navarra         1.942         0         130         1    \n",
       "4  2020-04-27      Murcia       627.000         0         106         0    \n",
       "\n",
       "   Hosp_actual %CamasCovid  UCI_actual %CamasUCI  Ingresos_24horas  \\\n",
       "0          NaN         NaN         NaN       NaN               NaN   \n",
       "1          NaN         NaN         NaN       NaN               NaN   \n",
       "2          NaN         NaN         NaN       NaN               NaN   \n",
       "3          NaN         NaN         NaN       NaN               NaN   \n",
       "4          NaN         NaN         NaN       NaN               NaN   \n",
       "\n",
       "   Altas_24horas  \n",
       "0            NaN  \n",
       "1            NaN  \n",
       "2            NaN  \n",
       "3            NaN  \n",
       "4            NaN  "
      ]
     },
     "execution_count": 44,
     "metadata": {},
     "output_type": "execute_result"
    }
   ],
   "source": [
    "df.head()"
   ]
  },
  {
   "cell_type": "code",
   "execution_count": 45,
   "metadata": {},
   "outputs": [
    {
     "data": {
      "text/html": [
       "<div>\n",
       "<style scoped>\n",
       "    .dataframe tbody tr th:only-of-type {\n",
       "        vertical-align: middle;\n",
       "    }\n",
       "\n",
       "    .dataframe tbody tr th {\n",
       "        vertical-align: top;\n",
       "    }\n",
       "\n",
       "    .dataframe thead th {\n",
       "        text-align: right;\n",
       "    }\n",
       "</style>\n",
       "<table border=\"1\" class=\"dataframe\">\n",
       "  <thead>\n",
       "    <tr style=\"text-align: right;\">\n",
       "      <th></th>\n",
       "      <th>fecha</th>\n",
       "      <th>ccaa</th>\n",
       "      <th>Hosp_Totales</th>\n",
       "      <th>Hosp_7días</th>\n",
       "      <th>UCI_Totales</th>\n",
       "      <th>UCI_7dias</th>\n",
       "      <th>Hosp_actual</th>\n",
       "      <th>%CamasCovid</th>\n",
       "      <th>UCI_actual</th>\n",
       "      <th>%CamasUCI</th>\n",
       "      <th>Ingresos_24horas</th>\n",
       "      <th>Altas_24horas</th>\n",
       "    </tr>\n",
       "  </thead>\n",
       "  <tbody>\n",
       "    <tr>\n",
       "      <th>4213</th>\n",
       "      <td>2021-02-15</td>\n",
       "      <td>Asturias</td>\n",
       "      <td>6.931</td>\n",
       "      <td>281</td>\n",
       "      <td>512</td>\n",
       "      <td>23</td>\n",
       "      <td>668.000</td>\n",
       "      <td>19,13%</td>\n",
       "      <td>131.0</td>\n",
       "      <td>39,34%</td>\n",
       "      <td>42.0</td>\n",
       "      <td>16.0</td>\n",
       "    </tr>\n",
       "    <tr>\n",
       "      <th>4214</th>\n",
       "      <td>2021-02-15</td>\n",
       "      <td>Aragón</td>\n",
       "      <td>11.944</td>\n",
       "      <td>300</td>\n",
       "      <td>1.07</td>\n",
       "      <td>27</td>\n",
       "      <td>670.000</td>\n",
       "      <td>15,94%</td>\n",
       "      <td>89.0</td>\n",
       "      <td>37,71%</td>\n",
       "      <td>34.0</td>\n",
       "      <td>13.0</td>\n",
       "    </tr>\n",
       "    <tr>\n",
       "      <th>4215</th>\n",
       "      <td>2021-02-15</td>\n",
       "      <td>Andalucía</td>\n",
       "      <td>34.092</td>\n",
       "      <td>726</td>\n",
       "      <td>3.34</td>\n",
       "      <td>39</td>\n",
       "      <td>3.429</td>\n",
       "      <td>18,94%</td>\n",
       "      <td>664.0</td>\n",
       "      <td>34,35%</td>\n",
       "      <td>191.0</td>\n",
       "      <td>204.0</td>\n",
       "    </tr>\n",
       "    <tr>\n",
       "      <th>4216</th>\n",
       "      <td>2021-02-15</td>\n",
       "      <td>Ceuta</td>\n",
       "      <td>256.000</td>\n",
       "      <td>4</td>\n",
       "      <td>30</td>\n",
       "      <td>0</td>\n",
       "      <td>28.000</td>\n",
       "      <td>14,00%</td>\n",
       "      <td>7.0</td>\n",
       "      <td>41,18%</td>\n",
       "      <td>1.0</td>\n",
       "      <td>1.0</td>\n",
       "    </tr>\n",
       "    <tr>\n",
       "      <th>4217</th>\n",
       "      <td>2021-02-15</td>\n",
       "      <td>La Rioja</td>\n",
       "      <td>3.129</td>\n",
       "      <td>50</td>\n",
       "      <td>350</td>\n",
       "      <td>5</td>\n",
       "      <td>168.000</td>\n",
       "      <td>20,07%</td>\n",
       "      <td>48.0</td>\n",
       "      <td>55,17%</td>\n",
       "      <td>1.0</td>\n",
       "      <td>8.0</td>\n",
       "    </tr>\n",
       "  </tbody>\n",
       "</table>\n",
       "</div>"
      ],
      "text/plain": [
       "           fecha       ccaa  Hosp_Totales Hosp_7días UCI_Totales UCI_7dias  \\\n",
       "4213  2021-02-15   Asturias         6.931        281         512        23   \n",
       "4214  2021-02-15     Aragón        11.944        300        1.07        27   \n",
       "4215  2021-02-15  Andalucía        34.092        726        3.34        39   \n",
       "4216  2021-02-15      Ceuta       256.000          4          30         0   \n",
       "4217  2021-02-15   La Rioja         3.129         50         350         5   \n",
       "\n",
       "      Hosp_actual %CamasCovid  UCI_actual %CamasUCI  Ingresos_24horas  \\\n",
       "4213      668.000     19,13%        131.0   39,34%               42.0   \n",
       "4214      670.000     15,94%         89.0   37,71%               34.0   \n",
       "4215        3.429     18,94%        664.0   34,35%              191.0   \n",
       "4216       28.000     14,00%          7.0   41,18%                1.0   \n",
       "4217      168.000     20,07%         48.0   55,17%                1.0   \n",
       "\n",
       "      Altas_24horas  \n",
       "4213           16.0  \n",
       "4214           13.0  \n",
       "4215          204.0  \n",
       "4216            1.0  \n",
       "4217            8.0  "
      ]
     },
     "execution_count": 45,
     "metadata": {},
     "output_type": "execute_result"
    }
   ],
   "source": [
    "df.tail()"
   ]
  },
  {
   "cell_type": "code",
   "execution_count": 46,
   "metadata": {},
   "outputs": [],
   "source": [
    "def formato_(x):\n",
    "    if x is np.NaN:\n",
    "        return x\n",
    "    else:\n",
    "        return float(x[:-2].replace(',','.'))\n",
    "    "
   ]
  },
  {
   "cell_type": "code",
   "execution_count": 47,
   "metadata": {},
   "outputs": [],
   "source": [
    "df['%CamasUCI'] = df['%CamasUCI'].apply(formato_)\n",
    "df['%CamasCovid'] = df['%CamasCovid'].apply(formato_)"
   ]
  },
  {
   "cell_type": "code",
   "execution_count": 48,
   "metadata": {},
   "outputs": [],
   "source": [
    "comunidades = sorted(df['ccaa'].unique())"
   ]
  },
  {
   "cell_type": "markdown",
   "metadata": {},
   "source": [
    "Vamos a formatear correctamente la columna `Date`, para posteriormente ordenar el $pandas$ por fecha creciente:"
   ]
  },
  {
   "cell_type": "code",
   "execution_count": 49,
   "metadata": {},
   "outputs": [],
   "source": [
    "df['fecha']=pd.to_datetime(df['fecha'],format='%Y-%m-%d')"
   ]
  },
  {
   "cell_type": "code",
   "execution_count": 50,
   "metadata": {},
   "outputs": [
    {
     "data": {
      "text/html": [
       "<div>\n",
       "<style scoped>\n",
       "    .dataframe tbody tr th:only-of-type {\n",
       "        vertical-align: middle;\n",
       "    }\n",
       "\n",
       "    .dataframe tbody tr th {\n",
       "        vertical-align: top;\n",
       "    }\n",
       "\n",
       "    .dataframe thead th {\n",
       "        text-align: right;\n",
       "    }\n",
       "</style>\n",
       "<table border=\"1\" class=\"dataframe\">\n",
       "  <thead>\n",
       "    <tr style=\"text-align: right;\">\n",
       "      <th></th>\n",
       "      <th>fecha</th>\n",
       "      <th>ccaa</th>\n",
       "      <th>Hosp_Totales</th>\n",
       "      <th>Hosp_7días</th>\n",
       "      <th>UCI_Totales</th>\n",
       "      <th>UCI_7dias</th>\n",
       "      <th>Hosp_actual</th>\n",
       "      <th>%CamasCovid</th>\n",
       "      <th>UCI_actual</th>\n",
       "      <th>%CamasUCI</th>\n",
       "      <th>Ingresos_24horas</th>\n",
       "      <th>Altas_24horas</th>\n",
       "    </tr>\n",
       "  </thead>\n",
       "  <tbody>\n",
       "    <tr>\n",
       "      <th>4200</th>\n",
       "      <td>2021-02-15</td>\n",
       "      <td>País Vasco</td>\n",
       "      <td>11.784</td>\n",
       "      <td>3</td>\n",
       "      <td>985</td>\n",
       "      <td>6</td>\n",
       "      <td>758.0</td>\n",
       "      <td>15.16</td>\n",
       "      <td>161.0</td>\n",
       "      <td>35.70</td>\n",
       "      <td>47.0</td>\n",
       "      <td>37.0</td>\n",
       "    </tr>\n",
       "    <tr>\n",
       "      <th>4199</th>\n",
       "      <td>2021-02-15</td>\n",
       "      <td>Extremadura</td>\n",
       "      <td>5.591</td>\n",
       "      <td>92</td>\n",
       "      <td>482</td>\n",
       "      <td>13</td>\n",
       "      <td>257.0</td>\n",
       "      <td>8.66</td>\n",
       "      <td>50.0</td>\n",
       "      <td>23.58</td>\n",
       "      <td>8.0</td>\n",
       "      <td>8.0</td>\n",
       "    </tr>\n",
       "    <tr>\n",
       "      <th>4216</th>\n",
       "      <td>2021-02-15</td>\n",
       "      <td>Ceuta</td>\n",
       "      <td>256.000</td>\n",
       "      <td>4</td>\n",
       "      <td>30</td>\n",
       "      <td>0</td>\n",
       "      <td>28.0</td>\n",
       "      <td>14.00</td>\n",
       "      <td>7.0</td>\n",
       "      <td>41.18</td>\n",
       "      <td>1.0</td>\n",
       "      <td>1.0</td>\n",
       "    </tr>\n",
       "    <tr>\n",
       "      <th>4207</th>\n",
       "      <td>2021-02-15</td>\n",
       "      <td>Cantabria</td>\n",
       "      <td>2.443</td>\n",
       "      <td>85</td>\n",
       "      <td>321</td>\n",
       "      <td>12</td>\n",
       "      <td>150.0</td>\n",
       "      <td>9.27</td>\n",
       "      <td>27.0</td>\n",
       "      <td>20.77</td>\n",
       "      <td>11.0</td>\n",
       "      <td>7.0</td>\n",
       "    </tr>\n",
       "    <tr>\n",
       "      <th>4217</th>\n",
       "      <td>2021-02-15</td>\n",
       "      <td>La Rioja</td>\n",
       "      <td>3.129</td>\n",
       "      <td>50</td>\n",
       "      <td>350</td>\n",
       "      <td>5</td>\n",
       "      <td>168.0</td>\n",
       "      <td>20.07</td>\n",
       "      <td>48.0</td>\n",
       "      <td>55.17</td>\n",
       "      <td>1.0</td>\n",
       "      <td>8.0</td>\n",
       "    </tr>\n",
       "  </tbody>\n",
       "</table>\n",
       "</div>"
      ],
      "text/plain": [
       "          fecha         ccaa  Hosp_Totales Hosp_7días UCI_Totales UCI_7dias  \\\n",
       "4200 2021-02-15   País Vasco        11.784          3         985         6   \n",
       "4199 2021-02-15  Extremadura         5.591         92         482        13   \n",
       "4216 2021-02-15        Ceuta       256.000          4          30         0   \n",
       "4207 2021-02-15    Cantabria         2.443         85         321        12   \n",
       "4217 2021-02-15     La Rioja         3.129         50         350         5   \n",
       "\n",
       "      Hosp_actual  %CamasCovid  UCI_actual  %CamasUCI  Ingresos_24horas  \\\n",
       "4200        758.0        15.16       161.0      35.70              47.0   \n",
       "4199        257.0         8.66        50.0      23.58               8.0   \n",
       "4216         28.0        14.00         7.0      41.18               1.0   \n",
       "4207        150.0         9.27        27.0      20.77              11.0   \n",
       "4217        168.0        20.07        48.0      55.17               1.0   \n",
       "\n",
       "      Altas_24horas  \n",
       "4200           37.0  \n",
       "4199            8.0  \n",
       "4216            1.0  \n",
       "4207            7.0  \n",
       "4217            8.0  "
      ]
     },
     "execution_count": 50,
     "metadata": {},
     "output_type": "execute_result"
    }
   ],
   "source": [
    "df.sort_values(['fecha']).tail()"
   ]
  },
  {
   "cell_type": "code",
   "execution_count": 51,
   "metadata": {},
   "outputs": [
    {
     "data": {
      "text/plain": [
       "Index(['fecha', 'ccaa', 'Hosp_Totales', 'Hosp_7días', 'UCI_Totales',\n",
       "       'UCI_7dias', 'Hosp_actual', '%CamasCovid', 'UCI_actual', '%CamasUCI',\n",
       "       'Ingresos_24horas', 'Altas_24horas'],\n",
       "      dtype='object')"
      ]
     },
     "execution_count": 51,
     "metadata": {},
     "output_type": "execute_result"
    }
   ],
   "source": [
    "df.columns"
   ]
  },
  {
   "cell_type": "code",
   "execution_count": 52,
   "metadata": {},
   "outputs": [],
   "source": [
    "campos = {'Almería':'daily_cases', 'Cádiz':'daily_cases', 'Córdoba':'daily_cases',\n",
    "          'Granada':'daily_cases', 'Huelva':'daily_cases', 'Jaén':'daily_cases',\n",
    "       'Málaga':'daily_cases', 'Sevilla':'daily_cases', 'Huesca':'casos_nuevos_aragon',\n",
    "          'Teruel':'casos_nuevos_aragon', 'Zaragoza':'casos_nuevos_aragon', \n",
    "          'Asturias':'PCR','Balears, Illes':'PCR', 'Palmas, Las':'daily_cases', \n",
    "          'Santa Cruz de Tenerife':'daily_cases','Cantabria':'PCR',\n",
    "          'Albacete':'daily_cases_PCR', 'Ciudad Real':'daily_cases_PCR',\n",
    "          'Cuenca':'daily_cases_PCR', 'Guadalajara':'daily_cases_PCR',\n",
    "       'Toledo':'daily_cases_PCR', 'Ávila':'daily_cases_PCR', 'Burgos':'daily_cases_PCR',\n",
    "          'León':'daily_cases_PCR', 'Palencia':'daily_cases_PCR', 'Salamanca':'daily_cases_PCR',\n",
    "       'Segovia':'daily_cases_PCR', 'Soria':'daily_cases_PCR', 'Valladolid':'daily_cases_PCR',\n",
    "          'Zamora':'daily_cases_PCR', 'Barcelona':'daily_cases', 'Girona':'daily_cases',\n",
    "       'Lleida':'daily_cases', 'Tarragona':'daily_cases', 'Ceuta':'new_cases',\n",
    "          'Alicante/Alacant':'casos_nuevos_valencia','Castellón/Castelló':'casos_nuevos_valencia',\n",
    "          'Valencia/València':'casos_nuevos_valencia','Badajoz':'new_cases', 'Cáceres':'new_cases',\n",
    "       'Coruña, A':'daily_cases', 'Lugo':'daily_cases', 'Ourense':'daily_cases', \n",
    "          'Pontevedra':'daily_cases', 'Madrid':'daily_cases_PCR', 'Melilla':'PCR',\n",
    "       'Murcia':'daily_cases', 'Navarra':'PCR', 'Araba/Álava':'casos_nuevos_paisvasco',\n",
    "          'Bizkaia':'casos_nuevos_paisvasco', 'Gipuzkoa':'casos_nuevos_paisvasco',\n",
    "       'Rioja, La':'PCR'}"
   ]
  },
  {
   "cell_type": "markdown",
   "metadata": {},
   "source": [
    "# Gráficos"
   ]
  },
  {
   "cell_type": "markdown",
   "metadata": {},
   "source": [
    " A continuación vamos a crear un gráfico múltiple que nos permita visualizar cada una de las columnas con datos numéricos. Ello nos permitirá"
   ]
  },
  {
   "cell_type": "markdown",
   "metadata": {},
   "source": [
    "Preparemos un gráfico tipo [Facetgrid](https://seaborn.pydata.org/generated/seaborn.FacetGrid.html), al que añadiremos tantos gráficos como provincias, presentando una de las columnas de datos. Elegimos nº de hospitalizados por 100.000 habitantes. Dejo otras claves con `#` para que fácilmente se puedan generar. Este ejemplo esta basado en el código del link anterior."
   ]
  },
  {
   "cell_type": "code",
   "execution_count": 53,
   "metadata": {},
   "outputs": [
    {
     "data": {
      "text/plain": [
       "2020"
      ]
     },
     "execution_count": 53,
     "metadata": {},
     "output_type": "execute_result"
    }
   ],
   "source": [
    "df.iloc[1]['fecha'].year"
   ]
  },
  {
   "cell_type": "code",
   "execution_count": 54,
   "metadata": {},
   "outputs": [
    {
     "data": {
      "text/plain": [
       "0      2020-04-27\n",
       "1      2020-04-27\n",
       "2      2020-04-27\n",
       "3      2020-04-27\n",
       "4      2020-04-27\n",
       "          ...    \n",
       "4213   2021-02-15\n",
       "4214   2021-02-15\n",
       "4215   2021-02-15\n",
       "4216   2021-02-15\n",
       "4217   2021-02-15\n",
       "Name: fecha, Length: 4218, dtype: datetime64[ns]"
      ]
     },
     "execution_count": 54,
     "metadata": {},
     "output_type": "execute_result"
    }
   ],
   "source": [
    "df['fecha']"
   ]
  },
  {
   "cell_type": "code",
   "execution_count": null,
   "metadata": {},
   "outputs": [],
   "source": [
    "# Creamos la figura desde Matplotlib\n",
    "#plt.figure()\n",
    "\n",
    "# Initialize the FacetGrid object\n",
    "#pal = sns.cubehelix_palette(52, rot=-.25, light=.7)\n",
    "\n",
    "with sns.plotting_context('paper', font_scale = 1.3):\n",
    "    g = sns.FacetGrid(df,col='ccaa',hue='ccaa',col_wrap=3,aspect=3, \n",
    "                      margin_titles=False,height=1.5,sharey=True)\n",
    "\n",
    "# Título\n",
    "\n",
    "titulo = 'EVOLUCION DE OCUPACION DE CAMAS HOSPITAL Y UCI POR COVID \\n Fuente Informes diarios Sanidad: {}'.format('15-feb')\n",
    "color_titulos = 'navy'\n",
    "color_uci='red'\n",
    "color_covid='navy'\n",
    "\n",
    "#g.fig.text(1, 0,'Fuente: {}'.format(hashtag_fuente), fontsize=10,horizontalalignment='right') #add text\n",
    "#g.fig.text(1,0.01,'Código:{}'.format(github_url),\n",
    "          # fontsize=10,horizontalalignment='right')\n",
    "# Draw the densities in a few steps\n",
    "\n",
    "XmajorFmt = DateFormatter('%-d-%-b')\n",
    "fmt = '%.0f%%' # Format you want the ticks, e.g. '40%'\n",
    "yticks = ticker.FormatStrFormatter(fmt)\n",
    "def grafica(x, color, label):\n",
    "    ax1 = plt.gca()\n",
    "    ax1.xaxis_date()\n",
    "    df_datos = df.loc[df['ccaa'] == label].sort_values(['fecha'])\n",
    "   \n",
    "    #ax1.fill_between(datos['date'].unique(), datos[AI],color=color_diarios)\n",
    "    ax1.text(0.5, .8, label, fontweight=\"bold\", color=color_titulos,\n",
    "            ha=\"center\", va=\"center\", size=16,transform=ax1.transAxes)\n",
    "    ax1.set_ylim(0,75)\n",
    "    ax1.set_yticks([0,25,50,75])\n",
    "    \n",
    "    ax1.yaxis.set_major_formatter(yticks)\n",
    "    #ax1.set_yticks([]\n",
    "    ax1.yaxis.set_tick_params(labelsize=12,width=0,labelcolor=color_covid)\n",
    "    #ax1.yaxis.set_major_locator(plt.MaxNLocator(5))\n",
    "    ax1.xaxis.set_tick_params(labelsize=12,width=0,labelcolor=color_covid,rotation=45)\n",
    "    ax1.xaxis.set_major_formatter(XmajorFmt)\n",
    "    #ax1.set_xticks([])\n",
    "    ax1.grid(True,axis='both',which='both')\n",
    "    ax1.plot(df_datos['fecha'], df_datos['%CamasCovid'],lw=3,color=color_covid,label='A')\n",
    "    \n",
    "    \n",
    "    ax2 = ax1.twinx()\n",
    "    ax2.plot(df_datos['fecha'], df_datos['%CamasUCI'], lw=3, color=color_uci,label='B')\n",
    "    ax2.yaxis.set_tick_params(labelsize=12,width=0,labelcolor=color_uci,pad=-10)\n",
    "    ax2.yaxis.set_major_formatter(yticks)\n",
    "    #ax2.set_ylim(0,4)\n",
    "    #ax2.set_yticks([1])\n",
    "    ax2.xaxis.set_major_formatter(XmajorFmt)\n",
    "    \n",
    "    ax2.set_ylim(0,75)\n",
    "    ax2.set_yticks([0,25,50,75])\n",
    "    ax2.set_yticks([])\n",
    "    #ax2.xaxis.set_tick_params(labelsize=20,labelcolor='navy')\n",
    "    #ax2.xaxis.set_major_locator(DayLocator([1]))\n",
    "    #ax2.legend()\n",
    "    \n",
    "g.map(grafica,'ccaa')\n",
    "\n",
    "#plt.legend()\n",
    "g.set_titles(\"\")\n",
    "#g.set(yticks=[])\n",
    "g.set(xlabel='')\n",
    "\n",
    "g.despine(bottom=False, left=True)\n",
    "g.fig.suptitle('{}'.format(titulo),fontsize=24,color='navy')\n",
    "g.fig.text(x=.35,y=.05,s='EN ROJO CAMAS UCI POR COVID vs UCI TOTALES',color='red',fontsize=26)\n",
    "g.fig.text(x=.35,y=.1,s='EN AZUL CAMAS HOSP POR COVID vs CAMAS TOTALES',color='navy',fontsize=26)\n",
    "\n",
    "g.fig.subplots_adjust(top=.9,wspace=0.25,hspace=0.4)\n",
    "plt.savefig(img_path+'uci_hosp_comunidades.png',dpi=288)  \n",
    "# plt.tight_layout()\n",
    "plt.show()\n"
   ]
  },
  {
   "cell_type": "code",
   "execution_count": null,
   "metadata": {},
   "outputs": [],
   "source": []
  },
  {
   "cell_type": "code",
   "execution_count": null,
   "metadata": {},
   "outputs": [],
   "source": []
  },
  {
   "cell_type": "code",
   "execution_count": null,
   "metadata": {},
   "outputs": [],
   "source": []
  },
  {
   "cell_type": "code",
   "execution_count": null,
   "metadata": {},
   "outputs": [],
   "source": []
  }
 ],
 "metadata": {
  "kernelspec": {
   "display_name": "Python 3",
   "language": "python",
   "name": "python3"
  },
  "language_info": {
   "codemirror_mode": {
    "name": "ipython",
    "version": 3
   },
   "file_extension": ".py",
   "mimetype": "text/x-python",
   "name": "python",
   "nbconvert_exporter": "python",
   "pygments_lexer": "ipython3",
   "version": "3.8.5"
  }
 },
 "nbformat": 4,
 "nbformat_minor": 2
}
