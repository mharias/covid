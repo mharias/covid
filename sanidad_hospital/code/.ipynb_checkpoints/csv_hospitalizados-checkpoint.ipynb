{
 "cells": [
  {
   "cell_type": "markdown",
   "metadata": {},
   "source": [
    "\n",
    "\n",
    "# Objetivo"
   ]
  },
  {
   "cell_type": "markdown",
   "metadata": {},
   "source": [
    "En este trabajo vamos a analizar los datos epidemiológicos generados por el grupo de trabajo [#escovid19data](https://github.com/montera34/escovid19data). Siguiendo los procesos estándares descargaremos los datos desde gitub, analizaremos los campos y prepararemos una serie de gráficas como ayuda para entender como estñá progresando la enfermedad."
   ]
  },
  {
   "cell_type": "markdown",
   "metadata": {},
   "source": [
    "\n",
    "@author: Manuel H. Arias \n",
    "\n",
    "@Twitter: @walyt\n",
    "\n",
    "@mail: mharias@me.com\n",
    "\n"
   ]
  },
  {
   "cell_type": "markdown",
   "metadata": {},
   "source": [
    "## Importación de librerias estándares para DAE"
   ]
  },
  {
   "cell_type": "code",
   "execution_count": 18,
   "metadata": {},
   "outputs": [],
   "source": [
    "import pandas as pd\n",
    "\n",
    "import matplotlib.pyplot as plt\n",
    "\n",
    "from matplotlib.ticker import FuncFormatter\n",
    "from matplotlib import cm\n",
    "import matplotlib.dates as mdates\n",
    "import matplotlib.ticker as ticker\n",
    "from matplotlib.dates import (YEARLY, MONTHLY, DateFormatter, MonthLocator,DayLocator,\n",
    "                              rrulewrapper, RRuleLocator, drange)\n",
    "import matplotlib.image as mpimg\n",
    "from matplotlib.animation import FuncAnimation\n",
    "from matplotlib.offsetbox import TextArea, DrawingArea, OffsetImage, AnnotationBbox\n",
    "import matplotlib.colors as colors\n",
    "\n",
    "import numpy as np\n",
    "from datetime import datetime,timedelta\n",
    "import seaborn as sns\n",
    "%matplotlib inline\n",
    "\n",
    "import urllib.request\n",
    "\n",
    "import matplotlib.image as mpimg\n",
    "from matplotlib.animation import FuncAnimation\n",
    "from matplotlib.offsetbox import TextArea, DrawingArea, OffsetImage, AnnotationBbox\n",
    "import itertools"
   ]
  },
  {
   "cell_type": "markdown",
   "metadata": {},
   "source": [
    "## Descargamos la información"
   ]
  },
  {
   "cell_type": "markdown",
   "metadata": {},
   "source": [
    "Hacemos en primer lugar una actualización de parámetros y preparación de variables que necesitaremos durante el ejercicio"
   ]
  },
  {
   "cell_type": "code",
   "execution_count": 19,
   "metadata": {},
   "outputs": [],
   "source": [
    "pd.options.display.max_rows = 999 #Variable de contexto para permitir la presentación de datos por pantalla\n",
    "pd.set_option('display.max_columns', None)"
   ]
  },
  {
   "cell_type": "code",
   "execution_count": 20,
   "metadata": {},
   "outputs": [],
   "source": [
    "#fuente de pdatos\n",
    "data_path = 'https://www.mscbs.gob.es/profesionales/saludPublica/ccayes/alertasActual/nCov/documentos/Datos_Capacidad_Asistencial_Historico_30032021.csv'\n",
    "data_path_row = 'https://www.mscbs.gob.es/profesionales/saludPublica/ccayes/alertasActual/nCov/documentos/Datos_Capacidad_Asistencial_Historico_{}.csv'\n",
    "\n",
    "img_path = '/Users/mharias/documents/proyectos/covid/sanidad_hospital/img/'\n",
    "autor='@walyt'\n",
    "escovid='@escovid19data'"
   ]
  },
  {
   "cell_type": "code",
   "execution_count": 21,
   "metadata": {},
   "outputs": [],
   "source": [
    "hashtag_fuente='#escovid19data' #hashtag de la fuente para los créditos"
   ]
  },
  {
   "cell_type": "code",
   "execution_count": 22,
   "metadata": {},
   "outputs": [],
   "source": [
    "hoy_string = datetime.today().strftime(format='%d %b')\n",
    "hoy_string = datetime.today().strftime(format='%d%m%Y')"
   ]
  },
  {
   "cell_type": "code",
   "execution_count": 23,
   "metadata": {},
   "outputs": [
    {
     "data": {
      "text/plain": [
       "'07042021'"
      ]
     },
     "execution_count": 23,
     "metadata": {},
     "output_type": "execute_result"
    }
   ],
   "source": [
    "hoy_string"
   ]
  },
  {
   "cell_type": "code",
   "execution_count": 24,
   "metadata": {},
   "outputs": [],
   "source": [
    "data_path = data_path_row.format(hoy_string)"
   ]
  },
  {
   "cell_type": "code",
   "execution_count": 25,
   "metadata": {},
   "outputs": [
    {
     "data": {
      "text/plain": [
       "'https://www.mscbs.gob.es/profesionales/saludPublica/ccayes/alertasActual/nCov/documentos/Datos_Capacidad_Asistencial_Historico_07042021.csv'"
      ]
     },
     "execution_count": 25,
     "metadata": {},
     "output_type": "execute_result"
    }
   ],
   "source": [
    "data_path"
   ]
  },
  {
   "cell_type": "markdown",
   "metadata": {},
   "source": [
    "Leemos los datos en un `pandas`"
   ]
  },
  {
   "cell_type": "code",
   "execution_count": 26,
   "metadata": {},
   "outputs": [],
   "source": [
    "df = pd.read_csv(data_path,encoding = \"ISO-8859-1\",sep=';')"
   ]
  },
  {
   "cell_type": "markdown",
   "metadata": {},
   "source": [
    "veamos una rápida descripción de la información:"
   ]
  },
  {
   "cell_type": "code",
   "execution_count": 27,
   "metadata": {},
   "outputs": [
    {
     "data": {
      "text/html": [
       "<div>\n",
       "<style scoped>\n",
       "    .dataframe tbody tr th:only-of-type {\n",
       "        vertical-align: middle;\n",
       "    }\n",
       "\n",
       "    .dataframe tbody tr th {\n",
       "        vertical-align: top;\n",
       "    }\n",
       "\n",
       "    .dataframe thead th {\n",
       "        text-align: right;\n",
       "    }\n",
       "</style>\n",
       "<table border=\"1\" class=\"dataframe\">\n",
       "  <thead>\n",
       "    <tr style=\"text-align: right;\">\n",
       "      <th></th>\n",
       "      <th>Fecha</th>\n",
       "      <th>Unidad</th>\n",
       "      <th>COD_CCAA</th>\n",
       "      <th>CCAA</th>\n",
       "      <th>Cod_Provincia</th>\n",
       "      <th>Provincia</th>\n",
       "      <th>TOTAL_CAMAS</th>\n",
       "      <th>OCUPADAS_COVID19</th>\n",
       "      <th>OCUPADAS_NO_COVID19</th>\n",
       "    </tr>\n",
       "  </thead>\n",
       "  <tbody>\n",
       "    <tr>\n",
       "      <th>36019</th>\n",
       "      <td>2021-04-06</td>\n",
       "      <td>U. Críticas CON respirador</td>\n",
       "      <td>10</td>\n",
       "      <td>COMUNIDAD VALENCIANA</td>\n",
       "      <td>3</td>\n",
       "      <td>Alicante/Alacant</td>\n",
       "      <td>300</td>\n",
       "      <td>24</td>\n",
       "      <td>130</td>\n",
       "    </tr>\n",
       "    <tr>\n",
       "      <th>36020</th>\n",
       "      <td>2021-04-06</td>\n",
       "      <td>U. Críticas CON respirador</td>\n",
       "      <td>16</td>\n",
       "      <td>PAÍS VASCO</td>\n",
       "      <td>1</td>\n",
       "      <td>Araba/Álava</td>\n",
       "      <td>72</td>\n",
       "      <td>11</td>\n",
       "      <td>17</td>\n",
       "    </tr>\n",
       "    <tr>\n",
       "      <th>36021</th>\n",
       "      <td>2021-04-06</td>\n",
       "      <td>U. Críticas SIN respirador</td>\n",
       "      <td>7</td>\n",
       "      <td>CASTILLA Y LEÓN</td>\n",
       "      <td>40</td>\n",
       "      <td>Segovia</td>\n",
       "      <td>4</td>\n",
       "      <td>0</td>\n",
       "      <td>0</td>\n",
       "    </tr>\n",
       "    <tr>\n",
       "      <th>36022</th>\n",
       "      <td>2021-04-06</td>\n",
       "      <td>U. Críticas SIN respirador</td>\n",
       "      <td>9</td>\n",
       "      <td>CATALUÑA</td>\n",
       "      <td>8</td>\n",
       "      <td>Barcelona</td>\n",
       "      <td>258</td>\n",
       "      <td>69</td>\n",
       "      <td>134</td>\n",
       "    </tr>\n",
       "    <tr>\n",
       "      <th>36023</th>\n",
       "      <td>2021-04-06</td>\n",
       "      <td>U. Críticas SIN respirador</td>\n",
       "      <td>10</td>\n",
       "      <td>COMUNIDAD VALENCIANA</td>\n",
       "      <td>12</td>\n",
       "      <td>Castellón/Castelló</td>\n",
       "      <td>2</td>\n",
       "      <td>0</td>\n",
       "      <td>0</td>\n",
       "    </tr>\n",
       "  </tbody>\n",
       "</table>\n",
       "</div>"
      ],
      "text/plain": [
       "            Fecha                      Unidad  COD_CCAA                  CCAA  \\\n",
       "36019  2021-04-06  U. Críticas CON respirador        10  COMUNIDAD VALENCIANA   \n",
       "36020  2021-04-06  U. Críticas CON respirador        16            PAÍS VASCO   \n",
       "36021  2021-04-06  U. Críticas SIN respirador         7       CASTILLA Y LEÓN   \n",
       "36022  2021-04-06  U. Críticas SIN respirador         9              CATALUÑA   \n",
       "36023  2021-04-06  U. Críticas SIN respirador        10  COMUNIDAD VALENCIANA   \n",
       "\n",
       "       Cod_Provincia           Provincia  TOTAL_CAMAS  OCUPADAS_COVID19  \\\n",
       "36019              3    Alicante/Alacant          300                24   \n",
       "36020              1         Araba/Álava           72                11   \n",
       "36021             40             Segovia            4                 0   \n",
       "36022              8           Barcelona          258                69   \n",
       "36023             12  Castellón/Castelló            2                 0   \n",
       "\n",
       "       OCUPADAS_NO_COVID19  \n",
       "36019                  130  \n",
       "36020                   17  \n",
       "36021                    0  \n",
       "36022                  134  \n",
       "36023                    0  "
      ]
     },
     "execution_count": 27,
     "metadata": {},
     "output_type": "execute_result"
    }
   ],
   "source": [
    "df.tail()"
   ]
  },
  {
   "cell_type": "code",
   "execution_count": 28,
   "metadata": {},
   "outputs": [
    {
     "data": {
      "text/plain": [
       "array(['2020-08-19', '2020-08-20', '2020-08-21', '2020-08-22',\n",
       "       '2020-08-23', '2020-08-24', '2020-08-25', '2020-08-26',\n",
       "       '2020-08-27', '2020-08-28', '2020-08-29', '2020-08-30',\n",
       "       '2020-08-31', '2020-09-01', '2020-09-02', '2020-09-03',\n",
       "       '2020-09-04', '2020-09-05', '2020-09-06', '2020-09-07',\n",
       "       '2020-09-08', '2020-09-09', '2020-09-10', '2020-09-11',\n",
       "       '2020-09-12', '2020-09-13', '2020-09-14', '2020-09-15',\n",
       "       '2020-09-16', '2020-09-17', '2020-09-18', '2020-09-19',\n",
       "       '2020-09-20', '2020-09-21', '2020-09-22', '2020-09-23',\n",
       "       '2020-09-24', '2020-09-25', '2020-09-26', '2020-09-27',\n",
       "       '2020-09-28', '2020-09-29', '2020-09-30', '2020-10-01',\n",
       "       '2020-10-02', '2020-10-03', '2020-10-04', '2020-10-05',\n",
       "       '2020-10-06', '2020-10-07', '2020-10-08', '2020-10-09',\n",
       "       '2020-10-10', '2020-10-11', '2020-10-12', '2020-10-13',\n",
       "       '2020-10-14', '2020-10-15', '2020-10-16', '2020-10-17',\n",
       "       '2020-10-18', '2020-10-19', '2020-10-20', '2020-10-21',\n",
       "       '2020-10-22', '2020-10-23', '2020-10-24', '2020-10-25',\n",
       "       '2020-10-26', '2020-10-27', '2020-10-28', '2020-10-29',\n",
       "       '2020-10-30', '2020-10-31', '2020-11-01', '2020-11-02',\n",
       "       '2020-11-03', '2020-11-04', '2020-11-05', '2020-11-06',\n",
       "       '2020-11-07', '2020-11-08', '2020-11-09', '2020-11-10',\n",
       "       '2020-11-11', '2020-11-12', '2020-11-13', '2020-11-14',\n",
       "       '2020-11-15', '2020-11-16', '2020-11-17', '2020-11-18',\n",
       "       '2020-11-19', '2020-11-20', '2020-11-21', '2020-11-22',\n",
       "       '2020-11-23', '2020-11-24', '2020-11-25', '2020-11-26',\n",
       "       '2020-11-27', '2020-11-28', '2020-11-29', '2020-11-30',\n",
       "       '2020-12-01', '2020-12-02', '2020-12-03', '2020-12-04',\n",
       "       '2020-12-05', '2020-12-06', '2020-12-07', '2020-12-08',\n",
       "       '2020-12-09', '2020-12-10', '2020-12-11', '2020-12-12',\n",
       "       '2020-12-13', '2020-12-14', '2020-12-15', '2020-12-16',\n",
       "       '2020-12-17', '2020-12-18', '2020-12-19', '2020-12-20',\n",
       "       '2020-12-21', '2020-12-22', '2020-12-23', '2020-12-24',\n",
       "       '2020-12-25', '2020-12-26', '2020-12-27', '2020-12-28',\n",
       "       '2020-12-29', '2020-12-30', '2020-12-31', '2021-01-01',\n",
       "       '2021-01-02', '2021-01-03', '2021-01-04', '2021-01-05',\n",
       "       '2021-01-06', '2021-01-07', '2021-01-08', '2021-01-09',\n",
       "       '2021-01-10', '2021-01-11', '2021-01-12', '2021-01-13',\n",
       "       '2021-01-14', '2021-01-15', '2021-01-16', '2021-01-17',\n",
       "       '2021-01-18', '2021-01-19', '2021-01-20', '2021-01-21',\n",
       "       '2021-01-22', '2021-01-23', '2021-01-24', '2021-01-25',\n",
       "       '2021-01-26', '2021-01-27', '2021-01-28', '2021-01-29',\n",
       "       '2021-01-30', '2021-01-31', '2021-02-01', '2021-02-02',\n",
       "       '2021-02-03', '2021-02-04', '2021-02-05', '2021-02-06',\n",
       "       '2021-02-07', '2021-02-08', '2021-02-09', '2021-02-10',\n",
       "       '2021-02-11', '2021-02-12', '2021-02-13', '2021-02-14',\n",
       "       '2021-02-15', '2021-02-16', '2021-02-17', '2021-02-18',\n",
       "       '2021-02-19', '2021-02-20', '2021-02-21', '2021-02-22',\n",
       "       '2021-02-23', '2021-02-24', '2021-02-25', '2021-02-26',\n",
       "       '2021-02-27', '2021-02-28', '2021-03-01', '2021-03-02',\n",
       "       '2021-03-03', '2021-03-04', '2021-03-05', '2021-03-06',\n",
       "       '2021-03-07', '2021-03-08', '2021-03-09', '2021-03-10',\n",
       "       '2021-03-11', '2021-03-12', '2021-03-13', '2021-03-14',\n",
       "       '2021-03-15', '2021-03-16', '2021-03-17', '2021-03-18',\n",
       "       '2021-03-19', '2021-03-20', '2021-03-21', '2021-03-22',\n",
       "       '2021-03-23', '2021-03-24', '2021-03-25', '2021-03-26',\n",
       "       '2021-03-27', '2021-03-28', '2021-03-29', '2021-03-30',\n",
       "       '2021-03-31', '2021-04-01', '2021-04-02', '2021-04-03',\n",
       "       '2021-04-04', '2021-04-05', '2021-04-06'], dtype=object)"
      ]
     },
     "execution_count": 28,
     "metadata": {},
     "output_type": "execute_result"
    }
   ],
   "source": [
    "df['Fecha'].unique()"
   ]
  },
  {
   "cell_type": "markdown",
   "metadata": {},
   "source": [
    "veamos las  columnas de interés:"
   ]
  },
  {
   "cell_type": "code",
   "execution_count": 29,
   "metadata": {},
   "outputs": [
    {
     "data": {
      "text/plain": [
       "Index(['Fecha', 'Unidad', 'COD_CCAA', 'CCAA', 'Cod_Provincia', 'Provincia',\n",
       "       'TOTAL_CAMAS', 'OCUPADAS_COVID19', 'OCUPADAS_NO_COVID19'],\n",
       "      dtype='object')"
      ]
     },
     "execution_count": 29,
     "metadata": {},
     "output_type": "execute_result"
    }
   ],
   "source": [
    "df.columns"
   ]
  },
  {
   "cell_type": "code",
   "execution_count": 30,
   "metadata": {},
   "outputs": [
    {
     "data": {
      "text/plain": [
       "array(['Hospitalización convencional', 'U. Críticas CON respirador',\n",
       "       'U. Críticas SIN respirador'], dtype=object)"
      ]
     },
     "execution_count": 30,
     "metadata": {},
     "output_type": "execute_result"
    }
   ],
   "source": [
    "df.Unidad.unique()"
   ]
  },
  {
   "cell_type": "code",
   "execution_count": 31,
   "metadata": {},
   "outputs": [
    {
     "data": {
      "text/plain": [
       "array(['ISLAS CANARIAS', 'EXTREMADURA', 'ANDALUCÍA', 'CASTILLA LA MANCHA',\n",
       "       'NAVARRA', 'PAÍS VASCO', 'MELILLA', 'CASTILLA Y LEÓN', 'ARAGÓN',\n",
       "       'GALICIA', 'CANTABRIA', 'CATALUÑA', 'COMUNIDAD VALENCIANA',\n",
       "       'MURCIA', 'LA RIOJA', 'ASTURIAS', 'ISLAS BALEARES', 'MADRID',\n",
       "       'CEUTA'], dtype=object)"
      ]
     },
     "execution_count": 31,
     "metadata": {},
     "output_type": "execute_result"
    }
   ],
   "source": [
    "df.CCAA.unique()"
   ]
  },
  {
   "cell_type": "markdown",
   "metadata": {},
   "source": [
    "Parece que es ok, no hay nombres duplicados (muy usual que cambie algún acento por ejemplo)"
   ]
  },
  {
   "cell_type": "markdown",
   "metadata": {},
   "source": [
    "Convertimos la columna `fecha` en datetime"
   ]
  },
  {
   "cell_type": "code",
   "execution_count": 34,
   "metadata": {},
   "outputs": [],
   "source": [
    "df['Fecha'] = pd.to_datetime(df['Fecha'],format='%Y-%m-%d')"
   ]
  },
  {
   "cell_type": "markdown",
   "metadata": {},
   "source": [
    "y vamos añadir dos columnas adicionales `hola` : \n",
    "- `porcentaje_total`:  `OCUPADAS_COVID19`+`OCUPADAS_NO_COVID19` / `TOTAL_CAMAS` \n",
    "- `porcentaje_covid`: `OCUPADAS_COVID19`/ `TOTAL_CAMAS`"
   ]
  },
  {
   "cell_type": "code",
   "execution_count": 35,
   "metadata": {},
   "outputs": [
    {
     "data": {
      "text/plain": [
       "True"
      ]
     },
     "execution_count": 35,
     "metadata": {},
     "output_type": "execute_result"
    }
   ],
   "source": [
    "(df['Provincia']=='Madrid').any()"
   ]
  },
  {
   "cell_type": "code",
   "execution_count": 36,
   "metadata": {},
   "outputs": [],
   "source": [
    "provincias = sorted(list(df['Provincia'].unique()))\n",
    "provincias.insert(0,provincias.pop(-1))"
   ]
  },
  {
   "cell_type": "code",
   "execution_count": null,
   "metadata": {},
   "outputs": [],
   "source": [
    "fechas = df['Fecha'].unique()\n",
    "unidades = df['Unidad'].unique()\n",
    "for i in itertools.product(fechas,provincias,unidades):\n",
    "    if ((df['Fecha']==i[0])&(df['Provincia']==i[1])&(df['Unidad']==i[2])).any():\n",
    "        pass\n",
    "    else:\n",
    "        print (i)\n",
    "        df=df.append({\n",
    "            'Fecha':i[0],\n",
    "            'Provincia':i[1],\n",
    "            'Unidad':i[2],\n",
    "            'TOTAL_CAMAS':np.NaN,\n",
    "            'OCUPADAS_COVID19':np.NaN,\n",
    "            'OCUPADAS_COVID19':np.NaN\n",
    "        },\n",
    "            ignore_index=True\n",
    "        )"
   ]
  },
  {
   "cell_type": "code",
   "execution_count": null,
   "metadata": {},
   "outputs": [],
   "source": [
    "df.tail()"
   ]
  },
  {
   "cell_type": "code",
   "execution_count": null,
   "metadata": {},
   "outputs": [],
   "source": [
    "df[df['Provincia']=='Palencia'].sort_values('Fecha')"
   ]
  },
  {
   "cell_type": "code",
   "execution_count": null,
   "metadata": {},
   "outputs": [],
   "source": [
    "df['porcentaje_total'] = 100*(df['OCUPADAS_COVID19']+df['OCUPADAS_NO_COVID19'])/df['TOTAL_CAMAS']\n",
    "df['porcentaje_covid'] = 100*(df['OCUPADAS_COVID19'])/df['TOTAL_CAMAS']"
   ]
  },
  {
   "cell_type": "code",
   "execution_count": null,
   "metadata": {},
   "outputs": [],
   "source": [
    "df=df.fillna(0)"
   ]
  },
  {
   "cell_type": "markdown",
   "metadata": {},
   "source": [
    "# Gráficos"
   ]
  },
  {
   "cell_type": "markdown",
   "metadata": {},
   "source": [
    " A continuación vamos a crear un gráfico múltiple que nos permita visualizar cada una de las columnas con datos numéricos. Ello nos permitirá"
   ]
  },
  {
   "cell_type": "markdown",
   "metadata": {},
   "source": [
    "Preparemos un gráfico tipo [Facetgrid](https://seaborn.pydata.org/generated/seaborn.FacetGrid.html), al que añadiremos tantos gráficos como provincias, presentando una de las columnas de datos. Elegimos nº de hospitalizados por 100.000 habitantes. Dejo otras claves con `#` para que fácilmente se puedan generar. Este ejemplo esta basado en el código del link anterior."
   ]
  },
  {
   "cell_type": "code",
   "execution_count": null,
   "metadata": {},
   "outputs": [],
   "source": [
    "datos1 = pd.melt(df[df['Unidad']=='Hospitalización convencional'], id_vars=['Fecha','Provincia'],value_vars=['porcentaje_total','porcentaje_covid'])"
   ]
  },
  {
   "cell_type": "code",
   "execution_count": null,
   "metadata": {},
   "outputs": [],
   "source": [
    "sns.plotting_context('paper', font_scale = 1.3)\n",
    "g = sns.FacetGrid(datos1,col='Provincia',hue='variable',col_wrap=4,aspect=2.5, \n",
    "                      margin_titles=False,height=1.3,sharey=True,col_order=provincias,palette=['Black','Blue'])\n",
    "g.map_dataframe(sns.scatterplot, x=\"Fecha\", y=\"value\",s=2)\n",
    "\n",
    "# Título\n",
    "unidad = 'Hospitalización convencional'\n",
    "#unidad = 'U. Críticas CON respirador'\n",
    "#unidad = 'U. Críticas SIN respirador'\n",
    "titulo1 = 'Ocupación de {}, por COVID(Rojo) y Total(Negro) a fecha {}'.format(unidad,hoy_string)\n",
    "titulo2 = 'Fuente : {}'.format(data_path)\n",
    "\n",
    "color_ejes = 'black'\n",
    "color_titulos = 'black'\n",
    "color_total='black'\n",
    "color_covid='red'\n",
    "\n",
    "g.set_titles(row_template=\"{row_name}\", col_template=\"{col_name}\",size=18)\n",
    "XmajorFmt = DateFormatter('%-d%-b')\n",
    "fmt = '%.0f%%' # Format you want the ticks, e.g. '40%'\n",
    "yticks = ticker.FormatStrFormatter(fmt)\n",
    "for ax in g.axes.flat:\n",
    "    \n",
    "    ax.yaxis.set_major_formatter(yticks)\n",
    "    ax.yaxis.set_tick_params(labelsize=10,width=0,labelcolor=color_ejes)\n",
    "    #a1.yaxis.set_major_locator(plt.MaxNLocator(5))\n",
    "    ax.xaxis.set_tick_params(labelsize=10,width=0,labelcolor=color_ejes,rotation=0)\n",
    "    ax.xaxis.set_major_formatter(XmajorFmt)\n",
    "    ax.set_yticks([0,25,50,75,100])\n",
    "    ax.xaxis.set_major_locator(DayLocator([1]))\n",
    "    ax.grid(True,axis='both',which='both')\n",
    "   \n",
    "\n",
    "\n",
    "#plt.legend()\n",
    "#g.set(yticks=[])\n",
    "g.set(xlabel='')\n",
    "\n",
    "g.despine(bottom=True, left=True)\n",
    "g.fig.suptitle('{}'.format(titulo1),fontsize=22,color=color_titulos)\n",
    "#g.fig.text(x=.4,y=.05,s='ROJO: CAMAS UCI COVID vs UCI TOTALES',color='red',fontsize=18)\n",
    "#g.fig.text(x=.4,y=.1,s='AZUL: CAMAS HOSP COVID vs CAMAS TOTALES',color='navy',fontsize=18)\n",
    "g.fig.text(x=0.05,y=.1,s=titulo2,color=color_titulos,fontsize=12,ha='left')\n",
    "g.fig.text(x=0.05,y=.085,s=autor,color=color_titulos,fontsize=12)\n",
    "g.fig.subplots_adjust(top=.92,bottom=.14,wspace=0.0,hspace=0.45)\n",
    "#plt.tight_layout()\n",
    "plt.savefig(img_path+unidad+'_provincias.png',dpi=288)  \n",
    "\n",
    "plt.show()\n"
   ]
  },
  {
   "cell_type": "markdown",
   "metadata": {},
   "source": [
    "# Graficos de UCI acumulados con respirador y sin respirador"
   ]
  },
  {
   "cell_type": "code",
   "execution_count": null,
   "metadata": {},
   "outputs": [],
   "source": [
    "datos2 = df.copy()"
   ]
  },
  {
   "cell_type": "code",
   "execution_count": null,
   "metadata": {},
   "outputs": [],
   "source": [
    "for i in itertools.product(fechas,provincias):\n",
    "    \n",
    "    \n",
    "    \n",
    "    camas_sin = datos2.loc[(datos2['Fecha']==i[0])&(datos2['Provincia']==i[1])&(datos2['Unidad']==\\\n",
    "                                                'U. Críticas SIN respirador')]['TOTAL_CAMAS'].values[0]\n",
    "    camas_con = datos2.loc[(datos2['Fecha']==i[0])&(datos2['Provincia']==i[1])&(datos2['Unidad']==\\\n",
    "                                                'U. Críticas CON respirador')]['TOTAL_CAMAS'].values[0]\n",
    "    ocupadas_covid_sin = datos2.loc[(datos2['Fecha']==i[0])&(datos2['Provincia']==i[1])&(datos2['Unidad']==\\\n",
    "                                                'U. Críticas SIN respirador')]['OCUPADAS_COVID19'].values[0]\n",
    "    ocupadas_covid_con = datos2.loc[(datos2['Fecha']==i[0])&(datos2['Provincia']==i[1])&(datos2['Unidad']==\\\n",
    "                                                'U. Críticas CON respirador')]['OCUPADAS_COVID19'].values[0]\n",
    "    ocupadas_no_covid_sin = datos2.loc[(datos2['Fecha']==i[0])&(datos2['Provincia']==i[1])&(datos2['Unidad']==\\\n",
    "                                                'U. Críticas SIN respirador')]['OCUPADAS_NO_COVID19'].values[0]\n",
    "    ocupadas_no_covid_con = datos2.loc[(datos2['Fecha']==i[0])&(datos2['Provincia']==i[1])&(datos2['Unidad']==\\\n",
    "                                                'U. Críticas CON respirador')]['OCUPADAS_NO_COVID19'].values[0]\n",
    "    datos2=datos2.append({\n",
    "        'Fecha':i[0],\n",
    "        'Provincia':i[1],\n",
    "        'TOTAL_CAMAS':camas_sin+camas_con,\n",
    "        'OCUPADAS_NO_COVID19':ocupadas_no_covid_sin+ocupadas_no_covid_con,\n",
    "        'OCUPADAS_COVID19':ocupadas_covid_sin+ocupadas_covid_con,\n",
    "        'Unidad':'U. Crítica Total'\n",
    "        \n",
    "    },ignore_index=True)"
   ]
  },
  {
   "cell_type": "code",
   "execution_count": null,
   "metadata": {},
   "outputs": [],
   "source": [
    "datos2['porcentaje_total'] = 100*(datos2['OCUPADAS_COVID19']+datos2['OCUPADAS_NO_COVID19'])/datos2['TOTAL_CAMAS']\n",
    "datos2['porcentaje_covid'] = 100*datos2['OCUPADAS_COVID19']/datos2['TOTAL_CAMAS']\n",
    "datos2=datos2.fillna(0)"
   ]
  },
  {
   "cell_type": "code",
   "execution_count": null,
   "metadata": {},
   "outputs": [],
   "source": [
    "datos3 = datos2[datos2['Unidad']=='U. Crítica Total']"
   ]
  },
  {
   "cell_type": "code",
   "execution_count": null,
   "metadata": {},
   "outputs": [],
   "source": [
    "datos3 = pd.melt(datos3, id_vars=['Fecha','Provincia'],value_vars=['porcentaje_total','porcentaje_covid'])"
   ]
  },
  {
   "cell_type": "code",
   "execution_count": null,
   "metadata": {},
   "outputs": [],
   "source": [
    "sns.plotting_context('paper', font_scale = 1.3)\n",
    "g = sns.FacetGrid(datos3,col='Provincia',hue='variable',col_wrap=4,aspect=2.5, \n",
    "                      margin_titles=False,height=1.3,sharey=True,col_order=provincias,palette=['Black','Red'])\n",
    "g.map_dataframe(sns.scatterplot, x=\"Fecha\", y=\"value\",s=2)\n",
    "unidad = 'U. Crítica Total'\n",
    "titulo1 = 'Ocupación de {}, por COVID(Rojo) y Total(Negro) a fecha {}'.format(unidad,hoy_string)\n",
    "titulo2 = 'Fuente : {}'.format(data_path)\n",
    "color_ejes = 'black'\n",
    "color_titulos = 'black'\n",
    "color_total='black'\n",
    "color_covid='red'\n",
    "\n",
    "g.set_titles(row_template=\"{row_name}\", col_template=\"{col_name}\",size=18)\n",
    "XmajorFmt = DateFormatter('%-d%-b')\n",
    "fmt = '%.0f%%' # Format you want the ticks, e.g. '40%'\n",
    "yticks = ticker.FormatStrFormatter(fmt)\n",
    "for ax in g.axes.flat:\n",
    "    \n",
    "    ax.yaxis.set_major_formatter(yticks)\n",
    "    ax.yaxis.set_tick_params(labelsize=10,width=0,labelcolor=color_ejes)\n",
    "    #a1.yaxis.set_major_locator(plt.MaxNLocator(5))\n",
    "    ax.xaxis.set_tick_params(labelsize=10,width=0,labelcolor=color_ejes,rotation=0)\n",
    "    ax.xaxis.set_major_formatter(XmajorFmt)\n",
    "    ax.set_yticks([0,25,50,75,100])\n",
    "    ax.xaxis.set_major_locator(DayLocator([1]))\n",
    "    ax.grid(True,axis='both',which='both')\n",
    "   \n",
    "\n",
    "\n",
    "#plt.legend()\n",
    "#g.set(yticks=[])\n",
    "g.set(xlabel='')\n",
    "\n",
    "g.despine(bottom=True, left=True)\n",
    "g.fig.suptitle('{}'.format(titulo1),fontsize=22,color=color_titulos)\n",
    "#g.fig.text(x=.4,y=.05,s='ROJO: CAMAS UCI COVID vs UCI TOTALES',color='red',fontsize=18)\n",
    "#g.fig.text(x=.4,y=.1,s='AZUL: CAMAS HOSP COVID vs CAMAS TOTALES',color='navy',fontsize=18)\n",
    "g.fig.text(x=0.05,y=.1,s=titulo2,color=color_titulos,fontsize=12,ha='left')\n",
    "g.fig.text(x=0.05,y=.085,s=autor,color=color_titulos,fontsize=12)\n",
    "g.fig.subplots_adjust(top=.92,bottom=.14,wspace=0.0,hspace=0.45)\n",
    "#plt.tight_layout()\n",
    "plt.savefig(img_path+unidad+'_provincias.png',dpi=288)  \n",
    "\n",
    "plt.show()\n"
   ]
  },
  {
   "cell_type": "code",
   "execution_count": null,
   "metadata": {},
   "outputs": [],
   "source": []
  },
  {
   "cell_type": "code",
   "execution_count": null,
   "metadata": {},
   "outputs": [],
   "source": []
  }
 ],
 "metadata": {
  "kernelspec": {
   "display_name": "Python 3",
   "language": "python",
   "name": "python3"
  },
  "language_info": {
   "codemirror_mode": {
    "name": "ipython",
    "version": 3
   },
   "file_extension": ".py",
   "mimetype": "text/x-python",
   "name": "python",
   "nbconvert_exporter": "python",
   "pygments_lexer": "ipython3",
   "version": "3.8.5"
  }
 },
 "nbformat": 4,
 "nbformat_minor": 2
}
