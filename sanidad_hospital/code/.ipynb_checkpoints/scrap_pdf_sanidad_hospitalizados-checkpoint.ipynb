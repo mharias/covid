{
 "cells": [
  {
   "cell_type": "markdown",
   "metadata": {},
   "source": [
    "# Descarga de datos de hospitalizados desde Sanidad"
   ]
  },
  {
   "cell_type": "markdown",
   "metadata": {},
   "source": [
    "## Objetivo"
   ]
  },
  {
   "cell_type": "markdown",
   "metadata": {},
   "source": [
    "Vamos a hacer una lectura de los datos de hospitalizados publicados en los informes diarios de datos de Covid19 publicados por Sanidad. Este es un [ejemplo](https://www.mscbs.gob.es/profesionales/saludPublica/ccayes/alertasActual/nCov/documentos/Actualizacion_265_COVID-19.pdf) en página 3,  publicado del 4 de Diciembre 2020.\n",
    "  \n",
    "Manuel H. Arias  \n",
    "[@walyt](https://twitter.com/walyt)  \n",
    "\n",
    "[#escovid19data](https://github.com/montera34/escovid19data)\n",
    "\n",
    "versión definitiva documentada, para ser publicar en el repo\n",
    "\n",
    "[@walyt](https://twitter.com/walyt)"
   ]
  },
  {
   "cell_type": "markdown",
   "metadata": {},
   "source": [
    "## Código"
   ]
  },
  {
   "cell_type": "markdown",
   "metadata": {},
   "source": [
    "Tenemos un montón de librerias con las que vamos a trabajar, no he tenido ningún problema en instalar aquellas no disponibles en el entorno Anaconda con el que trabajo por medio de `pip install libreria` realizado desde un terminal abierto desde el entorno `env`."
   ]
  },
  {
   "cell_type": "code",
   "execution_count": 1,
   "metadata": {},
   "outputs": [],
   "source": [
    "import os.path as pth\n",
    "import datetime as dt\n",
    "import time\n",
    "from glob import glob\n",
    "import re\n",
    "import pandas as pd\n",
    "import numpy as np\n",
    "\n",
    "import requests\n",
    "from shutil import copyfile\n",
    "\n",
    "import matplotlib.pyplot as plt\n",
    "from matplotlib.ticker import FuncFormatter\n",
    "from matplotlib import cm\n",
    "import matplotlib.dates as mdates\n",
    "import matplotlib.ticker as ticker\n",
    "from matplotlib.dates import (YEARLY, MONTHLY, DateFormatter, WeekdayLocator, MonthLocator,DayLocator,\n",
    "                              rrulewrapper, RRuleLocator, drange)\n",
    "import seaborn as sns\n",
    "import matplotlib.colors as colors\n",
    "\n",
    "import numpy as np\n",
    "from datetime import datetime,timedelta\n",
    "import seaborn as sns\n",
    "%matplotlib inline\n",
    "\n",
    "import fitz\n",
    "# https://pypi.org/project/PyMuPDF/#description"
   ]
  },
  {
   "cell_type": "markdown",
   "metadata": {},
   "source": [
    "Preparamos las expresiones regulares que nos ayudarán en la interpretación de la información que sacamos de los pdf."
   ]
  },
  {
   "cell_type": "markdown",
   "metadata": {},
   "source": [
    "Definimos variables que nos ayuden en la gestión de los nombres de los ficheros."
   ]
  },
  {
   "cell_type": "code",
   "execution_count": 2,
   "metadata": {},
   "outputs": [],
   "source": [
    "fuente_ficheros_pdf_sanidad = '/Users/mharias/documents/proyectos/covid/sanidad_fallecidos/pdfs_sanidad/'\n",
    "dir_csv = '/Users/mharias/documents/proyectos/covid/sanidad_hospital/data/'\n",
    "URL_reg='https://www.mscbs.gob.es/profesionales/saludPublica/ccayes/alertasActual/nCov/documentos/Actualizacion_{:02d}_COVID-19.pdf'"
   ]
  },
  {
   "cell_type": "markdown",
   "metadata": {},
   "source": [
    "## Descarga de los ficheros de Sanidad"
   ]
  },
  {
   "cell_type": "markdown",
   "metadata": {},
   "source": [
    "### Función de para descargar un fichero pdf, copiada del script de [@alfonsotwr](https://github.com/alfonsotwr/snippets/tree/master/covidia-cam)"
   ]
  },
  {
   "cell_type": "code",
   "execution_count": 3,
   "metadata": {},
   "outputs": [],
   "source": [
    "def descarga(url,num):\n",
    "    print('Descargando:', url)\n",
    "    fn=fuente_ficheros_pdf_sanidad+str(num)+'.pdf'\n",
    "    headers = {'User-Agent': 'Mozilla/5.0 (Macintosh; Intel Mac OS X 10_10_1) AppleWebKit/537.36 (KHTML, like Gecko) Chrome/39.0.2171.95 Safari/537.36'}\n",
    "    with requests.Session() as s:\n",
    "        r = s.get(url, headers=headers)\n",
    "    if r.status_code == requests.codes.ok:\n",
    "        with open(fn, 'wb') as fp:\n",
    "                fp.write(r.content)\n",
    "    else:\n",
    "        print ('Error con el ',num)\n",
    "    return True"
   ]
  },
  {
   "cell_type": "markdown",
   "metadata": {},
   "source": [
    "### Descarga de un rango o de un solo pdf"
   ]
  },
  {
   "cell_type": "markdown",
   "metadata": {},
   "source": [
    "Descargamos el rango completo en el caso de que sea la primera vez. Arrancamos con el 77, pues no pude descifrar el formato de los pdf anteriores."
   ]
  },
  {
   "cell_type": "code",
   "execution_count": null,
   "metadata": {},
   "outputs": [],
   "source": [
    "for i in range(287,297):\n",
    "    descarga(URL_reg.format(i),i)"
   ]
  },
  {
   "cell_type": "markdown",
   "metadata": {},
   "source": [
    "### Descarga de un solo fichero"
   ]
  },
  {
   "cell_type": "markdown",
   "metadata": {},
   "source": [
    "Como ejemplo 266 corresponde al Viernes 4 Diciembre 2020, grabamos el fichero en el directorio local con el nº de orden del documento."
   ]
  },
  {
   "cell_type": "code",
   "execution_count": 4,
   "metadata": {},
   "outputs": [
    {
     "name": "stdout",
     "output_type": "stream",
     "text": [
      "Descargando: https://www.mscbs.gob.es/profesionales/saludPublica/ccayes/alertasActual/nCov/documentos/Actualizacion_316_COVID-19.pdf\n"
     ]
    },
    {
     "data": {
      "text/plain": [
       "True"
      ]
     },
     "execution_count": 4,
     "metadata": {},
     "output_type": "execute_result"
    }
   ],
   "source": [
    "descarga(URL_reg.format(316),316)"
   ]
  },
  {
   "cell_type": "markdown",
   "metadata": {},
   "source": [
    "## Parseado y preparación del pandas"
   ]
  },
  {
   "cell_type": "code",
   "execution_count": 25,
   "metadata": {},
   "outputs": [],
   "source": [
    "columnas = ['fecha','ccaa','Hosp_Totales','Hosp_7días','UCI_Totales','UCI_7dias','Hosp_actual','%CamasCovid',\n",
    "        'UCI_actual','%CamasUCI','Ingresos_24horas','Altas_24horas']\n",
    "datos = pd.DataFrame(columns=columnas)"
   ]
  },
  {
   "cell_type": "markdown",
   "metadata": {},
   "source": [
    "fichero auxiliar que mapea nº de informes con fechas....Mejora: automatizarlo"
   ]
  },
  {
   "cell_type": "code",
   "execution_count": 26,
   "metadata": {},
   "outputs": [],
   "source": [
    "claves={}\n",
    "indice=76\n",
    "rango= np.arange(datetime(2020,4,16),datetime.today(),timedelta(days=1)).astype(datetime)\n",
    "for day in rango:\n",
    "    if not (((day>datetime(2020,6,30))&(day.weekday() in [5,6])) |\\\n",
    "            (day==datetime(2020,12,6)) | (day==datetime(2020,12,8)) | (day==datetime(2020,12,25)) | \\\n",
    "           (day==datetime(2021,1,1)) | (day==datetime(2021,1,6))):\n",
    "        #print (day,i,)\n",
    "        indice+=1\n",
    "        claves[indice]=day.strftime('%-d/%-m/%Y')"
   ]
  },
  {
   "cell_type": "code",
   "execution_count": 27,
   "metadata": {},
   "outputs": [],
   "source": [
    "comunidades=['Andalucía','Aragón','Asturias','Baleares','Canarias','Cantabria','Castilla La Mancha',\n",
    "             'Castilla y León','Cataluña','Ceuta','C. Valenciana','Extremadura','Galicia',\n",
    "             'Madrid','Melilla','Murcia','Navarra','País Vasco','La Rioja']"
   ]
  },
  {
   "cell_type": "markdown",
   "metadata": {},
   "source": [
    "# antes 235"
   ]
  },
  {
   "cell_type": "code",
   "execution_count": 28,
   "metadata": {},
   "outputs": [],
   "source": [
    "rango_informes = np.concatenate([np.arange(88,137),np.arange(138,234)])\n",
    "#rango_informes = np.concatenate([np.arange(88,90)])\n",
    "\n",
    "for informe in rango_informes:\n",
    "    fn=fuente_ficheros_pdf_sanidad+str(informe)+'.pdf'\n",
    "    doc = fitz.open(fn)\n",
    "    page = doc.load_page(1)\n",
    "    text = page.get_text(opt)\n",
    "    \n",
    "    for comunidad in comunidades:\n",
    "        regexp = r'{}[*]* '.format(comunidad)+'((\\n\\d*[,.]?\\d+¥? ){6})'\n",
    "        regexp = r'{}[*]* '.format(comunidad)+'(((\\n\\d*[,.]?\\d+¥? )|(\\n- )){6})'\n",
    "        regexp = r'{}[*¥]* '.format(comunidad)+'(((\\n\\d*[,.]?\\d+¥? )|(\\n- )|(\\n )){6})'\n",
    "        cadena = re.search(regexp,text).group(0)  \n",
    "        #c1,c2,c3,c4,c5,c6 = re.search(regexp,text).group(1).replace('\\n','').split()\n",
    "        c1,c2,c3,c4,c5,c6 = re.search(regexp,text).group(1).split('\\n')[1:]\n",
    "        \n",
    "        datos = datos.append({'fecha':claves[informe],\n",
    "                                                 'ccaa':comunidad,'Hosp_Totales':c1,\n",
    "                                               'Hosp_7días':c2,'UCI_Totales':c3,\n",
    "                                                 'UCI_7dias':c4},ignore_index=True)\n",
    "        \n",
    "        \n",
    "        #print (informe,'--->',comunidad,c1,'-',c2,'-',c3,'-',c4,'-',c5,'-',c6)\n",
    "        #print (cadena)"
   ]
  },
  {
   "cell_type": "markdown",
   "metadata": {},
   "source": [
    "## desde 235"
   ]
  },
  {
   "cell_type": "code",
   "execution_count": 29,
   "metadata": {},
   "outputs": [],
   "source": [
    "rango = np.concatenate([np.arange(235,266),np.arange(267,317)])\n",
    "opt='text'\n",
    "for i in rango:\n",
    "    fn=fuente_ficheros_pdf_sanidad+str(i)+'.pdf'\n",
    "    doc = fitz.open(fn)\n",
    "    numero_pagina = 3 if i==282 else 2\n",
    "    page = doc.load_page(numero_pagina)\n",
    "    text = page.get_text(opt)\n",
    "    \n",
    "    for comunidad in comunidades:\n",
    "        regexp = r'{} '.format(comunidad)+'((\\n\\d*[,.]?\\d+¥? ){4})'+\\\n",
    "        '(\\n \\n(\\w+[ .\\w]*) )((\\n\\d*[,.]?\\d+¥? ))'+\\\n",
    "        '((\\n+\\d{1,2}[,]?\\d*% ))'+\\\n",
    "        '((\\n\\d*[,.]?\\d+¥? ))'+\\\n",
    "        '((\\n+\\d{1,2}[,]?\\d*% ))'+\\\n",
    "        '(((\\n\\d*[,.]?\\d+¥? )){2})'\n",
    "        pattern = re.compile(regexp)\n",
    "        c1,c2,c3,c4 = re.search(pattern,text).group(1).replace('\\n','').split()\n",
    "        c5 = re.search(pattern,text).group(6).replace('\\n','')\n",
    "        c6 = re.search(pattern,text).group(8).replace('\\n','')\n",
    "        c7 = re.search(pattern,text).group(9).replace('\\n','')\n",
    "        c8 = re.search(pattern,text).group(11).replace('\\n','')\n",
    "        c9, c10 = re.search(pattern,text).group(13).replace('\\n','').split()\n",
    "        \n",
    "        #print (i,'--->',comunidad,c1,'-',c2,'-',c3,'-',c4,'-',c5,'-',c6,'-',c7,'-',c8,'-',c9,'-',c10)\n",
    "        datos = datos.append({'fecha':claves[i],\n",
    "                                                 'ccaa':comunidad,'Hosp_Totales':c1,\n",
    "                                               'Hosp_7días':c2,'UCI_Totales':c3,\n",
    "                                                 'UCI_7dias':c4,'Hosp_actual':c5,\n",
    "                                                 '%CamasCovid':c6,'UCI_actual':c7,\n",
    "                                                 '%CamasUCI':c8,'Ingresos_24horas':c9,\n",
    "                                                 'Altas_24horas':c10},ignore_index=True)\n",
    "        "
   ]
  },
  {
   "cell_type": "code",
   "execution_count": 30,
   "metadata": {},
   "outputs": [
    {
     "data": {
      "text/html": [
       "<div>\n",
       "<style scoped>\n",
       "    .dataframe tbody tr th:only-of-type {\n",
       "        vertical-align: middle;\n",
       "    }\n",
       "\n",
       "    .dataframe tbody tr th {\n",
       "        vertical-align: top;\n",
       "    }\n",
       "\n",
       "    .dataframe thead th {\n",
       "        text-align: right;\n",
       "    }\n",
       "</style>\n",
       "<table border=\"1\" class=\"dataframe\">\n",
       "  <thead>\n",
       "    <tr style=\"text-align: right;\">\n",
       "      <th></th>\n",
       "      <th>fecha</th>\n",
       "      <th>ccaa</th>\n",
       "      <th>Hosp_Totales</th>\n",
       "      <th>Hosp_7días</th>\n",
       "      <th>UCI_Totales</th>\n",
       "      <th>UCI_7dias</th>\n",
       "      <th>Hosp_actual</th>\n",
       "      <th>%CamasCovid</th>\n",
       "      <th>UCI_actual</th>\n",
       "      <th>%CamasUCI</th>\n",
       "      <th>Ingresos_24horas</th>\n",
       "      <th>Altas_24horas</th>\n",
       "    </tr>\n",
       "  </thead>\n",
       "  <tbody>\n",
       "    <tr>\n",
       "      <th>0</th>\n",
       "      <td>27/4/2020</td>\n",
       "      <td>Andalucía</td>\n",
       "      <td>5.768</td>\n",
       "      <td>20</td>\n",
       "      <td>720</td>\n",
       "      <td>4</td>\n",
       "      <td>NaN</td>\n",
       "      <td>NaN</td>\n",
       "      <td>NaN</td>\n",
       "      <td>NaN</td>\n",
       "      <td>NaN</td>\n",
       "      <td>NaN</td>\n",
       "    </tr>\n",
       "    <tr>\n",
       "      <th>1</th>\n",
       "      <td>27/4/2020</td>\n",
       "      <td>Aragón</td>\n",
       "      <td>2.403</td>\n",
       "      <td>8</td>\n",
       "      <td>257</td>\n",
       "      <td>0</td>\n",
       "      <td>NaN</td>\n",
       "      <td>NaN</td>\n",
       "      <td>NaN</td>\n",
       "      <td>NaN</td>\n",
       "      <td>NaN</td>\n",
       "      <td>NaN</td>\n",
       "    </tr>\n",
       "    <tr>\n",
       "      <th>2</th>\n",
       "      <td>27/4/2020</td>\n",
       "      <td>Asturias</td>\n",
       "      <td>1.814</td>\n",
       "      <td>24</td>\n",
       "      <td>137</td>\n",
       "      <td>3</td>\n",
       "      <td>NaN</td>\n",
       "      <td>NaN</td>\n",
       "      <td>NaN</td>\n",
       "      <td>NaN</td>\n",
       "      <td>NaN</td>\n",
       "      <td>NaN</td>\n",
       "    </tr>\n",
       "    <tr>\n",
       "      <th>3</th>\n",
       "      <td>27/4/2020</td>\n",
       "      <td>Baleares</td>\n",
       "      <td>1.062</td>\n",
       "      <td>0</td>\n",
       "      <td>166</td>\n",
       "      <td>0</td>\n",
       "      <td>NaN</td>\n",
       "      <td>NaN</td>\n",
       "      <td>NaN</td>\n",
       "      <td>NaN</td>\n",
       "      <td>NaN</td>\n",
       "      <td>NaN</td>\n",
       "    </tr>\n",
       "    <tr>\n",
       "      <th>4</th>\n",
       "      <td>27/4/2020</td>\n",
       "      <td>Canarias</td>\n",
       "      <td>881</td>\n",
       "      <td>1</td>\n",
       "      <td>171</td>\n",
       "      <td>0</td>\n",
       "      <td>NaN</td>\n",
       "      <td>NaN</td>\n",
       "      <td>NaN</td>\n",
       "      <td>NaN</td>\n",
       "      <td>NaN</td>\n",
       "      <td>NaN</td>\n",
       "    </tr>\n",
       "    <tr>\n",
       "      <th>...</th>\n",
       "      <td>...</td>\n",
       "      <td>...</td>\n",
       "      <td>...</td>\n",
       "      <td>...</td>\n",
       "      <td>...</td>\n",
       "      <td>...</td>\n",
       "      <td>...</td>\n",
       "      <td>...</td>\n",
       "      <td>...</td>\n",
       "      <td>...</td>\n",
       "      <td>...</td>\n",
       "      <td>...</td>\n",
       "    </tr>\n",
       "    <tr>\n",
       "      <th>4289</th>\n",
       "      <td>19/2/2021</td>\n",
       "      <td>Melilla</td>\n",
       "      <td>474</td>\n",
       "      <td>6</td>\n",
       "      <td>72</td>\n",
       "      <td>1</td>\n",
       "      <td>25</td>\n",
       "      <td>13,74%</td>\n",
       "      <td>5</td>\n",
       "      <td>29,41%</td>\n",
       "      <td>2</td>\n",
       "      <td>2</td>\n",
       "    </tr>\n",
       "    <tr>\n",
       "      <th>4290</th>\n",
       "      <td>19/2/2021</td>\n",
       "      <td>Murcia</td>\n",
       "      <td>8.362</td>\n",
       "      <td>106</td>\n",
       "      <td>1.072</td>\n",
       "      <td>15</td>\n",
       "      <td>377</td>\n",
       "      <td>9,13%</td>\n",
       "      <td>109</td>\n",
       "      <td>22,43%</td>\n",
       "      <td>25</td>\n",
       "      <td>39</td>\n",
       "    </tr>\n",
       "    <tr>\n",
       "      <th>4291</th>\n",
       "      <td>19/2/2021</td>\n",
       "      <td>Navarra</td>\n",
       "      <td>5.097</td>\n",
       "      <td>54</td>\n",
       "      <td>440</td>\n",
       "      <td>6</td>\n",
       "      <td>112</td>\n",
       "      <td>5,77%</td>\n",
       "      <td>23</td>\n",
       "      <td>17,56%</td>\n",
       "      <td>7</td>\n",
       "      <td>6</td>\n",
       "    </tr>\n",
       "    <tr>\n",
       "      <th>4292</th>\n",
       "      <td>19/2/2021</td>\n",
       "      <td>País Vasco</td>\n",
       "      <td>12.215</td>\n",
       "      <td>83</td>\n",
       "      <td>1.023</td>\n",
       "      <td>12</td>\n",
       "      <td>664</td>\n",
       "      <td>13,21%</td>\n",
       "      <td>152</td>\n",
       "      <td>33,26%</td>\n",
       "      <td>68</td>\n",
       "      <td>85</td>\n",
       "    </tr>\n",
       "    <tr>\n",
       "      <th>4293</th>\n",
       "      <td>19/2/2021</td>\n",
       "      <td>La Rioja</td>\n",
       "      <td>3.154</td>\n",
       "      <td>31</td>\n",
       "      <td>351</td>\n",
       "      <td>1</td>\n",
       "      <td>108</td>\n",
       "      <td>12,90%</td>\n",
       "      <td>33</td>\n",
       "      <td>37,93%</td>\n",
       "      <td>3</td>\n",
       "      <td>13</td>\n",
       "    </tr>\n",
       "  </tbody>\n",
       "</table>\n",
       "<p>4294 rows × 12 columns</p>\n",
       "</div>"
      ],
      "text/plain": [
       "          fecha        ccaa Hosp_Totales Hosp_7días UCI_Totales UCI_7dias  \\\n",
       "0     27/4/2020   Andalucía       5.768         20         720         4    \n",
       "1     27/4/2020      Aragón       2.403          8         257         0    \n",
       "2     27/4/2020    Asturias       1.814         24         137         3    \n",
       "3     27/4/2020    Baleares       1.062          0         166         0    \n",
       "4     27/4/2020    Canarias         881          1         171         0    \n",
       "...         ...         ...          ...        ...         ...       ...   \n",
       "4289  19/2/2021     Melilla          474          6          72         1   \n",
       "4290  19/2/2021      Murcia        8.362        106       1.072        15   \n",
       "4291  19/2/2021     Navarra        5.097         54         440         6   \n",
       "4292  19/2/2021  País Vasco       12.215         83       1.023        12   \n",
       "4293  19/2/2021    La Rioja        3.154         31         351         1   \n",
       "\n",
       "     Hosp_actual %CamasCovid UCI_actual %CamasUCI Ingresos_24horas  \\\n",
       "0            NaN         NaN        NaN       NaN              NaN   \n",
       "1            NaN         NaN        NaN       NaN              NaN   \n",
       "2            NaN         NaN        NaN       NaN              NaN   \n",
       "3            NaN         NaN        NaN       NaN              NaN   \n",
       "4            NaN         NaN        NaN       NaN              NaN   \n",
       "...          ...         ...        ...       ...              ...   \n",
       "4289         25      13,74%          5    29,41%                 2   \n",
       "4290        377       9,13%        109    22,43%                25   \n",
       "4291        112       5,77%         23    17,56%                 7   \n",
       "4292        664      13,21%        152    33,26%                68   \n",
       "4293        108      12,90%         33    37,93%                 3   \n",
       "\n",
       "     Altas_24horas  \n",
       "0              NaN  \n",
       "1              NaN  \n",
       "2              NaN  \n",
       "3              NaN  \n",
       "4              NaN  \n",
       "...            ...  \n",
       "4289             2  \n",
       "4290            39  \n",
       "4291             6  \n",
       "4292            85  \n",
       "4293            13  \n",
       "\n",
       "[4294 rows x 12 columns]"
      ]
     },
     "execution_count": 30,
     "metadata": {},
     "output_type": "execute_result"
    }
   ],
   "source": [
    "datos"
   ]
  },
  {
   "cell_type": "code",
   "execution_count": null,
   "metadata": {},
   "outputs": [],
   "source": [
    "datos.to_csv(dir_csv+'datos_sanidad_hosp.csv',index=False,index_label=False)"
   ]
  }
 ],
 "metadata": {
  "kernelspec": {
   "display_name": "Python 3",
   "language": "python",
   "name": "python3"
  },
  "language_info": {
   "codemirror_mode": {
    "name": "ipython",
    "version": 3
   },
   "file_extension": ".py",
   "mimetype": "text/x-python",
   "name": "python",
   "nbconvert_exporter": "python",
   "pygments_lexer": "ipython3",
   "version": "3.8.5"
  }
 },
 "nbformat": 4,
 "nbformat_minor": 4
}
