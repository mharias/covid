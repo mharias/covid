{
 "cells": [
  {
   "cell_type": "markdown",
   "metadata": {},
   "source": [
    "# Descarga de datos de Fallecimientos desde Sanidad"
   ]
  },
  {
   "cell_type": "markdown",
   "metadata": {},
   "source": [
    "## Objetivo"
   ]
  },
  {
   "cell_type": "markdown",
   "metadata": {},
   "source": [
    "Vamos a hacer una lectura de los datos de hospitalizados publicados en los informes diarios de datos de Covid19 publicados por Sanidad. Este es un [ejemplo](https://www.mscbs.gob.es/profesionales/saludPublica/ccayes/alertasActual/nCov/documentos/Actualizacion_265_COVID-19.pdf) en página 3,  publicado del 4 de Diciembre 2020.\n",
    "  \n",
    "Manuel H. Arias  \n",
    "[@walyt](https://twitter.com/walyt)  \n",
    "\n",
    "[#escovid19data](https://github.com/montera34/escovid19data)\n",
    "\n",
    "versión definitiva documentada, para ser publicar en el repo\n",
    "\n",
    "[@walyt](https://twitter.com/walyt)"
   ]
  },
  {
   "cell_type": "markdown",
   "metadata": {},
   "source": [
    "## Código"
   ]
  },
  {
   "cell_type": "markdown",
   "metadata": {},
   "source": [
    "Tenemos un montón de librerias con las que vamos a trabajar, no he tenido ningún problema en instalar aquellas no disponibles en el entorno Anaconda con el que trabajo por medio de `pip install libreria` realizado desde un terminal abierto desde el entorno `env`."
   ]
  },
  {
   "cell_type": "code",
   "execution_count": 8,
   "metadata": {},
   "outputs": [],
   "source": [
    "import os.path as pth\n",
    "import datetime as dt\n",
    "import time\n",
    "from glob import glob\n",
    "import re\n",
    "import pandas as pd\n",
    "import numpy as np\n",
    "\n",
    "import requests\n",
    "from shutil import copyfile\n",
    "\n",
    "import matplotlib.pyplot as plt\n",
    "from matplotlib.ticker import FuncFormatter\n",
    "from matplotlib import cm\n",
    "import matplotlib.dates as mdates\n",
    "import matplotlib.ticker as ticker\n",
    "from matplotlib.dates import (YEARLY, MONTHLY, DateFormatter, WeekdayLocator, MonthLocator,DayLocator,\n",
    "                              rrulewrapper, RRuleLocator, drange)\n",
    "import seaborn as sns\n",
    "import matplotlib.colors as colors\n",
    "\n",
    "import numpy as np\n",
    "from datetime import datetime\n",
    "import seaborn as sns\n",
    "%matplotlib inline\n",
    "\n",
    "import fitz\n",
    "# https://pypi.org/project/PyMuPDF/#description"
   ]
  },
  {
   "cell_type": "markdown",
   "metadata": {},
   "source": [
    "Preparamos las expresiones regulares que nos ayudarán en la interpretación de la información que sacamos de los pdf."
   ]
  },
  {
   "cell_type": "markdown",
   "metadata": {},
   "source": [
    "Definimos variables que nos ayuden en la gestión de los nombres de los ficheros."
   ]
  },
  {
   "cell_type": "code",
   "execution_count": 31,
   "metadata": {},
   "outputs": [],
   "source": [
    "\n",
    "fuente_ficheros_pdf_sanidad = '/Users/mharias/documents/proyectos/covid/scrap_sanidad/datos_sanidad/'\n",
    "dir_csv = '/Users/mharias/documents/proyectos/covid/sanidad_hospital/data/'\n",
    "URL_reg='https://www.mscbs.gob.es/profesionales/saludPublica/ccayes/alertasActual/nCov/documentos/Actualizacion_{:02d}_COVID-19.pdf'"
   ]
  },
  {
   "cell_type": "markdown",
   "metadata": {},
   "source": [
    "## Descarga de los ficheros de Sanidad"
   ]
  },
  {
   "cell_type": "markdown",
   "metadata": {},
   "source": [
    "### Función de para descargar un fichero pdf, copiada del script de [@alfonsotwr](https://github.com/alfonsotwr/snippets/tree/master/covidia-cam)"
   ]
  },
  {
   "cell_type": "code",
   "execution_count": 10,
   "metadata": {},
   "outputs": [],
   "source": [
    "def descarga(url,num):\n",
    "    print('Descargando:', url)\n",
    "    fn=dfuentes_ficheros_pdf_sanidad+str(num)+'.pdf'\n",
    "    headers = {'User-Agent': 'Mozilla/5.0 (Macintosh; Intel Mac OS X 10_10_1) AppleWebKit/537.36 (KHTML, like Gecko) Chrome/39.0.2171.95 Safari/537.36'}\n",
    "    with requests.Session() as s:\n",
    "        r = s.get(url, headers=headers)\n",
    "    if r.status_code == requests.codes.ok:\n",
    "        with open(fn, 'wb') as fp:\n",
    "                fp.write(r.content)\n",
    "    else:\n",
    "        print ('Error con el ',num)\n",
    "    return True"
   ]
  },
  {
   "cell_type": "markdown",
   "metadata": {},
   "source": [
    "### Descarga de un rango o de un solo pdf"
   ]
  },
  {
   "cell_type": "markdown",
   "metadata": {},
   "source": [
    "Descargamos el rango completo en el caso de que sea la primera vez. Arrancamos con el 77, pues no pude descifrar el formato de los pdf anteriores."
   ]
  },
  {
   "cell_type": "code",
   "execution_count": 11,
   "metadata": {},
   "outputs": [
    {
     "name": "stdout",
     "output_type": "stream",
     "text": [
      "Descargando: https://www.mscbs.gob.es/profesionales/saludPublica/ccayes/alertasActual/nCov/documentos/Actualizacion_287_COVID-19.pdf\n"
     ]
    },
    {
     "ename": "NameError",
     "evalue": "name 'dfuentes_ficheros_pdf_sanidad' is not defined",
     "output_type": "error",
     "traceback": [
      "\u001b[0;31m---------------------------------------------------------------------------\u001b[0m",
      "\u001b[0;31mNameError\u001b[0m                                 Traceback (most recent call last)",
      "\u001b[0;32m<ipython-input-11-6eb2d42947d1>\u001b[0m in \u001b[0;36m<module>\u001b[0;34m\u001b[0m\n\u001b[1;32m      1\u001b[0m \u001b[0;32mfor\u001b[0m \u001b[0mi\u001b[0m \u001b[0;32min\u001b[0m \u001b[0mrange\u001b[0m\u001b[0;34m(\u001b[0m\u001b[0;36m287\u001b[0m\u001b[0;34m,\u001b[0m\u001b[0;36m297\u001b[0m\u001b[0;34m)\u001b[0m\u001b[0;34m:\u001b[0m\u001b[0;34m\u001b[0m\u001b[0;34m\u001b[0m\u001b[0m\n\u001b[0;32m----> 2\u001b[0;31m     \u001b[0mdescarga\u001b[0m\u001b[0;34m(\u001b[0m\u001b[0mURL_reg\u001b[0m\u001b[0;34m.\u001b[0m\u001b[0mformat\u001b[0m\u001b[0;34m(\u001b[0m\u001b[0mi\u001b[0m\u001b[0;34m)\u001b[0m\u001b[0;34m,\u001b[0m\u001b[0mi\u001b[0m\u001b[0;34m)\u001b[0m\u001b[0;34m\u001b[0m\u001b[0;34m\u001b[0m\u001b[0m\n\u001b[0m",
      "\u001b[0;32m<ipython-input-10-73cb14d86acc>\u001b[0m in \u001b[0;36mdescarga\u001b[0;34m(url, num)\u001b[0m\n\u001b[1;32m      1\u001b[0m \u001b[0;32mdef\u001b[0m \u001b[0mdescarga\u001b[0m\u001b[0;34m(\u001b[0m\u001b[0murl\u001b[0m\u001b[0;34m,\u001b[0m\u001b[0mnum\u001b[0m\u001b[0;34m)\u001b[0m\u001b[0;34m:\u001b[0m\u001b[0;34m\u001b[0m\u001b[0;34m\u001b[0m\u001b[0m\n\u001b[1;32m      2\u001b[0m     \u001b[0mprint\u001b[0m\u001b[0;34m(\u001b[0m\u001b[0;34m'Descargando:'\u001b[0m\u001b[0;34m,\u001b[0m \u001b[0murl\u001b[0m\u001b[0;34m)\u001b[0m\u001b[0;34m\u001b[0m\u001b[0;34m\u001b[0m\u001b[0m\n\u001b[0;32m----> 3\u001b[0;31m     \u001b[0mfn\u001b[0m\u001b[0;34m=\u001b[0m\u001b[0mdfuentes_ficheros_pdf_sanidad\u001b[0m\u001b[0;34m+\u001b[0m\u001b[0mstr\u001b[0m\u001b[0;34m(\u001b[0m\u001b[0mnum\u001b[0m\u001b[0;34m)\u001b[0m\u001b[0;34m+\u001b[0m\u001b[0;34m'.pdf'\u001b[0m\u001b[0;34m\u001b[0m\u001b[0;34m\u001b[0m\u001b[0m\n\u001b[0m\u001b[1;32m      4\u001b[0m     \u001b[0mheaders\u001b[0m \u001b[0;34m=\u001b[0m \u001b[0;34m{\u001b[0m\u001b[0;34m'User-Agent'\u001b[0m\u001b[0;34m:\u001b[0m \u001b[0;34m'Mozilla/5.0 (Macintosh; Intel Mac OS X 10_10_1) AppleWebKit/537.36 (KHTML, like Gecko) Chrome/39.0.2171.95 Safari/537.36'\u001b[0m\u001b[0;34m}\u001b[0m\u001b[0;34m\u001b[0m\u001b[0;34m\u001b[0m\u001b[0m\n\u001b[1;32m      5\u001b[0m     \u001b[0;32mwith\u001b[0m \u001b[0mrequests\u001b[0m\u001b[0;34m.\u001b[0m\u001b[0mSession\u001b[0m\u001b[0;34m(\u001b[0m\u001b[0;34m)\u001b[0m \u001b[0;32mas\u001b[0m \u001b[0ms\u001b[0m\u001b[0;34m:\u001b[0m\u001b[0;34m\u001b[0m\u001b[0;34m\u001b[0m\u001b[0m\n",
      "\u001b[0;31mNameError\u001b[0m: name 'dfuentes_ficheros_pdf_sanidad' is not defined"
     ]
    }
   ],
   "source": [
    "for i in range(287,297):\n",
    "    descarga(URL_reg.format(i),i)"
   ]
  },
  {
   "cell_type": "markdown",
   "metadata": {},
   "source": [
    "### Descarga de un solo fichero"
   ]
  },
  {
   "cell_type": "markdown",
   "metadata": {},
   "source": [
    "Como ejemplo 266 corresponde al Viernes 4 Diciembre 2020, grabamos el fichero en el directorio local con el nº de orden del documento."
   ]
  },
  {
   "cell_type": "code",
   "execution_count": null,
   "metadata": {},
   "outputs": [],
   "source": [
    "descarga(URL_reg.format(303),303)"
   ]
  },
  {
   "cell_type": "markdown",
   "metadata": {},
   "source": [
    "## Parseado y preparación del pandas"
   ]
  },
  {
   "cell_type": "code",
   "execution_count": 32,
   "metadata": {},
   "outputs": [],
   "source": [
    "columnas = ['fecha','ccaa','Hosp_Totales','Hosp_7días','UCI_Totales','UCI_7dias','Hosp_actual','%CamasCovid',\n",
    "        'UCI_actual','%CamasUCI','Ingresos_24horas','Altas_24horas']\n",
    "datos = pd.DataFrame(columns=columnas)"
   ]
  },
  {
   "cell_type": "markdown",
   "metadata": {},
   "source": [
    "fichero auxiliar que mapea nº de informes con fechas....Mejora: automatizarlo"
   ]
  },
  {
   "cell_type": "code",
   "execution_count": 33,
   "metadata": {},
   "outputs": [
    {
     "name": "stderr",
     "output_type": "stream",
     "text": [
      "<ipython-input-33-bbd0d5524e77>:1: FutureWarning: Your version of xlrd is 1.2.0. In xlrd >= 2.0, only the xls format is supported. As a result, the openpyxl engine will be used if it is installed and the engine argument is not specified. Install openpyxl instead.\n",
      "  claves=pd.read_excel(fuente_ficheros_pdf_sanidad+'clave_numero_fecha.xlsx')\n"
     ]
    }
   ],
   "source": [
    "claves=pd.read_excel(fuente_ficheros_pdf_sanidad+'clave_numero_fecha.xlsx')\n",
    "claves['Fecha']=claves['Fecha'].astype(str)"
   ]
  },
  {
   "cell_type": "code",
   "execution_count": 34,
   "metadata": {},
   "outputs": [],
   "source": [
    "claves['Fecha'] = claves.apply(lambda x: datetime.strptime(x['Fecha'],format('%Y-%m-%d')).strftime('%Y-%m-%d'),axis=1)"
   ]
  },
  {
   "cell_type": "code",
   "execution_count": 35,
   "metadata": {},
   "outputs": [
    {
     "data": {
      "text/html": [
       "<div>\n",
       "<style scoped>\n",
       "    .dataframe tbody tr th:only-of-type {\n",
       "        vertical-align: middle;\n",
       "    }\n",
       "\n",
       "    .dataframe tbody tr th {\n",
       "        vertical-align: top;\n",
       "    }\n",
       "\n",
       "    .dataframe thead th {\n",
       "        text-align: right;\n",
       "    }\n",
       "</style>\n",
       "<table border=\"1\" class=\"dataframe\">\n",
       "  <thead>\n",
       "    <tr style=\"text-align: right;\">\n",
       "      <th></th>\n",
       "      <th>Codigo</th>\n",
       "      <th>Fecha</th>\n",
       "    </tr>\n",
       "  </thead>\n",
       "  <tbody>\n",
       "    <tr>\n",
       "      <th>210</th>\n",
       "      <td>287</td>\n",
       "      <td>2021-01-11</td>\n",
       "    </tr>\n",
       "    <tr>\n",
       "      <th>211</th>\n",
       "      <td>288</td>\n",
       "      <td>2021-01-12</td>\n",
       "    </tr>\n",
       "    <tr>\n",
       "      <th>212</th>\n",
       "      <td>289</td>\n",
       "      <td>2021-01-13</td>\n",
       "    </tr>\n",
       "    <tr>\n",
       "      <th>213</th>\n",
       "      <td>290</td>\n",
       "      <td>2021-01-14</td>\n",
       "    </tr>\n",
       "    <tr>\n",
       "      <th>214</th>\n",
       "      <td>291</td>\n",
       "      <td>2021-01-15</td>\n",
       "    </tr>\n",
       "    <tr>\n",
       "      <th>215</th>\n",
       "      <td>292</td>\n",
       "      <td>2021-01-18</td>\n",
       "    </tr>\n",
       "    <tr>\n",
       "      <th>216</th>\n",
       "      <td>293</td>\n",
       "      <td>2021-01-19</td>\n",
       "    </tr>\n",
       "    <tr>\n",
       "      <th>217</th>\n",
       "      <td>294</td>\n",
       "      <td>2021-01-20</td>\n",
       "    </tr>\n",
       "    <tr>\n",
       "      <th>218</th>\n",
       "      <td>295</td>\n",
       "      <td>2021-01-21</td>\n",
       "    </tr>\n",
       "    <tr>\n",
       "      <th>219</th>\n",
       "      <td>296</td>\n",
       "      <td>2021-01-22</td>\n",
       "    </tr>\n",
       "    <tr>\n",
       "      <th>220</th>\n",
       "      <td>297</td>\n",
       "      <td>2021-01-25</td>\n",
       "    </tr>\n",
       "    <tr>\n",
       "      <th>221</th>\n",
       "      <td>298</td>\n",
       "      <td>2021-01-26</td>\n",
       "    </tr>\n",
       "    <tr>\n",
       "      <th>222</th>\n",
       "      <td>299</td>\n",
       "      <td>2021-01-27</td>\n",
       "    </tr>\n",
       "    <tr>\n",
       "      <th>223</th>\n",
       "      <td>300</td>\n",
       "      <td>2021-01-28</td>\n",
       "    </tr>\n",
       "    <tr>\n",
       "      <th>224</th>\n",
       "      <td>301</td>\n",
       "      <td>2021-01-29</td>\n",
       "    </tr>\n",
       "    <tr>\n",
       "      <th>225</th>\n",
       "      <td>302</td>\n",
       "      <td>2021-02-01</td>\n",
       "    </tr>\n",
       "    <tr>\n",
       "      <th>226</th>\n",
       "      <td>303</td>\n",
       "      <td>2021-02-02</td>\n",
       "    </tr>\n",
       "    <tr>\n",
       "      <th>227</th>\n",
       "      <td>304</td>\n",
       "      <td>2021-02-03</td>\n",
       "    </tr>\n",
       "    <tr>\n",
       "      <th>228</th>\n",
       "      <td>305</td>\n",
       "      <td>2021-02-04</td>\n",
       "    </tr>\n",
       "    <tr>\n",
       "      <th>229</th>\n",
       "      <td>306</td>\n",
       "      <td>2021-02-05</td>\n",
       "    </tr>\n",
       "  </tbody>\n",
       "</table>\n",
       "</div>"
      ],
      "text/plain": [
       "     Codigo       Fecha\n",
       "210     287  2021-01-11\n",
       "211     288  2021-01-12\n",
       "212     289  2021-01-13\n",
       "213     290  2021-01-14\n",
       "214     291  2021-01-15\n",
       "215     292  2021-01-18\n",
       "216     293  2021-01-19\n",
       "217     294  2021-01-20\n",
       "218     295  2021-01-21\n",
       "219     296  2021-01-22\n",
       "220     297  2021-01-25\n",
       "221     298  2021-01-26\n",
       "222     299  2021-01-27\n",
       "223     300  2021-01-28\n",
       "224     301  2021-01-29\n",
       "225     302  2021-02-01\n",
       "226     303  2021-02-02\n",
       "227     304  2021-02-03\n",
       "228     305  2021-02-04\n",
       "229     306  2021-02-05"
      ]
     },
     "execution_count": 35,
     "metadata": {},
     "output_type": "execute_result"
    }
   ],
   "source": [
    "claves[-20:]"
   ]
  },
  {
   "cell_type": "code",
   "execution_count": 36,
   "metadata": {},
   "outputs": [
    {
     "data": {
      "text/html": [
       "<div>\n",
       "<style scoped>\n",
       "    .dataframe tbody tr th:only-of-type {\n",
       "        vertical-align: middle;\n",
       "    }\n",
       "\n",
       "    .dataframe tbody tr th {\n",
       "        vertical-align: top;\n",
       "    }\n",
       "\n",
       "    .dataframe thead th {\n",
       "        text-align: right;\n",
       "    }\n",
       "</style>\n",
       "<table border=\"1\" class=\"dataframe\">\n",
       "  <thead>\n",
       "    <tr style=\"text-align: right;\">\n",
       "      <th></th>\n",
       "      <th>Codigo</th>\n",
       "      <th>Fecha</th>\n",
       "    </tr>\n",
       "  </thead>\n",
       "  <tbody>\n",
       "    <tr>\n",
       "      <th>210</th>\n",
       "      <td>287</td>\n",
       "      <td>2021-01-11</td>\n",
       "    </tr>\n",
       "    <tr>\n",
       "      <th>211</th>\n",
       "      <td>288</td>\n",
       "      <td>2021-01-12</td>\n",
       "    </tr>\n",
       "    <tr>\n",
       "      <th>212</th>\n",
       "      <td>289</td>\n",
       "      <td>2021-01-13</td>\n",
       "    </tr>\n",
       "    <tr>\n",
       "      <th>213</th>\n",
       "      <td>290</td>\n",
       "      <td>2021-01-14</td>\n",
       "    </tr>\n",
       "    <tr>\n",
       "      <th>214</th>\n",
       "      <td>291</td>\n",
       "      <td>2021-01-15</td>\n",
       "    </tr>\n",
       "    <tr>\n",
       "      <th>215</th>\n",
       "      <td>292</td>\n",
       "      <td>2021-01-18</td>\n",
       "    </tr>\n",
       "    <tr>\n",
       "      <th>216</th>\n",
       "      <td>293</td>\n",
       "      <td>2021-01-19</td>\n",
       "    </tr>\n",
       "    <tr>\n",
       "      <th>217</th>\n",
       "      <td>294</td>\n",
       "      <td>2021-01-20</td>\n",
       "    </tr>\n",
       "    <tr>\n",
       "      <th>218</th>\n",
       "      <td>295</td>\n",
       "      <td>2021-01-21</td>\n",
       "    </tr>\n",
       "    <tr>\n",
       "      <th>219</th>\n",
       "      <td>296</td>\n",
       "      <td>2021-01-22</td>\n",
       "    </tr>\n",
       "    <tr>\n",
       "      <th>220</th>\n",
       "      <td>297</td>\n",
       "      <td>2021-01-25</td>\n",
       "    </tr>\n",
       "    <tr>\n",
       "      <th>221</th>\n",
       "      <td>298</td>\n",
       "      <td>2021-01-26</td>\n",
       "    </tr>\n",
       "    <tr>\n",
       "      <th>222</th>\n",
       "      <td>299</td>\n",
       "      <td>2021-01-27</td>\n",
       "    </tr>\n",
       "    <tr>\n",
       "      <th>223</th>\n",
       "      <td>300</td>\n",
       "      <td>2021-01-28</td>\n",
       "    </tr>\n",
       "    <tr>\n",
       "      <th>224</th>\n",
       "      <td>301</td>\n",
       "      <td>2021-01-29</td>\n",
       "    </tr>\n",
       "    <tr>\n",
       "      <th>225</th>\n",
       "      <td>302</td>\n",
       "      <td>2021-02-01</td>\n",
       "    </tr>\n",
       "    <tr>\n",
       "      <th>226</th>\n",
       "      <td>303</td>\n",
       "      <td>2021-02-02</td>\n",
       "    </tr>\n",
       "    <tr>\n",
       "      <th>227</th>\n",
       "      <td>304</td>\n",
       "      <td>2021-02-03</td>\n",
       "    </tr>\n",
       "    <tr>\n",
       "      <th>228</th>\n",
       "      <td>305</td>\n",
       "      <td>2021-02-04</td>\n",
       "    </tr>\n",
       "    <tr>\n",
       "      <th>229</th>\n",
       "      <td>306</td>\n",
       "      <td>2021-02-05</td>\n",
       "    </tr>\n",
       "  </tbody>\n",
       "</table>\n",
       "</div>"
      ],
      "text/plain": [
       "     Codigo       Fecha\n",
       "210     287  2021-01-11\n",
       "211     288  2021-01-12\n",
       "212     289  2021-01-13\n",
       "213     290  2021-01-14\n",
       "214     291  2021-01-15\n",
       "215     292  2021-01-18\n",
       "216     293  2021-01-19\n",
       "217     294  2021-01-20\n",
       "218     295  2021-01-21\n",
       "219     296  2021-01-22\n",
       "220     297  2021-01-25\n",
       "221     298  2021-01-26\n",
       "222     299  2021-01-27\n",
       "223     300  2021-01-28\n",
       "224     301  2021-01-29\n",
       "225     302  2021-02-01\n",
       "226     303  2021-02-02\n",
       "227     304  2021-02-03\n",
       "228     305  2021-02-04\n",
       "229     306  2021-02-05"
      ]
     },
     "execution_count": 36,
     "metadata": {},
     "output_type": "execute_result"
    }
   ],
   "source": [
    "claves.sort_values('Fecha')[-20:]"
   ]
  },
  {
   "cell_type": "code",
   "execution_count": 37,
   "metadata": {},
   "outputs": [],
   "source": [
    "comunidades=['Andalucía','Aragón','Asturias','Baleares','Canarias','Cantabria','Castilla La Mancha',\n",
    "             'Castilla y León','Cataluña','Ceuta','C. Valenciana','Extremadura','Galicia',\n",
    "             'Madrid','Melilla','Murcia','Navarra','País Vasco','La Rioja']"
   ]
  },
  {
   "cell_type": "markdown",
   "metadata": {},
   "source": [
    "## desde 235"
   ]
  },
  {
   "cell_type": "code",
   "execution_count": 38,
   "metadata": {},
   "outputs": [],
   "source": [
    "rango = np.concatenate([np.arange(235,266),np.arange(267,307)])\n",
    "opt='text'\n",
    "for i in rango:\n",
    "    fn=fuente_ficheros_pdf_sanidad+str(i)+'.pdf'\n",
    "    doc = fitz.open(fn)\n",
    "    numero_pagina = 3 if i==282 else 2\n",
    "    page = doc.load_page(numero_pagina)\n",
    "    text = page.get_text(opt)\n",
    "    \n",
    "    for comunidad in comunidades:\n",
    "        regexp = r'{} '.format(comunidad)+'((\\n\\d*[,.]?\\d+¥? ){4})'+\\\n",
    "        '(\\n \\n(\\w+[ .\\w]*) )((\\n\\d*[,.]?\\d+¥? ))'+\\\n",
    "        '((\\n+\\d{1,2}[,]?\\d*% ))'+\\\n",
    "        '((\\n\\d*[,.]?\\d+¥? ))'+\\\n",
    "        '((\\n+\\d{1,2}[,]?\\d*% ))'+\\\n",
    "        '(((\\n\\d*[,.]?\\d+¥? )){2})'\n",
    "        pattern = re.compile(regexp)\n",
    "        c1,c2,c3,c4 = re.search(pattern,text).group(1).replace('\\n','').split()\n",
    "        c5 = re.search(pattern,text).group(6).replace('\\n','')\n",
    "        c6 = re.search(pattern,text).group(8).replace('\\n','')\n",
    "        c7 = re.search(pattern,text).group(9).replace('\\n','')\n",
    "        c8 = re.search(pattern,text).group(11).replace('\\n','')\n",
    "        c9, c10 = re.search(pattern,text).group(13).replace('\\n','').split()\n",
    "        \n",
    "        #print (i,'--->',comunidad,c1,'-',c2,'-',c3,'-',c4,'-',c5,'-',c6,'-',c7,'-',c8,'-',c9,'-',c10)\n",
    "        datos = datos.append({'fecha':claves.loc[claves['Codigo']==i,'Fecha'].values[0],\n",
    "                                                 'ccaa':comunidad,'Hosp_Totales':c1,\n",
    "                                               'Hosp_7días':c2,'UCI_Totales':c3,\n",
    "                                                 'UCI_7dias':c4,'Hosp_actual':c5,\n",
    "                                                 '%CamasCovid':c6,'UCI_actual':c7,\n",
    "                                                 '%CamasUCI':c8,'Ingresos_24horas':c9,\n",
    "                                                 'Altas_24horas':c10},ignore_index=True)\n",
    "        "
   ]
  },
  {
   "cell_type": "markdown",
   "metadata": {},
   "source": [
    "## antes 235"
   ]
  },
  {
   "cell_type": "code",
   "execution_count": 39,
   "metadata": {},
   "outputs": [],
   "source": [
    "rango_informes = np.concatenate([np.arange(88,137),np.arange(138,234)])\n",
    "#rango_informes = np.concatenate([np.arange(88,90)])\n",
    "\n",
    "for informe in rango_informes:\n",
    "    fn=fuente_ficheros_pdf_sanidad+str(informe)+'.pdf'\n",
    "    doc = fitz.open(fn)\n",
    "    page = doc.load_page(1)\n",
    "    text = page.get_text(opt)\n",
    "    \n",
    "    for comunidad in comunidades:\n",
    "        regexp = r'{}[*]* '.format(comunidad)+'((\\n\\d*[,.]?\\d+¥? ){6})'\n",
    "        regexp = r'{}[*]* '.format(comunidad)+'(((\\n\\d*[,.]?\\d+¥? )|(\\n- )){6})'\n",
    "        regexp = r'{}[*¥]* '.format(comunidad)+'(((\\n\\d*[,.]?\\d+¥? )|(\\n- )|(\\n )){6})'\n",
    "        cadena = re.search(regexp,text).group(0)  \n",
    "        #c1,c2,c3,c4,c5,c6 = re.search(regexp,text).group(1).replace('\\n','').split()\n",
    "        c1,c2,c3,c4,c5,c6 = re.search(regexp,text).group(1).split('\\n')[1:]\n",
    "        \n",
    "        datos = datos.append({'fecha':claves.loc[claves['Codigo']==informe,'Fecha'].values[0],\n",
    "                                                 'ccaa':comunidad,'Hosp_Totales':c1,\n",
    "                                               'Hosp_7días':c2,'UCI_Totales':c3,\n",
    "                                                 'UCI_7dias':c4},ignore_index=True)\n",
    "        \n",
    "        \n",
    "        #print (informe,'--->',comunidad,c1,'-',c2,'-',c3,'-',c4,'-',c5,'-',c6)\n",
    "        #print (cadena)"
   ]
  },
  {
   "cell_type": "code",
   "execution_count": 40,
   "metadata": {},
   "outputs": [
    {
     "data": {
      "text/html": [
       "<div>\n",
       "<style scoped>\n",
       "    .dataframe tbody tr th:only-of-type {\n",
       "        vertical-align: middle;\n",
       "    }\n",
       "\n",
       "    .dataframe tbody tr th {\n",
       "        vertical-align: top;\n",
       "    }\n",
       "\n",
       "    .dataframe thead th {\n",
       "        text-align: right;\n",
       "    }\n",
       "</style>\n",
       "<table border=\"1\" class=\"dataframe\">\n",
       "  <thead>\n",
       "    <tr style=\"text-align: right;\">\n",
       "      <th></th>\n",
       "      <th>fecha</th>\n",
       "      <th>ccaa</th>\n",
       "      <th>Hosp_Totales</th>\n",
       "      <th>Hosp_7días</th>\n",
       "      <th>UCI_Totales</th>\n",
       "      <th>UCI_7dias</th>\n",
       "      <th>Hosp_actual</th>\n",
       "      <th>%CamasCovid</th>\n",
       "      <th>UCI_actual</th>\n",
       "      <th>%CamasUCI</th>\n",
       "      <th>Ingresos_24horas</th>\n",
       "      <th>Altas_24horas</th>\n",
       "    </tr>\n",
       "  </thead>\n",
       "  <tbody>\n",
       "    <tr>\n",
       "      <th>0</th>\n",
       "      <td>2020-10-23</td>\n",
       "      <td>Andalucía</td>\n",
       "      <td>12.143</td>\n",
       "      <td>727</td>\n",
       "      <td>1.214</td>\n",
       "      <td>23</td>\n",
       "      <td>1.967</td>\n",
       "      <td>11,95%</td>\n",
       "      <td>251</td>\n",
       "      <td>16,30%</td>\n",
       "      <td>320</td>\n",
       "      <td>198</td>\n",
       "    </tr>\n",
       "    <tr>\n",
       "      <th>1</th>\n",
       "      <td>2020-10-23</td>\n",
       "      <td>Aragón</td>\n",
       "      <td>6.205</td>\n",
       "      <td>366</td>\n",
       "      <td>486</td>\n",
       "      <td>30</td>\n",
       "      <td>635</td>\n",
       "      <td>15,31%</td>\n",
       "      <td>83</td>\n",
       "      <td>42,56%</td>\n",
       "      <td>94</td>\n",
       "      <td>73</td>\n",
       "    </tr>\n",
       "    <tr>\n",
       "      <th>2</th>\n",
       "      <td>2020-10-23</td>\n",
       "      <td>Asturias</td>\n",
       "      <td>1.728</td>\n",
       "      <td>186</td>\n",
       "      <td>171</td>\n",
       "      <td>3</td>\n",
       "      <td>354</td>\n",
       "      <td>10,93%</td>\n",
       "      <td>40</td>\n",
       "      <td>15,38%</td>\n",
       "      <td>50</td>\n",
       "      <td>29</td>\n",
       "    </tr>\n",
       "    <tr>\n",
       "      <th>3</th>\n",
       "      <td>2020-10-23</td>\n",
       "      <td>Baleares</td>\n",
       "      <td>2.033</td>\n",
       "      <td>23</td>\n",
       "      <td>291</td>\n",
       "      <td>2</td>\n",
       "      <td>174</td>\n",
       "      <td>5,68%</td>\n",
       "      <td>41</td>\n",
       "      <td>14,39%</td>\n",
       "      <td>21</td>\n",
       "      <td>12</td>\n",
       "    </tr>\n",
       "    <tr>\n",
       "      <th>4</th>\n",
       "      <td>2020-10-23</td>\n",
       "      <td>Canarias</td>\n",
       "      <td>2182</td>\n",
       "      <td>95</td>\n",
       "      <td>423</td>\n",
       "      <td>23</td>\n",
       "      <td>349</td>\n",
       "      <td>7,07%</td>\n",
       "      <td>47</td>\n",
       "      <td>11,16%</td>\n",
       "      <td>22</td>\n",
       "      <td>21</td>\n",
       "    </tr>\n",
       "    <tr>\n",
       "      <th>...</th>\n",
       "      <td>...</td>\n",
       "      <td>...</td>\n",
       "      <td>...</td>\n",
       "      <td>...</td>\n",
       "      <td>...</td>\n",
       "      <td>...</td>\n",
       "      <td>...</td>\n",
       "      <td>...</td>\n",
       "      <td>...</td>\n",
       "      <td>...</td>\n",
       "      <td>...</td>\n",
       "      <td>...</td>\n",
       "    </tr>\n",
       "    <tr>\n",
       "      <th>4099</th>\n",
       "      <td>2020-10-21</td>\n",
       "      <td>Melilla</td>\n",
       "      <td>141</td>\n",
       "      <td>12</td>\n",
       "      <td>15</td>\n",
       "      <td>5</td>\n",
       "      <td>NaN</td>\n",
       "      <td>NaN</td>\n",
       "      <td>NaN</td>\n",
       "      <td>NaN</td>\n",
       "      <td>NaN</td>\n",
       "      <td>NaN</td>\n",
       "    </tr>\n",
       "    <tr>\n",
       "      <th>4100</th>\n",
       "      <td>2020-10-21</td>\n",
       "      <td>Murcia</td>\n",
       "      <td>2685</td>\n",
       "      <td>220</td>\n",
       "      <td>383</td>\n",
       "      <td>31</td>\n",
       "      <td>NaN</td>\n",
       "      <td>NaN</td>\n",
       "      <td>NaN</td>\n",
       "      <td>NaN</td>\n",
       "      <td>NaN</td>\n",
       "      <td>NaN</td>\n",
       "    </tr>\n",
       "    <tr>\n",
       "      <th>4101</th>\n",
       "      <td>2020-10-21</td>\n",
       "      <td>Navarra</td>\n",
       "      <td>3.204</td>\n",
       "      <td>182</td>\n",
       "      <td>239</td>\n",
       "      <td>19</td>\n",
       "      <td>NaN</td>\n",
       "      <td>NaN</td>\n",
       "      <td>NaN</td>\n",
       "      <td>NaN</td>\n",
       "      <td>NaN</td>\n",
       "      <td>NaN</td>\n",
       "    </tr>\n",
       "    <tr>\n",
       "      <th>4102</th>\n",
       "      <td>2020-10-21</td>\n",
       "      <td>País Vasco</td>\n",
       "      <td>9.036</td>\n",
       "      <td>60</td>\n",
       "      <td>741</td>\n",
       "      <td>6</td>\n",
       "      <td>NaN</td>\n",
       "      <td>NaN</td>\n",
       "      <td>NaN</td>\n",
       "      <td>NaN</td>\n",
       "      <td>NaN</td>\n",
       "      <td>NaN</td>\n",
       "    </tr>\n",
       "    <tr>\n",
       "      <th>4103</th>\n",
       "      <td>2020-10-21</td>\n",
       "      <td>La Rioja</td>\n",
       "      <td>2.011</td>\n",
       "      <td>56</td>\n",
       "      <td>156</td>\n",
       "      <td>14</td>\n",
       "      <td>NaN</td>\n",
       "      <td>NaN</td>\n",
       "      <td>NaN</td>\n",
       "      <td>NaN</td>\n",
       "      <td>NaN</td>\n",
       "      <td>NaN</td>\n",
       "    </tr>\n",
       "  </tbody>\n",
       "</table>\n",
       "<p>4104 rows × 12 columns</p>\n",
       "</div>"
      ],
      "text/plain": [
       "           fecha        ccaa Hosp_Totales Hosp_7días UCI_Totales UCI_7dias  \\\n",
       "0     2020-10-23   Andalucía       12.143        727       1.214        23   \n",
       "1     2020-10-23      Aragón        6.205        366         486        30   \n",
       "2     2020-10-23    Asturias        1.728        186         171         3   \n",
       "3     2020-10-23    Baleares        2.033         23         291         2   \n",
       "4     2020-10-23    Canarias         2182         95         423        23   \n",
       "...          ...         ...          ...        ...         ...       ...   \n",
       "4099  2020-10-21     Melilla         141         12          15         5    \n",
       "4100  2020-10-21      Murcia        2685        220         383        31    \n",
       "4101  2020-10-21     Navarra       3.204        182         239        19    \n",
       "4102  2020-10-21  País Vasco       9.036         60         741         6    \n",
       "4103  2020-10-21    La Rioja       2.011         56         156        14    \n",
       "\n",
       "     Hosp_actual %CamasCovid UCI_actual %CamasUCI Ingresos_24horas  \\\n",
       "0         1.967      11,95%        251    16,30%               320   \n",
       "1           635      15,31%         83    42,56%                94   \n",
       "2           354      10,93%         40    15,38%                50   \n",
       "3           174       5,68%         41    14,39%                21   \n",
       "4           349       7,07%         47    11,16%                22   \n",
       "...          ...         ...        ...       ...              ...   \n",
       "4099         NaN         NaN        NaN       NaN              NaN   \n",
       "4100         NaN         NaN        NaN       NaN              NaN   \n",
       "4101         NaN         NaN        NaN       NaN              NaN   \n",
       "4102         NaN         NaN        NaN       NaN              NaN   \n",
       "4103         NaN         NaN        NaN       NaN              NaN   \n",
       "\n",
       "     Altas_24horas  \n",
       "0              198  \n",
       "1               73  \n",
       "2               29  \n",
       "3               12  \n",
       "4               21  \n",
       "...            ...  \n",
       "4099           NaN  \n",
       "4100           NaN  \n",
       "4101           NaN  \n",
       "4102           NaN  \n",
       "4103           NaN  \n",
       "\n",
       "[4104 rows x 12 columns]"
      ]
     },
     "execution_count": 40,
     "metadata": {},
     "output_type": "execute_result"
    }
   ],
   "source": [
    "datos"
   ]
  },
  {
   "cell_type": "code",
   "execution_count": 41,
   "metadata": {},
   "outputs": [],
   "source": [
    "datos.to_csv(dir_csv+'datos_sanidad_hosp.csv',index=False,index_label=False)"
   ]
  },
  {
   "cell_type": "markdown",
   "metadata": {},
   "source": [
    "# código auxiliar para pruebas"
   ]
  },
  {
   "cell_type": "markdown",
   "metadata": {},
   "source": [
    "## Parseado pre 235, con la página 2, Tabla 2"
   ]
  },
  {
   "cell_type": "code",
   "execution_count": null,
   "metadata": {
    "scrolled": true
   },
   "outputs": [],
   "source": [
    "i = 87\n",
    "fn=fuente_ficheros_pdf_sanidad+str(i)+'.pdf'\n",
    "doc = fitz.open(fn)\n",
    "page = doc.load_page(1)\n",
    "text = page.get_text(opt)\n",
    "comunidad='Galicia'\n",
    "regexp = r'{}[*]? '.format(comunidad)+'((\\n\\d*[,.]?\\d+¥? ){6})'\n",
    "regexp = r'{}[*¥]* '.format(comunidad)+'(((\\n\\d*[,.]?\\d+¥? )|(\\n- )|(\\n )){6})'\n",
    "cadena = re.search(regexp,text).group(1).split(('\\n'))\n",
    "print (cadena)\n"
   ]
  },
  {
   "cell_type": "code",
   "execution_count": null,
   "metadata": {},
   "outputs": [],
   "source": [
    "text"
   ]
  },
  {
   "cell_type": "code",
   "execution_count": null,
   "metadata": {},
   "outputs": [],
   "source": [
    "i = 211\n",
    "fn=fuente_ficheros_pdf_sanidad+str(i)+'.pdf'\n",
    "doc = fitz.open(fn)\n",
    "page = doc.load_page(1)\n",
    "text = page.get_text(opt)\n",
    "comunidad='Andalucía'\n",
    "for comunidad in comunidades:\n",
    "    regexp = r'{}[*]* '.format(comunidad)+'((\\n\\d*[,.]?\\d+¥? ){6})'\n",
    "    regexp = r'{}[*]* '.format(comunidad)+'(((\\n\\d*[,.]?\\d+¥? )|(\\n- )){6})'\n",
    "    regexp = r'{}[*¥]* '.format(comunidad)+'(((\\n\\d*[,.]?\\d+¥? )|(\\n- )|(\\n )){6})'\n",
    "    cadena = re.search(regexp,text).group(0)\n",
    "    c1,c2,c3,c4,c5,c6 = re.search(regexp,text).group(1).split('\\n')[1:]\n",
    "    print (cadena)\n",
    "    print (informe,'--->',comunidad,c1,'-',c2,'-',c3,'-',c4,'-',c5,'-',c6)"
   ]
  },
  {
   "cell_type": "code",
   "execution_count": null,
   "metadata": {},
   "outputs": [],
   "source": [
    "text"
   ]
  },
  {
   "cell_type": "code",
   "execution_count": null,
   "metadata": {},
   "outputs": [],
   "source": [
    "rango_informes = np.concatenate([np.arange(88,137),np.arange(138,234)])\n",
    "#rango_informes = np.concatenate([np.arange(88,90)])\n",
    "\n",
    "for informe in rango_informes:\n",
    "    fn=fuente_ficheros_pdf_sanidad+str(informe)+'.pdf'\n",
    "    doc = fitz.open(fn)\n",
    "    page = doc.load_page(1)\n",
    "    text = page.get_text(opt)\n",
    "    \n",
    "    for comunidad in comunidades:\n",
    "        regexp = r'{}[*]* '.format(comunidad)+'((\\n\\d*[,.]?\\d+¥? ){6})'\n",
    "        regexp = r'{}[*]* '.format(comunidad)+'(((\\n\\d*[,.]?\\d+¥? )|(\\n- )){6})'\n",
    "        regexp = r'{}[*¥]* '.format(comunidad)+'(((\\n\\d*[,.]?\\d+¥? )|(\\n- )|(\\n )){6})'\n",
    "        cadena = re.search(regexp,text).group(0)  \n",
    "        #c1,c2,c3,c4,c5,c6 = re.search(regexp,text).group(1).replace('\\n','').split()\n",
    "        c1,c2,c3,c4,c5,c6 = re.search(regexp,text).group(1).split('\\n')[1:]\n",
    "        \n",
    "        datos = datos.append({'fecha':claves.loc[claves['Codigo']==informe,'Fecha'].values[0],\n",
    "                                                 'ccaa':comunidad,'Hosp_Totales':c1,\n",
    "                                               'Hosp_7días':c2,'UCI_Totales':c3,\n",
    "                                                 'UCI_7dias':c4},ignore_index=True)\n",
    "        \n",
    "        \n",
    "        print (informe,'--->',comunidad,c1,'-',c2,'-',c3,'-',c4,'-',c5,'-',c6)\n",
    "        #print (cadena)"
   ]
  },
  {
   "cell_type": "code",
   "execution_count": null,
   "metadata": {},
   "outputs": [],
   "source": [
    "re.search(regexp,text).group(1)  "
   ]
  },
  {
   "cell_type": "code",
   "execution_count": null,
   "metadata": {},
   "outputs": [],
   "source": [
    "datos=datos.sort_values(['fecha','ccaa']).reset_index()"
   ]
  },
  {
   "cell_type": "code",
   "execution_count": null,
   "metadata": {},
   "outputs": [],
   "source": [
    "datos.to_csv(dir_csv+'datos_sanidad_hosp.csv',index=False,index_label=False)"
   ]
  },
  {
   "cell_type": "code",
   "execution_count": null,
   "metadata": {},
   "outputs": [],
   "source": [
    "datos"
   ]
  },
  {
   "cell_type": "markdown",
   "metadata": {},
   "source": [
    "## Parseado pre 235, con la página 3 Tabla 3, % camas, ingresados diarios "
   ]
  },
  {
   "cell_type": "code",
   "execution_count": null,
   "metadata": {},
   "outputs": [],
   "source": [
    "i = 211\n",
    "fn=fuente_ficheros_pdf_sanidad+str(i)+'.pdf'\n",
    "doc = fitz.open(fn)\n",
    "page = doc.load_page(3)\n",
    "text = page.get_text(opt)\n",
    "comunidad='Andalucía'\n",
    "regexp = r'{}[*¥]* '.format(comunidad)+'((\\n\\d*[,.]?\\d+¥? ))'+'((\\n+\\d{1,2}[,]?\\d*% ))'+\\\n",
    "'((\\n\\d*[,.]?\\d+¥? ))'+'((\\n+\\d{1,2}[,]?\\d*% ))'+'((\\n\\d*[,.]?\\d+¥? )){2}'\n",
    "#para el 211\n",
    "regexp = r'{}[*¥]* '.format(comunidad)+'((\\n\\d*[,.]?\\d+¥? )){2}'+'((\\n+\\d{1,2}[,]?\\d*% ))'+'((\\n\\d*[,.]?\\d+¥? )){2}'\n",
    "\n",
    "cadena = re.search(regexp,text).group(0).split(('\\n'))[1:]\n",
    "print (cadena)\n"
   ]
  },
  {
   "cell_type": "code",
   "execution_count": null,
   "metadata": {},
   "outputs": [],
   "source": [
    "text"
   ]
  },
  {
   "cell_type": "markdown",
   "metadata": {},
   "source": [
    "## un informe todas las comunidades"
   ]
  },
  {
   "cell_type": "code",
   "execution_count": null,
   "metadata": {},
   "outputs": [],
   "source": [
    "i = 233\n",
    "fn=fuente_ficheros_pdf_sanidad+str(i)+'.pdf'\n",
    "doc = fitz.open(fn)\n",
    "\n",
    "page = doc.load_page(2)\n",
    "text = page.get_text(opt)\n",
    "comunidad='Andalucía'\n",
    "for comunidad in comunidades:\n",
    "    regexp = r'{}[*¥]* '.format(comunidad)+'((\\n\\d*[,.]?\\d+¥? ))'+'((\\n+\\d{1,2}[,]?\\d*% ))'+\\\n",
    "    '((\\n\\d*[,.]?\\d+¥? ))'+'((\\n+\\d{1,2}[,]?\\d*% ))'+'((\\n\\d*[,.]?\\d+¥? )){2}'\n",
    "    cadena = re.search(regexp,text).group(0)\n",
    "    c1,c2,c3,c4,c5,c6 = re.search(regexp,text).group(0).split('\\n')[1:]\n",
    "    print (cadena)\n",
    "    print (informe,'--->',comunidad,c1,'-',c2,'-',c3,'-',c4,'-',c5,'-',c6)"
   ]
  },
  {
   "cell_type": "markdown",
   "metadata": {},
   "source": [
    "## todos los informes todas las comunidades"
   ]
  },
  {
   "cell_type": "code",
   "execution_count": null,
   "metadata": {},
   "outputs": [],
   "source": [
    "#rango_informes = np.concatenate([np224.arange(88,137),np.arange(138,234)])\n",
    "rango_informes = np.concatenate([np.arange(212,215)])\n",
    "\n",
    "for informe in rango_informes:\n",
    "    fn=fuente_ficheros_pdf_sanidad+str(informe)+'.pdf'\n",
    "    doc = fitz.open(fn)\n",
    "    n_pagina = 3 if informe<=224 else 2\n",
    "    page = doc.load_page(n_pagina)\n",
    "    text = page.get_text(opt)\n",
    "    \n",
    "    for comunidad in comunidades:\n",
    "        regexp = r'{}[*¥]* '.format(comunidad)+'((\\n\\d*[,.]?\\d+¥? ))'+'((\\n+\\d{1,2}[,]?\\d*% ))'+\\\n",
    "    '((\\n\\d*[,.]?\\d+¥? ))'+'((\\n+\\d{1,2}[,]?\\d*% ))'+'((\\n\\d*[,.]?\\d+¥? )){2}'\n",
    "        cadena = re.search(regexp,text).group(0)\n",
    "        c1,c2,c3,c4,c5,c6 = re.search(regexp,text).group(0).split('\\n')[1:]\n",
    "        #print (cadena)\n",
    "        print (informe,'--->',comunidad,c1,'-',c2,'-',c3,'-',c4,'-',c5,'-',c6)\n",
    "        \n",
    "        "
   ]
  },
  {
   "cell_type": "markdown",
   "metadata": {},
   "source": [
    "## 211 y anteriores, no publican % camas hospital"
   ]
  },
  {
   "cell_type": "code",
   "execution_count": null,
   "metadata": {},
   "outputs": [],
   "source": [
    "#rango_informes = np.concatenate([np224.arange(88,137),np.arange(138,234)])\n",
    "rango_informes = np.concatenate([np.arange(204,212)])\n",
    "\n",
    "for informe in rango_informes:\n",
    "    fn=fuente_ficheros_pdf_sanidad+str(informe)+'.pdf'\n",
    "    doc = fitz.open(fn)\n",
    "    n_pagina = 3\n",
    "    page = doc.load_page(n_pagina)\n",
    "    text = page.get_text(opt)\n",
    "    \n",
    "    for comunidad in comunidades:\n",
    "        regexp = r'{}[*¥]* '.format(comunidad)+'((\\n\\d*[,.]?\\d+¥? )){2}'+'((\\n+\\d{1,2}[,]?\\d*% ))'+'((\\n\\d*[,.]?\\d+¥? )){2}'\n",
    "        cadena = re.search(regexp,text).group(0)\n",
    "        c1,c2,c3,c4,c5 = re.search(regexp,text).group(0).split('\\n')[1:]\n",
    "        #print (cadena)\n",
    "        print (informe,'--->',comunidad,c1,'-',c2,'-',c3,'-',c4,'-',c5,'-',c6)\n",
    "        \n",
    "        "
   ]
  },
  {
   "cell_type": "code",
   "execution_count": null,
   "metadata": {},
   "outputs": [],
   "source": [
    "text"
   ]
  },
  {
   "cell_type": "code",
   "execution_count": null,
   "metadata": {},
   "outputs": [],
   "source": []
  }
 ],
 "metadata": {
  "kernelspec": {
   "display_name": "Python 3",
   "language": "python",
   "name": "python3"
  },
  "language_info": {
   "codemirror_mode": {
    "name": "ipython",
    "version": 3
   },
   "file_extension": ".py",
   "mimetype": "text/x-python",
   "name": "python",
   "nbconvert_exporter": "python",
   "pygments_lexer": "ipython3",
   "version": "3.8.5"
  }
 },
 "nbformat": 4,
 "nbformat_minor": 4
}
