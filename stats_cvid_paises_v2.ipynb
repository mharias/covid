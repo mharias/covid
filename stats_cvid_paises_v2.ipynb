{
 "cells": [
  {
   "cell_type": "markdown",
   "metadata": {},
   "source": [
    "# Visualización de datos de la pandemia de SARS-CoV-2"
   ]
  },
  {
   "cell_type": "markdown",
   "metadata": {},
   "source": [
    "En esta entrada vamos a mostrar el código para descargar los datos sobre la evolución del Sars-Covid-2, del repositorio de open data http://data.world, en esta [url](https://data.world/covid-19-data-resource-hub/covid-19-case-counts/workspace/file?filename=COVID-19+Cases.csv) puedes ver la homepage del proyecto. En la documentación del mismo se indica que los datos se descargan diariamanete de este [github](https://github.com/CSSEGISandData/COVID-19) de la [Johns Hopkins](https://github.com/CSSEGISandData).\n",
    "Es versión 2 con un path actualizado desde 5 Junio, ha habido que cambiar ciertos nombres de columnas.\n",
    "Update : 26 Julio:han cambiado el orden de las columnas"
   ]
  },
  {
   "cell_type": "markdown",
   "metadata": {},
   "source": [
    "Importamos las librerías estándares para ejercicios de visualización de datos."
   ]
  },
  {
   "cell_type": "code",
   "execution_count": 1,
   "metadata": {},
   "outputs": [],
   "source": [
    "import pandas as pd\n",
    "import matplotlib.pyplot as plt\n",
    "from matplotlib.ticker import FuncFormatter\n",
    "from matplotlib import cm\n",
    "import matplotlib.dates as mdates\n",
    "import matplotlib.ticker as ticker\n",
    "from matplotlib.dates import (YEARLY, MONTHLY, DateFormatter, MonthLocator,DayLocator,\n",
    "                              rrulewrapper, RRuleLocator, drange)\n",
    "import numpy as np\n",
    "from datetime import datetime\n",
    "import seaborn as sns\n",
    "%matplotlib inline"
   ]
  },
  {
   "cell_type": "markdown",
   "metadata": {},
   "source": [
    "Actualizamos el número máximo de filas que podemos ver al mostrar un objeto $pandas$"
   ]
  },
  {
   "cell_type": "code",
   "execution_count": 2,
   "metadata": {},
   "outputs": [],
   "source": [
    "pd.options.display.max_rows = 999"
   ]
  },
  {
   "cell_type": "markdown",
   "metadata": {},
   "source": [
    "Descargamos, desde su url, los datos de interés:"
   ]
  },
  {
   "cell_type": "code",
   "execution_count": 3,
   "metadata": {},
   "outputs": [],
   "source": [
    "path_datos='https://query.data.world/s/h4czc4bz7zdzhsm4tgzkistgaxhyfr'\n"
   ]
  },
  {
   "cell_type": "code",
   "execution_count": 4,
   "metadata": {},
   "outputs": [],
   "source": [
    "df = pd.read_csv(path_datos)"
   ]
  },
  {
   "cell_type": "markdown",
   "metadata": {},
   "source": [
    "veamos una rápida descripción de la información:"
   ]
  },
  {
   "cell_type": "code",
   "execution_count": 5,
   "metadata": {},
   "outputs": [
    {
     "data": {
      "text/html": [
       "<div>\n",
       "<style scoped>\n",
       "    .dataframe tbody tr th:only-of-type {\n",
       "        vertical-align: middle;\n",
       "    }\n",
       "\n",
       "    .dataframe tbody tr th {\n",
       "        vertical-align: top;\n",
       "    }\n",
       "\n",
       "    .dataframe thead th {\n",
       "        text-align: right;\n",
       "    }\n",
       "</style>\n",
       "<table border=\"1\" class=\"dataframe\">\n",
       "  <thead>\n",
       "    <tr style=\"text-align: right;\">\n",
       "      <th></th>\n",
       "      <th>PEOPLE_POSITIVE_CASES_COUNT</th>\n",
       "      <th>PEOPLE_DEATH_NEW_COUNT</th>\n",
       "      <th>COUNTY_FIPS_NUMBER</th>\n",
       "      <th>PEOPLE_POSITIVE_NEW_CASES_COUNT</th>\n",
       "      <th>PEOPLE_DEATH_COUNT</th>\n",
       "    </tr>\n",
       "  </thead>\n",
       "  <tbody>\n",
       "    <tr>\n",
       "      <th>count</th>\n",
       "      <td>7.972220e+05</td>\n",
       "      <td>797222.000000</td>\n",
       "      <td>730512.000000</td>\n",
       "      <td>797222.000000</td>\n",
       "      <td>797222.000000</td>\n",
       "    </tr>\n",
       "    <tr>\n",
       "      <th>mean</th>\n",
       "      <td>2.093784e+03</td>\n",
       "      <td>1.096262</td>\n",
       "      <td>31459.759363</td>\n",
       "      <td>33.390403</td>\n",
       "      <td>91.534524</td>\n",
       "    </tr>\n",
       "    <tr>\n",
       "      <th>std</th>\n",
       "      <td>3.776442e+04</td>\n",
       "      <td>22.140860</td>\n",
       "      <td>16382.228165</td>\n",
       "      <td>722.932043</td>\n",
       "      <td>1505.179983</td>\n",
       "    </tr>\n",
       "    <tr>\n",
       "      <th>min</th>\n",
       "      <td>0.000000e+00</td>\n",
       "      <td>-1918.000000</td>\n",
       "      <td>1001.000000</td>\n",
       "      <td>-4469.000000</td>\n",
       "      <td>0.000000</td>\n",
       "    </tr>\n",
       "    <tr>\n",
       "      <th>25%</th>\n",
       "      <td>0.000000e+00</td>\n",
       "      <td>0.000000</td>\n",
       "      <td>19032.500000</td>\n",
       "      <td>0.000000</td>\n",
       "      <td>0.000000</td>\n",
       "    </tr>\n",
       "    <tr>\n",
       "      <th>50%</th>\n",
       "      <td>1.500000e+01</td>\n",
       "      <td>0.000000</td>\n",
       "      <td>30018.000000</td>\n",
       "      <td>0.000000</td>\n",
       "      <td>0.000000</td>\n",
       "    </tr>\n",
       "    <tr>\n",
       "      <th>75%</th>\n",
       "      <td>1.670000e+02</td>\n",
       "      <td>0.000000</td>\n",
       "      <td>46117.500000</td>\n",
       "      <td>3.000000</td>\n",
       "      <td>3.000000</td>\n",
       "    </tr>\n",
       "    <tr>\n",
       "      <th>max</th>\n",
       "      <td>4.092832e+06</td>\n",
       "      <td>3935.000000</td>\n",
       "      <td>78030.000000</td>\n",
       "      <td>86432.000000</td>\n",
       "      <td>125521.000000</td>\n",
       "    </tr>\n",
       "  </tbody>\n",
       "</table>\n",
       "</div>"
      ],
      "text/plain": [
       "       PEOPLE_POSITIVE_CASES_COUNT  PEOPLE_DEATH_NEW_COUNT  \\\n",
       "count                 7.972220e+05           797222.000000   \n",
       "mean                  2.093784e+03                1.096262   \n",
       "std                   3.776442e+04               22.140860   \n",
       "min                   0.000000e+00            -1918.000000   \n",
       "25%                   0.000000e+00                0.000000   \n",
       "50%                   1.500000e+01                0.000000   \n",
       "75%                   1.670000e+02                0.000000   \n",
       "max                   4.092832e+06             3935.000000   \n",
       "\n",
       "       COUNTY_FIPS_NUMBER  PEOPLE_POSITIVE_NEW_CASES_COUNT  PEOPLE_DEATH_COUNT  \n",
       "count       730512.000000                    797222.000000       797222.000000  \n",
       "mean         31459.759363                        33.390403           91.534524  \n",
       "std          16382.228165                       722.932043         1505.179983  \n",
       "min           1001.000000                     -4469.000000            0.000000  \n",
       "25%          19032.500000                         0.000000            0.000000  \n",
       "50%          30018.000000                         0.000000            0.000000  \n",
       "75%          46117.500000                         3.000000            3.000000  \n",
       "max          78030.000000                     86432.000000       125521.000000  "
      ]
     },
     "execution_count": 5,
     "metadata": {},
     "output_type": "execute_result"
    }
   ],
   "source": [
    "df.describe()"
   ]
  },
  {
   "cell_type": "code",
   "execution_count": 6,
   "metadata": {},
   "outputs": [
    {
     "data": {
      "text/html": [
       "<div>\n",
       "<style scoped>\n",
       "    .dataframe tbody tr th:only-of-type {\n",
       "        vertical-align: middle;\n",
       "    }\n",
       "\n",
       "    .dataframe tbody tr th {\n",
       "        vertical-align: top;\n",
       "    }\n",
       "\n",
       "    .dataframe thead th {\n",
       "        text-align: right;\n",
       "    }\n",
       "</style>\n",
       "<table border=\"1\" class=\"dataframe\">\n",
       "  <thead>\n",
       "    <tr style=\"text-align: right;\">\n",
       "      <th></th>\n",
       "      <th>PEOPLE_POSITIVE_CASES_COUNT</th>\n",
       "      <th>COUNTY_NAME</th>\n",
       "      <th>PROVINCE_STATE_NAME</th>\n",
       "      <th>REPORT_DATE</th>\n",
       "      <th>CONTINENT_NAME</th>\n",
       "      <th>DATA_SOURCE_NAME</th>\n",
       "      <th>PEOPLE_DEATH_NEW_COUNT</th>\n",
       "      <th>COUNTY_FIPS_NUMBER</th>\n",
       "      <th>COUNTRY_ALPHA_3_CODE</th>\n",
       "      <th>COUNTRY_SHORT_NAME</th>\n",
       "      <th>COUNTRY_ALPHA_2_CODE</th>\n",
       "      <th>PEOPLE_POSITIVE_NEW_CASES_COUNT</th>\n",
       "      <th>PEOPLE_DEATH_COUNT</th>\n",
       "    </tr>\n",
       "  </thead>\n",
       "  <tbody>\n",
       "    <tr>\n",
       "      <th>797217</th>\n",
       "      <td>44</td>\n",
       "      <td>Ward</td>\n",
       "      <td>North Dakota</td>\n",
       "      <td>2020-06-07</td>\n",
       "      <td>America</td>\n",
       "      <td>New York Times</td>\n",
       "      <td>0</td>\n",
       "      <td>38101.0</td>\n",
       "      <td>USA</td>\n",
       "      <td>United States</td>\n",
       "      <td>US</td>\n",
       "      <td>1</td>\n",
       "      <td>1</td>\n",
       "    </tr>\n",
       "    <tr>\n",
       "      <th>797218</th>\n",
       "      <td>0</td>\n",
       "      <td>Barbour</td>\n",
       "      <td>West Virginia</td>\n",
       "      <td>2020-02-16</td>\n",
       "      <td>America</td>\n",
       "      <td>New York Times</td>\n",
       "      <td>0</td>\n",
       "      <td>54001.0</td>\n",
       "      <td>USA</td>\n",
       "      <td>United States</td>\n",
       "      <td>US</td>\n",
       "      <td>0</td>\n",
       "      <td>0</td>\n",
       "    </tr>\n",
       "    <tr>\n",
       "      <th>797219</th>\n",
       "      <td>0</td>\n",
       "      <td>Barbour</td>\n",
       "      <td>West Virginia</td>\n",
       "      <td>2020-01-22</td>\n",
       "      <td>America</td>\n",
       "      <td>New York Times</td>\n",
       "      <td>0</td>\n",
       "      <td>54001.0</td>\n",
       "      <td>USA</td>\n",
       "      <td>United States</td>\n",
       "      <td>US</td>\n",
       "      <td>0</td>\n",
       "      <td>0</td>\n",
       "    </tr>\n",
       "    <tr>\n",
       "      <th>797220</th>\n",
       "      <td>5</td>\n",
       "      <td>Barbour</td>\n",
       "      <td>West Virginia</td>\n",
       "      <td>2020-04-30</td>\n",
       "      <td>America</td>\n",
       "      <td>New York Times</td>\n",
       "      <td>0</td>\n",
       "      <td>54001.0</td>\n",
       "      <td>USA</td>\n",
       "      <td>United States</td>\n",
       "      <td>US</td>\n",
       "      <td>1</td>\n",
       "      <td>1</td>\n",
       "    </tr>\n",
       "    <tr>\n",
       "      <th>797221</th>\n",
       "      <td>0</td>\n",
       "      <td>Barbour</td>\n",
       "      <td>West Virginia</td>\n",
       "      <td>2020-02-11</td>\n",
       "      <td>America</td>\n",
       "      <td>New York Times</td>\n",
       "      <td>0</td>\n",
       "      <td>54001.0</td>\n",
       "      <td>USA</td>\n",
       "      <td>United States</td>\n",
       "      <td>US</td>\n",
       "      <td>0</td>\n",
       "      <td>0</td>\n",
       "    </tr>\n",
       "  </tbody>\n",
       "</table>\n",
       "</div>"
      ],
      "text/plain": [
       "        PEOPLE_POSITIVE_CASES_COUNT COUNTY_NAME PROVINCE_STATE_NAME  \\\n",
       "797217                           44        Ward        North Dakota   \n",
       "797218                            0     Barbour       West Virginia   \n",
       "797219                            0     Barbour       West Virginia   \n",
       "797220                            5     Barbour       West Virginia   \n",
       "797221                            0     Barbour       West Virginia   \n",
       "\n",
       "       REPORT_DATE CONTINENT_NAME DATA_SOURCE_NAME  PEOPLE_DEATH_NEW_COUNT  \\\n",
       "797217  2020-06-07        America   New York Times                       0   \n",
       "797218  2020-02-16        America   New York Times                       0   \n",
       "797219  2020-01-22        America   New York Times                       0   \n",
       "797220  2020-04-30        America   New York Times                       0   \n",
       "797221  2020-02-11        America   New York Times                       0   \n",
       "\n",
       "        COUNTY_FIPS_NUMBER COUNTRY_ALPHA_3_CODE COUNTRY_SHORT_NAME  \\\n",
       "797217             38101.0                  USA      United States   \n",
       "797218             54001.0                  USA      United States   \n",
       "797219             54001.0                  USA      United States   \n",
       "797220             54001.0                  USA      United States   \n",
       "797221             54001.0                  USA      United States   \n",
       "\n",
       "       COUNTRY_ALPHA_2_CODE  PEOPLE_POSITIVE_NEW_CASES_COUNT  \\\n",
       "797217                   US                                1   \n",
       "797218                   US                                0   \n",
       "797219                   US                                0   \n",
       "797220                   US                                1   \n",
       "797221                   US                                0   \n",
       "\n",
       "        PEOPLE_DEATH_COUNT  \n",
       "797217                   1  \n",
       "797218                   0  \n",
       "797219                   0  \n",
       "797220                   1  \n",
       "797221                   0  "
      ]
     },
     "execution_count": 6,
     "metadata": {},
     "output_type": "execute_result"
    }
   ],
   "source": [
    "df.tail()"
   ]
  },
  {
   "cell_type": "code",
   "execution_count": 7,
   "metadata": {},
   "outputs": [
    {
     "data": {
      "text/plain": [
       "'2020-09-05'"
      ]
     },
     "execution_count": 7,
     "metadata": {},
     "output_type": "execute_result"
    }
   ],
   "source": [
    "df[df['COUNTRY_SHORT_NAME']=='Spain']['REPORT_DATE'].sort_values().unique()[-1]"
   ]
  },
  {
   "cell_type": "markdown",
   "metadata": {},
   "source": [
    "En la [url](https://data.world/covid-19-data-resource-hub/covid-19-case-counts/workspace/file?filename=COVID-19+Cases.csv) del proyecto vemos la descripción de cada uno de los campos."
   ]
  },
  {
   "cell_type": "markdown",
   "metadata": {},
   "source": [
    "Vamos a formatear correctamente la columna $Date$, para posteriormente ordenar el $pandas$ por fecha creciente:"
   ]
  },
  {
   "cell_type": "code",
   "execution_count": 8,
   "metadata": {},
   "outputs": [],
   "source": [
    "df['REPORT_DATE']=pd.to_datetime(df['REPORT_DATE'])"
   ]
  },
  {
   "cell_type": "code",
   "execution_count": 9,
   "metadata": {},
   "outputs": [
    {
     "data": {
      "text/plain": [
       "{'Afghanistan',\n",
       " 'Albania',\n",
       " 'Algeria',\n",
       " 'Andorra',\n",
       " 'Angola',\n",
       " 'Anguilla',\n",
       " 'Antigua and Barbuda',\n",
       " 'Argentina',\n",
       " 'Armenia',\n",
       " 'Aruba',\n",
       " 'Australia',\n",
       " 'Austria',\n",
       " 'Azerbaijan',\n",
       " 'Bahamas',\n",
       " 'Bahrain',\n",
       " 'Bangladesh',\n",
       " 'Barbados',\n",
       " 'Belarus',\n",
       " 'Belgium',\n",
       " 'Belize',\n",
       " 'Benin',\n",
       " 'Bermuda',\n",
       " 'Bhutan',\n",
       " 'Bolivia',\n",
       " 'Bonaire, Saint Eustatius and Saba',\n",
       " 'Bosnia and Herzegovina',\n",
       " 'Botswana',\n",
       " 'Brazil',\n",
       " 'British Virgin Islands',\n",
       " 'Brunei Darussalam',\n",
       " 'Bulgaria',\n",
       " 'Burkina Faso',\n",
       " 'Burundi',\n",
       " 'Cambodia',\n",
       " 'Cameroon',\n",
       " 'Canada',\n",
       " 'Cape Verde',\n",
       " 'Cayman Islands',\n",
       " 'Central African Republic',\n",
       " 'Chad',\n",
       " 'Chile',\n",
       " 'China',\n",
       " 'Colombia',\n",
       " 'Comoros',\n",
       " 'Congo',\n",
       " 'Costa Rica',\n",
       " 'Cote dIvoire',\n",
       " 'Croatia',\n",
       " 'Cuba',\n",
       " 'Curaçao',\n",
       " 'Cyprus',\n",
       " 'Czechia',\n",
       " 'Democratic Republic of the Congo',\n",
       " 'Denmark',\n",
       " 'Djibouti',\n",
       " 'Dominica',\n",
       " 'Dominican Republic',\n",
       " 'Ecuador',\n",
       " 'Egypt',\n",
       " 'El Salvador',\n",
       " 'Equatorial Guinea',\n",
       " 'Eritrea',\n",
       " 'Estonia',\n",
       " 'Eswatini',\n",
       " 'Ethiopia',\n",
       " 'Falkland Islands (Malvinas)',\n",
       " 'Faroe Islands',\n",
       " 'Fiji',\n",
       " 'Finland',\n",
       " 'France',\n",
       " 'French Polynesia',\n",
       " 'Gabon',\n",
       " 'Gambia',\n",
       " 'Georgia',\n",
       " 'Germany',\n",
       " 'Ghana',\n",
       " 'Gibraltar',\n",
       " 'Greece',\n",
       " 'Greenland',\n",
       " 'Grenada',\n",
       " 'Guatemala',\n",
       " 'Guernsey',\n",
       " 'Guinea',\n",
       " 'Guinea Bissau',\n",
       " 'Guyana',\n",
       " 'Haiti',\n",
       " 'Holy See',\n",
       " 'Honduras',\n",
       " 'Hungary',\n",
       " 'Iceland',\n",
       " 'India',\n",
       " 'Indonesia',\n",
       " 'Iran',\n",
       " 'Iraq',\n",
       " 'Ireland',\n",
       " 'Isle of Man',\n",
       " 'Israel',\n",
       " 'Italy',\n",
       " 'Jamaica',\n",
       " 'Japan',\n",
       " 'Jersey',\n",
       " 'Jordan',\n",
       " 'Kazakhstan',\n",
       " 'Kenya',\n",
       " 'Kosovo',\n",
       " 'Kuwait',\n",
       " 'Kyrgyzstan',\n",
       " 'Laos',\n",
       " 'Latvia',\n",
       " 'Lebanon',\n",
       " 'Lesotho',\n",
       " 'Liberia',\n",
       " 'Libya',\n",
       " 'Liechtenstein',\n",
       " 'Lithuania',\n",
       " 'Luxembourg',\n",
       " 'Madagascar',\n",
       " 'Malawi',\n",
       " 'Malaysia',\n",
       " 'Maldives',\n",
       " 'Mali',\n",
       " 'Malta',\n",
       " 'Mauritania',\n",
       " 'Mauritius',\n",
       " 'Mexico',\n",
       " 'Moldova',\n",
       " 'Monaco',\n",
       " 'Mongolia',\n",
       " 'Montenegro',\n",
       " 'Montserrat',\n",
       " 'Morocco',\n",
       " 'Mozambique',\n",
       " 'Myanmar',\n",
       " 'Namibia',\n",
       " 'Nepal',\n",
       " 'Netherlands',\n",
       " 'New Caledonia',\n",
       " 'New Zealand',\n",
       " 'Nicaragua',\n",
       " 'Niger',\n",
       " 'Nigeria',\n",
       " 'North Macedonia',\n",
       " 'Norway',\n",
       " 'Oman',\n",
       " 'Pakistan',\n",
       " 'Palestine',\n",
       " 'Panama',\n",
       " 'Papua New Guinea',\n",
       " 'Paraguay',\n",
       " 'Peru',\n",
       " 'Philippines',\n",
       " 'Poland',\n",
       " 'Portugal',\n",
       " 'Qatar',\n",
       " 'Romania',\n",
       " 'Russia',\n",
       " 'Rwanda',\n",
       " 'Saint Kitts and Nevis',\n",
       " 'Saint Lucia',\n",
       " 'Saint Vincent and the Grenadines',\n",
       " 'San Marino',\n",
       " 'Sao Tome and Principe',\n",
       " 'Saudi Arabia',\n",
       " 'Senegal',\n",
       " 'Serbia',\n",
       " 'Seychelles',\n",
       " 'Sierra Leone',\n",
       " 'Singapore',\n",
       " 'Sint Maarten',\n",
       " 'Slovakia',\n",
       " 'Slovenia',\n",
       " 'Somalia',\n",
       " 'South Africa',\n",
       " 'South Korea',\n",
       " 'South Sudan',\n",
       " 'Spain',\n",
       " 'Sri Lanka',\n",
       " 'Sudan',\n",
       " 'Suriname',\n",
       " 'Sweden',\n",
       " 'Switzerland',\n",
       " 'Syria',\n",
       " 'Taiwan',\n",
       " 'Tajikistan',\n",
       " 'Thailand',\n",
       " 'Timor Leste',\n",
       " 'Togo',\n",
       " 'Trinidad and Tobago',\n",
       " 'Tunisia',\n",
       " 'Turkey',\n",
       " 'Turks and Caicos islands',\n",
       " 'Uganda',\n",
       " 'Ukraine',\n",
       " 'United Arab Emirates',\n",
       " 'United Kingdom',\n",
       " 'United Republic of Tanzania',\n",
       " 'United States',\n",
       " 'Uruguay',\n",
       " 'Uzbekistan',\n",
       " 'Venezuela',\n",
       " 'Vietnam',\n",
       " 'Western Sahara',\n",
       " 'Yemen',\n",
       " 'Zambia',\n",
       " 'Zimbabwe'}"
      ]
     },
     "execution_count": 9,
     "metadata": {},
     "output_type": "execute_result"
    }
   ],
   "source": [
    "set(df['COUNTRY_SHORT_NAME'])"
   ]
  },
  {
   "cell_type": "code",
   "execution_count": 10,
   "metadata": {},
   "outputs": [
    {
     "data": {
      "text/plain": [
       "Index(['PEOPLE_POSITIVE_CASES_COUNT', 'COUNTY_NAME', 'PROVINCE_STATE_NAME',\n",
       "       'REPORT_DATE', 'CONTINENT_NAME', 'DATA_SOURCE_NAME',\n",
       "       'PEOPLE_DEATH_NEW_COUNT', 'COUNTY_FIPS_NUMBER', 'COUNTRY_ALPHA_3_CODE',\n",
       "       'COUNTRY_SHORT_NAME', 'COUNTRY_ALPHA_2_CODE',\n",
       "       'PEOPLE_POSITIVE_NEW_CASES_COUNT', 'PEOPLE_DEATH_COUNT'],\n",
       "      dtype='object')"
      ]
     },
     "execution_count": 10,
     "metadata": {},
     "output_type": "execute_result"
    }
   ],
   "source": [
    "df.columns"
   ]
  },
  {
   "cell_type": "code",
   "execution_count": 11,
   "metadata": {},
   "outputs": [],
   "source": [
    "list_columnas=df.columns"
   ]
  },
  {
   "cell_type": "code",
   "execution_count": 12,
   "metadata": {},
   "outputs": [
    {
     "name": "stdout",
     "output_type": "stream",
     "text": [
      "Columna número 0: PEOPLE_POSITIVE_CASES_COUNT\n",
      "Columna número 1: COUNTY_NAME\n",
      "Columna número 2: PROVINCE_STATE_NAME\n",
      "Columna número 3: REPORT_DATE\n",
      "Columna número 4: CONTINENT_NAME\n",
      "Columna número 5: DATA_SOURCE_NAME\n",
      "Columna número 6: PEOPLE_DEATH_NEW_COUNT\n",
      "Columna número 7: COUNTY_FIPS_NUMBER\n",
      "Columna número 8: COUNTRY_ALPHA_3_CODE\n",
      "Columna número 9: COUNTRY_SHORT_NAME\n",
      "Columna número 10: COUNTRY_ALPHA_2_CODE\n",
      "Columna número 11: PEOPLE_POSITIVE_NEW_CASES_COUNT\n",
      "Columna número 12: PEOPLE_DEATH_COUNT\n"
     ]
    }
   ],
   "source": [
    "for i,columna in enumerate(list_columnas):\n",
    "    print ('Columna número {}: {}'.format(i,columna))"
   ]
  },
  {
   "cell_type": "code",
   "execution_count": 13,
   "metadata": {},
   "outputs": [],
   "source": [
    "columnas_interes=[0,3,6,9,11,12]\n",
    "indice=[3,9]\n",
    "valores=[0,6,11,12]"
   ]
  },
  {
   "cell_type": "markdown",
   "metadata": {},
   "source": [
    "Con el objetivo de centrarnos en una lista de países de interés, vamos a crear una variable $lista$ que los contenga. Obviamente puedes libremente actualizar esa lista, siempre asegurándose de que la el país está corerctamente escrito y está incluído en :"
   ]
  },
  {
   "cell_type": "code",
   "execution_count": 14,
   "metadata": {},
   "outputs": [],
   "source": [
    "paises_interes=['China','Spain','United States','India','Italy','Russia','Mexico','Germany','France','United Kingdom','Brazil','Netherlands']"
   ]
  },
  {
   "cell_type": "code",
   "execution_count": 15,
   "metadata": {},
   "outputs": [],
   "source": [
    "paises_interes_2=['Sweden','Denmark','Norway','India','Italy','Portugal','Finland','Germany','France','United Kingdom','Brazil','Netherlands']"
   ]
  },
  {
   "cell_type": "code",
   "execution_count": 16,
   "metadata": {},
   "outputs": [],
   "source": [
    "paises_interes=['Austria','Belgium','France','Germany','Italy','Luxembourg','Netherlands','Portugal','Spain','Sweden','Switzerland','United Kingdom']"
   ]
  },
  {
   "cell_type": "code",
   "execution_count": 17,
   "metadata": {},
   "outputs": [],
   "source": [
    "paises_interes=['Austria','Belgium','France','Germany','Ireland','Italy','Netherlands','Portugal',\n",
    "                'Spain','Sweden','Switzerland','United Kingdom','China','United States','India','Russia',\n",
    "                'Mexico','Brazil','Argentina','Peru','Pakistan']"
   ]
  },
  {
   "cell_type": "code",
   "execution_count": 18,
   "metadata": {},
   "outputs": [],
   "source": [
    "poblacion={'Belgium':11533,'France':64926,'Germany':83243,'Italy':60294,'Luxembourg':602.5,'Netherlands':17431,\n",
    "           'Portugal':10264,'Russia':146712,'Spain':47441,'Sweden':10364,'Switzerland':8647,'United Kingdom':67180,\n",
    "           'China':1403426,'United States':331800,'India':1409902,'Mexico':127792,'Brazil':211420,\n",
    "           'Argentina':45377,'Peru':32824,'Pakistan':224654,'Israel':9229,'Austria':8926,'Ireland':4904}"
   ]
  },
  {
   "cell_type": "markdown",
   "metadata": {},
   "source": [
    "Filtramos el $pandas$ original quedándonos con 4 columnas de con los datos que nos interesan, creando un $df2$ con los países de interés incluídos en la lista. Indexamos el $pandas$ con un multiindex ['Date','Country_Region']:"
   ]
  },
  {
   "cell_type": "code",
   "execution_count": 19,
   "metadata": {},
   "outputs": [],
   "source": [
    "grouper={}\n",
    "for i in valores:\n",
    "    grouper[list_columnas[i]]=np.sum"
   ]
  },
  {
   "cell_type": "code",
   "execution_count": 20,
   "metadata": {},
   "outputs": [],
   "source": [
    "df2=df[list_columnas[columnas_interes]].pivot_table(index=list(list_columnas[indice]),\n",
    "                                                    values=list(list_columnas[valores]),\n",
    "                                                    aggfunc=grouper).sort_values(['REPORT_DATE'])"
   ]
  },
  {
   "cell_type": "code",
   "execution_count": 21,
   "metadata": {},
   "outputs": [],
   "source": [
    "df2.columns=['DEATHS','DEATHS_INC','CONFIRMED','CONFIRMED_INC']"
   ]
  },
  {
   "cell_type": "code",
   "execution_count": 22,
   "metadata": {
    "scrolled": true
   },
   "outputs": [
    {
     "data": {
      "text/html": [
       "<div>\n",
       "<style scoped>\n",
       "    .dataframe tbody tr th:only-of-type {\n",
       "        vertical-align: middle;\n",
       "    }\n",
       "\n",
       "    .dataframe tbody tr th {\n",
       "        vertical-align: top;\n",
       "    }\n",
       "\n",
       "    .dataframe thead th {\n",
       "        text-align: right;\n",
       "    }\n",
       "</style>\n",
       "<table border=\"1\" class=\"dataframe\">\n",
       "  <thead>\n",
       "    <tr style=\"text-align: right;\">\n",
       "      <th></th>\n",
       "      <th></th>\n",
       "      <th>DEATHS</th>\n",
       "      <th>DEATHS_INC</th>\n",
       "      <th>CONFIRMED</th>\n",
       "      <th>CONFIRMED_INC</th>\n",
       "    </tr>\n",
       "    <tr>\n",
       "      <th>REPORT_DATE</th>\n",
       "      <th>COUNTRY_SHORT_NAME</th>\n",
       "      <th></th>\n",
       "      <th></th>\n",
       "      <th></th>\n",
       "      <th></th>\n",
       "    </tr>\n",
       "  </thead>\n",
       "  <tbody>\n",
       "    <tr>\n",
       "      <th rowspan=\"5\" valign=\"top\">2019-12-31</th>\n",
       "      <th>Afghanistan</th>\n",
       "      <td>0</td>\n",
       "      <td>0</td>\n",
       "      <td>0</td>\n",
       "      <td>0</td>\n",
       "    </tr>\n",
       "    <tr>\n",
       "      <th>Mozambique</th>\n",
       "      <td>0</td>\n",
       "      <td>0</td>\n",
       "      <td>0</td>\n",
       "      <td>0</td>\n",
       "    </tr>\n",
       "    <tr>\n",
       "      <th>Myanmar</th>\n",
       "      <td>0</td>\n",
       "      <td>0</td>\n",
       "      <td>0</td>\n",
       "      <td>0</td>\n",
       "    </tr>\n",
       "    <tr>\n",
       "      <th>Namibia</th>\n",
       "      <td>0</td>\n",
       "      <td>0</td>\n",
       "      <td>0</td>\n",
       "      <td>0</td>\n",
       "    </tr>\n",
       "    <tr>\n",
       "      <th>Nepal</th>\n",
       "      <td>0</td>\n",
       "      <td>0</td>\n",
       "      <td>0</td>\n",
       "      <td>0</td>\n",
       "    </tr>\n",
       "  </tbody>\n",
       "</table>\n",
       "</div>"
      ],
      "text/plain": [
       "                                DEATHS  DEATHS_INC  CONFIRMED  CONFIRMED_INC\n",
       "REPORT_DATE COUNTRY_SHORT_NAME                                              \n",
       "2019-12-31  Afghanistan              0           0          0              0\n",
       "            Mozambique               0           0          0              0\n",
       "            Myanmar                  0           0          0              0\n",
       "            Namibia                  0           0          0              0\n",
       "            Nepal                    0           0          0              0"
      ]
     },
     "execution_count": 22,
     "metadata": {},
     "output_type": "execute_result"
    }
   ],
   "source": [
    "df2.head()"
   ]
  },
  {
   "cell_type": "markdown",
   "metadata": {},
   "source": [
    "Añadimos una columna con el ratio Fallecimientos vs Casos Confirmados (Death to Confirmed):"
   ]
  },
  {
   "cell_type": "code",
   "execution_count": 23,
   "metadata": {},
   "outputs": [],
   "source": [
    "df2['D2C']=df2['DEATHS']/df2['CONFIRMED']"
   ]
  },
  {
   "cell_type": "markdown",
   "metadata": {},
   "source": [
    "Y con el objetivo de facilitar la creación de gráficos vamos a crear un diccionario, con los países como clave, que y que nos devuelva un `pandas` por cada país. A ese `pandas`\n",
    " le hemos añadido unas columnas adicionales:\n",
    "\n",
    "1. `Inc_Confirmed` : Confirmados diarios incrementales, que calculamos por medio de la función `diff()`.\n",
    "\n",
    "2. `Inc_Deaths` : Fallecimiento diarios, que calculamos de igual manera con la función `diff()`.\n",
    "3. `Ratio_Confirmed`: Equivalente al ratio entre los `Inc_Confirmed` y los `Confirmed`\n",
    "4. Y finalmente `inc`: equivalente a la variación diaria en porcentual de `Inc_Confirmed`,  "
   ]
  },
  {
   "cell_type": "code",
   "execution_count": 24,
   "metadata": {},
   "outputs": [],
   "source": [
    "pd.options.mode.chained_assignment = None  # default='warn'\n",
    "resultados={}\n",
    "for pais in paises_interes:\n",
    "    df_aux=df2.xs(pais,level=1,drop_level=True)\n",
    "    df_aux['Ratio_Confirmed']=df_aux['CONFIRMED_INC']/df_aux['CONFIRMED']\n",
    "    df_aux['inc']=df_aux['CONFIRMED_INC'].pct_change()\n",
    "    resultados[pais]=df_aux\n",
    "pd.options.mode.chained_assignment = 'warn'"
   ]
  },
  {
   "cell_type": "code",
   "execution_count": 25,
   "metadata": {},
   "outputs": [
    {
     "data": {
      "text/plain": [
       "<matplotlib.axes._subplots.AxesSubplot at 0x7fa5edf01100>"
      ]
     },
     "execution_count": 25,
     "metadata": {},
     "output_type": "execute_result"
    },
    {
     "data": {
      "image/png": "[encoded data removed]",
      "text/plain": [
       "<Figure size 432x288 with 1 Axes>"
      ]
     },
     "metadata": {
      "needs_background": "light"
     },
     "output_type": "display_data"
    }
   ],
   "source": [
    "resultados['Spain']['CONFIRMED_INC'].plot()"
   ]
  },
  {
   "cell_type": "markdown",
   "metadata": {},
   "source": [
    "## Empezamos con lo gráficos:\n",
    "### Casos confirmados, fallecimiento y su ratio en la lista de países de interés"
   ]
  },
  {
   "cell_type": "code",
   "execution_count": 27,
   "metadata": {},
   "outputs": [],
   "source": [
    "def format_y(value, tick_number):\n",
    "    return '{:.1%}'.format(value)"
   ]
  },
  {
   "cell_type": "code",
   "execution_count": 28,
   "metadata": {},
   "outputs": [],
   "source": [
    "def format_func(value, tick_number):\n",
    "        #función para formateo de la etiqueta de los valores Date en el eje x\n",
    "        # devuelve un formato tal que : dia-mes\n",
    "        return  datetime.fromordinal(int(value)).strftime('%d-%b')"
   ]
  },
  {
   "cell_type": "code",
   "execution_count": null,
   "metadata": {
    "scrolled": true
   },
   "outputs": [],
   "source": [
    "f = plt.figure(figsize=(15,12))\n",
    "f.subplots_adjust(hspace=.5, wspace=.5)\n",
    "f.suptitle('Acumulated Confirmed and Deaths figures per country: '+datetime.today().strftime('%d/%m/%Y')\n",
    "           ,fontsize=30,y=0)\n",
    "ax1 = f.add_subplot(341)\n",
    "ax2 = f.add_subplot(342)\n",
    "ax3 = f.add_subplot(343)\n",
    "ax4 = f.add_subplot(344)\n",
    "ax5 = f.add_subplot(345)\n",
    "ax6 = f.add_subplot(346)\n",
    "ax7= f.add_subplot(347)\n",
    "ax8= f.add_subplot(348)\n",
    "ax9= f.add_subplot(349)\n",
    "ax10= f.add_subplot(3,4,10)\n",
    "ax11= f.add_subplot(3,4,11)\n",
    "ax12 = f.add_subplot (3,4,12)\n",
    "#f.subplots_adjust(hspace=.5, wspace=0.5)\n",
    "lista_axes=f.get_axes()\n",
    "#sns.set(palette='deep')\n",
    "sns.set_style(\"whitegrid\")\n",
    "sns.set_palette(sns.color_palette(\"RdBu_r\",7))\n",
    "#sns.color_palette(\"husl\")\n",
    "#sns.palplot(\"BrBG\")\n",
    "for i in range(12):                                     \n",
    "    t=resultados[paises_interes[i]].index\n",
    "    data1=resultados[paises_interes[i]]['D2C']\n",
    "    data2=resultados[paises_interes[i]]['CONFIRMED']\n",
    "    data3=resultados[paises_interes[i]]['DEATHS']\n",
    "    lista_axes[i].set_title(paises_interes[i],size=20)\n",
    "    sns.lineplot(t, data1, ax=lista_axes[i],color=sns.color_palette('RdBu_r',7)[6],linewidth=3)\n",
    "    lista_axes[i].tick_params(axis='y', labelsize=10,labelcolor=sns.color_palette('RdBu_r',7)[6])\n",
    "    if i % 4 == 0 :\n",
    "        lista_axes[i].set_ylabel('Ratio Death vs Confirmed', size=15,color=sns.color_palette('RdBu_r',7)[6])\n",
    "    else:\n",
    "        lista_axes[i].set_ylabel('', color='blue',size=15)\n",
    "        \n",
    "    lista_axes[i].get_xaxis().set_ticks([])\n",
    "    lista_axes[i].get_xaxis().set_visible(False)\n",
    "    lista_axes[i].yaxis.set_major_formatter(plt.FuncFormatter(format_y))\n",
    "    sns.despine(f)\n",
    "\n",
    "    ax2 = lista_axes[i].twinx()  # instantiate a second axes that shares the same x-axis\n",
    "    \n",
    "    ax2.grid(False)\n",
    "    #ax2.xaxis.set_major_formatter(plt.FuncFormatter(format_func))\n",
    "    \n",
    "    sns.lineplot(t, data2, label='Confirmed',ax=ax2,color=sns.color_palette('RdBu_r',7)[0],linewidth=3)\n",
    "    sns.lineplot(t,data3,label='Deaths',ax=ax2,color=sns.color_palette('RdBu_r',7)[2],linewidth=3)\n",
    "    \n",
    "    \n",
    "    ax2.set_ylabel('', color=sns.color_palette('RdBu_r',7)[0])\n",
    "    ax2.set_xlabel('')\n",
    "    ax2.get_xaxis().set_visible(True)   \n",
    "    ax2.xaxis.set_major_formatter(plt.FuncFormatter(format_func))\n",
    "    ax2.tick_params(axis='y',labelsize=10,labelcolor=sns.color_palette('RdBu_r',7)[0])\n",
    "    ax2.tick_params(axis='x',labelrotation=90)\n",
    "    ax2.legend()\n",
    "    #ax2.set_yscale('log')\n",
    "    \n",
    "    #f.tight_layout()  # otherwise the right y-label is slightly clipped\n",
    "f.savefig('graficos/grafico1.png')"
   ]
  },
  {
   "cell_type": "markdown",
   "metadata": {},
   "source": [
    "### Casos confirmados diarios, junto con su porcentaje frente al total acumulado de confirmados."
   ]
  },
  {
   "cell_type": "code",
   "execution_count": null,
   "metadata": {},
   "outputs": [],
   "source": [
    "f = plt.figure(figsize=(20,15))\n",
    "f.subplots_adjust(hspace=.5, wspace=.5)\n",
    "f.suptitle('Evolution Confirmed daily vs total: '+datetime.today().strftime('%d/%m/%Y')\n",
    "           ,fontsize=30,y=0)\n",
    "ax1 = f.add_subplot(341)\n",
    "ax2 = f.add_subplot(342)\n",
    "ax3 = f.add_subplot(343)\n",
    "ax4 = f.add_subplot(344)\n",
    "ax5 = f.add_subplot(345)\n",
    "ax6 = f.add_subplot(346)\n",
    "ax7= f.add_subplot(347)\n",
    "ax8= f.add_subplot(348)\n",
    "ax9= f.add_subplot(349)\n",
    "ax10= f.add_subplot(3,4,10)\n",
    "ax11= f.add_subplot(3,4,11)\n",
    "ax12 = f.add_subplot (3,4,12)\n",
    "lista_axes=f.get_axes()\n",
    "sns.set_style(\"whitegrid\")\n",
    "for i in range(12):\n",
    "    t=resultados[paises_interes[i]].index\n",
    "    data1=resultados[paises_interes[i]]['inc']\n",
    "    \n",
    "    data2=resultados[paises_interes[i]]['CONFIRMED_INC']\n",
    "    lista_axes[i].set_title(paises_interes[i],size=20)\n",
    "    sns.lineplot(t, data1, ax=lista_axes[i],color='blue',linewidth=3)\n",
    "    lista_axes[i].tick_params(axis='y', labelcolor='blue')\n",
    "    if i % 4 == 0 :\n",
    "        lista_axes[i].set_ylabel('Ratio Daily Confirmed vs Total ', color='blue',size=15)\n",
    "    else:\n",
    "        lista_axes[i].set_ylabel('', color='blue',size=15)\n",
    "    \n",
    "    lista_axes[i].get_xaxis().set_ticks([])\n",
    "    lista_axes[i].get_xaxis().set_visible(False)\n",
    "\n",
    "    ax2 = lista_axes[i].twinx()  # instantiate a second axes that shares the same x-axis\n",
    "    \n",
    "    ax2.grid(False)\n",
    "    ax2.xaxis.set_major_formatter(plt.FuncFormatter(format_func))\n",
    "    sns.lineplot(t, data2, label='Confirmed',ax=ax2,color='green',linewidth=3)\n",
    "    \n",
    "    if i % 4 == 3:\n",
    "        ax2.set_ylabel('Daily Confirmed', color='green',size=15)\n",
    "    else:\n",
    "        ax2.set_ylabel('', color='green',size=15)\n",
    "    ax2.get_xaxis().set_visible(True)   \n",
    "    ax2.set_xlabel('')\n",
    "    ax2.xaxis.set_major_formatter(plt.FuncFormatter(format_func))\n",
    "    ax2.tick_params(axis='y', labelcolor='green')\n",
    "    ax2.tick_params(axis='x',labelrotation=90)\n",
    "    ax2.legend()\n",
    "    ax2.set_yscale('linear')\n",
    "    f.tight_layout()  # otherwise the right y-label is slightly clipped\n",
    "f.savefig('graficos/inc_confirmed.png')"
   ]
  },
  {
   "cell_type": "markdown",
   "metadata": {},
   "source": [
    "### Vamos a generar curvas cuyo `t=0` depende de un determinado threshold: fallecimientos o confirmados equivalentes a un determinado nivel.."
   ]
  },
  {
   "cell_type": "markdown",
   "metadata": {},
   "source": [
    "Definimos un par de funciones auxiliares que de un `pandas`de entrada, y un determinado threshold, nos devuelve el `pandas`debidamente filtrado:"
   ]
  },
  {
   "cell_type": "code",
   "execution_count": null,
   "metadata": {},
   "outputs": [],
   "source": [
    "def deaths_threshold(res_pandas,threshold):\n",
    "    dia_zero=res_pandas[res_pandas['DEATHS']>threshold].index[0]\n",
    "    return res_pandas[res_pandas.index>=dia_zero]\n",
    "\n",
    "def confirmed_threshold(res_pandas,threshold):\n",
    "    dia_zero=res_pandas[res_pandas['CONFIRMED']>threshold].index[0]\n",
    "    return res_pandas[res_pandas.index>=dia_zero]"
   ]
  },
  {
   "cell_type": "markdown",
   "metadata": {},
   "source": [
    "Definimos ahora una función que convierte el eje X que tiene Date, a números ordinales. Esto es necesario puesto que cada país tiene una fecha 'threshold' diferente con lo que no se puede utilizar un eje X de fechas."
   ]
  },
  {
   "cell_type": "code",
   "execution_count": null,
   "metadata": {},
   "outputs": [],
   "source": [
    "def re_index(res_pandas):\n",
    "    aux={}\n",
    "    for i in res_pandas:\n",
    "        new_index=np.arange(len(res_pandas[i]))\n",
    "        aux[i]=res_pandas[i].rename(index=dict(zip(res_pandas[i].index,new_index)))\n",
    "    return aux"
   ]
  },
  {
   "cell_type": "markdown",
   "metadata": {},
   "source": [
    "Y como nos pueden interesar diferentes tipos de gráficos en función de la categoría a presentar y los threshold a usar, definiremos entonces una función a la que se le pueden pasar como argumentos esos valores. He añadido adicionalmente la posibilidad de eliminar China:"
   ]
  },
  {
   "cell_type": "code",
   "execution_count": null,
   "metadata": {},
   "outputs": [],
   "source": [
    "def grafico_threshold (datos,category_threshold,threshold,China=True,scale='linear'):\n",
    "    res_aux={}\n",
    "    color_pais={}\n",
    "    current_palette = sns.color_palette('Paired')\n",
    "    \n",
    "    for i,pais in enumerate(datos):\n",
    "        color_pais[pais]=current_palette[i]\n",
    "        if category_threshold=='CONFIRMED':\n",
    "            res_aux[pais]=confirmed_threshold(datos[pais],threshold)\n",
    "        else:\n",
    "            res_aux[pais]=deaths_threshold(datos[pais],threshold)\n",
    "    if not China:\n",
    "    # por si acaso datos no incluye de antemano el valor China    \n",
    "        try: \n",
    "            del res_aux['China']\n",
    "        except:\n",
    "            pass\n",
    "        \n",
    "    res_aux=re_index(res_aux)\n",
    "    f = plt.figure(figsize=(10,5))\n",
    "    ax1 = f.add_subplot(111)\n",
    "    ax1.set_title('Acumulated '+category_threshold+' from threshold = '+str(threshold),size=20)\n",
    "    #f.subplots_adjust(hspace=.5, wspace=0.5)\n",
    "    #sns.set(palette='deep')\n",
    "    sns.set_style(\"whitegrid\")\n",
    "    #current_palette = sns.color_palette('husl',12)\n",
    "    \n",
    "    sns.set_palette(current_palette)\n",
    "    for i in res_aux:\n",
    "        t=res_aux[i].index\n",
    "        sns.lineplot(t, res_aux[i][category_threshold], label=i,ax=ax1,linewidth=4,color=color_pais[i])\n",
    "        ax1.get_xaxis().set_visible(True)   \n",
    "    ax1.set_xlabel('Days after threshold in every country', color='black',size=20)\n",
    "    ax1.set_ylabel('Acumulated number of '+category_threshold, color='black',size=15)\n",
    "    ax1.legend(prop={'size':10})\n",
    "    ax1.set_yscale(scale)\n",
    "    path=\"graficos/\"\n",
    "    nombre_fichero=path+category_threshold+'_'+str(threshold)+str('_China='+str(China))+'_'+str(scale)+'.png'\n",
    "    f.savefig(nombre_fichero)\n",
    "    return \n",
    "    "
   ]
  },
  {
   "cell_type": "markdown",
   "metadata": {},
   "source": [
    "Veamos unos ejemplos, con Fallecimientos y Confirmados, threshold de 10 para los primeros y 100 para los segundos, e incluyendo y excluyendo China:"
   ]
  },
  {
   "cell_type": "code",
   "execution_count": null,
   "metadata": {},
   "outputs": [],
   "source": [
    "grafico_threshold(resultados,'DEATHS',10,China=True)"
   ]
  },
  {
   "cell_type": "code",
   "execution_count": null,
   "metadata": {},
   "outputs": [],
   "source": [
    "grafico_threshold(resultados,'DEATHS',10,China=False)"
   ]
  },
  {
   "cell_type": "code",
   "execution_count": null,
   "metadata": {},
   "outputs": [],
   "source": [
    "grafico_threshold(resultados,'CONFIRMED',100,China=True)"
   ]
  },
  {
   "cell_type": "code",
   "execution_count": null,
   "metadata": {},
   "outputs": [],
   "source": [
    "grafico_threshold(resultados,'CONFIRMED',100,China=False)"
   ]
  },
  {
   "cell_type": "markdown",
   "metadata": {},
   "source": [
    "## Ahora generaremos curvas temporales con los valores absolutos por cada país, añadiendo la posibilidad de utilizar escala lineal (por defecto) o logarítmica en el eje `y`\n"
   ]
  },
  {
   "cell_type": "code",
   "execution_count": null,
   "metadata": {},
   "outputs": [],
   "source": [
    "def grafico_temporal (datos,category,China=True,scale='linear'):\n",
    "    res_aux={}\n",
    "    color_pais={}\n",
    "    current_palette = sns.color_palette('Paired')\n",
    "    res_aux=datos\n",
    "    for i,pais in enumerate(datos):\n",
    "        color_pais[pais]=current_palette[i]\n",
    "    if not China:\n",
    "        try:\n",
    "            del res_aux['China']\n",
    "        except:\n",
    "            pass\n",
    "\n",
    "    f = plt.figure(figsize=(10,5))\n",
    "    ax1 = f.add_subplot(111)\n",
    "    ax1.set_title('Acumulated '+category,size=20)\n",
    "    #f.subplots_adjust(hspace=.5, wspace=0.5)\n",
    "    #sns.set(palette='deep')\n",
    "    sns.set_style(\"whitegrid\")\n",
    "    #current_palette = sns.color_palette('husl',12)\n",
    "    \n",
    "    sns.set_palette(current_palette)\n",
    "    for i in res_aux:\n",
    "        t=res_aux[i].index\n",
    "        sns.lineplot(t, res_aux[i][category], label=i,ax=ax1,linewidth=4,color=color_pais[i])\n",
    "        ax1.get_xaxis().set_visible(True)\n",
    "    ax1.tick_params(axis='x',labelsize=12)\n",
    "    ax1.tick_params(axis='y',labelsize=12)   \n",
    "    ax1.set_xlabel('Date', color='black',size=20)\n",
    "    ax1.set_ylabel('Acumulated number of '+category, color='black',size=15)\n",
    "    ax1.legend(prop={'size':10})\n",
    "    ax1.set_yscale(scale)\n",
    "    path='graficos/'\n",
    "    nombre_fichero=path+category+'_'+str('_China='+str(China))+'_'+str(scale)+'.png'\n",
    "    f.savefig(nombre_fichero)\n",
    "    return "
   ]
  },
  {
   "cell_type": "markdown",
   "metadata": {},
   "source": [
    "De igual manera vamos a generar varios gráficos activando cada opción.."
   ]
  },
  {
   "cell_type": "code",
   "execution_count": null,
   "metadata": {},
   "outputs": [],
   "source": [
    "grafico_temporal(resultados,'CONFIRMED',China=True)"
   ]
  },
  {
   "cell_type": "code",
   "execution_count": null,
   "metadata": {},
   "outputs": [],
   "source": [
    "grafico_temporal(resultados,'CONFIRMED',China=True,scale='log')"
   ]
  },
  {
   "cell_type": "code",
   "execution_count": null,
   "metadata": {},
   "outputs": [],
   "source": [
    "grafico_temporal(resultados,'DEATHS',China=True)"
   ]
  },
  {
   "cell_type": "code",
   "execution_count": null,
   "metadata": {},
   "outputs": [],
   "source": [
    "grafico_temporal(resultados,'DEATHS',China=True,scale='log')"
   ]
  },
  {
   "cell_type": "code",
   "execution_count": null,
   "metadata": {},
   "outputs": [],
   "source": [
    "# Set canvas background color the same as axes\n",
    "#mean_ratio=0.001\n",
    "def format_x(value, tick_number):\n",
    "        return  datetime.fromordinal(int(value)).strftime('%d-%b')\n",
    "\n",
    "\n",
    "plt.rc('figure', facecolor='black')\n",
    "plt.style.use('dark_background')\n",
    "plt.ion()\n",
    "\n",
    "# set constrianed_layout as True to avoid axes overlap\n",
    "#fig = plt.figure(figsize=(10,20 ), dpi=300, constrained_layout=True)\n",
    "fig = plt.figure(figsize=(8,12),dpi=300)\n",
    "desde_fecha=datetime(year=2020,month=3,day=1)\n",
    "hasta_fecha=resultados['Spain'].index[-1]\n",
    "titulo='''Positive cases per country from {} to {}'''\n",
    "fuente = '''Source https://data.world/covid-19-data-resource-hub/covid-19-case-counts'''\n",
    "fig.suptitle(titulo.format(desde_fecha.strftime('%d-%m-%Y'),hasta_fecha.strftime('%d-%m-%Y'))        \n",
    "           ,fontsize=20,x=.5,y=1,ha='center')\n",
    "#fig.text(1.3, 12.8, fuente, horizontalalignment='right',\n",
    "#         verticalalignment='center', transform=ax.transAxes)\n",
    "fig.text(.97, .96, fuente, horizontalalignment='right',\n",
    "         verticalalignment='center')\n",
    "\n",
    "# Use GridSpec for customising layout\n",
    "gs = fig.add_gridspec(nrows=13, ncols=8)\n",
    "\n",
    "ax=fig.add_subplot(gs[0,1:9])\n",
    "ax.bar(resultados['Spain'][resultados['Spain'].index > desde_fecha].index,0,color='xkcd:black',edgecolor='black',width=0.5,align='edge')\n",
    "ax.set_facecolor('xkcd:black')\n",
    "ax.spines['bottom'].set_visible(False)  \n",
    "ax.spines['right'].set_visible(False)  \n",
    "ax.spines['left'].set_visible(False)  \n",
    "ax.spines['top'].set_visible(False)\n",
    "\n",
    "ax.grid(False,which='both')\n",
    "#ax.tick_params(axis='x',direction='out',labelrotation=90)\n",
    "ax.xaxis.set_major_formatter(plt.FuncFormatter(format_x))\n",
    "\n",
    "ax.axes.get_yaxis().set_visible(False)\n",
    "#ax.axes.get_xaxis().set_visible(False)\n",
    "#ax.get_xaxis().set_ticks(resultados['M'][resultados['M'].index >= desde_fecha].index[::20])\n",
    "ax.tick_params(axis='x',size=0,labelsize=10,pad=-10)\n",
    "#ax.get_yaxis().set_ticks([])\n",
    "#ax.xaxis.set_ticks_position(position='top')\n",
    "\n",
    "majorFmt = mdates.DateFormatter('%-d-%b')\n",
    "ax.xaxis.set_major_locator(mdates.MonthLocator([1,2,3,4,5,6,7,8,9,10,11,12]))\n",
    "ax.xaxis.set_major_formatter(majorFmt)\n",
    "#ax2.yaxis.set_major_formatter(ticker.FuncFormatter(format_y))\n",
    "\n",
    "\n",
    "ratio_max=0\n",
    "average_com={}\n",
    "color_average_com={}\n",
    "max_average=0\n",
    "for i, com in enumerate(paises_interes):\n",
    "    df_data=resultados[com][resultados[com].index >= desde_fecha]\n",
    "    average_com[com]=df_data['CONFIRMED_INC'].mean()\n",
    "    if average_com[com] > max_average:\n",
    "        max_average=average_com[com]\n",
    "    if df_data['CONFIRMED_INC'].replace(np.inf,np.nan).max() > ratio_max:\n",
    "        ratio_max=df_data['CONFIRMED_INC'].max()\n",
    "for i, com in enumerate(paises_interes):\n",
    "    average_com[com]/=max_average\n",
    "    color_average_com[com]=cm.RdYlGn_r(average_com[com])\n",
    "\n",
    "\n",
    "for i, com in enumerate(paises_interes):\n",
    "    #nombre provincias\n",
    "    ax1 = fig.add_subplot(gs[i+1,0])\n",
    "    ax1.set_facecolor('xkcd:black')\n",
    "    ax1.annotate('{}'.format(com), (0.5, 0.5), size=16,xycoords='axes fraction', va='center', ha='right')\n",
    "    ax1.spines['bottom'].set_visible(False)  \n",
    "    ax1.spines['right'].set_visible(False)  \n",
    "    ax1.spines['left'].set_visible(False)  \n",
    "    ax1.spines['top'].set_visible(False)\n",
    "    ax1.get_xaxis().set_ticks([])\n",
    "    ax1.get_yaxis().set_ticks([])\n",
    "    #ax = fig.add_subplot(19,1,i+1, ylim=(-.0001, 0.0001))\n",
    "    ax = fig.add_subplot(gs[i+1, 1:9])\n",
    "    \n",
    "    ax.get_xaxis().set_visible(False)\n",
    "    #ax.get_yaxis().set_visible(False)\n",
    "    \n",
    "    df_data=resultados[com][resultados[com].index > desde_fecha]\n",
    "    mean_ratio=df_data['CONFIRMED'].mean()\n",
    "    # color scheme\n",
    "    # colors = cm.RdYlBu_r(resultados[com]['Fallecidos_por_hab'] / resultados[com]['Fallecidos_por_hab'].max())\n",
    "    # ax.bar(resultados[com].index, df_data['Fallecidos_por_hab'] - mean_ratio, label='_1',color=colors,\n",
    "    #       width=0.7, align=\"edge\")\n",
    "    \n",
    "    #colors = cm.RdYlBu_r(df_data['Casos_habitantes'] / df_data['Casos_habitantes'].replace(np.inf,np.nan).max())\n",
    "    colors = cm.RdYlBu_r(df_data['CONFIRMED_INC'] / ratio_max)\n",
    "    \n",
    "    ax.bar(df_data.index, df_data['CONFIRMED_INC'], label='_1',color=colors,\n",
    "           width=1, align=\"edge\")\n",
    "    \n",
    "    \n",
    "    #Calculemos el color de valor maximo, para que indique el rango del valor\n",
    "    color_max = colors[np.argmax(df_data['CONFIRMED_INC'])]\n",
    "    start, end = ax.get_ylim()\n",
    "    ax.get_yaxis().set_ticks([int(end)])\n",
    "    ax.set_ylim([0,ratio_max*1.2])\n",
    "    #ax.yaxis.label.set_color(color_max)\n",
    "    ax.tick_params(axis='y',colors=color_max,labelsize=8)\n",
    "\n",
    "    \n",
    "    # customise axes\n",
    "    ax.spines['bottom'].set_visible(False)  \n",
    "    ax.spines['right'].set_visible(False)  \n",
    "    #ax.spines['left'].set_visible(False)  \n",
    "    ax.spines['top'].set_visible(False)\n",
    "    ax.grid(False,which='both')\n",
    "    ax.get_xaxis().set_ticks([])\n",
    "    \n",
    "\n",
    "\n",
    "    #ax.set_ylabel(comunidades[com][0], rotation=0, color='#e3e3e3', fontsize=10, fontweight='bold')\n",
    "    \n",
    "#plt.tight_layout()\n",
    "plt.tight_layout(pad=0,w_pad=None,)\n",
    "path='graficos/'\n",
    "pref='temporal_por_paises_hasta'\n",
    "nombre_fichero=path+pref+'.png'\n",
    "fig.savefig(nombre_fichero)\n",
    "plt.show()"
   ]
  },
  {
   "cell_type": "markdown",
   "metadata": {},
   "source": [
    "Este notebook está disponible en mi [github](https://github.com/mharias/covid/blob/master/stats_cvid_paises.ipynb). Muchas gracias por el tiempo dedicado a leerlo, y espero que pueda aportar algo de información.\n",
    "\n",
    "Detrás de cada número de este notebook  hay un drama personal y familiar, trato de no olvidarlo nunca.."
   ]
  },
  {
   "cell_type": "code",
   "execution_count": null,
   "metadata": {},
   "outputs": [],
   "source": [
    "ratio_max.round()"
   ]
  },
  {
   "cell_type": "code",
   "execution_count": null,
   "metadata": {},
   "outputs": [],
   "source": [
    "fecha_inicio=datetime(year=2020,month=3,day=1)"
   ]
  },
  {
   "cell_type": "code",
   "execution_count": null,
   "metadata": {},
   "outputs": [],
   "source": [
    "datos_spain=resultados['Spain'][resultados['Spain']['CONFIRMED']>0]"
   ]
  },
  {
   "cell_type": "code",
   "execution_count": null,
   "metadata": {},
   "outputs": [],
   "source": [
    "datos_spain"
   ]
  },
  {
   "cell_type": "code",
   "execution_count": null,
   "metadata": {
    "scrolled": true
   },
   "outputs": [],
   "source": [
    "datos_spain['Confirmed_average_7'] = datos_spain.iloc[:,3].rolling(window=7).mean()"
   ]
  },
  {
   "cell_type": "code",
   "execution_count": null,
   "metadata": {},
   "outputs": [],
   "source": [
    "#plt.rc('figure', facecolor='white')\n",
    "#plt.style.use('seaborn-whitegrid')\n",
    "#plt.ion()\n",
    "sns.set_style(\"whitegrid\")\n",
    "#sns.set_palette(sns.color_palette(\"vlag\",7))\n",
    "\n",
    "f = plt.figure(figsize=(10,5))\n",
    "#plt.rcParams['figure.figsize'] = 10, 5\n",
    "f.subplots_adjust(hspace=.5, wspace=.5)\n",
    "f.suptitle('Spain: daily confirmed cases',fontsize=20,y=0,color='black',size=24)\n",
    "ax1 = f.add_subplot(111)\n",
    "ax1.spines['bottom'].set_visible(False)  \n",
    "ax1.spines['right'].set_visible(False)  \n",
    "ax1.spines['left'].set_visible(False)  \n",
    "ax1.spines['top'].set_visible(False)\n",
    "t=datos_spain.index\n",
    "data1=datos_spain['CONFIRMED_INC']\n",
    "data2=datos_spain['Confirmed_average_7']\n",
    "ax1.set_title('Source https://data.world/covid-19-data-resource-hub/covid-19-case-counts\\n'+\\\n",
    "              'https://github.com/mharias/covid/blob/master/stats_cvid_paises_v2.ipynb',size=12)\n",
    "sns.lineplot(t, data1, ax=ax1, color='red',label='As reported in the day',linewidth=3)\n",
    "sns.lineplot(t, data2, ax=ax1,color='navy',label='Moving Average 7 days',linewidth=5)\n",
    "\n",
    "ax1.tick_params(axis='y', labelcolor='navy',labelsize=20)\n",
    "ax1.yaxis.set_major_formatter(ticker.FormatStrFormatter('%0.0f'))\n",
    "#ax1.get_yaxis().set_major_formatter(ticker.FuncFormatter(lambda x, p: format(int(x), ',')))\n",
    "ax1.set_ylabel('Confirmed', size=20,color='navy')\n",
    "\n",
    "majorFmt = mdates.DateFormatter('%d-%b')  \n",
    "ax1.xaxis.set_major_formatter(majorFmt)\n",
    "ax1.tick_params(axis='x', labelcolor='navy',labelsize=18)\n",
    "ax1.set_xlabel('')\n",
    "\n",
    "ax1.legend(loc=(.43,.7),fontsize=20)\n",
    "ax1.grid(None)\n",
    "f.tight_layout()\n",
    "plt.show()\n",
    "path='graficos/'\n",
    "pref='confirmed_moving_average'\n",
    "nombre_fichero=path+pref+'.png'\n",
    "f.savefig(nombre_fichero,bbox_inches='tight',pad_inches=0.1)"
   ]
  },
  {
   "cell_type": "code",
   "execution_count": 26,
   "metadata": {},
   "outputs": [
    {
     "name": "stderr",
     "output_type": "stream",
     "text": [
      "/opt/anaconda3/envs/datascience/lib/python3.8/site-packages/seaborn/axisgrid.py:856: UserWarning: Tight layout not applied. tight_layout cannot make axes height small enough to accommodate all axes decorations\n",
      "  self.fig.tight_layout()\n"
     ]
    },
    {
     "data": {
      "text/plain": [
       "<Figure size 432x288 with 0 Axes>"
      ]
     },
     "metadata": {},
     "output_type": "display_data"
    },
    {
     "data": {
      "image/png": "[encoded data removed]",
      "text/plain": [
       "<Figure size 1080x504 with 21 Axes>"
      ]
     },
     "metadata": {},
     "output_type": "display_data"
    }
   ],
   "source": [
    "sns.set(style=\"white\",rc={\"axes.facecolor\": (0, 0, 0, 0)})\n",
    "\n",
    "\n",
    "# Preparamos los datos\n",
    "datos=df2.reset_index()[df2.reset_index()['COUNTRY_SHORT_NAME'].isin(paises_interes)]\n",
    "#datos['casos_millon']=datos.apply(lambda x: x['num_casos']/provincias[x['provincia_iso']][1]*10,axis=1)\n",
    "datos = datos[datos['REPORT_DATE']>=datetime(year=2020,month=3,day=1)]\n",
    "datos['Confirmed_millon']=datos.apply(lambda x: x['CONFIRMED_INC']/poblacion[x['COUNTRY_SHORT_NAME']]*1000,axis=1)\n",
    "ordenada=sorted(paises_interes)\n",
    "for i in datos['COUNTRY_SHORT_NAME'].unique():\n",
    "    serie=datos.loc[datos['COUNTRY_SHORT_NAME']==i]['Confirmed_millon'].rolling(window=7).mean()\n",
    "    datos.loc[datos['COUNTRY_SHORT_NAME']==i,'Confirmed_millon_average7']=serie\n",
    "\n",
    "github_url = 'https://github.com/mharias/covid/blob/master/stats_cvid_paises_v2.ipynb'\n",
    "    \n",
    "    #datos['Confirmed_millon_average7']=datos['Confirmed_millon'].rolling(window=30).mean()\n",
    "#datos['Confirmed_millon_average7']=datos.iloc[:,5].rolling(window=7).mean()\n",
    "\n",
    "# Creamos la figura desde Matplotlib\n",
    "plt.figure()\n",
    "\n",
    "# Initialize the FacetGrid object\n",
    "pal = sns.cubehelix_palette(52, rot=-.25, light=.7)\n",
    "g = sns.FacetGrid(datos,col='COUNTRY_SHORT_NAME', hue='COUNTRY_SHORT_NAME',col_wrap=3,col_order=ordenada,\n",
    "                  aspect=5, height=1, palette=pal)\n",
    "# Título\n",
    "g.fig.suptitle('Daily positive cases per million inhabitants. 7 days rolling average (max value)',fontsize=28,color='navy')\n",
    "\n",
    "g.fig.text(1, 0,'Source: {}'.format(path_datos), fontsize=10,horizontalalignment='right') #add text\n",
    "g.fig.text(1,0.03,'Python code:{}'.format(github_url),\n",
    "           fontsize=10,horizontalalignment='right')\n",
    "\n",
    "# Draw the densities in a few steps\n",
    "g.map(plt.fill_between, 'REPORT_DATE','Confirmed_millon_average7',color=pal[10])\n",
    "#g.map(plt.axhline, y=0, lw=1, clip_on=False)\n",
    "\n",
    "\n",
    "# Define and use a simple function to label the plot in axes coordinates\n",
    "def label(x, color, label):\n",
    "    ax = plt.gca()\n",
    "    valor_max = datos[datos['COUNTRY_SHORT_NAME']==label]['Confirmed_millon_average7'].max()\n",
    "    ax.text(0.5, .5, '{} ({:0.1f})'.format(label,valor_max), fontweight=\"bold\", color='navy',\n",
    "            ha=\"center\", va=\"center\", size=16,transform=ax.transAxes)\n",
    "\n",
    "\n",
    "g.map(label,'COUNTRY_SHORT_NAME')\n",
    "\n",
    "\n",
    "# Establecemos la distancia entre gráficos verticalmente para que no haya solapes\n",
    "g.fig.subplots_adjust(hspace=0)\n",
    "\n",
    "# Quitamos los títulos, título del eje x, y todos los ticks de y\n",
    "g.set_titles(\"\")\n",
    "g.set(yticks=[])\n",
    "g.set(xlabel='')\n",
    "\n",
    "# Formateamos el gráfico: numero de xticks, formato de la etiqueta, colores...\n",
    "majorFmt = DateFormatter('%B')\n",
    "for ax in g.axes:\n",
    "    ax.xaxis.set_major_formatter(majorFmt)\n",
    "    ax.xaxis.set_tick_params(labelsize=12,labelcolor='navy')\n",
    "    ax.xaxis.set_major_locator(DayLocator([1]))\n",
    "    ax.set_xlim(datos['REPORT_DATE'].unique()[0],datos['REPORT_DATE'].unique()[-1])\n",
    "\n",
    "# quitamos los ejes para dar más claridad a cada gráfico\n",
    "g.despine(bottom=True, left=True)\n",
    "\n",
    "#g.tight_layout(w_pad=0,h_pad=0,pad=5)\n",
    "g.savefig('graficos/pcr+_countries.png',dpi=100)  \n",
    "\n",
    "plt.show()\n"
   ]
  },
  {
   "cell_type": "markdown",
   "metadata": {},
   "source": [
    "https://pandas.pydata.org/pandas-docs/stable/reference/api/pandas.DataFrame.loc.html"
   ]
  },
  {
   "cell_type": "code",
   "execution_count": null,
   "metadata": {},
   "outputs": [],
   "source": []
  }
 ],
 "metadata": {
  "kernelspec": {
   "display_name": "Python 3",
   "language": "python",
   "name": "python3"
  },
  "language_info": {
   "codemirror_mode": {
    "name": "ipython",
    "version": 3
   },
   "file_extension": ".py",
   "mimetype": "text/x-python",
   "name": "python",
   "nbconvert_exporter": "python",
   "pygments_lexer": "ipython3",
   "version": "3.8.5"
  }
 },
 "nbformat": 4,
 "nbformat_minor": 2
}
