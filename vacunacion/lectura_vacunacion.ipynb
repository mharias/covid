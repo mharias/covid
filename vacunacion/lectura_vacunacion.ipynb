{
 "cells": [
  {
   "cell_type": "markdown",
   "metadata": {},
   "source": [
    "## Lectura del fichero de estado de vacunación publicado por Sanidad en  \n",
    "* https://www.mscbs.gob.es/profesionales/saludPublica/ccayes/alertasActual/nCov/vacunaCovid19.htm\n"
   ]
  },
  {
   "cell_type": "code",
   "execution_count": null,
   "metadata": {},
   "outputs": [],
   "source": [
    "# importamos pandas, numpy y datetime\n",
    "# previamente ha sido necesatio instalar el motor odfpy con un pip3 install odfpy\n",
    "import pandas as pd\n",
    "import numpy as np\n",
    "from datetime import datetime,timedelta"
   ]
  },
  {
   "cell_type": "code",
   "execution_count": null,
   "metadata": {},
   "outputs": [],
   "source": [
    "pd.__version__"
   ]
  },
  {
   "cell_type": "markdown",
   "metadata": {},
   "source": [
    "preparamos nombre del fichero csv, dentro del directorio csv. Preparamos dos ficheros:\n",
    "  * estado_vacunacion_.csv , última versión del mismo con el acumulado de todos los informes publicados\n",
    "  * estado_vacunacion_year-month-day.csv, con la versión del día en cuestión, solo con la información de ese día"
   ]
  },
  {
   "cell_type": "code",
   "execution_count": null,
   "metadata": {},
   "outputs": [],
   "source": [
    "path_directorio='csv/'\n",
    "nombre_root_fichero = 'estado_vacunacion_{}'\n",
    "fecha_informe = datetime.today()\n",
    "#en el caso de queramos bajar otra fecha diferente a 'hoy'\n",
    "#fecha_informe = datetime(year=2021,month=1,day=7)\n",
    "fecha_informe_str=fecha_informe.strftime('%Y%m%d')\n",
    "nombre_fichero_con_fecha = path_directorio + nombre_root_fichero.format(fecha_informe_str)\n",
    "nombre_fichero_acumulado = path_directorio + nombre_root_fichero.format('')"
   ]
  },
  {
   "cell_type": "markdown",
   "metadata": {},
   "source": [
    "Enlace al fichero en formato ods"
   ]
  },
  {
   "cell_type": "code",
   "execution_count": null,
   "metadata": {},
   "outputs": [],
   "source": [
    "enlace_bruto = 'https://www.mscbs.gob.es/profesionales/saludPublica/ccayes/alertasActual/nCov/documentos/Informe_Comunicacion_{}.ods'\n",
    "enlace = enlace_bruto.format(fecha_informe_str)"
   ]
  },
  {
   "cell_type": "markdown",
   "metadata": {},
   "source": [
    "Leemos el fichero"
   ]
  },
  {
   "cell_type": "code",
   "execution_count": null,
   "metadata": {},
   "outputs": [],
   "source": [
    "try:\n",
    "    datos_row = pd.read_excel(enlace)\n",
    "    print ('Ok, descargado {}'.format(enlace))\n",
    "except:\n",
    "    print ('No esta listo aun')"
   ]
  },
  {
   "cell_type": "code",
   "execution_count": null,
   "metadata": {},
   "outputs": [],
   "source": [
    "datos_row"
   ]
  },
  {
   "cell_type": "markdown",
   "metadata": {},
   "source": [
    "..copia para tratarlo"
   ]
  },
  {
   "cell_type": "code",
   "execution_count": null,
   "metadata": {},
   "outputs": [],
   "source": [
    "datos_hoy = datos_row.copy()"
   ]
  },
  {
   "cell_type": "markdown",
   "metadata": {},
   "source": [
    "renombramos columnas, añadimos columna con `fecha_de_informe` y ordenamos"
   ]
  },
  {
   "cell_type": "code",
   "execution_count": null,
   "metadata": {},
   "outputs": [],
   "source": [
    "datos_hoy.columns=['ccaa','Dosis entregadas','Dosis administradas','% sobre entregadas','Fecha de la ultima vacuna registrada']"
   ]
  },
  {
   "cell_type": "code",
   "execution_count": null,
   "metadata": {},
   "outputs": [],
   "source": [
    "datos_hoy['date_pub']=fecha_informe\n",
    "datos_hoy['source_name']='Ministerio de Sanidad'\n",
    "datos_hoy['source'] = enlace"
   ]
  },
  {
   "cell_type": "code",
   "execution_count": null,
   "metadata": {},
   "outputs": [],
   "source": [
    "datos_hoy=datos_hoy[['date_pub','ccaa','Fecha de la ultima vacuna registrada','Dosis entregadas','Dosis administradas','% sobre entregadas','source_name','source']]"
   ]
  },
  {
   "cell_type": "markdown",
   "metadata": {},
   "source": [
    "eliminamos la fila Totales"
   ]
  },
  {
   "cell_type": "code",
   "execution_count": null,
   "metadata": {},
   "outputs": [],
   "source": [
    "datos_hoy = datos_hoy.drop(datos_hoy.index[-1])"
   ]
  },
  {
   "cell_type": "code",
   "execution_count": null,
   "metadata": {},
   "outputs": [],
   "source": [
    "datos_hoy"
   ]
  },
  {
   "cell_type": "markdown",
   "metadata": {},
   "source": [
    "guardamos el fichero de hoy en el directorio csv"
   ]
  },
  {
   "cell_type": "code",
   "execution_count": null,
   "metadata": {},
   "outputs": [],
   "source": [
    "datos_hoy.to_csv(nombre_fichero_con_fecha+'.csv',index = False)"
   ]
  },
  {
   "cell_type": "markdown",
   "metadata": {},
   "source": [
    "y ahora bajamos el acumulado actual para añadirle los datos de hoy, y volverlo a subir "
   ]
  },
  {
   "cell_type": "code",
   "execution_count": null,
   "metadata": {},
   "outputs": [],
   "source": [
    "datos_acumulados = pd.read_csv('csv/Libro1.csv',sep=';')"
   ]
  },
  {
   "cell_type": "code",
   "execution_count": null,
   "metadata": {},
   "outputs": [],
   "source": [
    "datos_acumulados = pd.read_csv(nombre_fichero_acumulado+'.csv')"
   ]
  },
  {
   "cell_type": "code",
   "execution_count": null,
   "metadata": {},
   "outputs": [],
   "source": [
    "datos_acumulados"
   ]
  },
  {
   "cell_type": "markdown",
   "metadata": {},
   "source": [
    "concatenamos..."
   ]
  },
  {
   "cell_type": "code",
   "execution_count": null,
   "metadata": {},
   "outputs": [],
   "source": [
    "datos_acumulados=pd.concat([datos_acumulados,datos_hoy],ignore_index=True)"
   ]
  },
  {
   "cell_type": "code",
   "execution_count": null,
   "metadata": {},
   "outputs": [],
   "source": [
    "#aseguramos formato fecha para evitar inconsistencia en el merge\n",
    "datos_acumulados['date_pub'] = pd.to_datetime(datos_acumulados['date_pub'],format='%d/%m/%y')\n",
    "datos_acumulados['Fecha de la ultima vacuna registrada'] = pd.to_datetime(datos_acumulados['Fecha de la ultima vacuna registrada'],format='%d/%m/%y')"
   ]
  },
  {
   "cell_type": "code",
   "execution_count": null,
   "metadata": {},
   "outputs": [],
   "source": [
    "datos_acumulados['% sobre entregadas']=datos_acumulados['Dosis administradas']/datos_acumulados['Dosis entregadas']"
   ]
  },
  {
   "cell_type": "code",
   "execution_count": null,
   "metadata": {},
   "outputs": [],
   "source": [
    "datos_acumulados"
   ]
  },
  {
   "cell_type": "markdown",
   "metadata": {},
   "source": [
    "y volvemos a subirlo.."
   ]
  },
  {
   "cell_type": "code",
   "execution_count": null,
   "metadata": {},
   "outputs": [],
   "source": [
    "datos_acumulados.to_csv(nombre_fichero_acumulado+'.csv',index=False)"
   ]
  },
  {
   "cell_type": "code",
   "execution_count": null,
   "metadata": {},
   "outputs": [],
   "source": []
  }
 ],
 "metadata": {
  "kernelspec": {
   "display_name": "Python 3",
   "language": "python",
   "name": "python3"
  },
  "language_info": {
   "codemirror_mode": {
    "name": "ipython",
    "version": 3
   },
   "file_extension": ".py",
   "mimetype": "text/x-python",
   "name": "python",
   "nbconvert_exporter": "python",
   "pygments_lexer": "ipython3",
   "version": "3.8.5"
  }
 },
 "nbformat": 4,
 "nbformat_minor": 4
}
