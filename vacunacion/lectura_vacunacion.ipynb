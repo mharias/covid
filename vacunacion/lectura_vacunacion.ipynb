{
 "cells": [
  {
   "cell_type": "markdown",
   "metadata": {},
   "source": [
    "## Lectura del fichero de estado de vacunación publicado por Sanidad en  \n",
    "* https://www.mscbs.gob.es/profesionales/saludPublica/ccayes/alertasActual/nCov/vacunaCovid19.htm\n"
   ]
  },
  {
   "cell_type": "code",
   "execution_count": 24,
   "metadata": {},
   "outputs": [],
   "source": [
    "# importamos pandas, numpy y datetime\n",
    "# previamente ha sido necesatio instalar el motor odfpy con un pip3 install odfpy\n",
    "import pandas as pd\n",
    "import numpy as np\n",
    "from datetime import datetime,timedelta"
   ]
  },
  {
   "cell_type": "markdown",
   "metadata": {},
   "source": [
    "Version branch cambios 9 enero"
   ]
  },
  {
   "cell_type": "markdown",
   "metadata": {},
   "source": [
    "preparamos nombre del fichero csv, dentro del directorio csv. Preparamos dos ficheros:\n",
    "  * `estado_vacunacion_.csv` , última versión del mismo con el acumulado de todos los informes publicados\n",
    "  * `estado_vacunacion_yearmonthday.csv`, con la versión del día en cuestión, solo con la información de ese día"
   ]
  },
  {
   "cell_type": "code",
   "execution_count": 25,
   "metadata": {},
   "outputs": [],
   "source": [
    "path_directorio='csv/'\n",
    "nombre_root_fichero = 'estado_vacunacion_{}'\n",
    "fecha_informe = datetime.today()\n",
    "#en el caso de queramos bajar otra fecha diferente a 'hoy'\n",
    "#fecha_informe = datetime(year=2021,month=1,day=8)\n",
    "fecha_informe_str=fecha_informe.strftime('%Y%m%d') #fecha formateada para nombre fichero\n",
    "fecha_informe_pandas = fecha_informe.strftime('%-d/%-m/%y') #idem para el campo pandas\n",
    "nombre_fichero_con_fecha = path_directorio + nombre_root_fichero.format(fecha_informe_str)\n",
    "nombre_fichero_acumulado = path_directorio + nombre_root_fichero.format('')"
   ]
  },
  {
   "cell_type": "markdown",
   "metadata": {},
   "source": [
    "Enlace al fichero en red en formato ods"
   ]
  },
  {
   "cell_type": "code",
   "execution_count": 26,
   "metadata": {},
   "outputs": [],
   "source": [
    "enlace_bruto = 'https://www.mscbs.gob.es/profesionales/saludPublica/ccayes/alertasActual/nCov/documentos/Informe_Comunicacion_{}.ods'\n",
    "enlace = enlace_bruto.format(fecha_informe_str)"
   ]
  },
  {
   "cell_type": "markdown",
   "metadata": {},
   "source": [
    "Leemos el fichero"
   ]
  },
  {
   "cell_type": "code",
   "execution_count": 27,
   "metadata": {},
   "outputs": [
    {
     "name": "stdout",
     "output_type": "stream",
     "text": [
      "No esta listo aun\n"
     ]
    }
   ],
   "source": [
    "try:\n",
    "    datos_row = pd.read_excel(enlace)\n",
    "    print ('Ok, descargado {}'.format(enlace))\n",
    "except:\n",
    "    print ('No esta listo aun')"
   ]
  },
  {
   "cell_type": "markdown",
   "metadata": {},
   "source": [
    "Le echamos un vistazo para asegurar que ha ido todo bien"
   ]
  },
  {
   "cell_type": "code",
   "execution_count": 18,
   "metadata": {},
   "outputs": [
    {
     "data": {
      "text/html": [
       "<div>\n",
       "<style scoped>\n",
       "    .dataframe tbody tr th:only-of-type {\n",
       "        vertical-align: middle;\n",
       "    }\n",
       "\n",
       "    .dataframe tbody tr th {\n",
       "        vertical-align: top;\n",
       "    }\n",
       "\n",
       "    .dataframe thead th {\n",
       "        text-align: right;\n",
       "    }\n",
       "</style>\n",
       "<table border=\"1\" class=\"dataframe\">\n",
       "  <thead>\n",
       "    <tr style=\"text-align: right;\">\n",
       "      <th></th>\n",
       "      <th>Unnamed: 0</th>\n",
       "      <th>Dosis entregadas (1)</th>\n",
       "      <th>Dosis administradas (2)</th>\n",
       "      <th>% sobre entregadas</th>\n",
       "      <th>Fecha de la última vacuna registrada (2)</th>\n",
       "    </tr>\n",
       "  </thead>\n",
       "  <tbody>\n",
       "    <tr>\n",
       "      <th>0</th>\n",
       "      <td>Andalucía</td>\n",
       "      <td>140295</td>\n",
       "      <td>69445</td>\n",
       "      <td>0.494993</td>\n",
       "      <td>2021-01-07</td>\n",
       "    </tr>\n",
       "    <tr>\n",
       "      <th>1</th>\n",
       "      <td>Aragón</td>\n",
       "      <td>23715</td>\n",
       "      <td>9944</td>\n",
       "      <td>0.419313</td>\n",
       "      <td>2021-01-08</td>\n",
       "    </tr>\n",
       "    <tr>\n",
       "      <th>2</th>\n",
       "      <td>Asturias</td>\n",
       "      <td>23720</td>\n",
       "      <td>17843</td>\n",
       "      <td>0.752234</td>\n",
       "      <td>2021-01-08</td>\n",
       "    </tr>\n",
       "    <tr>\n",
       "      <th>3</th>\n",
       "      <td>Baleares</td>\n",
       "      <td>12840</td>\n",
       "      <td>4257</td>\n",
       "      <td>0.331542</td>\n",
       "      <td>2021-12-07</td>\n",
       "    </tr>\n",
       "    <tr>\n",
       "      <th>4</th>\n",
       "      <td>Canarias</td>\n",
       "      <td>27660</td>\n",
       "      <td>9572</td>\n",
       "      <td>0.346059</td>\n",
       "      <td>2021-01-08</td>\n",
       "    </tr>\n",
       "    <tr>\n",
       "      <th>5</th>\n",
       "      <td>Cantabria</td>\n",
       "      <td>11850</td>\n",
       "      <td>2334</td>\n",
       "      <td>0.196962</td>\n",
       "      <td>2021-01-08</td>\n",
       "    </tr>\n",
       "    <tr>\n",
       "      <th>6</th>\n",
       "      <td>Castilla y Leon</td>\n",
       "      <td>51390</td>\n",
       "      <td>28325</td>\n",
       "      <td>0.551177</td>\n",
       "      <td>2021-01-07</td>\n",
       "    </tr>\n",
       "    <tr>\n",
       "      <th>7</th>\n",
       "      <td>Castilla La Mancha</td>\n",
       "      <td>35550</td>\n",
       "      <td>12380</td>\n",
       "      <td>0.348242</td>\n",
       "      <td>2021-01-07</td>\n",
       "    </tr>\n",
       "    <tr>\n",
       "      <th>8</th>\n",
       "      <td>Cataluña</td>\n",
       "      <td>120545</td>\n",
       "      <td>38826</td>\n",
       "      <td>0.322087</td>\n",
       "      <td>2021-01-07</td>\n",
       "    </tr>\n",
       "    <tr>\n",
       "      <th>9</th>\n",
       "      <td>C. Valenciana</td>\n",
       "      <td>61225</td>\n",
       "      <td>15965</td>\n",
       "      <td>0.260759</td>\n",
       "      <td>2021-01-08</td>\n",
       "    </tr>\n",
       "    <tr>\n",
       "      <th>10</th>\n",
       "      <td>Extremadura</td>\n",
       "      <td>21725</td>\n",
       "      <td>4727</td>\n",
       "      <td>0.217583</td>\n",
       "      <td>2021-01-07</td>\n",
       "    </tr>\n",
       "    <tr>\n",
       "      <th>11</th>\n",
       "      <td>Galicia</td>\n",
       "      <td>37555</td>\n",
       "      <td>24750</td>\n",
       "      <td>0.659033</td>\n",
       "      <td>2021-01-08</td>\n",
       "    </tr>\n",
       "    <tr>\n",
       "      <th>12</th>\n",
       "      <td>La Rioja</td>\n",
       "      <td>5915</td>\n",
       "      <td>1674</td>\n",
       "      <td>0.283009</td>\n",
       "      <td>2021-01-08</td>\n",
       "    </tr>\n",
       "    <tr>\n",
       "      <th>13</th>\n",
       "      <td>Madrid</td>\n",
       "      <td>98790</td>\n",
       "      <td>14152</td>\n",
       "      <td>0.143253</td>\n",
       "      <td>2021-01-08</td>\n",
       "    </tr>\n",
       "    <tr>\n",
       "      <th>14</th>\n",
       "      <td>Murcia</td>\n",
       "      <td>25685</td>\n",
       "      <td>8958</td>\n",
       "      <td>0.348764</td>\n",
       "      <td>2021-01-08</td>\n",
       "    </tr>\n",
       "    <tr>\n",
       "      <th>15</th>\n",
       "      <td>Navarra</td>\n",
       "      <td>11850</td>\n",
       "      <td>3703</td>\n",
       "      <td>0.312489</td>\n",
       "      <td>2021-01-07</td>\n",
       "    </tr>\n",
       "    <tr>\n",
       "      <th>16</th>\n",
       "      <td>País Vasco</td>\n",
       "      <td>31605</td>\n",
       "      <td>9811</td>\n",
       "      <td>0.310426</td>\n",
       "      <td>2021-01-07</td>\n",
       "    </tr>\n",
       "    <tr>\n",
       "      <th>17</th>\n",
       "      <td>Ceuta</td>\n",
       "      <td>1005</td>\n",
       "      <td>637</td>\n",
       "      <td>0.633831</td>\n",
       "      <td>2021-01-07</td>\n",
       "    </tr>\n",
       "    <tr>\n",
       "      <th>18</th>\n",
       "      <td>Melilla</td>\n",
       "      <td>1005</td>\n",
       "      <td>673</td>\n",
       "      <td>0.669652</td>\n",
       "      <td>2021-01-08</td>\n",
       "    </tr>\n",
       "    <tr>\n",
       "      <th>19</th>\n",
       "      <td>Totales</td>\n",
       "      <td>743925</td>\n",
       "      <td>277976</td>\n",
       "      <td>0.373661</td>\n",
       "      <td>NaT</td>\n",
       "    </tr>\n",
       "  </tbody>\n",
       "</table>\n",
       "</div>"
      ],
      "text/plain": [
       "            Unnamed: 0  Dosis entregadas (1)  Dosis administradas (2)  \\\n",
       "0            Andalucía                140295                    69445   \n",
       "1               Aragón                 23715                     9944   \n",
       "2            Asturias                  23720                    17843   \n",
       "3             Baleares                 12840                     4257   \n",
       "4             Canarias                 27660                     9572   \n",
       "5            Cantabria                 11850                     2334   \n",
       "6     Castilla y Leon                  51390                    28325   \n",
       "7   Castilla La Mancha                 35550                    12380   \n",
       "8             Cataluña                120545                    38826   \n",
       "9        C. Valenciana                 61225                    15965   \n",
       "10         Extremadura                 21725                     4727   \n",
       "11             Galicia                 37555                    24750   \n",
       "12            La Rioja                  5915                     1674   \n",
       "13              Madrid                 98790                    14152   \n",
       "14             Murcia                  25685                     8958   \n",
       "15             Navarra                 11850                     3703   \n",
       "16          País Vasco                 31605                     9811   \n",
       "17               Ceuta                  1005                      637   \n",
       "18             Melilla                  1005                      673   \n",
       "19             Totales                743925                   277976   \n",
       "\n",
       "    % sobre entregadas Fecha de la última vacuna registrada (2)  \n",
       "0             0.494993                               2021-01-07  \n",
       "1             0.419313                               2021-01-08  \n",
       "2             0.752234                               2021-01-08  \n",
       "3             0.331542                               2021-12-07  \n",
       "4             0.346059                               2021-01-08  \n",
       "5             0.196962                               2021-01-08  \n",
       "6             0.551177                               2021-01-07  \n",
       "7             0.348242                               2021-01-07  \n",
       "8             0.322087                               2021-01-07  \n",
       "9             0.260759                               2021-01-08  \n",
       "10            0.217583                               2021-01-07  \n",
       "11            0.659033                               2021-01-08  \n",
       "12            0.283009                               2021-01-08  \n",
       "13            0.143253                               2021-01-08  \n",
       "14            0.348764                               2021-01-08  \n",
       "15            0.312489                               2021-01-07  \n",
       "16            0.310426                               2021-01-07  \n",
       "17            0.633831                               2021-01-07  \n",
       "18            0.669652                               2021-01-08  \n",
       "19            0.373661                                      NaT  "
      ]
     },
     "execution_count": 18,
     "metadata": {},
     "output_type": "execute_result"
    }
   ],
   "source": [
    "datos_row"
   ]
  },
  {
   "cell_type": "markdown",
   "metadata": {},
   "source": [
    "..hacemos una copia para hacerle las transformaciones necesarias:"
   ]
  },
  {
   "cell_type": "code",
   "execution_count": null,
   "metadata": {},
   "outputs": [],
   "source": [
    "datos_hoy = datos_row.copy()"
   ]
  },
  {
   "cell_type": "markdown",
   "metadata": {},
   "source": [
    "Primero renombramos columnas, añadimos luego una columna con la fecha del informe `date_pub`, y finalmente añadimos fuente y origen de datos para asegurar trazabilidad de los datos:"
   ]
  },
  {
   "cell_type": "code",
   "execution_count": null,
   "metadata": {},
   "outputs": [],
   "source": [
    "datos_hoy.columns=['ccaa','Dosis entregadas','Dosis administradas','% sobre entregadas','Fecha de la ultima vacuna registrada']"
   ]
  },
  {
   "cell_type": "code",
   "execution_count": null,
   "metadata": {},
   "outputs": [],
   "source": [
    "datos_hoy['date_pub']=fecha_informe_pandas\n",
    "datos_hoy['source_name']='Ministerio de Sanidad'\n",
    "datos_hoy['source'] = enlace\n"
   ]
  },
  {
   "cell_type": "markdown",
   "metadata": {},
   "source": [
    "vamos a convertir el formato de `Fecha de la ultima vacuna registrada` para que aparezca como día/mes/año sin añadir ceros de pad..de ahi el signo menos en el caso de dia y mes (%-d/%-m). La excepción se añade para la línea de Totales, que no lleva fecha asociada:"
   ]
  },
  {
   "cell_type": "code",
   "execution_count": 19,
   "metadata": {},
   "outputs": [],
   "source": [
    "def convierte(x):\n",
    "    campo =  x['Fecha de la ultima vacuna registrada']\n",
    "    try:\n",
    "        fecha = campo.strftime('%-d/%-m/%y')\n",
    "        return fecha\n",
    "    except:\n",
    "        return campo"
   ]
  },
  {
   "cell_type": "code",
   "execution_count": null,
   "metadata": {},
   "outputs": [],
   "source": [
    "datos_hoy['Fecha de la ultima vacuna registrada'] = datos_hoy.apply(convierte,axis=1)"
   ]
  },
  {
   "cell_type": "markdown",
   "metadata": {},
   "source": [
    "..y ordenamos.."
   ]
  },
  {
   "cell_type": "code",
   "execution_count": null,
   "metadata": {},
   "outputs": [],
   "source": [
    "datos_hoy=datos_hoy[['date_pub','ccaa','Fecha de la ultima vacuna registrada','Dosis entregadas','Dosis administradas','% sobre entregadas','source_name','source']]"
   ]
  },
  {
   "cell_type": "markdown",
   "metadata": {},
   "source": [
    "Hemos visto algún informe en el que se añaden espacios al nombre de Comunidad, nos aseguramos aquí de eliminarlos en caso de que vuelvan a aparecer:"
   ]
  },
  {
   "cell_type": "code",
   "execution_count": null,
   "metadata": {},
   "outputs": [],
   "source": [
    "datos_hoy['ccaa'] = datos_hoy['ccaa'].apply(lambda x : x.rstrip().lstrip())"
   ]
  },
  {
   "cell_type": "code",
   "execution_count": null,
   "metadata": {},
   "outputs": [],
   "source": [
    "datos_hoy['ccaa'].unique()"
   ]
  },
  {
   "cell_type": "code",
   "execution_count": null,
   "metadata": {},
   "outputs": [],
   "source": [
    "datos_hoy"
   ]
  },
  {
   "cell_type": "markdown",
   "metadata": {},
   "source": [
    "guardamos el fichero de hoy en el directorio csv"
   ]
  },
  {
   "cell_type": "code",
   "execution_count": null,
   "metadata": {},
   "outputs": [],
   "source": [
    "datos_hoy.to_csv(nombre_fichero_con_fecha+'.csv',index = False)"
   ]
  },
  {
   "cell_type": "markdown",
   "metadata": {},
   "source": [
    "y ahora bajamos el acumulado actual para añadirle los datos de hoy, y volverlo a subir "
   ]
  },
  {
   "cell_type": "code",
   "execution_count": null,
   "metadata": {},
   "outputs": [],
   "source": [
    "# datos_acumulados = pd.read_csv('csv/Libro1.csv',sep=';')"
   ]
  },
  {
   "cell_type": "code",
   "execution_count": null,
   "metadata": {},
   "outputs": [],
   "source": [
    "datos_acumulados = pd.read_csv(nombre_fichero_acumulado+'.csv')"
   ]
  },
  {
   "cell_type": "code",
   "execution_count": null,
   "metadata": {},
   "outputs": [],
   "source": [
    "datos_acumulados"
   ]
  },
  {
   "cell_type": "markdown",
   "metadata": {},
   "source": [
    "concatenamos..."
   ]
  },
  {
   "cell_type": "code",
   "execution_count": null,
   "metadata": {},
   "outputs": [],
   "source": [
    "datos_acumulados=pd.concat([datos_acumulados,datos_hoy],ignore_index=True)"
   ]
  },
  {
   "cell_type": "code",
   "execution_count": null,
   "metadata": {},
   "outputs": [],
   "source": [
    "datos_acumulados"
   ]
  },
  {
   "cell_type": "code",
   "execution_count": null,
   "metadata": {},
   "outputs": [],
   "source": [
    "datos_acumulados['ccaa'].unique()"
   ]
  },
  {
   "cell_type": "markdown",
   "metadata": {},
   "source": [
    "y volvemos a subirlo.."
   ]
  },
  {
   "cell_type": "code",
   "execution_count": null,
   "metadata": {},
   "outputs": [],
   "source": [
    "datos_acumulados.to_csv(nombre_fichero_acumulado+'.csv',index=False)"
   ]
  }
 ],
 "metadata": {
  "kernelspec": {
   "display_name": "Python 3",
   "language": "python",
   "name": "python3"
  },
  "language_info": {
   "codemirror_mode": {
    "name": "ipython",
    "version": 3
   },
   "file_extension": ".py",
   "mimetype": "text/x-python",
   "name": "python",
   "nbconvert_exporter": "python",
   "pygments_lexer": "ipython3",
   "version": "3.8.5"
  }
 },
 "nbformat": 4,
 "nbformat_minor": 4
}
