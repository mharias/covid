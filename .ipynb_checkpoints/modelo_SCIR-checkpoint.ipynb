{
 "cells": [
  {
   "cell_type": "markdown",
   "metadata": {},
   "source": [
    "# Alcance"
   ]
  },
  {
   "cell_type": "markdown",
   "metadata": {},
   "source": [
    "En este trabajo vamos a implementar el modelo SCIR desarrollado en el paper : https://arxiv.org/pdf/2004.08842v2.pdf , cuyo código y datos están en el repositorio  https://github.com/mariocastro73/predictability. Este repositorio está escrito en `R`, en este trabajo pretendo escribir un modelo simplificado en `Python`, con la ayuda de la librería de modelos bayesianos https://docs.pymc.io utilizada para la inferencia de los parámetros de las ecuaciones que modelan el comportamiento de los compartimentos Susceptibles, Infected, Confined, Deceased...\n"
   ]
  },
  {
   "cell_type": "markdown",
   "metadata": {},
   "source": [
    "Empezamos como siempre importando las librerías de uso cotidiano para estos trabajos.\n",
    "He deshabilitado los warnings para facilidad de presentación de datos."
   ]
  },
  {
   "cell_type": "code",
   "execution_count": 1,
   "metadata": {},
   "outputs": [],
   "source": [
    "import pandas as pd\n",
    "import matplotlib.pyplot as plt\n",
    "from matplotlib.ticker import FuncFormatter\n",
    "from matplotlib import cm\n",
    "import matplotlib.dates as mdates\n",
    "import matplotlib.ticker as ticker\n",
    "from matplotlib.dates import (YEARLY, MONTHLY, DateFormatter, MonthLocator,DayLocator,\n",
    "                              rrulewrapper, RRuleLocator, drange)\n",
    "from scipy.integrate import odeint\n",
    "import numpy as np\n",
    "from datetime import datetime\n",
    "import seaborn as sns\n",
    "%matplotlib inline\n",
    "import arviz as az\n",
    "import urllib.request\n",
    "import pymc3 as pm\n",
    "import theano.tensor as tt\n",
    "import warnings;\n",
    "warnings.filterwarnings('ignore');"
   ]
  },
  {
   "cell_type": "markdown",
   "metadata": {},
   "source": [
    "Preparamos la descarga de datos desde el repositorio de [@alfonsotwr](https://twitter.com/alfonsotwr) que está haciendo un trabajo impagable de recopilación, auditoria y presentación de datos de los datos epidemiológicos de la Comunidad de Madrid"
   ]
  },
  {
   "cell_type": "code",
   "execution_count": 2,
   "metadata": {},
   "outputs": [],
   "source": [
    "path_datos='https://github.com/alfonsotwr/snippets/blob/master/covidia-cam/madrid-series.csv?raw=true'"
   ]
  },
  {
   "cell_type": "code",
   "execution_count": 3,
   "metadata": {},
   "outputs": [],
   "source": [
    "df = pd.read_csv(path_datos,parse_dates=['Fecha'],date_parser=lambda d: pd.to_datetime(d, format=\"%Y/%m/%d\", errors=\"coerce\"))"
   ]
  },
  {
   "cell_type": "code",
   "execution_count": 4,
   "metadata": {},
   "outputs": [
    {
     "data": {
      "text/plain": [
       "Index(['Fecha', 'CASOS_PCR', 'Hospitalizados', 'UCI', 'Fallecidos',\n",
       "       'Recuperados', 'domicilio', 'uci_dia', 'hospitalizados_dia',\n",
       "       'domicilio_dia', 'altas_dia', 'fallecidos_dia', 'muertos_hospitales',\n",
       "       'muertos_domicilios', 'muertos_centros', 'muertos_otros', 'muertos'],\n",
       "      dtype='object')"
      ]
     },
     "execution_count": 4,
     "metadata": {},
     "output_type": "execute_result"
    }
   ],
   "source": [
    "df.columns"
   ]
  },
  {
   "cell_type": "markdown",
   "metadata": {},
   "source": [
    "Vemos los datos de las columnas que nos interesan.."
   ]
  },
  {
   "cell_type": "code",
   "execution_count": 5,
   "metadata": {},
   "outputs": [
    {
     "data": {
      "text/html": [
       "<div>\n",
       "<style scoped>\n",
       "    .dataframe tbody tr th:only-of-type {\n",
       "        vertical-align: middle;\n",
       "    }\n",
       "\n",
       "    .dataframe tbody tr th {\n",
       "        vertical-align: top;\n",
       "    }\n",
       "\n",
       "    .dataframe thead th {\n",
       "        text-align: right;\n",
       "    }\n",
       "</style>\n",
       "<table border=\"1\" class=\"dataframe\">\n",
       "  <thead>\n",
       "    <tr style=\"text-align: right;\">\n",
       "      <th></th>\n",
       "      <th>Fecha</th>\n",
       "      <th>CASOS_PCR</th>\n",
       "      <th>muertos</th>\n",
       "      <th>Recuperados</th>\n",
       "    </tr>\n",
       "  </thead>\n",
       "  <tbody>\n",
       "    <tr>\n",
       "      <th>0</th>\n",
       "      <td>2020-04-22</td>\n",
       "      <td>56245</td>\n",
       "      <td>11852</td>\n",
       "      <td>33032</td>\n",
       "    </tr>\n",
       "    <tr>\n",
       "      <th>1</th>\n",
       "      <td>2020-04-23</td>\n",
       "      <td>57094</td>\n",
       "      <td>12056</td>\n",
       "      <td>33645</td>\n",
       "    </tr>\n",
       "    <tr>\n",
       "      <th>2</th>\n",
       "      <td>2020-04-24</td>\n",
       "      <td>58191</td>\n",
       "      <td>12252</td>\n",
       "      <td>34212</td>\n",
       "    </tr>\n",
       "    <tr>\n",
       "      <th>3</th>\n",
       "      <td>2020-04-25</td>\n",
       "      <td>58819</td>\n",
       "      <td>12612</td>\n",
       "      <td>34902</td>\n",
       "    </tr>\n",
       "    <tr>\n",
       "      <th>4</th>\n",
       "      <td>2020-04-26</td>\n",
       "      <td>59126</td>\n",
       "      <td>12855</td>\n",
       "      <td>35367</td>\n",
       "    </tr>\n",
       "    <tr>\n",
       "      <th>...</th>\n",
       "      <td>...</td>\n",
       "      <td>...</td>\n",
       "      <td>...</td>\n",
       "      <td>...</td>\n",
       "    </tr>\n",
       "    <tr>\n",
       "      <th>123</th>\n",
       "      <td>2020-09-14</td>\n",
       "      <td>174835</td>\n",
       "      <td>15759</td>\n",
       "      <td>48615</td>\n",
       "    </tr>\n",
       "    <tr>\n",
       "      <th>124</th>\n",
       "      <td>2020-09-15</td>\n",
       "      <td>178491</td>\n",
       "      <td>15759</td>\n",
       "      <td>48867</td>\n",
       "    </tr>\n",
       "    <tr>\n",
       "      <th>125</th>\n",
       "      <td>2020-09-16</td>\n",
       "      <td>181924</td>\n",
       "      <td>15920</td>\n",
       "      <td>49170</td>\n",
       "    </tr>\n",
       "    <tr>\n",
       "      <th>126</th>\n",
       "      <td>2020-09-17</td>\n",
       "      <td>186826</td>\n",
       "      <td>15920</td>\n",
       "      <td>49427</td>\n",
       "    </tr>\n",
       "    <tr>\n",
       "      <th>127</th>\n",
       "      <td>2020-09-18</td>\n",
       "      <td>191930</td>\n",
       "      <td>15985</td>\n",
       "      <td>49735</td>\n",
       "    </tr>\n",
       "  </tbody>\n",
       "</table>\n",
       "<p>128 rows × 4 columns</p>\n",
       "</div>"
      ],
      "text/plain": [
       "         Fecha  CASOS_PCR  muertos  Recuperados\n",
       "0   2020-04-22      56245    11852        33032\n",
       "1   2020-04-23      57094    12056        33645\n",
       "2   2020-04-24      58191    12252        34212\n",
       "3   2020-04-25      58819    12612        34902\n",
       "4   2020-04-26      59126    12855        35367\n",
       "..         ...        ...      ...          ...\n",
       "123 2020-09-14     174835    15759        48615\n",
       "124 2020-09-15     178491    15759        48867\n",
       "125 2020-09-16     181924    15920        49170\n",
       "126 2020-09-17     186826    15920        49427\n",
       "127 2020-09-18     191930    15985        49735\n",
       "\n",
       "[128 rows x 4 columns]"
      ]
     },
     "execution_count": 5,
     "metadata": {},
     "output_type": "execute_result"
    }
   ],
   "source": [
    "df[['Fecha','CASOS_PCR','muertos','Recuperados']]"
   ]
  },
  {
   "cell_type": "markdown",
   "metadata": {},
   "source": [
    "podemos comprobar que los datos presentados son acumulados"
   ]
  },
  {
   "cell_type": "markdown",
   "metadata": {},
   "source": [
    "Preparamos los datos a continuación. Para ello vamos a: \n",
    "- filtrar desde una fecha `fecha_inicio`..\n",
    "- Eliminamos los`nan`\n",
    "- generamos una columna con los datos de `infected`, necesaria para el cálculo posterior\n",
    "- generamos una columna con los datos X, equivalente a la suma de recuperados y fallecidos. Son los correspondientes a R+D en el módelo del paper\n",
    "- generamos los arrays correspondientes a la linea de tiempo, infected, con su log, y X con su log"
   ]
  },
  {
   "cell_type": "code",
   "execution_count": 6,
   "metadata": {},
   "outputs": [],
   "source": [
    "fecha_inicio=datetime(year=2020,month=8,day=15)\n",
    "\n",
    "df = df.fillna(0,axis=1)\n",
    "df = df[(df['Fecha']>=fecha_inicio)]\n",
    "\n",
    "color_avg = 'darkred'\n",
    "color_titulos = 'navy'\n",
    "color_diarios = 'royalblue'\n",
    "\n",
    "df['infected'] = df['CASOS_PCR']-df['muertos']-df['Recuperados']\n",
    "\n",
    "df['X'] = df['muertos']+df['Recuperados']\n",
    "#df['X'] = df['X'].diff().rolling(window=7).mean()\n",
    "df['X'] = df['X'].diff()\n",
    "\n",
    "infected = np.array(df['infected'][1:])\n",
    "infected_log = np.log(infected)\n",
    "X = np.array(df['X'])[1:]\n",
    "X_log = np.log(X)\n",
    "t=np.array([i for i in range(len(infected))])"
   ]
  },
  {
   "cell_type": "code",
   "execution_count": 7,
   "metadata": {},
   "outputs": [
    {
     "data": {
      "text/plain": [
       "<matplotlib.axes._subplots.AxesSubplot at 0x7ff6415da220>"
      ]
     },
     "execution_count": 7,
     "metadata": {},
     "output_type": "execute_result"
    },
    {
     "data": {
      "image/png": "[encoded data removed]",
      "text/plain": [
       "<Figure size 432x288 with 1 Axes>"
      ]
     },
     "metadata": {
      "needs_background": "light"
     },
     "output_type": "display_data"
    }
   ],
   "source": [
    "df['X'].plot()"
   ]
  },
  {
   "cell_type": "code",
   "execution_count": 8,
   "metadata": {},
   "outputs": [
    {
     "data": {
      "text/plain": [
       "<matplotlib.axes._subplots.AxesSubplot at 0x7ff641696550>"
      ]
     },
     "execution_count": 8,
     "metadata": {},
     "output_type": "execute_result"
    },
    {
     "data": {
      "image/png": "[encoded data removed]",
      "text/plain": [
       "<Figure size 432x288 with 1 Axes>"
      ]
     },
     "metadata": {
      "needs_background": "light"
     },
     "output_type": "display_data"
    }
   ],
   "source": [
    "df['infected'].plot()"
   ]
  },
  {
   "cell_type": "markdown",
   "metadata": {},
   "source": [
    "Empezamos con el modelo. Tal como se indica en el paper preparamos los `prior`de los parámetros. Tengo una cuestión aun sin resolver, referente a la codificación de la sigma_I, tal como aparece en el código `R`debería de ser `sigma_I = pm.Gamma(name='sigmaI',alpha=0.01,beta=0.01)`, sin embargo en otras implementaciones, [aquí](https://martynplummer.wordpress.com/2016/01/11/pyjags/), he visto tal que `1/tt.sqrt(pm.sigma...)`. Seguiré investigando a ver cual es el correcto.\n",
    "\n",
    "Hacemos el `sample` con los mismos parámetros de `draw`y `tune` que el paper y ejecutamos:"
   ]
  },
  {
   "cell_type": "code",
   "execution_count": null,
   "metadata": {},
   "outputs": [
    {
     "name": "stderr",
     "output_type": "stream",
     "text": [
      "logp = 8.4598, ||grad|| = 12.424: 100%|██████████| 39/39 [00:00<00:00, 2057.38it/s]     \n",
      "Multiprocess sampling (4 chains in 4 jobs)\n",
      "CompoundStep\n",
      ">Metropolis: [sigmaI]\n",
      ">Metropolis: [r_mu]\n",
      ">Metropolis: [beta]\n"
     ]
    }
   ],
   "source": [
    "with pm.Model() as model:\n",
    "    #t = pm.Data('tiempo',range(len(casos_nuevos)))\n",
    "    t_ = t\n",
    "    beta = pm.Uniform('beta',lower=0,upper=1)\n",
    "    r_mu = pm.Uniform('r_mu',lower=0,upper=1)\n",
    "    #p = pm.Uniform('p',lower=0,upper=5)\n",
    "    #q = pm.Uniform('q',lower=0,upper=5)\n",
    "    \n",
    "    #sigma_I = 1/tt.sqrt(pm.Gamma(name='sigmaI',alpha=0.01,beta=0.01))\n",
    "    sigma_I = pm.Gamma(name='sigmaI',alpha=0.01,beta=0.01)\n",
    "    \n",
    "    #R0 = pm.Deterministic('R0',beta/r_mu)\n",
    "    #R0_ = pm.Deterministic('R0_',beta/r_mu)\n",
    "    #media = pm.Deterministic('media',casos_acumulados_log[0]+(R0_-1)*(r_mu)*t_)\n",
    "    \n",
    "    #R0 = beta/r_mu\n",
    "    #R0_ = beta/(r_mu)\n",
    "    #media = infected_log[0]+(R0_-1)*(r_mu)*(t_)\n",
    "    media_I = infected_log[0]+(beta-r_mu)*t_\n",
    "         \n",
    "    log_I_obs = pm.Normal('log_I_obs',mu=media_I,sigma=sigma_I,observed=infected_log)\n",
    "    media_X = log_I_obs+tt.log(r_mu)\n",
    "    log_X_obs = pm.Normal('log_X_obs',mu=media_X,sigma=sigma_I,observed= X_log)\n",
    "    step = pm.Metropolis()\n",
    "    map_estimate = pm.find_MAP()\n",
    "    trace = pm.sample(10000, tune=5000,step=step,start=map_estimate,\n",
    "                      discard_tuned_samples=True)\n",
    "    \n",
    "    post_Pred = pm.sample_posterior_predictive(trace)"
   ]
  },
  {
   "cell_type": "markdown",
   "metadata": {},
   "source": [
    "Veamos el resultados:"
   ]
  },
  {
   "cell_type": "markdown",
   "metadata": {},
   "source": [
    "pm.traceplot(trace)"
   ]
  },
  {
   "cell_type": "code",
   "execution_count": null,
   "metadata": {},
   "outputs": [],
   "source": [
    "pm.summary(trace).round(2)"
   ]
  },
  {
   "cell_type": "markdown",
   "metadata": {},
   "source": [
    "Aquí considero importante mostrar como podemos obtener los estadísticos mostrados de los parámetros, por ejemplo: mostremos la media de la distribución de la `beta`calculada:"
   ]
  },
  {
   "cell_type": "code",
   "execution_count": null,
   "metadata": {},
   "outputs": [],
   "source": [
    "pm.summary(trace).loc['beta','mean']"
   ]
  },
  {
   "cell_type": "markdown",
   "metadata": {},
   "source": [
    "Veamos a continuación un par de gráficas en la que comparamos los valores observados y los estimados en el proceso de sampling (ojo, es importante "
   ]
  },
  {
   "cell_type": "code",
   "execution_count": null,
   "metadata": {},
   "outputs": [],
   "source": [
    "fig, ax = plt.subplots(figsize=(20, 8))\n",
    "ax.plot(t, np.exp(post_Pred['log_I_obs'][1000].T), color=\"r\", alpha=1)\n",
    "ax.plot(t,infected)\n",
    "#ax.set_yscale(\"log\")\n",
    "ax.set(xlabel=\"Date\", ylabel=\"Confirmed Cases\", title='titulo')\n",
    "plt.show()"
   ]
  },
  {
   "cell_type": "code",
   "execution_count": null,
   "metadata": {},
   "outputs": [],
   "source": [
    "fig, ax = plt.subplots(figsize=(20, 8))\n",
    "ax.plot(t, np.exp(post_Pred['log_X_obs'][100].T), color=\"r\", alpha=1)\n",
    "ax.plot(t,X)\n",
    "#ax.set_yscale(\"log\")\n",
    "ax.set(xlabel=\"Date\", ylabel=\"Confirmed Cases\", title='titulo')\n",
    "plt.show()"
   ]
  },
  {
   "cell_type": "markdown",
   "metadata": {},
   "source": [
    "Y una histograma de las distribuciones de los parámetros `beta` y `r_mu`"
   ]
  },
  {
   "cell_type": "code",
   "execution_count": null,
   "metadata": {},
   "outputs": [],
   "source": [
    "pm.plot_posterior(trace, var_names=(['beta','r_mu']), kind='hist')"
   ]
  },
  {
   "cell_type": "code",
   "execution_count": null,
   "metadata": {},
   "outputs": [],
   "source": [
    "fig, ax = plt.subplots(figsize=(20, 8))\n",
    "\n",
    "ax.plot(trace['beta'])\n",
    "\n",
    "plt.show()"
   ]
  },
  {
   "cell_type": "markdown",
   "metadata": {},
   "source": [
    "Por último vamos a utilizar estas distribuciones de los parámetros para comparar curvas con esos parámetros y las curvas de los datos observados. \n",
    "\n",
    "Calculemos en primer lugar las medias de `beta` y `r_mu`, y estimemos la curva de ìnfected con esos valores. A continuación los presentamos en una gráfica `matplotlib`:"
   ]
  },
  {
   "cell_type": "code",
   "execution_count": null,
   "metadata": {},
   "outputs": [],
   "source": [
    "beta_ = trace['beta'].mean()\n",
    "r_mu_ = trace['r_mu'].mean()\n",
    "I_ = infected[0]*np.exp((beta_/r_mu_-1)*r_mu_*t)"
   ]
  },
  {
   "cell_type": "code",
   "execution_count": null,
   "metadata": {},
   "outputs": [],
   "source": [
    "fig, ax = plt.subplots(figsize=(20, 8))\n",
    "#ax.plot(t, np.exp(post_Pred['log_I_obs'][100].T), color=\"r\", alpha=1)\n",
    "ax.plot(t,I_,color='r')\n",
    "ax.plot(t,infected)\n",
    "#ax.set_yscale(\"log\")\n",
    "ax.set(xlabel=\"Date\", ylabel=\"Confirmed Cases\", title='titulo')\n",
    "plt.show()"
   ]
  },
  {
   "cell_type": "markdown",
   "metadata": {},
   "source": [
    "Ahora, para ver la dispersión de valor calculados durante el sampling presentamos todos esos valores:"
   ]
  },
  {
   "cell_type": "code",
   "execution_count": null,
   "metadata": {},
   "outputs": [],
   "source": [
    "fig, ax = plt.subplots(figsize=(20, 8))\n",
    "for i in range(2000):\n",
    "               ax.plot(t, np.exp(post_Pred['log_I_obs'][i].T), color=\"r\", alpha=0.01)\n",
    "ax.plot(t,infected)\n",
    "#ax.set_yscale(\"log\")\n",
    "ax.set(xlabel=\"Date\", ylabel=\"Confirmed Cases\", title='titulo')\n",
    "plt.show()"
   ]
  },
  {
   "cell_type": "markdown",
   "metadata": {},
   "source": [
    "Y por último veamos las gráficas aplicando los valores más extremos de los parámetros calculados:"
   ]
  },
  {
   "cell_type": "code",
   "execution_count": null,
   "metadata": {},
   "outputs": [],
   "source": [
    "beta_sup = pm.summary(trace).loc['beta']['hpd_97%']\n",
    "beta_inf = pm.summary(trace).loc['beta']['hpd_3%']\n",
    "r_mu_sup = pm.summary(trace).loc['r_mu']['hpd_97%']\n",
    "r_mu_inf = pm.summary(trace).loc['r_mu']['hpd_3%']"
   ]
  },
  {
   "cell_type": "code",
   "execution_count": null,
   "metadata": {},
   "outputs": [],
   "source": [
    "beta_ = trace['beta'].mean()\n",
    "r_mu_ = trace['r_mu'].mean()\n",
    "I_sup = infected[0]*np.exp((beta_sup/r_mu_inf-1)*r_mu_*t)\n",
    "I_inf = infected[0]*np.exp((beta_inf/r_mu_sup-1)*r_mu_*t)"
   ]
  },
  {
   "cell_type": "code",
   "execution_count": null,
   "metadata": {},
   "outputs": [],
   "source": [
    "fig, ax = plt.subplots(figsize=(20, 8))\n",
    "#ax.plot(t, np.exp(post_Pred['log_I_obs'][100].T), color=\"r\", alpha=1)\n",
    "ax.plot(t,I_sup,color='r')\n",
    "ax.plot(t,I_inf,color='g')\n",
    "ax.plot(t,infected)\n",
    "#ax.set_yscale(\"log\")\n",
    "ax.set(xlabel=\"Date\", ylabel=\"Confirmed Cases\", title='titulo')\n",
    "plt.show()"
   ]
  },
  {
   "cell_type": "code",
   "execution_count": null,
   "metadata": {},
   "outputs": [],
   "source": []
  }
 ],
 "metadata": {
  "kernelspec": {
   "display_name": "Python 3",
   "language": "python",
   "name": "python3"
  },
  "language_info": {
   "codemirror_mode": {
    "name": "ipython",
    "version": 3
   },
   "file_extension": ".py",
   "mimetype": "text/x-python",
   "name": "python",
   "nbconvert_exporter": "python",
   "pygments_lexer": "ipython3",
   "version": "3.8.5"
  }
 },
 "nbformat": 4,
 "nbformat_minor": 4
}
