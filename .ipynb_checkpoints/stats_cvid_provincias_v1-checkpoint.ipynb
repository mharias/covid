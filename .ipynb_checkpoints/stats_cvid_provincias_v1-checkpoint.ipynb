{
 "cells": [
  {
   "cell_type": "markdown",
   "metadata": {},
   "source": [
    "# Presentación gráfica de datos de contagios de Sars-Covid19\n",
    "Vamos a preparar un programa que descarge los datos referentes a contagios CoVid del repositorio oficial del Instituto de Salud Carlos III, https://cnecovid.isciii.es, vamos a trabajar con ellos y vamos a presentarlos con dos diferentes tipos de gráficos. "
   ]
  },
  {
   "cell_type": "markdown",
   "metadata": {},
   "source": [
    "## Librerías"
   ]
  },
  {
   "cell_type": "markdown",
   "metadata": {},
   "source": [
    "Comenzamos instalando el paquete estándar que solemos necesitar en trabajos de este tipo:"
   ]
  },
  {
   "cell_type": "code",
   "execution_count": 141,
   "metadata": {},
   "outputs": [],
   "source": [
    "import matplotlib\n",
    "#matplotlib.use('tkagg')\n",
    "import pandas as pd\n",
    "import matplotlib.pyplot as plt\n",
    "from matplotlib.ticker import FuncFormatter\n",
    "from matplotlib import cm\n",
    "import matplotlib.dates as mdates\n",
    "import matplotlib.ticker as ticker\n",
    "import numpy as np\n",
    "from datetime import datetime\n",
    "import seaborn as sns\n"
   ]
  },
  {
   "cell_type": "markdown",
   "metadata": {},
   "source": [
    "Configuramos $matplotlib$ de tal manera que presente por pantalla los gráficos generados:"
   ]
  },
  {
   "cell_type": "code",
   "execution_count": 65,
   "metadata": {},
   "outputs": [],
   "source": [
    "%matplotlib inline"
   ]
  },
  {
   "cell_type": "markdown",
   "metadata": {},
   "source": [
    "## Descarga de los datos"
   ]
  },
  {
   "cell_type": "markdown",
   "metadata": {},
   "source": [
    "Preparemos un variable con el $path$ de la $url$ en la que encontramos el repositorio de información:"
   ]
  },
  {
   "cell_type": "code",
   "execution_count": 66,
   "metadata": {},
   "outputs": [],
   "source": [
    "path_datos='https://cnecovid.isciii.es/covid19/resources/datos_provincias.csv'"
   ]
  },
  {
   "cell_type": "markdown",
   "metadata": {},
   "source": [
    "Preparamos un $pandas$ con la información descargada:"
   ]
  },
  {
   "cell_type": "code",
   "execution_count": 76,
   "metadata": {},
   "outputs": [],
   "source": [
    "df = pd.read_csv(path_datos,na_filter = False,engine='python')"
   ]
  },
  {
   "cell_type": "markdown",
   "metadata": {},
   "source": [
    "Hagamos un `Exploratory Data Analysis` de los datos:"
   ]
  },
  {
   "cell_type": "markdown",
   "metadata": {},
   "source": [
    "Encontramos estas columnas de datos:"
   ]
  },
  {
   "cell_type": "code",
   "execution_count": 77,
   "metadata": {},
   "outputs": [
    {
     "data": {
      "text/plain": [
       "Index(['provincia_iso', 'fecha', 'num_casos', 'num_casos_prueba_pcr',\n",
       "       'num_casos_prueba_test_ac', 'num_casos_prueba_otras',\n",
       "       'num_casos_prueba_desconocida'],\n",
       "      dtype='object')"
      ]
     },
     "execution_count": 77,
     "metadata": {},
     "output_type": "execute_result"
    }
   ],
   "source": [
    "df.columns"
   ]
  },
  {
   "cell_type": "markdown",
   "metadata": {},
   "source": [
    "Y los primeras líneas, y últimas líneas de datos..."
   ]
  },
  {
   "cell_type": "code",
   "execution_count": 79,
   "metadata": {},
   "outputs": [
    {
     "data": {
      "text/plain": [
       "{'A',\n",
       " 'AB',\n",
       " 'AL',\n",
       " 'AV',\n",
       " 'B',\n",
       " 'BA',\n",
       " 'BI',\n",
       " 'BU',\n",
       " 'C',\n",
       " 'CA',\n",
       " 'CC',\n",
       " 'CE',\n",
       " 'CO',\n",
       " 'CR',\n",
       " 'CS',\n",
       " 'CU',\n",
       " 'GC',\n",
       " 'GI',\n",
       " 'GR',\n",
       " 'GU',\n",
       " 'H',\n",
       " 'HU',\n",
       " 'J',\n",
       " 'L',\n",
       " 'LE',\n",
       " 'LO',\n",
       " 'LU',\n",
       " 'M',\n",
       " 'MA',\n",
       " 'ME',\n",
       " 'MU',\n",
       " 'NA',\n",
       " 'O',\n",
       " 'OR',\n",
       " 'P',\n",
       " 'PM',\n",
       " 'PO',\n",
       " 'S',\n",
       " 'SA',\n",
       " 'SE',\n",
       " 'SG',\n",
       " 'SO',\n",
       " 'SS',\n",
       " 'T',\n",
       " 'TE',\n",
       " 'TF',\n",
       " 'TO',\n",
       " 'V',\n",
       " 'VA',\n",
       " 'VI',\n",
       " 'Z',\n",
       " 'ZA'}"
      ]
     },
     "execution_count": 79,
     "metadata": {},
     "output_type": "execute_result"
    }
   ],
   "source": [
    "set(df.provincia_iso)"
   ]
  },
  {
   "cell_type": "code",
   "execution_count": 80,
   "metadata": {},
   "outputs": [
    {
     "data": {
      "text/plain": [
       "(8528, 7)"
      ]
     },
     "execution_count": 80,
     "metadata": {},
     "output_type": "execute_result"
    }
   ],
   "source": [
    "df.shape"
   ]
  },
  {
   "cell_type": "code",
   "execution_count": 81,
   "metadata": {},
   "outputs": [
    {
     "data": {
      "text/plain": [
       "provincia_iso                           NA\n",
       "fecha                           2020-07-12\n",
       "num_casos                               18\n",
       "num_casos_prueba_pcr                    18\n",
       "num_casos_prueba_test_ac                 0\n",
       "num_casos_prueba_otras                   0\n",
       "num_casos_prueba_desconocida             0\n",
       "Name: 8507, dtype: object"
      ]
     },
     "execution_count": 81,
     "metadata": {},
     "output_type": "execute_result"
    }
   ],
   "source": [
    "df.iloc[8507]"
   ]
  },
  {
   "cell_type": "code",
   "execution_count": 82,
   "metadata": {
    "scrolled": true
   },
   "outputs": [
    {
     "data": {
      "text/html": [
       "<div>\n",
       "<style scoped>\n",
       "    .dataframe tbody tr th:only-of-type {\n",
       "        vertical-align: middle;\n",
       "    }\n",
       "\n",
       "    .dataframe tbody tr th {\n",
       "        vertical-align: top;\n",
       "    }\n",
       "\n",
       "    .dataframe thead th {\n",
       "        text-align: right;\n",
       "    }\n",
       "</style>\n",
       "<table border=\"1\" class=\"dataframe\">\n",
       "  <thead>\n",
       "    <tr style=\"text-align: right;\">\n",
       "      <th></th>\n",
       "      <th>provincia_iso</th>\n",
       "      <th>fecha</th>\n",
       "      <th>num_casos</th>\n",
       "      <th>num_casos_prueba_pcr</th>\n",
       "      <th>num_casos_prueba_test_ac</th>\n",
       "      <th>num_casos_prueba_otras</th>\n",
       "      <th>num_casos_prueba_desconocida</th>\n",
       "    </tr>\n",
       "  </thead>\n",
       "  <tbody>\n",
       "    <tr>\n",
       "      <th>0</th>\n",
       "      <td>A</td>\n",
       "      <td>2020-01-31</td>\n",
       "      <td>0</td>\n",
       "      <td>0</td>\n",
       "      <td>0</td>\n",
       "      <td>0</td>\n",
       "      <td>0</td>\n",
       "    </tr>\n",
       "    <tr>\n",
       "      <th>1</th>\n",
       "      <td>AB</td>\n",
       "      <td>2020-01-31</td>\n",
       "      <td>0</td>\n",
       "      <td>0</td>\n",
       "      <td>0</td>\n",
       "      <td>0</td>\n",
       "      <td>0</td>\n",
       "    </tr>\n",
       "    <tr>\n",
       "      <th>2</th>\n",
       "      <td>AL</td>\n",
       "      <td>2020-01-31</td>\n",
       "      <td>0</td>\n",
       "      <td>0</td>\n",
       "      <td>0</td>\n",
       "      <td>0</td>\n",
       "      <td>0</td>\n",
       "    </tr>\n",
       "    <tr>\n",
       "      <th>3</th>\n",
       "      <td>AV</td>\n",
       "      <td>2020-01-31</td>\n",
       "      <td>0</td>\n",
       "      <td>0</td>\n",
       "      <td>0</td>\n",
       "      <td>0</td>\n",
       "      <td>0</td>\n",
       "    </tr>\n",
       "    <tr>\n",
       "      <th>4</th>\n",
       "      <td>B</td>\n",
       "      <td>2020-01-31</td>\n",
       "      <td>0</td>\n",
       "      <td>0</td>\n",
       "      <td>0</td>\n",
       "      <td>0</td>\n",
       "      <td>0</td>\n",
       "    </tr>\n",
       "  </tbody>\n",
       "</table>\n",
       "</div>"
      ],
      "text/plain": [
       "  provincia_iso       fecha  num_casos  num_casos_prueba_pcr  \\\n",
       "0             A  2020-01-31          0                     0   \n",
       "1            AB  2020-01-31          0                     0   \n",
       "2            AL  2020-01-31          0                     0   \n",
       "3            AV  2020-01-31          0                     0   \n",
       "4             B  2020-01-31          0                     0   \n",
       "\n",
       "   num_casos_prueba_test_ac  num_casos_prueba_otras  \\\n",
       "0                         0                       0   \n",
       "1                         0                       0   \n",
       "2                         0                       0   \n",
       "3                         0                       0   \n",
       "4                         0                       0   \n",
       "\n",
       "   num_casos_prueba_desconocida  \n",
       "0                             0  \n",
       "1                             0  \n",
       "2                             0  \n",
       "3                             0  \n",
       "4                             0  "
      ]
     },
     "execution_count": 82,
     "metadata": {},
     "output_type": "execute_result"
    }
   ],
   "source": [
    "df.head()"
   ]
  },
  {
   "cell_type": "markdown",
   "metadata": {},
   "source": [
    "Vemos que nos indica una primera clave correspondiente a la comunidad sobre la que nos da el dato (es un código iso que podemos encontrar en una búsqueda fácil de internet), el número de casos, `num_casos` que podemos ver que es equivalente a la suma de los valores del resto de columnas numéricas. Estas representan las distintas pruebas de origen del positivo: `pcr`, `test_ac`, `otras` ó `desconocidas`. Adicionalmente tenemos una columna con la fecha del día correspondiente a los datos en formato `%Y-%m-%d`"
   ]
  },
  {
   "cell_type": "markdown",
   "metadata": {},
   "source": [
    "## Tratatmiento de los datos descargados"
   ]
  },
  {
   "cell_type": "markdown",
   "metadata": {},
   "source": [
    "Para poder trabajar mejor con el nombre de las Comunidades vamos a generar un diccionario que contenga el nombre completo y la población (obtenida de https://es.wikipedia.org/wiki/Anexo:Provincias_y_ciudades_autónomas_de_España):"
   ]
  },
  {
   "cell_type": "code",
   "execution_count": 83,
   "metadata": {},
   "outputs": [],
   "source": [
    "provincias={\n",
    " 'A':['Alicante',1858683],\n",
    " 'AB':['Albacete',388167],\n",
    " 'AL':['Almeria',716820],\n",
    " 'AV':['Avila',157640],\n",
    " 'B':['Barcelona',5664579],\n",
    " 'BA':['Badajoz',673559],\n",
    " 'BI':['Vizcaya',1152651],\n",
    " 'BU':['Burgos',356958],\n",
    " 'C':['La Coruña',1123990],\n",
    " 'CA':['Cadiz',1240155],\n",
    " 'CC':['Cáceres',394151],\n",
    " 'CE':['Ceuta',86487],\n",
    " 'CO':['Cordoba',782979],\n",
    " 'CR':['Ciudad Real',495761],\n",
    " 'CS':['Castellón',579962],\n",
    " 'CU':['Cuenca',196329],\n",
    " 'GC':['Gran Canaria',1120596],\n",
    " 'GI':['Gerona',771044],\n",
    " 'GR':['Granada',914678],\n",
    " 'GU':['Guadalajara',257762],\n",
    " 'H':['Huelva',521870],\n",
    " 'HU':['Huesca',220461],\n",
    " 'J':['Jaén',633564],\n",
    " 'L':['Lérida',434930],\n",
    " 'LE':['Leon',460001],\n",
    " 'LO':['Logroño',316798],\n",
    " 'LU':['Lugo',329587],\n",
    " 'M':['Madrid',6693394],\n",
    " 'MA':['Malaga',1661785],\n",
    " 'ME':['Melilla',84477],\n",
    " 'MU':['Murcia',1493898],\n",
    " 'O':['Oviedo',1022800],\n",
    " 'OR':['Orense',307651],\n",
    " 'NA':['Pamplona',654214],\n",
    " 'P':['Palencia',160980],\n",
    " 'PM':['Palma Mallorca',1149460],\n",
    " 'PO':['Pontevedra',942665],\n",
    " 'S':['Santander',581078],\n",
    " 'SA':['Salamanca',330119],\n",
    " 'SE':['Sevilla',1939887],\n",
    " 'SG':['Segovia',153129],\n",
    " 'SO':['Soria',88636],\n",
    " 'SS':['Guipuzcoa',723576],\n",
    " 'T':['Tarragona',804664],\n",
    " 'TE':['Teruel',134137],\n",
    " 'TF':['Tenerife',1032983],\n",
    " 'TO':['Toledo',694844],\n",
    " 'V':['Valencia',2565124],\n",
    " 'VA':['Valladolid',519546],\n",
    " 'VI':['Alava',331549],\n",
    " 'Z':['Zaragoza',964693],\n",
    " 'ZA':['Zamora',172539],\n",
    " }"
   ]
  },
  {
   "cell_type": "code",
   "execution_count": 84,
   "metadata": {},
   "outputs": [
    {
     "data": {
      "text/plain": [
       "True"
      ]
     },
     "execution_count": 84,
     "metadata": {},
     "output_type": "execute_result"
    }
   ],
   "source": [
    "provincias.keys() == set(df['provincia_iso'])"
   ]
  },
  {
   "cell_type": "markdown",
   "metadata": {},
   "source": [
    "Por si acaso lo necesitamos para algun cálculo vamos a calcular la población total de España sumando las poblaciones de las Comunidades:"
   ]
  },
  {
   "cell_type": "code",
   "execution_count": 85,
   "metadata": {},
   "outputs": [],
   "source": [
    "pob_spain=0\n",
    "for com in provincias:\n",
    "    pob_spain+=provincias[com][1]"
   ]
  },
  {
   "cell_type": "code",
   "execution_count": 86,
   "metadata": {},
   "outputs": [
    {
     "data": {
      "text/plain": [
       "47057990"
      ]
     },
     "execution_count": 86,
     "metadata": {},
     "output_type": "execute_result"
    }
   ],
   "source": [
    "pob_spain"
   ]
  },
  {
   "cell_type": "markdown",
   "metadata": {},
   "source": [
    "Nos aseguramos de que el campo fecha tiene el tipo correcto, y a continuación ordenamos los datos por fecha:"
   ]
  },
  {
   "cell_type": "code",
   "execution_count": 87,
   "metadata": {},
   "outputs": [],
   "source": [
    "df['fecha']=pd.to_datetime(df['fecha'],format='%Y-%m-%d')\n",
    "df.sort_values(['fecha'],inplace=True)"
   ]
  },
  {
   "cell_type": "markdown",
   "metadata": {},
   "source": [
    "Vamos a crear un `multiindex`con la fecha y el código de la comunidad:"
   ]
  },
  {
   "cell_type": "code",
   "execution_count": 88,
   "metadata": {},
   "outputs": [
    {
     "data": {
      "text/html": [
       "<div>\n",
       "<style scoped>\n",
       "    .dataframe tbody tr th:only-of-type {\n",
       "        vertical-align: middle;\n",
       "    }\n",
       "\n",
       "    .dataframe tbody tr th {\n",
       "        vertical-align: top;\n",
       "    }\n",
       "\n",
       "    .dataframe thead th {\n",
       "        text-align: right;\n",
       "    }\n",
       "</style>\n",
       "<table border=\"1\" class=\"dataframe\">\n",
       "  <thead>\n",
       "    <tr style=\"text-align: right;\">\n",
       "      <th></th>\n",
       "      <th></th>\n",
       "      <th>num_casos</th>\n",
       "      <th>num_casos_prueba_pcr</th>\n",
       "      <th>num_casos_prueba_test_ac</th>\n",
       "      <th>num_casos_prueba_otras</th>\n",
       "      <th>num_casos_prueba_desconocida</th>\n",
       "    </tr>\n",
       "    <tr>\n",
       "      <th>fecha</th>\n",
       "      <th>provincia_iso</th>\n",
       "      <th></th>\n",
       "      <th></th>\n",
       "      <th></th>\n",
       "      <th></th>\n",
       "      <th></th>\n",
       "    </tr>\n",
       "  </thead>\n",
       "  <tbody>\n",
       "    <tr>\n",
       "      <th rowspan=\"5\" valign=\"top\">2020-01-31</th>\n",
       "      <th>A</th>\n",
       "      <td>0</td>\n",
       "      <td>0</td>\n",
       "      <td>0</td>\n",
       "      <td>0</td>\n",
       "      <td>0</td>\n",
       "    </tr>\n",
       "    <tr>\n",
       "      <th>MA</th>\n",
       "      <td>0</td>\n",
       "      <td>0</td>\n",
       "      <td>0</td>\n",
       "      <td>0</td>\n",
       "      <td>0</td>\n",
       "    </tr>\n",
       "    <tr>\n",
       "      <th>ME</th>\n",
       "      <td>0</td>\n",
       "      <td>0</td>\n",
       "      <td>0</td>\n",
       "      <td>0</td>\n",
       "      <td>0</td>\n",
       "    </tr>\n",
       "    <tr>\n",
       "      <th>MU</th>\n",
       "      <td>0</td>\n",
       "      <td>0</td>\n",
       "      <td>0</td>\n",
       "      <td>0</td>\n",
       "      <td>0</td>\n",
       "    </tr>\n",
       "    <tr>\n",
       "      <th>NA</th>\n",
       "      <td>0</td>\n",
       "      <td>0</td>\n",
       "      <td>0</td>\n",
       "      <td>0</td>\n",
       "      <td>0</td>\n",
       "    </tr>\n",
       "    <tr>\n",
       "      <th>...</th>\n",
       "      <th>...</th>\n",
       "      <td>...</td>\n",
       "      <td>...</td>\n",
       "      <td>...</td>\n",
       "      <td>...</td>\n",
       "      <td>...</td>\n",
       "    </tr>\n",
       "    <tr>\n",
       "      <th rowspan=\"5\" valign=\"top\">2020-07-12</th>\n",
       "      <th>H</th>\n",
       "      <td>1</td>\n",
       "      <td>1</td>\n",
       "      <td>0</td>\n",
       "      <td>0</td>\n",
       "      <td>0</td>\n",
       "    </tr>\n",
       "    <tr>\n",
       "      <th>HU</th>\n",
       "      <td>20</td>\n",
       "      <td>20</td>\n",
       "      <td>0</td>\n",
       "      <td>0</td>\n",
       "      <td>0</td>\n",
       "    </tr>\n",
       "    <tr>\n",
       "      <th>J</th>\n",
       "      <td>0</td>\n",
       "      <td>0</td>\n",
       "      <td>0</td>\n",
       "      <td>0</td>\n",
       "      <td>0</td>\n",
       "    </tr>\n",
       "    <tr>\n",
       "      <th>LE</th>\n",
       "      <td>0</td>\n",
       "      <td>0</td>\n",
       "      <td>0</td>\n",
       "      <td>0</td>\n",
       "      <td>0</td>\n",
       "    </tr>\n",
       "    <tr>\n",
       "      <th>ZA</th>\n",
       "      <td>0</td>\n",
       "      <td>0</td>\n",
       "      <td>0</td>\n",
       "      <td>0</td>\n",
       "      <td>0</td>\n",
       "    </tr>\n",
       "  </tbody>\n",
       "</table>\n",
       "<p>8528 rows × 5 columns</p>\n",
       "</div>"
      ],
      "text/plain": [
       "                          num_casos  num_casos_prueba_pcr  \\\n",
       "fecha      provincia_iso                                    \n",
       "2020-01-31 A                      0                     0   \n",
       "           MA                     0                     0   \n",
       "           ME                     0                     0   \n",
       "           MU                     0                     0   \n",
       "           NA                     0                     0   \n",
       "...                             ...                   ...   \n",
       "2020-07-12 H                      1                     1   \n",
       "           HU                    20                    20   \n",
       "           J                      0                     0   \n",
       "           LE                     0                     0   \n",
       "           ZA                     0                     0   \n",
       "\n",
       "                          num_casos_prueba_test_ac  num_casos_prueba_otras  \\\n",
       "fecha      provincia_iso                                                     \n",
       "2020-01-31 A                                     0                       0   \n",
       "           MA                                    0                       0   \n",
       "           ME                                    0                       0   \n",
       "           MU                                    0                       0   \n",
       "           NA                                    0                       0   \n",
       "...                                            ...                     ...   \n",
       "2020-07-12 H                                     0                       0   \n",
       "           HU                                    0                       0   \n",
       "           J                                     0                       0   \n",
       "           LE                                    0                       0   \n",
       "           ZA                                    0                       0   \n",
       "\n",
       "                          num_casos_prueba_desconocida  \n",
       "fecha      provincia_iso                                \n",
       "2020-01-31 A                                         0  \n",
       "           MA                                        0  \n",
       "           ME                                        0  \n",
       "           MU                                        0  \n",
       "           NA                                        0  \n",
       "...                                                ...  \n",
       "2020-07-12 H                                         0  \n",
       "           HU                                        0  \n",
       "           J                                         0  \n",
       "           LE                                        0  \n",
       "           ZA                                        0  \n",
       "\n",
       "[8528 rows x 5 columns]"
      ]
     },
     "execution_count": 88,
     "metadata": {},
     "output_type": "execute_result"
    }
   ],
   "source": [
    "df.set_index(['fecha','provincia_iso'],inplace=True)\n",
    "df.fillna(0)"
   ]
  },
  {
   "cell_type": "markdown",
   "metadata": {},
   "source": [
    "Crearemos ahora un `pandas`resumen con los resultados totales y relativo al número de habitantes:"
   ]
  },
  {
   "cell_type": "code",
   "execution_count": 89,
   "metadata": {},
   "outputs": [],
   "source": [
    "resumen_por_dias=df.pivot_table(index=['fecha'],values=['num_casos'],aggfunc=np.sum)"
   ]
  },
  {
   "cell_type": "code",
   "execution_count": 90,
   "metadata": {},
   "outputs": [],
   "source": [
    "resumen_por_dias['casos_habitantes']=resumen_por_dias['num_casos']/pob_spain*1000000"
   ]
  },
  {
   "cell_type": "code",
   "execution_count": 91,
   "metadata": {},
   "outputs": [
    {
     "data": {
      "text/html": [
       "<div>\n",
       "<style scoped>\n",
       "    .dataframe tbody tr th:only-of-type {\n",
       "        vertical-align: middle;\n",
       "    }\n",
       "\n",
       "    .dataframe tbody tr th {\n",
       "        vertical-align: top;\n",
       "    }\n",
       "\n",
       "    .dataframe thead th {\n",
       "        text-align: right;\n",
       "    }\n",
       "</style>\n",
       "<table border=\"1\" class=\"dataframe\">\n",
       "  <thead>\n",
       "    <tr style=\"text-align: right;\">\n",
       "      <th></th>\n",
       "      <th>num_casos</th>\n",
       "      <th>casos_habitantes</th>\n",
       "    </tr>\n",
       "    <tr>\n",
       "      <th>fecha</th>\n",
       "      <th></th>\n",
       "      <th></th>\n",
       "    </tr>\n",
       "  </thead>\n",
       "  <tbody>\n",
       "    <tr>\n",
       "      <th>2020-01-31</th>\n",
       "      <td>8</td>\n",
       "      <td>0.170003</td>\n",
       "    </tr>\n",
       "    <tr>\n",
       "      <th>2020-02-01</th>\n",
       "      <td>20</td>\n",
       "      <td>0.425008</td>\n",
       "    </tr>\n",
       "    <tr>\n",
       "      <th>2020-02-02</th>\n",
       "      <td>14</td>\n",
       "      <td>0.297505</td>\n",
       "    </tr>\n",
       "    <tr>\n",
       "      <th>2020-02-03</th>\n",
       "      <td>18</td>\n",
       "      <td>0.382507</td>\n",
       "    </tr>\n",
       "    <tr>\n",
       "      <th>2020-02-04</th>\n",
       "      <td>13</td>\n",
       "      <td>0.276255</td>\n",
       "    </tr>\n",
       "    <tr>\n",
       "      <th>...</th>\n",
       "      <td>...</td>\n",
       "      <td>...</td>\n",
       "    </tr>\n",
       "    <tr>\n",
       "      <th>2020-07-08</th>\n",
       "      <td>718</td>\n",
       "      <td>15.257770</td>\n",
       "    </tr>\n",
       "    <tr>\n",
       "      <th>2020-07-09</th>\n",
       "      <td>679</td>\n",
       "      <td>14.429006</td>\n",
       "    </tr>\n",
       "    <tr>\n",
       "      <th>2020-07-10</th>\n",
       "      <td>800</td>\n",
       "      <td>17.000301</td>\n",
       "    </tr>\n",
       "    <tr>\n",
       "      <th>2020-07-11</th>\n",
       "      <td>645</td>\n",
       "      <td>13.706493</td>\n",
       "    </tr>\n",
       "    <tr>\n",
       "      <th>2020-07-12</th>\n",
       "      <td>424</td>\n",
       "      <td>9.010160</td>\n",
       "    </tr>\n",
       "  </tbody>\n",
       "</table>\n",
       "<p>164 rows × 2 columns</p>\n",
       "</div>"
      ],
      "text/plain": [
       "            num_casos  casos_habitantes\n",
       "fecha                                  \n",
       "2020-01-31          8          0.170003\n",
       "2020-02-01         20          0.425008\n",
       "2020-02-02         14          0.297505\n",
       "2020-02-03         18          0.382507\n",
       "2020-02-04         13          0.276255\n",
       "...               ...               ...\n",
       "2020-07-08        718         15.257770\n",
       "2020-07-09        679         14.429006\n",
       "2020-07-10        800         17.000301\n",
       "2020-07-11        645         13.706493\n",
       "2020-07-12        424          9.010160\n",
       "\n",
       "[164 rows x 2 columns]"
      ]
     },
     "execution_count": 91,
     "metadata": {},
     "output_type": "execute_result"
    }
   ],
   "source": [
    "resumen_por_dias"
   ]
  },
  {
   "cell_type": "markdown",
   "metadata": {},
   "source": [
    "Podemos comprobar esa información preparando un primer gráfico de comprobación:"
   ]
  },
  {
   "cell_type": "code",
   "execution_count": 92,
   "metadata": {},
   "outputs": [
    {
     "data": {
      "text/plain": [
       "278164"
      ]
     },
     "execution_count": 92,
     "metadata": {},
     "output_type": "execute_result"
    }
   ],
   "source": [
    "resumen_por_dias['num_casos'].sum()"
   ]
  },
  {
   "cell_type": "code",
   "execution_count": 93,
   "metadata": {},
   "outputs": [
    {
     "data": {
      "text/plain": [
       "<matplotlib.axes._subplots.AxesSubplot at 0x7fe59ee79e90>"
      ]
     },
     "execution_count": 93,
     "metadata": {},
     "output_type": "execute_result"
    },
    {
     "data": {
      "image/png": "[encoded data removed]",
      "text/plain": [
       "<Figure size 432x288 with 1 Axes>"
      ]
     },
     "metadata": {
      "needs_background": "light"
     },
     "output_type": "display_data"
    }
   ],
   "source": [
    "resumen_por_dias['casos_habitantes'].plot()"
   ]
  },
  {
   "cell_type": "code",
   "execution_count": 94,
   "metadata": {},
   "outputs": [],
   "source": [
    "resultados={}\n",
    "fallecidos_spain = 0\n",
    "for com in provincias:\n",
    "    df_aux = df.xs(com,level=1,drop_level=True).copy()\n",
    "    df_aux.loc[:, 'Casos_habitantes'] = df_aux['num_casos']/provincias[com][1]*1000000\n",
    "    #df_aux['Casos_habitantes']=df_aux['num_casos']/comunidades[com][1]*1000000\n",
    "    resultados[com] = df_aux.copy()\n"
   ]
  },
  {
   "cell_type": "markdown",
   "metadata": {},
   "source": [
    "Con este último código hemos conseguido construir un diccionario `resultados`en el que el `index`es el código ISO de la Comunidad, y el contenido es un `pandas`con los resultados por día. Como ejemplo vemos a continuación el pandas de Cataluña:"
   ]
  },
  {
   "cell_type": "code",
   "execution_count": 95,
   "metadata": {},
   "outputs": [
    {
     "data": {
      "text/html": [
       "<div>\n",
       "<style scoped>\n",
       "    .dataframe tbody tr th:only-of-type {\n",
       "        vertical-align: middle;\n",
       "    }\n",
       "\n",
       "    .dataframe tbody tr th {\n",
       "        vertical-align: top;\n",
       "    }\n",
       "\n",
       "    .dataframe thead th {\n",
       "        text-align: right;\n",
       "    }\n",
       "</style>\n",
       "<table border=\"1\" class=\"dataframe\">\n",
       "  <thead>\n",
       "    <tr style=\"text-align: right;\">\n",
       "      <th></th>\n",
       "      <th>num_casos</th>\n",
       "      <th>num_casos_prueba_pcr</th>\n",
       "      <th>num_casos_prueba_test_ac</th>\n",
       "      <th>num_casos_prueba_otras</th>\n",
       "      <th>num_casos_prueba_desconocida</th>\n",
       "      <th>Casos_habitantes</th>\n",
       "    </tr>\n",
       "    <tr>\n",
       "      <th>fecha</th>\n",
       "      <th></th>\n",
       "      <th></th>\n",
       "      <th></th>\n",
       "      <th></th>\n",
       "      <th></th>\n",
       "      <th></th>\n",
       "    </tr>\n",
       "  </thead>\n",
       "  <tbody>\n",
       "    <tr>\n",
       "      <th>2020-01-31</th>\n",
       "      <td>0</td>\n",
       "      <td>0</td>\n",
       "      <td>0</td>\n",
       "      <td>0</td>\n",
       "      <td>0</td>\n",
       "      <td>0.000000</td>\n",
       "    </tr>\n",
       "    <tr>\n",
       "      <th>2020-02-01</th>\n",
       "      <td>0</td>\n",
       "      <td>0</td>\n",
       "      <td>0</td>\n",
       "      <td>0</td>\n",
       "      <td>0</td>\n",
       "      <td>0.000000</td>\n",
       "    </tr>\n",
       "    <tr>\n",
       "      <th>2020-02-02</th>\n",
       "      <td>0</td>\n",
       "      <td>0</td>\n",
       "      <td>0</td>\n",
       "      <td>0</td>\n",
       "      <td>0</td>\n",
       "      <td>0.000000</td>\n",
       "    </tr>\n",
       "    <tr>\n",
       "      <th>2020-02-03</th>\n",
       "      <td>0</td>\n",
       "      <td>0</td>\n",
       "      <td>0</td>\n",
       "      <td>0</td>\n",
       "      <td>0</td>\n",
       "      <td>0.000000</td>\n",
       "    </tr>\n",
       "    <tr>\n",
       "      <th>2020-02-04</th>\n",
       "      <td>1</td>\n",
       "      <td>0</td>\n",
       "      <td>1</td>\n",
       "      <td>0</td>\n",
       "      <td>0</td>\n",
       "      <td>1.528552</td>\n",
       "    </tr>\n",
       "    <tr>\n",
       "      <th>...</th>\n",
       "      <td>...</td>\n",
       "      <td>...</td>\n",
       "      <td>...</td>\n",
       "      <td>...</td>\n",
       "      <td>...</td>\n",
       "      <td>...</td>\n",
       "    </tr>\n",
       "    <tr>\n",
       "      <th>2020-07-08</th>\n",
       "      <td>8</td>\n",
       "      <td>8</td>\n",
       "      <td>0</td>\n",
       "      <td>0</td>\n",
       "      <td>0</td>\n",
       "      <td>12.228415</td>\n",
       "    </tr>\n",
       "    <tr>\n",
       "      <th>2020-07-09</th>\n",
       "      <td>29</td>\n",
       "      <td>29</td>\n",
       "      <td>0</td>\n",
       "      <td>0</td>\n",
       "      <td>0</td>\n",
       "      <td>44.328003</td>\n",
       "    </tr>\n",
       "    <tr>\n",
       "      <th>2020-07-10</th>\n",
       "      <td>16</td>\n",
       "      <td>16</td>\n",
       "      <td>0</td>\n",
       "      <td>0</td>\n",
       "      <td>0</td>\n",
       "      <td>24.456829</td>\n",
       "    </tr>\n",
       "    <tr>\n",
       "      <th>2020-07-11</th>\n",
       "      <td>28</td>\n",
       "      <td>28</td>\n",
       "      <td>0</td>\n",
       "      <td>0</td>\n",
       "      <td>0</td>\n",
       "      <td>42.799451</td>\n",
       "    </tr>\n",
       "    <tr>\n",
       "      <th>2020-07-12</th>\n",
       "      <td>18</td>\n",
       "      <td>18</td>\n",
       "      <td>0</td>\n",
       "      <td>0</td>\n",
       "      <td>0</td>\n",
       "      <td>27.513933</td>\n",
       "    </tr>\n",
       "  </tbody>\n",
       "</table>\n",
       "<p>164 rows × 6 columns</p>\n",
       "</div>"
      ],
      "text/plain": [
       "            num_casos  num_casos_prueba_pcr  num_casos_prueba_test_ac  \\\n",
       "fecha                                                                   \n",
       "2020-01-31          0                     0                         0   \n",
       "2020-02-01          0                     0                         0   \n",
       "2020-02-02          0                     0                         0   \n",
       "2020-02-03          0                     0                         0   \n",
       "2020-02-04          1                     0                         1   \n",
       "...               ...                   ...                       ...   \n",
       "2020-07-08          8                     8                         0   \n",
       "2020-07-09         29                    29                         0   \n",
       "2020-07-10         16                    16                         0   \n",
       "2020-07-11         28                    28                         0   \n",
       "2020-07-12         18                    18                         0   \n",
       "\n",
       "            num_casos_prueba_otras  num_casos_prueba_desconocida  \\\n",
       "fecha                                                              \n",
       "2020-01-31                       0                             0   \n",
       "2020-02-01                       0                             0   \n",
       "2020-02-02                       0                             0   \n",
       "2020-02-03                       0                             0   \n",
       "2020-02-04                       0                             0   \n",
       "...                            ...                           ...   \n",
       "2020-07-08                       0                             0   \n",
       "2020-07-09                       0                             0   \n",
       "2020-07-10                       0                             0   \n",
       "2020-07-11                       0                             0   \n",
       "2020-07-12                       0                             0   \n",
       "\n",
       "            Casos_habitantes  \n",
       "fecha                         \n",
       "2020-01-31          0.000000  \n",
       "2020-02-01          0.000000  \n",
       "2020-02-02          0.000000  \n",
       "2020-02-03          0.000000  \n",
       "2020-02-04          1.528552  \n",
       "...                      ...  \n",
       "2020-07-08         12.228415  \n",
       "2020-07-09         44.328003  \n",
       "2020-07-10         24.456829  \n",
       "2020-07-11         42.799451  \n",
       "2020-07-12         27.513933  \n",
       "\n",
       "[164 rows x 6 columns]"
      ]
     },
     "execution_count": 95,
     "metadata": {},
     "output_type": "execute_result"
    }
   ],
   "source": [
    "resultados['NA']"
   ]
  },
  {
   "cell_type": "markdown",
   "metadata": {},
   "source": [
    "Que de manera fácil se puede presentar en un gráfico:"
   ]
  },
  {
   "cell_type": "code",
   "execution_count": 96,
   "metadata": {},
   "outputs": [
    {
     "data": {
      "text/plain": [
       "<matplotlib.axes._subplots.AxesSubplot at 0x7fe59eeef5d0>"
      ]
     },
     "execution_count": 96,
     "metadata": {},
     "output_type": "execute_result"
    },
    {
     "data": {
      "image/png": "[encoded data removed]",
      "text/plain": [
       "<Figure size 432x288 with 1 Axes>"
      ]
     },
     "metadata": {
      "needs_background": "light"
     },
     "output_type": "display_data"
    }
   ],
   "source": [
    "resultados['NA']['Casos_habitantes'].plot()"
   ]
  },
  {
   "cell_type": "markdown",
   "metadata": {},
   "source": [
    "El índice es la fecha, con lo cual fácilmente se pueden filtrar los datos para un rango de fechas determinado. Por ejemplo: preparemos un gráfico con los datos desde 1 de Junio:"
   ]
  },
  {
   "cell_type": "code",
   "execution_count": 101,
   "metadata": {},
   "outputs": [
    {
     "data": {
      "text/plain": [
       "<matplotlib.axes._subplots.AxesSubplot at 0x7fe59f54cb90>"
      ]
     },
     "execution_count": 101,
     "metadata": {},
     "output_type": "execute_result"
    },
    {
     "data": {
      "image/png": "[encoded data removed]",
      "text/plain": [
       "<Figure size 432x288 with 1 Axes>"
      ]
     },
     "metadata": {
      "needs_background": "light"
     },
     "output_type": "display_data"
    }
   ],
   "source": [
    "ref_date=datetime(year=2020,month=2,day=1)\n",
    "resultados['BA'][resultados['BA'].index>ref_date]['Casos_habitantes'].plot()"
   ]
  },
  {
   "cell_type": "code",
   "execution_count": 102,
   "metadata": {},
   "outputs": [
    {
     "data": {
      "text/html": [
       "<div>\n",
       "<style scoped>\n",
       "    .dataframe tbody tr th:only-of-type {\n",
       "        vertical-align: middle;\n",
       "    }\n",
       "\n",
       "    .dataframe tbody tr th {\n",
       "        vertical-align: top;\n",
       "    }\n",
       "\n",
       "    .dataframe thead th {\n",
       "        text-align: right;\n",
       "    }\n",
       "</style>\n",
       "<table border=\"1\" class=\"dataframe\">\n",
       "  <thead>\n",
       "    <tr style=\"text-align: right;\">\n",
       "      <th></th>\n",
       "      <th>fecha</th>\n",
       "      <th>num_casos</th>\n",
       "      <th>casos_habitantes</th>\n",
       "    </tr>\n",
       "  </thead>\n",
       "  <tbody>\n",
       "    <tr>\n",
       "      <th>0</th>\n",
       "      <td>2020-01-31</td>\n",
       "      <td>8</td>\n",
       "      <td>0.170003</td>\n",
       "    </tr>\n",
       "    <tr>\n",
       "      <th>1</th>\n",
       "      <td>2020-02-01</td>\n",
       "      <td>20</td>\n",
       "      <td>0.425008</td>\n",
       "    </tr>\n",
       "    <tr>\n",
       "      <th>2</th>\n",
       "      <td>2020-02-02</td>\n",
       "      <td>14</td>\n",
       "      <td>0.297505</td>\n",
       "    </tr>\n",
       "    <tr>\n",
       "      <th>3</th>\n",
       "      <td>2020-02-03</td>\n",
       "      <td>18</td>\n",
       "      <td>0.382507</td>\n",
       "    </tr>\n",
       "    <tr>\n",
       "      <th>4</th>\n",
       "      <td>2020-02-04</td>\n",
       "      <td>13</td>\n",
       "      <td>0.276255</td>\n",
       "    </tr>\n",
       "    <tr>\n",
       "      <th>...</th>\n",
       "      <td>...</td>\n",
       "      <td>...</td>\n",
       "      <td>...</td>\n",
       "    </tr>\n",
       "    <tr>\n",
       "      <th>159</th>\n",
       "      <td>2020-07-08</td>\n",
       "      <td>718</td>\n",
       "      <td>15.257770</td>\n",
       "    </tr>\n",
       "    <tr>\n",
       "      <th>160</th>\n",
       "      <td>2020-07-09</td>\n",
       "      <td>679</td>\n",
       "      <td>14.429006</td>\n",
       "    </tr>\n",
       "    <tr>\n",
       "      <th>161</th>\n",
       "      <td>2020-07-10</td>\n",
       "      <td>800</td>\n",
       "      <td>17.000301</td>\n",
       "    </tr>\n",
       "    <tr>\n",
       "      <th>162</th>\n",
       "      <td>2020-07-11</td>\n",
       "      <td>645</td>\n",
       "      <td>13.706493</td>\n",
       "    </tr>\n",
       "    <tr>\n",
       "      <th>163</th>\n",
       "      <td>2020-07-12</td>\n",
       "      <td>424</td>\n",
       "      <td>9.010160</td>\n",
       "    </tr>\n",
       "  </tbody>\n",
       "</table>\n",
       "<p>164 rows × 3 columns</p>\n",
       "</div>"
      ],
      "text/plain": [
       "         fecha  num_casos  casos_habitantes\n",
       "0   2020-01-31          8          0.170003\n",
       "1   2020-02-01         20          0.425008\n",
       "2   2020-02-02         14          0.297505\n",
       "3   2020-02-03         18          0.382507\n",
       "4   2020-02-04         13          0.276255\n",
       "..         ...        ...               ...\n",
       "159 2020-07-08        718         15.257770\n",
       "160 2020-07-09        679         14.429006\n",
       "161 2020-07-10        800         17.000301\n",
       "162 2020-07-11        645         13.706493\n",
       "163 2020-07-12        424          9.010160\n",
       "\n",
       "[164 rows x 3 columns]"
      ]
     },
     "execution_count": 102,
     "metadata": {},
     "output_type": "execute_result"
    }
   ],
   "source": [
    "resumen_por_dias.reset_index()"
   ]
  },
  {
   "cell_type": "markdown",
   "metadata": {},
   "source": [
    "## Gráficos"
   ]
  },
  {
   "cell_type": "markdown",
   "metadata": {},
   "source": [
    "Preparemos un primer modelo. Dashboard con un gráfico de barras con los números de casos en absoluto y en relativo por cada Comunidad. Veremos una sola serie de barras pero dos ejes `y`con las dos escalas: valores en absoluto y valores por millón."
   ]
  },
  {
   "cell_type": "code",
   "execution_count": 103,
   "metadata": {},
   "outputs": [
    {
     "ename": "IndentationError",
     "evalue": "expected an indented block (<ipython-input-103-0163e3a57838>, line 9)",
     "output_type": "error",
     "traceback": [
      "\u001b[0;36m  File \u001b[0;32m\"<ipython-input-103-0163e3a57838>\"\u001b[0;36m, line \u001b[0;32m9\u001b[0m\n\u001b[0;31m    '''\u001b[0m\n\u001b[0m           \n^\u001b[0m\n\u001b[0;31mIndentationError\u001b[0m\u001b[0;31m:\u001b[0m expected an indented block\n"
     ]
    }
   ],
   "source": [
    "# Opción gráficos con barras\n",
    "def barras(datos,desde_fecha):\n",
    "'''\n",
    "barras: genera una imagen con gráficos por comunidades con los vatos casos en absoluto\n",
    "    y casos por millóm\n",
    "variables:\n",
    "    datos: diccionario con los pandas por comunidad\n",
    "    desde_fecha: datetime con la fecha desde la que se quiere presentar los datos\n",
    "'''    \n",
    "    # cuatro funciones para formatear la presentación de los valores en el eje x e y\n",
    "    def format_x(value, tick_number):\n",
    "        return  value\n",
    "\n",
    "    def format_x_fecha(value, tick_number):\n",
    "        return resultados_filtrados['fecha'][int(value)].strftime('%-d-%b')\n",
    "    \n",
    "    def format_y(value, tick_number):\n",
    "        return  '{:.0}'.format(value)\n",
    "\n",
    "    def format_y_2(value, tick_number):\n",
    "        return  '{}'.format(value)\n",
    "\n",
    "    \n",
    "    f = plt.figure(figsize=(12,20))\n",
    "    f.subplots_adjust(hspace=.5, wspace=.5)\n",
    "    #f.suptitle('Evolución positivos: '+datetime.today().strftime('%d/%m/%Y')\n",
    "    f.suptitle('Evolución positivos desde: '+ref_date.strftime('%d/%m/%Y')          \n",
    "           ,fontsize=30,y=0)\n",
    "    color='navy'\n",
    "\n",
    "\n",
    "\n",
    "    sns.set_style(\"whitegrid\")\n",
    "    sns.set_palette(sns.color_palette(\"RdBu_r\",19))\n",
    "\n",
    "    axe=f.add_subplot(7,3,1)\n",
    "    resultados_filtrados=resumen_por_dias[resumen_por_dias.index>ref_date].reset_index()\n",
    "        #t=resultados[comunidad].index\n",
    "        #data1=resultados[comunidad]['num_casos']\n",
    "    t=resultados_filtrados.index\n",
    "    data1=resultados_filtrados['num_casos']\n",
    "    data2=resultados_filtrados['casos_habitantes']\n",
    "    axe.grid(False)\n",
    "    axe.set_title('Total España',size=20)\n",
    "    #sns.lineplot(t, data1, ax=axe,color='blue',linewidth=2)\n",
    "    sns.barplot(x='fecha',y='num_casos',data=resultados_filtrados,ax=axe,color=color)\n",
    "    axe.get_xaxis().set_ticks(t[::7])\n",
    "    axe.tick_params(axis='y', labelcolor=color)\n",
    "    axe.tick_params(axis='x',labelcolor=color,labelrotation=90)\n",
    "    axe.set_xlabel('')\n",
    "\n",
    "    ax2 = axe.twinx()  # instantiate a second axes that shares the same x-axis\n",
    "    ax2.grid(False)\n",
    "    sns.barplot(x='fecha',y='casos_habitantes',data=resultados_filtrados,ax=ax2,color=color)\n",
    "\n",
    "    ax2.set_ylabel('', color=sns.color_palette('RdBu_r',7)[0])\n",
    "    ax2.get_xaxis().set_visible(True)   \n",
    "    \n",
    "    ax2.xaxis.set_major_formatter(plt.FuncFormatter(format_x_fecha))\n",
    "    ax2.yaxis.set_major_formatter(plt.FuncFormatter(format_y_2))\n",
    "    ax2.tick_params(axis='y', labelcolor=color)\n",
    "    ax2.tick_params(axis='x',labelrotation=90)\n",
    "    axe.get_xaxis().set_ticks(t[::7])\n",
    "    \n",
    "    axe.set_ylabel('Nº de casos', color=color,size=15)\n",
    "\n",
    "    ax2.tick_params(axis='x',labelrotation=90)\n",
    "    ax2.set_xlabel('')\n",
    "    \n",
    "    for i,comunidad in enumerate(comunidades):\n",
    "        axe=f.add_subplot(7,3,i+2)\n",
    "        #resultados_filtrados=resultados[comunidad][resultados[comunidad].index>ref_date]\n",
    "        resultados_filtrados=resultados[comunidad][resultados[comunidad].index>ref_date].reset_index()\n",
    "        t=resultados_filtrados['fecha']\n",
    "        data1=resultados_filtrados['num_casos']\n",
    "        data2=resultados_filtrados['Casos_habitantes']\n",
    "        axe.grid(False)\n",
    "        axe.set_title(comunidades[comunidad][0],size=20)\n",
    "        sns.barplot(x='fecha',y='num_casos',data=resultados_filtrados,ax=axe,color=color)\n",
    "    #sns.lineplot(t, data1, ax=axe,color='blue',linewidth=2)\n",
    "        axe.tick_params(axis='y', labelcolor=color)\n",
    "        if (i+1) % 3 == 0 :\n",
    "            axe.set_ylabel('Nº de casos', color=color,size=15)\n",
    "        else:\n",
    "            axe.set_ylabel('', color=color,size=15)\n",
    "        axe.set_xlabel('')\n",
    "        axe.tick_params(axis='x',color=color, labelrotation=90)\n",
    "    \n",
    "        ax2 = axe.twinx()  # instantiate a second axes that shares the same x-axis\n",
    "        ax2.grid(False)\n",
    "        sns.barplot(x='fecha',y='Casos_habitantes',data=resultados_filtrados,ax=ax2,color=color)\n",
    "        ax2.set_ylabel('', color=sns.color_palette('RdBu_r',7)[0])\n",
    "        ax2.get_xaxis().set_visible(True)   \n",
    "    #ax2.get_xaxis().set_ticks(t[::7])\n",
    "        if (i) % 3 == 1 :\n",
    "            ax2.set_ylabel('casos por millón hab', color=color,size=15)\n",
    "        else:\n",
    "            ax2.set_ylabel('')\n",
    "        ax2.set_xlabel('')\n",
    "        start, end = ax2.get_xlim()\n",
    "        ax2.xaxis.set_ticks(np.arange(0, end, 7))\n",
    "    \n",
    "        ax2.xaxis.set_major_formatter(plt.FuncFormatter(format_x_fecha))\n",
    "        ax2.tick_params(axis='y', labelcolor=color)\n",
    "        ax2.tick_params(axis='x',color=color,labelrotation=90)\n",
    "    \n",
    "    f.tight_layout()  # otherwise the right y-label is slightly clipped\n",
    "    f.savefig('graficos/grafico_muertes_com.png')"
   ]
  },
  {
   "cell_type": "code",
   "execution_count": null,
   "metadata": {},
   "outputs": [],
   "source": [
    "# Opción gráficos con barras\n",
    "\n",
    "\n",
    "def format_x(value, tick_number):\n",
    "        return  value\n",
    "\n",
    "def format_x_fecha(value, tick_number):\n",
    "        #print (type(value))\n",
    "        #return  datetime.strftime(datetime.strptime(value[:9],'%Y-%m-%d'),'%d/%m')\n",
    "        return resultados_filtrados['fecha'][int(value)].strftime('%-d-%b')\n",
    "def format_y(value, tick_number):\n",
    "        return  '{:.0}'.format(value)\n",
    "\n",
    "def format_y_2(value, tick_number):\n",
    "        return  '{}'.format(value)\n",
    "\n",
    "ref_date=datetime(year=2020,month=5,day=15)    \n",
    "    \n",
    "f = plt.figure(figsize=(12,20))\n",
    "f.subplots_adjust(hspace=.5, wspace=.5)\n",
    "#f.suptitle('Evolución positivos: '+datetime.today().strftime('%d/%m/%Y')\n",
    "f.suptitle('Evolución positivos desde: '+ref_date.strftime('%d/%m/%Y')          \n",
    "           ,fontsize=30,y=0)\n",
    "color='navy'\n",
    "\n",
    "#plt.text(x=0, y=0,'hola', fontsize=8, alpha=0.75)\n",
    "\n",
    "sns.set_style(\"whitegrid\")\n",
    "sns.set_palette(sns.color_palette(\"RdBu_r\",19))\n",
    "\n",
    "axe=f.add_subplot(7,3,1)\n",
    "resultados_filtrados=resumen_por_dias[resumen_por_dias.index>ref_date].reset_index()\n",
    "    #t=resultados[comunidad].index\n",
    "    #data1=resultados[comunidad]['num_casos']\n",
    "t=resultados_filtrados.index\n",
    "data1=resultados_filtrados['num_casos']\n",
    "data2=resultados_filtrados['casos_habitantes']\n",
    "axe.grid(False)\n",
    "axe.set_title('Total España',size=20)\n",
    "#sns.lineplot(t, data1, ax=axe,color='blue',linewidth=2)\n",
    "sns.barplot(x='fecha',y='num_casos',data=resultados_filtrados,ax=axe,color=color)\n",
    "axe.get_xaxis().set_ticks(t[::7])\n",
    "\n",
    "#start, end = ax.get_xlim()\n",
    "#ax.xaxis.set_ticks(np.arange(start, end, 0.712123))\n",
    "#ax.xaxis.set_major_formatter(ticker.FormatStrFormatter('%0.1f'))\n",
    "\n",
    "#axe.xaxis.set_ticks(t[::3])\n",
    "axe.tick_params(axis='y', labelcolor=color)\n",
    "axe.tick_params(axis='x',labelcolor=color,labelrotation=90)\n",
    "axe.set_xlabel('')\n",
    "\n",
    "ax2 = axe.twinx()  # instantiate a second axes that shares the same x-axis\n",
    "ax2.grid(False)\n",
    "#ax2.set_ylabel('', color=color)  # we already handled the x-label with ax1\n",
    "#ax2.plot(t, data2, color=color,label='casos habitantes')\n",
    "#ax2.plot(t,data3,color='black',label='Activos')\n",
    "sns.barplot(x='fecha',y='casos_habitantes',data=resultados_filtrados,ax=ax2,color=color)\n",
    "  \n",
    "#sns.lineplot(t, data2, label='Casos',ax=ax2,color=sns.color_palette('RdBu_r',7)[0],linewidth=5)\n",
    "#sns.lineplot(t,data3,label='Muertes',ax=ax2,color='blue',linewidth=5)\n",
    "    \n",
    "#ax2.tick_params(axis='y', labelcolor=color)\n",
    "\n",
    "ax2.set_ylabel('', color=sns.color_palette('RdBu_r',7)[0])\n",
    "ax2.get_xaxis().set_visible(True)   \n",
    "    \n",
    "ax2.xaxis.set_major_formatter(plt.FuncFormatter(format_x_fecha))\n",
    "ax2.yaxis.set_major_formatter(plt.FuncFormatter(format_y_2))\n",
    "ax2.tick_params(axis='y', labelcolor=color)\n",
    "ax2.tick_params(axis='x',labelrotation=90)\n",
    "axe.get_xaxis().set_ticks(t[::7])\n",
    "#ax2.legend()\n",
    "#ax2.set_yscale('log')\n",
    "    \n",
    "axe.set_ylabel('Nº de casos', color=color,size=15)\n",
    "\n",
    "#axe.xaxis.set_major_formatter(plt.FuncFormatter(format_x))\n",
    "    #axe.yaxis.set_major_formatter(plt.FuncFormatter(format_y))    \n",
    "    #axe.get_xaxis().set_ticks([])\n",
    "    #axe.get_xaxis().set_visible(False)\n",
    "ax2.tick_params(axis='x',labelrotation=90)\n",
    "ax2.set_xlabel('')\n",
    "    #axe.legend()\n",
    "    #ax2.set_yscale('log')    \n",
    "\n",
    "for i,comunidad in enumerate(comunidades):\n",
    "    axe=f.add_subplot(7,3,i+2)\n",
    "    #resultados_filtrados=resultados[comunidad][resultados[comunidad].index>ref_date]\n",
    "    resultados_filtrados=resultados[comunidad][resultados[comunidad].index>ref_date].reset_index()\n",
    "    #t=resultados[comunidad].index\n",
    "    #data1=resultados[comunidad]['num_casos']\n",
    "    t=resultados_filtrados['fecha']\n",
    "    data1=resultados_filtrados['num_casos']\n",
    "    data2=resultados_filtrados['Casos_habitantes']\n",
    "    axe.grid(False)\n",
    "    axe.set_title(comunidades[comunidad][0],size=20)\n",
    "    sns.barplot(x='fecha',y='num_casos',data=resultados_filtrados,ax=axe,color=color)\n",
    "    #sns.lineplot(t, data1, ax=axe,color='blue',linewidth=2)\n",
    "    axe.tick_params(axis='y', labelcolor=color)\n",
    "    if (i+1) % 3 == 0 :\n",
    "        axe.set_ylabel('Nº de casos', color=color,size=15)\n",
    "    else:\n",
    "        axe.set_ylabel('', color=color,size=15)\n",
    "    axe.set_xlabel('')\n",
    "    #axe.xaxis.set_major_formatter(plt.FuncFormatter(format_x))\n",
    "    #axe.yaxis.set_major_formatter(plt.FuncFormatter(format_y))    \n",
    "    #axe.get_xaxis().set_ticks([])\n",
    "    #axe.get_xaxis().set_visible(False)\n",
    "    axe.tick_params(axis='x',color=color, labelrotation=90)\n",
    "    #axe.legend()\n",
    "    #ax2.set_yscale('log')\n",
    "    ax2 = axe.twinx()  # instantiate a second axes that shares the same x-axis\n",
    "    ax2.grid(False)\n",
    "    #ax2.set_ylabel('', color=color)  # we already handled the x-label with ax1\n",
    "    #ax2.plot(t, data2, color=color,label='Confirmados')\n",
    "    sns.barplot(x='fecha',y='Casos_habitantes',data=resultados_filtrados,ax=ax2,color=color)\n",
    "    #ax2.plot(t,data3,color='black',label='Activos')\n",
    "    \n",
    "    #sns.lineplot(t, data2, label='Casos',ax=ax2,color=sns.color_palette('RdBu_r',7)[0],linewidth=5)\n",
    "    #sns.lineplot(t,data3,label='Muertes',ax=ax2,color='blue',linewidth=5)\n",
    "    \n",
    "    #ax2.tick_params(axis='y', labelcolor=color)\n",
    "\n",
    "    ax2.set_ylabel('', color=sns.color_palette('RdBu_r',7)[0])\n",
    "    ax2.get_xaxis().set_visible(True)   \n",
    "    #ax2.get_xaxis().set_ticks(t[::7])\n",
    "    if (i) % 3 == 1 :\n",
    "        ax2.set_ylabel('casos por millón hab', color=color,size=15)\n",
    "    else:\n",
    "        ax2.set_ylabel('')\n",
    "    ax2.set_xlabel('')\n",
    "    start, end = ax2.get_xlim()\n",
    "    #start=list(resultados_filtrados['fecha'])[0]\n",
    "    #end=list(resultados_filtrados['fecha'])[-1]\n",
    "    ax2.xaxis.set_ticks(np.arange(0, end, 7))\n",
    "    #ax2.xaxis.set_major_formatter(ticker.FormatStrFormatter('%0.1f'))\n",
    "    #ax2.get_xaxis().set_ticks(resultados_filtrados['fecha'][::7].values)\n",
    "    \n",
    "    ax2.xaxis.set_major_formatter(plt.FuncFormatter(format_x_fecha))\n",
    "    #ax2.yaxis.set_major_formatter(plt.FuncFormatter(format_y_2))\n",
    "    ax2.tick_params(axis='y', labelcolor=color)\n",
    "    ax2.tick_params(axis='x',color=color,labelrotation=90)\n",
    "    #ax2.legend()\n",
    "    #ax2.set_yscale('log')\n",
    "    \n",
    "\n",
    "\n",
    "f.tight_layout()  # otherwise the right y-label is slightly clipped\n",
    "#f.savefig('graficos/grafico_muertes_com.png')"
   ]
  },
  {
   "cell_type": "code",
   "execution_count": 122,
   "metadata": {},
   "outputs": [],
   "source": [
    "def format_x(value, tick_number):\n",
    "        return  datetime.fromordinal(int(value)).strftime('%d-%b')\n"
   ]
  },
  {
   "cell_type": "code",
   "execution_count": null,
   "metadata": {},
   "outputs": [],
   "source": [
    "# Set canvas background color the same as axes\n",
    "#mean_ratio=0.001\n",
    "plt.rc('figure', facecolor='black')\n",
    "plt.style.use('dark_background')\n",
    "plt.ion()\n",
    "\n",
    "# set constrianed_layout as True to avoid axes overlap\n",
    "#fig = plt.figure(figsize=(10,20 ), dpi=300, constrained_layout=True)\n",
    "fig = plt.figure(figsize=(10,24),dpi=300)\n",
    "desde_fecha=datetime(year=2020,month=3,day=1)\n",
    "titulo='''Evolución positivos desde: {} \\nCasos por millón habitantes\n",
    "Color de barras proporcional al rango de casos por millon de todas las provincias y todos los días\n",
    "Superficie de los círculos proporcionales a población\n",
    "Color de círculo proporcional al rango de medias de casos por millón de la Provincia\n",
    "Fuente: https://cnecovid.isciii.es/covid19/resources/datos_provincias.csv'''\n",
    "fig.suptitle(titulo.format(desde_fecha.strftime('%d-%m-%Y'))        \n",
    "           ,fontsize=12,x=.05,y=.93,ha='left')\n",
    "  \n",
    "# Use GridSpec for customising layout\n",
    "gs = fig.add_gridspec(nrows=54, ncols=10)\n",
    "\n",
    "\n",
    "\n",
    "ax=fig.add_subplot(gs[1,1:8])\n",
    "ax.bar(resultados['M'][resultados['M'].index >= desde_fecha].index,0,color='xkcd:black',\n",
    "       edgecolor='black',width=0.5,align='edge')\n",
    "ax.set_facecolor('xkcd:black')\n",
    "ax.spines['bottom'].set_visible(False)  \n",
    "ax.spines['right'].set_visible(False)  \n",
    "ax.spines['left'].set_visible(False)  \n",
    "ax.spines['top'].set_visible(False)\n",
    "\n",
    "ax.grid(False,which='both')\n",
    "#ax.tick_params(axis='x',direction='out',labelrotation=90)\n",
    "ax.xaxis.set_major_formatter(plt.FuncFormatter(format_x))\n",
    "\n",
    "ax.axes.get_yaxis().set_visible(False)\n",
    "#ax.axes.get_xaxis().set_visible(False)\n",
    "#ax.get_xaxis().set_ticks(resultados['M'][resultados['M'].index >= desde_fecha].index[::20])\n",
    "ax.tick_params(axis='x',size=0,labelsize=10,pad=-10)\n",
    "#ax.get_yaxis().set_ticks([])\n",
    "#ax.xaxis.set_ticks_position(position='top')\n",
    "\n",
    "majorFmt = mdates.DateFormatter('%-d-%b')\n",
    "ax.xaxis.set_major_locator(mdates.MonthLocator([1,2,3,4,5,6,7,8,9,10,11,12]))\n",
    "ax.xaxis.set_major_formatter(majorFmt)\n",
    "#ax2.yaxis.set_major_formatter(ticker.FuncFormatter(format_y))\n",
    "\n",
    "\n",
    "ratio_max=0\n",
    "average_com={}\n",
    "color_average_com={}\n",
    "max_average=0\n",
    "for i, com in enumerate(provincias):\n",
    "    df_data=resultados[com][resultados[com].index >= desde_fecha]\n",
    "    average_com[com]=df_data['Casos_habitantes'].mean()\n",
    "    if average_com[com] > max_average:\n",
    "        max_average=average_com[com]\n",
    "    if df_data['Casos_habitantes'].replace(np.inf,np.nan).max() > ratio_max:\n",
    "        ratio_max=df_data['Casos_habitantes'].max()\n",
    "for i, com in enumerate(provincias):\n",
    "    average_com[com]/=max_average\n",
    "    color_average_com[com]=cm.RdYlGn_r(average_com[com])\n",
    "\n",
    "\n",
    "for i, com in enumerate(provincias):\n",
    "    #nombre provincias\n",
    "    ax1 = fig.add_subplot(gs[i+2,0])\n",
    "    ax1.set_facecolor('xkcd:black')\n",
    "    ax1.annotate('{}'.format(provincias[com][0]), (0.8, 0.5), size=12,xycoords='axes fraction', va='center', ha='right')\n",
    "    ax1.spines['bottom'].set_visible(False)  \n",
    "    ax1.spines['right'].set_visible(False)  \n",
    "    ax1.spines['left'].set_visible(False)  \n",
    "    ax1.spines['top'].set_visible(False)\n",
    "    ax1.get_xaxis().set_ticks([])\n",
    "    ax1.get_yaxis().set_ticks([])\n",
    "    \n",
    "    #ax = fig.add_subplot(19,1,i+1, ylim=(-.0001, 0.0001))\n",
    "    ax = fig.add_subplot(gs[i+2, 1:8])\n",
    "    \n",
    "    ax.get_xaxis().set_visible(False)\n",
    "    #ax.get_yaxis().set_visible(False)\n",
    "    \n",
    "    df_data=resultados[com][resultados[com].index > desde_fecha]\n",
    "    mean_ratio=df_data['num_casos'].mean()\n",
    "    # color scheme\n",
    "    # colors = cm.RdYlBu_r(resultados[com]['Fallecidos_por_hab'] / resultados[com]['Fallecidos_por_hab'].max())\n",
    "    # ax.bar(resultados[com].index, df_data['Fallecidos_por_hab'] - mean_ratio, label='_1',color=colors,\n",
    "    #       width=0.7, align=\"edge\")\n",
    "    \n",
    "    #colors = cm.RdYlBu_r(df_data['Casos_habitantes'] / df_data['Casos_habitantes'].replace(np.inf,np.nan).max())\n",
    "    colors = cm.RdYlBu_r(df_data['Casos_habitantes'] / ratio_max)\n",
    "    \n",
    "    ax.bar(df_data.index, df_data['Casos_habitantes'], label='_1',color=colors,\n",
    "           width=1, align=\"edge\")\n",
    "    \n",
    "    \n",
    "    #Calculemos el color de valor maximo, para que indique el rango del valor\n",
    "    color_max = colors[np.argmax(df_data['Casos_habitantes'])]\n",
    "    start, end = ax.get_ylim()\n",
    "    ax.get_yaxis().set_ticks([int(end)])\n",
    "    \n",
    "    #ax.yaxis.label.set_color(color_max)\n",
    "    ax.tick_params(axis='y',colors=color_max,labelsize=8)\n",
    "\n",
    "    \n",
    "    # customise axes\n",
    "    ax.spines['bottom'].set_visible(False)  \n",
    "    ax.spines['right'].set_visible(False)  \n",
    "    #ax.spines['left'].set_visible(False)  \n",
    "    ax.spines['top'].set_visible(False)\n",
    "    ax.grid(False,which='both')\n",
    "    ax.get_xaxis().set_ticks([])\n",
    "    \n",
    "\n",
    "\n",
    "    #ax.set_ylabel(comunidades[com][0], rotation=0, color='#e3e3e3', fontsize=10, fontweight='bold')\n",
    "    \n",
    "    \n",
    "    \n",
    "    ax2=fig.add_subplot(gs[i+2,8:9])\n",
    "    circle1 = plt.Circle((0.5, 0.5), np.sqrt(provincias[com][1]/np.pi)/5000, color=color_average_com[com])\n",
    "    ax2.spines['bottom'].set_visible(False)  \n",
    "    ax2.spines['right'].set_visible(False)  \n",
    "    ax2.spines['left'].set_visible(False)  \n",
    "    ax2.spines['top'].set_visible(False)\n",
    "    ax2.set_facecolor('xkcd:black')\n",
    "    #ax2.set_ylabel('', rotation=0, color='black')\n",
    "    #ax2.set_xlabel('', rotation=0, color='black')\n",
    "    ax2.get_xaxis().set_visible(False)\n",
    "    ax2.get_yaxis().set_visible(False)\n",
    "    ax2.add_artist(circle1)\n",
    "\n",
    "#plt.tight_layout()\n",
    "path='graficos/'\n",
    "pref='temporal_por_provincias_hasta'\n",
    "nombre_fichero=path+pref+'.png'\n",
    "fig.savefig(nombre_fichero)\n",
    "plt.show()"
   ]
  },
  {
   "cell_type": "code",
   "execution_count": null,
   "metadata": {},
   "outputs": [],
   "source": []
  }
 ],
 "metadata": {
  "kernelspec": {
   "display_name": "Python 3",
   "language": "python",
   "name": "python3"
  },
  "language_info": {
   "codemirror_mode": {
    "name": "ipython",
    "version": 3
   },
   "file_extension": ".py",
   "mimetype": "text/x-python",
   "name": "python",
   "nbconvert_exporter": "python",
   "pygments_lexer": "ipython3",
   "version": "3.7.7"
  }
 },
 "nbformat": 4,
 "nbformat_minor": 4
}
