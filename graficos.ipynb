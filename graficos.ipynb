{
 "cells": [
  {
   "cell_type": "code",
   "execution_count": 25,
   "metadata": {},
   "outputs": [],
   "source": [
    "import pandas as pd\n",
    "import matplotlib.pyplot as plt\n",
    "from matplotlib.ticker import FuncFormatter\n",
    "from matplotlib import cm\n",
    "import numpy as np\n",
    "from datetime import datetime\n",
    "import seaborn as sns\n",
    "%matplotlib inline"
   ]
  },
  {
   "cell_type": "code",
   "execution_count": 80,
   "metadata": {},
   "outputs": [],
   "source": [
    "x=np.arange(1,2,.1)"
   ]
  },
  {
   "cell_type": "code",
   "execution_count": 97,
   "metadata": {},
   "outputs": [],
   "source": [
    "x=np.linspace(0,100,11)"
   ]
  },
  {
   "cell_type": "code",
   "execution_count": 98,
   "metadata": {},
   "outputs": [
    {
     "data": {
      "text/plain": [
       "array([  0.,  10.,  20.,  30.,  40.,  50.,  60.,  70.,  80.,  90., 100.])"
      ]
     },
     "execution_count": 98,
     "metadata": {},
     "output_type": "execute_result"
    }
   ],
   "source": [
    "x"
   ]
  },
  {
   "cell_type": "code",
   "execution_count": 99,
   "metadata": {},
   "outputs": [],
   "source": [
    "y=np.linspace(2,40,11)"
   ]
  },
  {
   "cell_type": "code",
   "execution_count": 100,
   "metadata": {},
   "outputs": [
    {
     "data": {
      "text/plain": [
       "array([ 2. ,  5.8,  9.6, 13.4, 17.2, 21. , 24.8, 28.6, 32.4, 36.2, 40. ])"
      ]
     },
     "execution_count": 100,
     "metadata": {},
     "output_type": "execute_result"
    }
   ],
   "source": [
    "y"
   ]
  },
  {
   "cell_type": "code",
   "execution_count": 135,
   "metadata": {},
   "outputs": [],
   "source": [
    "posicion_xticks=x[::3]\n",
    "posicion_xticks=x[::2]"
   ]
  },
  {
   "cell_type": "code",
   "execution_count": 222,
   "metadata": {},
   "outputs": [],
   "source": [
    "rango_color=np.linspace(0,1,11)"
   ]
  },
  {
   "cell_type": "code",
   "execution_count": 223,
   "metadata": {},
   "outputs": [
    {
     "data": {
      "image/png": "[encoded data removed]",
      "text/plain": [
       "<Figure size 432x288 with 1 Axes>"
      ]
     },
     "metadata": {},
     "output_type": "display_data"
    }
   ],
   "source": [
    "f = plt.figure()\n",
    "f.subplots_adjust(hspace=.5, wspace=.5)\n",
    "f.suptitle('titulo',fontsize=20,x=0,y=0)\n",
    "ax = f.add_subplot(1,1,1)\n",
    "colors = cm.RdYlBu_r(rango_color)\n",
    "ax.bar(x,y,label='_1', width=1,color=colors,align=\"center\")\n",
    "ax.set_xticks(posicion_xticks)\n",
    "#ax.get_yaxis().set_ticks([5])\n",
    "#plt.xticks()\n",
    "plt.show()"
   ]
  },
  {
   "cell_type": "code",
   "execution_count": 238,
   "metadata": {},
   "outputs": [],
   "source": [
    "x=[chr(int(i)) for i in np.linspace(50,100,11)]"
   ]
  },
  {
   "cell_type": "code",
   "execution_count": 239,
   "metadata": {},
   "outputs": [],
   "source": [
    "posicion_xticks=x[::2]\n",
    "posicion_xticks=np.linspace(0,10,11)"
   ]
  },
  {
   "cell_type": "code",
   "execution_count": 244,
   "metadata": {},
   "outputs": [],
   "source": [
    "def format_major_x(value, tick_number):\n",
    "    return  x[tick_number]\n",
    "def format_minor_x(value, tick_number):\n",
    "    return  value\n",
    "def format_y(value, tick_number):\n",
    "    return '{:.1f}'.format(value)"
   ]
  },
  {
   "cell_type": "code",
   "execution_count": 246,
   "metadata": {
    "scrolled": true
   },
   "outputs": [
    {
     "data": {
      "image/png": "[encoded data removed]",
      "text/plain": [
       "<Figure size 288x216 with 1 Axes>"
      ]
     },
     "metadata": {},
     "output_type": "display_data"
    }
   ],
   "source": [
    "f = plt.figure(figsize=(4,3))\n",
    "#f.subplots_adjust(hspace=.5, wspace=.5)\n",
    "f.suptitle('titulo',fontsize=20,x=0,y=0)\n",
    "ax = f.add_subplot(1,1,1)\n",
    "colors = cm.RdYlBu_r(rango_color)\n",
    "ax.xaxis.set_major_formatter(plt.FuncFormatter(format_major_x))\n",
    "ax.xaxis.set_minor_formatter(plt.FuncFormatter(format_minor_x))\n",
    "ax.yaxis.set_major_formatter(plt.FuncFormatter(format_y))\n",
    "ax.bar(x,y,label='_1',width=1,color=colors,align=\"center\")\n",
    "ax.set_xticks(posicion_xticks,'major')\n",
    "#ax.get_yaxis().set_ticks([5])\n",
    "#plt.xticks()\n",
    "plt.show()"
   ]
  },
  {
   "cell_type": "code",
   "execution_count": null,
   "metadata": {},
   "outputs": [],
   "source": []
  }
 ],
 "metadata": {
  "kernelspec": {
   "display_name": "Python 3",
   "language": "python",
   "name": "python3"
  },
  "language_info": {
   "codemirror_mode": {
    "name": "ipython",
    "version": 3
   },
   "file_extension": ".py",
   "mimetype": "text/x-python",
   "name": "python",
   "nbconvert_exporter": "python",
   "pygments_lexer": "ipython3",
   "version": "3.7.6"
  }
 },
 "nbformat": 4,
 "nbformat_minor": 4
}
