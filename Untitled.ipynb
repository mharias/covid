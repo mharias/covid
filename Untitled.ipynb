{
 "cells": [
  {
   "cell_type": "code",
   "execution_count": 1,
   "metadata": {},
   "outputs": [],
   "source": [
    "import sys"
   ]
  },
  {
   "cell_type": "code",
   "execution_count": 2,
   "metadata": {},
   "outputs": [
    {
     "name": "stdout",
     "output_type": "stream",
     "text": [
      "SHELL=/bin/zsh\r\n",
      "TMPDIR=/var/folders/1w/gkgtv2h94873d4909gb8xntm0000gn/T/\r\n",
      "CONDA_SHLVL=1\r\n",
      "CONDA_PROMPT_MODIFIER=(DataScience) \r\n",
      "USER=waly\r\n",
      "CONDA_EXE=/Users/waly/opt/anaconda3/bin/conda\r\n",
      "SSH_AUTH_SOCK=/private/tmp/com.apple.launchd.WQXfFiGe7E/Listeners\r\n",
      "__CF_USER_TEXT_ENCODING=0x1F5:0x0:0x8\r\n",
      "_CE_CONDA=\r\n",
      "CONDA_ROOT=/Users/waly/opt/anaconda3\r\n",
      "PATH=/Users/waly/opt/anaconda3/envs/DataScience/bin:/Users/waly/opt/anaconda3/condabin:/usr/bin:/bin:/usr/sbin:/sbin\r\n",
      "CONDA_PREFIX=/Users/waly/opt/anaconda3/envs/DataScience\r\n",
      "PWD=/Users/waly/Documents/proyectos/covid\r\n",
      "XPC_FLAGS=0x0\r\n",
      "_CE_M=\r\n",
      "XPC_SERVICE_NAME=0\r\n",
      "HOME=/Users/waly\r\n",
      "SHLVL=2\r\n",
      "CONDA_PYTHON_EXE=/Users/waly/opt/anaconda3/bin/python\r\n",
      "LOGNAME=waly\r\n",
      "LC_CTYPE=UTF-8\r\n",
      "CONDA_DEFAULT_ENV=DataScience\r\n",
      "KERNEL_LAUNCH_TIMEOUT=40\r\n",
      "JPY_PARENT_PID=15264\r\n",
      "TERM=xterm-color\r\n",
      "CLICOLOR=1\r\n",
      "PAGER=cat\r\n",
      "GIT_PAGER=cat\r\n",
      "MPLBACKEND=module://ipykernel.pylab.backend_inline\r\n",
      "OLDPWD=/Users/waly/Documents/proyectos/covid\r\n",
      "_=/usr/bin/env\r\n"
     ]
    }
   ],
   "source": [
    "!env"
   ]
  },
  {
   "cell_type": "code",
   "execution_count": 3,
   "metadata": {},
   "outputs": [
    {
     "name": "stdout",
     "output_type": "stream",
     "text": [
      "Collecting package metadata (current_repodata.json): done\n",
      "Solving environment: done\n",
      "\n",
      "\n",
      "==> WARNING: A newer version of conda exists. <==\n",
      "  current version: 4.8.2\n",
      "  latest version: 4.8.3\n",
      "\n",
      "Please update conda by running\n",
      "\n",
      "    $ conda update -n base -c defaults conda\n",
      "\n",
      "\n",
      "\n",
      "## Package Plan ##\n",
      "\n",
      "  environment location: /Users/waly/opt/anaconda3/envs/DataScience\n",
      "\n",
      "  added / updated specs:\n",
      "    - pandas\n",
      "\n",
      "\n",
      "The following packages will be downloaded:\n",
      "\n",
      "    package                    |            build\n",
      "    ---------------------------|-----------------\n",
      "    mkl_fft-1.1.0              |   py37hc64f4ea_0         135 KB\n",
      "    mkl_random-1.1.1           |   py37h959d312_0         284 KB\n",
      "    numpy-1.18.5               |   py37h1da2735_0           5 KB\n",
      "    numpy-base-1.18.5          |   py37h3304bdc_0         3.9 MB\n",
      "    pandas-1.0.5               |   py37h959d312_0         7.4 MB\n",
      "    pytz-2020.1                |             py_0         184 KB\n",
      "    ------------------------------------------------------------\n",
      "                                           Total:        11.9 MB\n",
      "\n",
      "The following NEW packages will be INSTALLED:\n",
      "\n",
      "  blas               pkgs/main/osx-64::blas-1.0-mkl\n",
      "  intel-openmp       pkgs/main/osx-64::intel-openmp-2019.4-233\n",
      "  libgfortran        pkgs/main/osx-64::libgfortran-3.0.1-h93005f0_2\n",
      "  mkl                pkgs/main/osx-64::mkl-2019.4-233\n",
      "  mkl-service        pkgs/main/osx-64::mkl-service-2.3.0-py37hfbe908c_0\n",
      "  mkl_fft            pkgs/main/osx-64::mkl_fft-1.1.0-py37hc64f4ea_0\n",
      "  mkl_random         pkgs/main/osx-64::mkl_random-1.1.1-py37h959d312_0\n",
      "  numpy              pkgs/main/osx-64::numpy-1.18.5-py37h1da2735_0\n",
      "  numpy-base         pkgs/main/osx-64::numpy-base-1.18.5-py37h3304bdc_0\n",
      "  pandas             pkgs/main/osx-64::pandas-1.0.5-py37h959d312_0\n",
      "  pytz               pkgs/main/noarch::pytz-2020.1-py_0\n",
      "\n",
      "\n",
      "\n",
      "Downloading and Extracting Packages\n",
      "numpy-base-1.18.5    | 3.9 MB    | ##################################### | 100% \n",
      "mkl_fft-1.1.0        | 135 KB    | ##################################### | 100% \n",
      "pytz-2020.1          | 184 KB    | ##################################### | 100% \n",
      "pandas-1.0.5         | 7.4 MB    | ##################################### | 100% \n",
      "mkl_random-1.1.1     | 284 KB    | ##################################### | 100% \n",
      "numpy-1.18.5         | 5 KB      | ##################################### | 100% \n",
      "Preparing transaction: done\n",
      "Verifying transaction: done\n",
      "Executing transaction: done\n"
     ]
    }
   ],
   "source": [
    "!conda install --yes --prefix {sys.prefix} pandas"
   ]
  },
  {
   "cell_type": "code",
   "execution_count": 4,
   "metadata": {},
   "outputs": [],
   "source": [
    "import pandas as pd"
   ]
  },
  {
   "cell_type": "code",
   "execution_count": 5,
   "metadata": {},
   "outputs": [],
   "source": [
    "import numpy as np"
   ]
  },
  {
   "cell_type": "code",
   "execution_count": 6,
   "metadata": {},
   "outputs": [
    {
     "name": "stdout",
     "output_type": "stream",
     "text": [
      "Collecting package metadata (current_repodata.json): done\n",
      "Solving environment: failed with initial frozen solve. Retrying with flexible solve.\n",
      "Collecting package metadata (repodata.json): done\n",
      "Solving environment: failed with initial frozen solve. Retrying with flexible solve.\n",
      "\n",
      "PackagesNotFoundError: The following packages are not available from current channels:\n",
      "\n",
      "  - enumerate\n",
      "\n",
      "Current channels:\n",
      "\n",
      "  - https://repo.anaconda.com/pkgs/main/osx-64\n",
      "  - https://repo.anaconda.com/pkgs/main/noarch\n",
      "  - https://repo.anaconda.com/pkgs/r/osx-64\n",
      "  - https://repo.anaconda.com/pkgs/r/noarch\n",
      "\n",
      "To search for alternate channels that may provide the conda package you're\n",
      "looking for, navigate to\n",
      "\n",
      "    https://anaconda.org\n",
      "\n",
      "and use the search bar at the top of the page.\n",
      "\n",
      "\n"
     ]
    }
   ],
   "source": [
    "!conda install --yes --prefix {sys.prefix} enumerate"
   ]
  },
  {
   "cell_type": "code",
   "execution_count": null,
   "metadata": {},
   "outputs": [],
   "source": []
  }
 ],
 "metadata": {
  "kernelspec": {
   "display_name": "Python 3",
   "language": "python",
   "name": "python3"
  },
  "language_info": {
   "codemirror_mode": {
    "name": "ipython",
    "version": 3
   },
   "file_extension": ".py",
   "mimetype": "text/x-python",
   "name": "python",
   "nbconvert_exporter": "python",
   "pygments_lexer": "ipython3",
   "version": "3.7.7"
  }
 },
 "nbformat": 4,
 "nbformat_minor": 4
}
