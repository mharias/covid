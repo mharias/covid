{
 "cells": [
  {
   "cell_type": "code",
   "execution_count": null,
   "metadata": {},
   "outputs": [],
   "source": [
    "import pandas as pd\n",
    "import matplotlib.pyplot as plt\n",
    "from matplotlib.ticker import FuncFormatter\n",
    "from matplotlib import cm\n",
    "import matplotlib.dates as mdates\n",
    "import matplotlib.ticker as ticker\n",
    "from matplotlib.dates import (YEARLY, MONTHLY, DateFormatter, MonthLocator,DayLocator,\n",
    "                              rrulewrapper, RRuleLocator, drange)\n",
    "import numpy as np\n",
    "from datetime import datetime\n",
    "import seaborn as sns\n",
    "%matplotlib inline\n",
    "\n",
    "import urllib.request"
   ]
  },
  {
   "cell_type": "code",
   "execution_count": null,
   "metadata": {},
   "outputs": [],
   "source": [
    "path_datadista='https://raw.githubusercontent.cºom/datadista/datasets/master/COVID%2019/nacional_covid19.csv'ºb"
   ]
  },
  {
   "cell_type": "code",
   "execution_count": null,
   "metadata": {},
   "outputs": [],
   "source": [
    "datos_datadista = pd.read_csv(path_datadista)"
   ]
  },
  {
   "cell_type": "code",
   "execution_count": null,
   "metadata": {},
   "outputs": [],
   "source": [
    "datos_datadista['fecha']=pd.to_datetime(datos_datadista['fecha'])"
   ]
  },
  {
   "cell_type": "code",
   "execution_count": null,
   "metadata": {},
   "outputs": [],
   "source": [
    "def format_y(value, tick_number):\n",
    "        return  '{:.1f}'.format(value)\n",
    "\n",
    "#preparar datos\n",
    "data=datos_datadista.set_index('fecha')\n",
    "a_borrar = ['fecha']\n",
    "claves=list(data.columns)\n",
    "data=data[data.index>datetime(year=2020,month=7,day=1)]\n",
    "    \n",
    "f = plt.figure(figsize=(10,30))\n",
    "#f.subplots_adjust(hspace=.5, wspace=.5)\n",
    "f.suptitle('Muertes por Comunidad: '+datetime.today().strftime('%d/%m/%Y')\n",
    "           ,fontsize=30,y=0)\n",
    "sns.set_style(\"whitegrid\")\n",
    "sns.set_palette(sns.color_palette(\"RdBu_r\",19))\n",
    "\n",
    "\n",
    "for i,clave in enumerate(claves):\n",
    "    axe=f.add_subplot(len(claves),1,i+1)\n",
    "    \n",
    "    axe.set_title(clave,size=20)\n",
    "    sns.lineplot(data.index, data[clave], ax=axe,color='blue',linewidth=5)\n",
    "    axe.tick_params(axis='y', labelcolor='blue',size=15)\n",
    "    \n",
    "    axe.yaxis.set_major_formatter(plt.FuncFormatter(format_y))    \n",
    "    axe.xaxis.set_major_locator(DayLocator([1,10,20]))\n",
    "\n",
    "    majorFmt = DateFormatter('%-d-%b')\n",
    "    axe.xaxis.set_major_formatter(majorFmt)\n",
    "    axe.xaxis.set_tick_params(labelsize=14,labelcolor='navy')\n",
    "    \n",
    "#f.tight_layout()  # otherwise the right y-label is slightly clipped\n",
    "#f.savefig('graficos/grafico_muertes_com.png')"
   ]
  }
 ],
 "metadata": {
  "kernelspec": {
   "display_name": "Python 3",
   "language": "python",
   "name": "python3"
  },
  "language_info": {
   "codemirror_mode": {
    "name": "ipython",
    "version": 3
   },
   "file_extension": ".py",
   "mimetype": "text/x-python",
   "name": "python",
   "nbconvert_exporter": "python",
   "pygments_lexer": "ipython3",
   "version": "3.8.5"
  }
 },
 "nbformat": 4,
 "nbformat_minor": 4
}
