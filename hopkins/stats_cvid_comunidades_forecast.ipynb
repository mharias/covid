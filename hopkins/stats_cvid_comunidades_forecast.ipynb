{
 "cells": [
  {
   "cell_type": "markdown",
   "metadata": {},
   "source": [
    "# Estimación de parámetros de curvas: estimación de fallecidos basados en los datos existentes"
   ]
  },
  {
   "cell_type": "markdown",
   "metadata": {},
   "source": [
    "Vamos a utilizar la libreria `scipy` para estimar parámetros de la curva para que minimice las diferencias con los datos reales. Nos sirve esta curva para estimar datos futuros?: mi opinión es que no tiene por qué, la evolución de estos sistemas a priori no ha de seguir este patrón. Esto es una simple aproximación con métodos matemáticos, en los que no hay ninguna influencia de, por ejemplo, las fases de desconfinamiento que se están aplicando estos días."
   ]
  },
  {
   "cell_type": "markdown",
   "metadata": {},
   "source": [
    "Empecemos como siempre preparando el entorno importando las librerías que vamos a necesitar:"
   ]
  },
  {
   "cell_type": "code",
   "execution_count": 148,
   "metadata": {},
   "outputs": [],
   "source": [
    "%matplotlib inline\n",
    "import pandas as pd\n",
    "import matplotlib.pyplot as plt\n",
    "from matplotlib.ticker import FuncFormatter\n",
    "from matplotlib import cm\n",
    "import numpy as np\n",
    "from datetime import datetime,timedelta\n",
    "import seaborn as sns\n",
    "from scipy.optimize import curve_fit\n",
    "from scipy.special import erf"
   ]
  },
  {
   "cell_type": "markdown",
   "metadata": {},
   "source": [
    "VAriable con el path del fichero en el que encontramos los datos, son actualizados diariamente:"
   ]
  },
  {
   "cell_type": "code",
   "execution_count": 149,
   "metadata": {},
   "outputs": [],
   "source": [
    "path='https://covid19.isciii.es/resources/serie_historica_acumulados.csv'"
   ]
  },
  {
   "cell_type": "markdown",
   "metadata": {},
   "source": [
    "Descargamos los datos y los guardamos en un `pandas`"
   ]
  },
  {
   "cell_type": "code",
   "execution_count": 150,
   "metadata": {},
   "outputs": [],
   "source": [
    "df = pd.read_csv(path,encoding='ISO-8859-1',engine='python',skipfooter=9)"
   ]
  },
  {
   "cell_type": "markdown",
   "metadata": {},
   "source": [
    "Veamos el formato de los datos:"
   ]
  },
  {
   "cell_type": "code",
   "execution_count": 151,
   "metadata": {},
   "outputs": [
    {
     "data": {
      "text/plain": [
       "Index(['CCAA', 'FECHA', 'CASOS', 'PCR+', 'TestAc+', 'Hospitalizados', 'UCI',\n",
       "       'Fallecidos'],\n",
       "      dtype='object')"
      ]
     },
     "execution_count": 151,
     "metadata": {},
     "output_type": "execute_result"
    }
   ],
   "source": [
    "df.columns"
   ]
  },
  {
   "cell_type": "code",
   "execution_count": 152,
   "metadata": {},
   "outputs": [
    {
     "data": {
      "text/html": [
       "<div>\n",
       "<style scoped>\n",
       "    .dataframe tbody tr th:only-of-type {\n",
       "        vertical-align: middle;\n",
       "    }\n",
       "\n",
       "    .dataframe tbody tr th {\n",
       "        vertical-align: top;\n",
       "    }\n",
       "\n",
       "    .dataframe thead th {\n",
       "        text-align: right;\n",
       "    }\n",
       "</style>\n",
       "<table border=\"1\" class=\"dataframe\">\n",
       "  <thead>\n",
       "    <tr style=\"text-align: right;\">\n",
       "      <th></th>\n",
       "      <th>CCAA</th>\n",
       "      <th>FECHA</th>\n",
       "      <th>CASOS</th>\n",
       "      <th>PCR+</th>\n",
       "      <th>TestAc+</th>\n",
       "      <th>Hospitalizados</th>\n",
       "      <th>UCI</th>\n",
       "      <th>Fallecidos</th>\n",
       "    </tr>\n",
       "  </thead>\n",
       "  <tbody>\n",
       "    <tr>\n",
       "      <th>0</th>\n",
       "      <td>AN</td>\n",
       "      <td>20/2/2020</td>\n",
       "      <td>0.0</td>\n",
       "      <td>0</td>\n",
       "      <td>NaN</td>\n",
       "      <td>NaN</td>\n",
       "      <td>NaN</td>\n",
       "      <td>NaN</td>\n",
       "    </tr>\n",
       "    <tr>\n",
       "      <th>1</th>\n",
       "      <td>AR</td>\n",
       "      <td>20/2/2020</td>\n",
       "      <td>NaN</td>\n",
       "      <td>0</td>\n",
       "      <td>NaN</td>\n",
       "      <td>NaN</td>\n",
       "      <td>NaN</td>\n",
       "      <td>NaN</td>\n",
       "    </tr>\n",
       "    <tr>\n",
       "      <th>2</th>\n",
       "      <td>AS</td>\n",
       "      <td>20/2/2020</td>\n",
       "      <td>NaN</td>\n",
       "      <td>0</td>\n",
       "      <td>NaN</td>\n",
       "      <td>NaN</td>\n",
       "      <td>NaN</td>\n",
       "      <td>NaN</td>\n",
       "    </tr>\n",
       "    <tr>\n",
       "      <th>3</th>\n",
       "      <td>IB</td>\n",
       "      <td>20/2/2020</td>\n",
       "      <td>NaN</td>\n",
       "      <td>1</td>\n",
       "      <td>NaN</td>\n",
       "      <td>NaN</td>\n",
       "      <td>NaN</td>\n",
       "      <td>NaN</td>\n",
       "    </tr>\n",
       "    <tr>\n",
       "      <th>4</th>\n",
       "      <td>CN</td>\n",
       "      <td>20/2/2020</td>\n",
       "      <td>NaN</td>\n",
       "      <td>1</td>\n",
       "      <td>NaN</td>\n",
       "      <td>NaN</td>\n",
       "      <td>NaN</td>\n",
       "      <td>NaN</td>\n",
       "    </tr>\n",
       "  </tbody>\n",
       "</table>\n",
       "</div>"
      ],
      "text/plain": [
       "  CCAA      FECHA  CASOS  PCR+  TestAc+  Hospitalizados  UCI  Fallecidos\n",
       "0   AN  20/2/2020    0.0     0      NaN             NaN  NaN         NaN\n",
       "1   AR  20/2/2020    NaN     0      NaN             NaN  NaN         NaN\n",
       "2   AS  20/2/2020    NaN     0      NaN             NaN  NaN         NaN\n",
       "3   IB  20/2/2020    NaN     1      NaN             NaN  NaN         NaN\n",
       "4   CN  20/2/2020    NaN     1      NaN             NaN  NaN         NaN"
      ]
     },
     "execution_count": 152,
     "metadata": {},
     "output_type": "execute_result"
    }
   ],
   "source": [
    "df.head()"
   ]
  },
  {
   "cell_type": "code",
   "execution_count": 153,
   "metadata": {},
   "outputs": [
    {
     "data": {
      "text/html": [
       "<div>\n",
       "<style scoped>\n",
       "    .dataframe tbody tr th:only-of-type {\n",
       "        vertical-align: middle;\n",
       "    }\n",
       "\n",
       "    .dataframe tbody tr th {\n",
       "        vertical-align: top;\n",
       "    }\n",
       "\n",
       "    .dataframe thead th {\n",
       "        text-align: right;\n",
       "    }\n",
       "</style>\n",
       "<table border=\"1\" class=\"dataframe\">\n",
       "  <thead>\n",
       "    <tr style=\"text-align: right;\">\n",
       "      <th></th>\n",
       "      <th>CCAA</th>\n",
       "      <th>FECHA</th>\n",
       "      <th>CASOS</th>\n",
       "      <th>PCR+</th>\n",
       "      <th>TestAc+</th>\n",
       "      <th>Hospitalizados</th>\n",
       "      <th>UCI</th>\n",
       "      <th>Fallecidos</th>\n",
       "    </tr>\n",
       "  </thead>\n",
       "  <tbody>\n",
       "    <tr>\n",
       "      <th>1724</th>\n",
       "      <td>ML</td>\n",
       "      <td>20/5/2020</td>\n",
       "      <td>NaN</td>\n",
       "      <td>121</td>\n",
       "      <td>13.0</td>\n",
       "      <td>44.0</td>\n",
       "      <td>3.0</td>\n",
       "      <td>2.0</td>\n",
       "    </tr>\n",
       "    <tr>\n",
       "      <th>1725</th>\n",
       "      <td>MC</td>\n",
       "      <td>20/5/2020</td>\n",
       "      <td>NaN</td>\n",
       "      <td>1570</td>\n",
       "      <td>1039.0</td>\n",
       "      <td>680.0</td>\n",
       "      <td>112.0</td>\n",
       "      <td>149.0</td>\n",
       "    </tr>\n",
       "    <tr>\n",
       "      <th>1726</th>\n",
       "      <td>NC</td>\n",
       "      <td>20/5/2020</td>\n",
       "      <td>NaN</td>\n",
       "      <td>5195</td>\n",
       "      <td>3157.0</td>\n",
       "      <td>2048.0</td>\n",
       "      <td>136.0</td>\n",
       "      <td>506.0</td>\n",
       "    </tr>\n",
       "    <tr>\n",
       "      <th>1727</th>\n",
       "      <td>PV</td>\n",
       "      <td>20/5/2020</td>\n",
       "      <td>NaN</td>\n",
       "      <td>13421</td>\n",
       "      <td>5358.0</td>\n",
       "      <td>7032.0</td>\n",
       "      <td>578.0</td>\n",
       "      <td>1483.0</td>\n",
       "    </tr>\n",
       "    <tr>\n",
       "      <th>1728</th>\n",
       "      <td>RI</td>\n",
       "      <td>20/5/2020</td>\n",
       "      <td>NaN</td>\n",
       "      <td>4033</td>\n",
       "      <td>1395.0</td>\n",
       "      <td>1504.0</td>\n",
       "      <td>91.0</td>\n",
       "      <td>354.0</td>\n",
       "    </tr>\n",
       "  </tbody>\n",
       "</table>\n",
       "</div>"
      ],
      "text/plain": [
       "     CCAA      FECHA  CASOS   PCR+  TestAc+  Hospitalizados    UCI  Fallecidos\n",
       "1724   ML  20/5/2020    NaN    121     13.0            44.0    3.0         2.0\n",
       "1725   MC  20/5/2020    NaN   1570   1039.0           680.0  112.0       149.0\n",
       "1726   NC  20/5/2020    NaN   5195   3157.0          2048.0  136.0       506.0\n",
       "1727   PV  20/5/2020    NaN  13421   5358.0          7032.0  578.0      1483.0\n",
       "1728   RI  20/5/2020    NaN   4033   1395.0          1504.0   91.0       354.0"
      ]
     },
     "execution_count": 153,
     "metadata": {},
     "output_type": "execute_result"
    }
   ],
   "source": [
    "df.tail()"
   ]
  },
  {
   "cell_type": "markdown",
   "metadata": {},
   "source": [
    "Vamos a crear un `dictionary` que tenga como clave (`index`\n",
    ") las iniciales del nombre de la Comunidad Autónoma usado en los datos, añadiéndole, además, la población:"
   ]
  },
  {
   "cell_type": "code",
   "execution_count": 154,
   "metadata": {},
   "outputs": [],
   "source": [
    "comunidades={'AN':['Andalucia',8426405],\n",
    " 'AR':['Aragon',1320794],\n",
    " 'AS':['Asturias',1022293],\n",
    " 'CB':['Cantabria',581684],\n",
    " 'CE':['Ceuta',84843],\n",
    " 'CL':['Castilla y León',2408083],\n",
    " 'CM':['Castilla La Mancha',2035505],\n",
    " 'CN':['Islas Canarias',2207225],\n",
    " 'CT':['Cataluña',7565099],\n",
    " 'EX':['Extremadura',1065371],\n",
    " 'GA':['Galicia',2700330],\n",
    " 'IB':['Islas Baleares',1187802],\n",
    " 'MC':['Murcia',1487698],\n",
    " 'MD':['Madrid',6640705],\n",
    " 'ML':['Melilla',84714],\n",
    " 'NC':['Navarra',649966],\n",
    " 'PV':['Pais Vasco',2178048],\n",
    " 'RI':['Rioja',313582],\n",
    " 'VC':['Valencia',4974475]}"
   ]
  },
  {
   "cell_type": "code",
   "execution_count": 155,
   "metadata": {},
   "outputs": [],
   "source": [
    "df=df.fillna(0)"
   ]
  },
  {
   "cell_type": "code",
   "execution_count": 156,
   "metadata": {},
   "outputs": [],
   "source": [
    "pob_spain=0\n",
    "for com in comunidades:\n",
    "    pob_spain+=comunidades[com][1]"
   ]
  },
  {
   "cell_type": "code",
   "execution_count": 157,
   "metadata": {},
   "outputs": [
    {
     "data": {
      "text/plain": [
       "1146116.0"
      ]
     },
     "execution_count": 157,
     "metadata": {},
     "output_type": "execute_result"
    }
   ],
   "source": [
    "df['Fallecidos'].sum()"
   ]
  },
  {
   "cell_type": "code",
   "execution_count": 158,
   "metadata": {},
   "outputs": [
    {
     "data": {
      "text/plain": [
       "dict_keys(['AN', 'AR', 'AS', 'CB', 'CE', 'CL', 'CM', 'CN', 'CT', 'EX', 'GA', 'IB', 'MC', 'MD', 'ML', 'NC', 'PV', 'RI', 'VC'])"
      ]
     },
     "execution_count": 158,
     "metadata": {},
     "output_type": "execute_result"
    }
   ],
   "source": [
    "comunidades.keys()"
   ]
  },
  {
   "cell_type": "code",
   "execution_count": 159,
   "metadata": {},
   "outputs": [],
   "source": [
    "df['FECHA']=pd.to_datetime(df['FECHA'],format='%d/%m/%Y')\n",
    "df.sort_values(['FECHA'],inplace=True)"
   ]
  },
  {
   "cell_type": "code",
   "execution_count": 160,
   "metadata": {},
   "outputs": [],
   "source": [
    "df.set_index(['FECHA','CCAA'],inplace=True)"
   ]
  },
  {
   "cell_type": "code",
   "execution_count": 161,
   "metadata": {},
   "outputs": [
    {
     "data": {
      "text/html": [
       "<div>\n",
       "<style scoped>\n",
       "    .dataframe tbody tr th:only-of-type {\n",
       "        vertical-align: middle;\n",
       "    }\n",
       "\n",
       "    .dataframe tbody tr th {\n",
       "        vertical-align: top;\n",
       "    }\n",
       "\n",
       "    .dataframe thead th {\n",
       "        text-align: right;\n",
       "    }\n",
       "</style>\n",
       "<table border=\"1\" class=\"dataframe\">\n",
       "  <thead>\n",
       "    <tr style=\"text-align: right;\">\n",
       "      <th></th>\n",
       "      <th></th>\n",
       "      <th>CASOS</th>\n",
       "      <th>PCR+</th>\n",
       "      <th>TestAc+</th>\n",
       "      <th>Hospitalizados</th>\n",
       "      <th>UCI</th>\n",
       "      <th>Fallecidos</th>\n",
       "    </tr>\n",
       "    <tr>\n",
       "      <th>FECHA</th>\n",
       "      <th>CCAA</th>\n",
       "      <th></th>\n",
       "      <th></th>\n",
       "      <th></th>\n",
       "      <th></th>\n",
       "      <th></th>\n",
       "      <th></th>\n",
       "    </tr>\n",
       "  </thead>\n",
       "  <tbody>\n",
       "    <tr>\n",
       "      <th rowspan=\"5\" valign=\"top\">2020-02-20</th>\n",
       "      <th>AN</th>\n",
       "      <td>0.0</td>\n",
       "      <td>0</td>\n",
       "      <td>0.0</td>\n",
       "      <td>0.0</td>\n",
       "      <td>0.0</td>\n",
       "      <td>0.0</td>\n",
       "    </tr>\n",
       "    <tr>\n",
       "      <th>RI</th>\n",
       "      <td>0.0</td>\n",
       "      <td>0</td>\n",
       "      <td>0.0</td>\n",
       "      <td>0.0</td>\n",
       "      <td>0.0</td>\n",
       "      <td>0.0</td>\n",
       "    </tr>\n",
       "    <tr>\n",
       "      <th>PV</th>\n",
       "      <td>0.0</td>\n",
       "      <td>0</td>\n",
       "      <td>0.0</td>\n",
       "      <td>0.0</td>\n",
       "      <td>0.0</td>\n",
       "      <td>0.0</td>\n",
       "    </tr>\n",
       "    <tr>\n",
       "      <th>NC</th>\n",
       "      <td>0.0</td>\n",
       "      <td>0</td>\n",
       "      <td>0.0</td>\n",
       "      <td>0.0</td>\n",
       "      <td>0.0</td>\n",
       "      <td>0.0</td>\n",
       "    </tr>\n",
       "    <tr>\n",
       "      <th>MC</th>\n",
       "      <td>0.0</td>\n",
       "      <td>0</td>\n",
       "      <td>0.0</td>\n",
       "      <td>0.0</td>\n",
       "      <td>0.0</td>\n",
       "      <td>0.0</td>\n",
       "    </tr>\n",
       "    <tr>\n",
       "      <th>...</th>\n",
       "      <th>...</th>\n",
       "      <td>...</td>\n",
       "      <td>...</td>\n",
       "      <td>...</td>\n",
       "      <td>...</td>\n",
       "      <td>...</td>\n",
       "      <td>...</td>\n",
       "    </tr>\n",
       "    <tr>\n",
       "      <th rowspan=\"5\" valign=\"top\">2020-05-20</th>\n",
       "      <th>AR</th>\n",
       "      <td>0.0</td>\n",
       "      <td>5588</td>\n",
       "      <td>1751.0</td>\n",
       "      <td>2442.0</td>\n",
       "      <td>256.0</td>\n",
       "      <td>848.0</td>\n",
       "    </tr>\n",
       "    <tr>\n",
       "      <th>AN</th>\n",
       "      <td>0.0</td>\n",
       "      <td>12547</td>\n",
       "      <td>3999.0</td>\n",
       "      <td>6210.0</td>\n",
       "      <td>766.0</td>\n",
       "      <td>1375.0</td>\n",
       "    </tr>\n",
       "    <tr>\n",
       "      <th>PV</th>\n",
       "      <td>0.0</td>\n",
       "      <td>13421</td>\n",
       "      <td>5358.0</td>\n",
       "      <td>7032.0</td>\n",
       "      <td>578.0</td>\n",
       "      <td>1483.0</td>\n",
       "    </tr>\n",
       "    <tr>\n",
       "      <th>CT</th>\n",
       "      <td>0.0</td>\n",
       "      <td>55888</td>\n",
       "      <td>1643.0</td>\n",
       "      <td>29497.0</td>\n",
       "      <td>2969.0</td>\n",
       "      <td>6021.0</td>\n",
       "    </tr>\n",
       "    <tr>\n",
       "      <th>RI</th>\n",
       "      <td>0.0</td>\n",
       "      <td>4033</td>\n",
       "      <td>1395.0</td>\n",
       "      <td>1504.0</td>\n",
       "      <td>91.0</td>\n",
       "      <td>354.0</td>\n",
       "    </tr>\n",
       "  </tbody>\n",
       "</table>\n",
       "<p>1729 rows × 6 columns</p>\n",
       "</div>"
      ],
      "text/plain": [
       "                 CASOS   PCR+  TestAc+  Hospitalizados     UCI  Fallecidos\n",
       "FECHA      CCAA                                                           \n",
       "2020-02-20 AN      0.0      0      0.0             0.0     0.0         0.0\n",
       "           RI      0.0      0      0.0             0.0     0.0         0.0\n",
       "           PV      0.0      0      0.0             0.0     0.0         0.0\n",
       "           NC      0.0      0      0.0             0.0     0.0         0.0\n",
       "           MC      0.0      0      0.0             0.0     0.0         0.0\n",
       "...                ...    ...      ...             ...     ...         ...\n",
       "2020-05-20 AR      0.0   5588   1751.0          2442.0   256.0       848.0\n",
       "           AN      0.0  12547   3999.0          6210.0   766.0      1375.0\n",
       "           PV      0.0  13421   5358.0          7032.0   578.0      1483.0\n",
       "           CT      0.0  55888   1643.0         29497.0  2969.0      6021.0\n",
       "           RI      0.0   4033   1395.0          1504.0    91.0       354.0\n",
       "\n",
       "[1729 rows x 6 columns]"
      ]
     },
     "execution_count": 161,
     "metadata": {},
     "output_type": "execute_result"
    }
   ],
   "source": [
    "df.fillna(0)"
   ]
  },
  {
   "cell_type": "code",
   "execution_count": 162,
   "metadata": {},
   "outputs": [],
   "source": [
    "resumen=df.pivot_table(index=['FECHA'],values=['CASOS','Hospitalizados','Fallecidos'],aggfunc=np.sum)"
   ]
  },
  {
   "cell_type": "code",
   "execution_count": 163,
   "metadata": {},
   "outputs": [],
   "source": [
    "resumen['Fallecidos_diarios']=resumen['Fallecidos'].diff().fillna(0)"
   ]
  },
  {
   "cell_type": "code",
   "execution_count": 164,
   "metadata": {},
   "outputs": [],
   "source": [
    "#resumen=resumen.drop(resumen.index[-1])"
   ]
  },
  {
   "cell_type": "code",
   "execution_count": 165,
   "metadata": {},
   "outputs": [],
   "source": [
    "#resumen['Fallecidos_diarios'].iloc[-1]"
   ]
  },
  {
   "cell_type": "code",
   "execution_count": 166,
   "metadata": {},
   "outputs": [
    {
     "data": {
      "text/plain": [
       "<matplotlib.axes._subplots.AxesSubplot at 0x1a1f5f7290>"
      ]
     },
     "execution_count": 166,
     "metadata": {},
     "output_type": "execute_result"
    },
    {
     "data": {
      "image/png": "[encoded data removed]",
      "text/plain": [
       "<Figure size 432x288 with 1 Axes>"
      ]
     },
     "metadata": {
      "needs_background": "light"
     },
     "output_type": "display_data"
    }
   ],
   "source": [
    "resumen['Fallecidos_diarios'].plot()"
   ]
  },
  {
   "cell_type": "code",
   "execution_count": 74,
   "metadata": {},
   "outputs": [
    {
     "data": {
      "text/plain": [
       "<matplotlib.axes._subplots.AxesSubplot at 0x1a1e4d0b50>"
      ]
     },
     "execution_count": 74,
     "metadata": {},
     "output_type": "execute_result"
    },
    {
     "data": {
      "image/png": "[encoded data removed]",
      "text/plain": [
       "<Figure size 432x288 with 1 Axes>"
      ]
     },
     "metadata": {
      "needs_background": "light"
     },
     "output_type": "display_data"
    }
   ],
   "source": [
    "resumen[resumen['Fallecidos_diarios']>0]['Fallecidos_diarios'].plot()"
   ]
  },
  {
   "cell_type": "code",
   "execution_count": 75,
   "metadata": {},
   "outputs": [],
   "source": [
    "dia_zero=resumen[resumen['Fallecidos_diarios']>0].index[0]"
   ]
  },
  {
   "cell_type": "code",
   "execution_count": 76,
   "metadata": {},
   "outputs": [
    {
     "data": {
      "text/plain": [
       "Timestamp('2020-03-08 00:00:00')"
      ]
     },
     "execution_count": 76,
     "metadata": {},
     "output_type": "execute_result"
    }
   ],
   "source": [
    "dia_zero"
   ]
  },
  {
   "cell_type": "code",
   "execution_count": 77,
   "metadata": {},
   "outputs": [],
   "source": [
    "y=resumen[resumen['Fallecidos_diarios']>0]['Fallecidos_diarios'].to_numpy()"
   ]
  },
  {
   "cell_type": "code",
   "execution_count": 78,
   "metadata": {},
   "outputs": [],
   "source": [
    "x=np.arange(y.size)"
   ]
  },
  {
   "cell_type": "code",
   "execution_count": 79,
   "metadata": {},
   "outputs": [],
   "source": [
    "def func(x, sigma, mu, alpha,a):\n",
    "    c = 0\n",
    "    #normal distribution\n",
    "    normpdf = (1/(sigma*np.sqrt(2*np.pi)))*np.exp(-(np.power((x-mu),2)/(2*np.power(sigma,2))))\n",
    "    normcdf = (0.5*(1+erf((alpha*((x-mu)/sigma))/(np.sqrt(2)))))\n",
    "    return 2*a*normpdf*normcdf + c"
   ]
  },
  {
   "cell_type": "code",
   "execution_count": 80,
   "metadata": {},
   "outputs": [],
   "source": [
    "def func_2(x, sigma, mu, alpha,a):\n",
    "    c = 0\n",
    "    #normal distribution\n",
    "    normpdf = (1/(sigma*np.sqrt(2*np.pi)))*np.exp(-(np.power((x-mu),2)/(2*np.power(sigma,2))))\n",
    "    normcdf = (0.5*(1+erf((alpha*((x-mu)/sigma))/(np.sqrt(2)))))\n",
    "    return 2*a*normpdf*normcdf + c"
   ]
  },
  {
   "cell_type": "code",
   "execution_count": 81,
   "metadata": {},
   "outputs": [
    {
     "name": "stdout",
     "output_type": "stream",
     "text": [
      "[2.61144244e+01 1.35024699e+01 5.65776482e+00 2.82933209e+04]\n",
      "[[ 5.29581734e-01 -1.35067207e-01  2.54697474e-01  2.15978756e+02]\n",
      " [-1.35067207e-01  1.00573740e-01 -7.47443097e-02 -5.19831585e+01]\n",
      " [ 2.54697474e-01 -7.47443097e-02  4.04098668e-01  2.12536218e+01]\n",
      " [ 2.15978756e+02 -5.19831585e+01  2.12536218e+01  2.99852765e+05]]\n"
     ]
    }
   ],
   "source": [
    "popt, pcov = curve_fit(func, x, y, p0=(1,1,1,20000))\n",
    "print(popt)\n",
    "print(pcov)"
   ]
  },
  {
   "cell_type": "code",
   "execution_count": 82,
   "metadata": {},
   "outputs": [
    {
     "data": {
      "text/plain": [
       "59.0691199425756"
      ]
     },
     "execution_count": 82,
     "metadata": {},
     "output_type": "execute_result"
    }
   ],
   "source": [
    "func(y.size, *popt)"
   ]
  },
  {
   "cell_type": "code",
   "execution_count": 83,
   "metadata": {},
   "outputs": [],
   "source": [
    "xFit = np.arange(0.0, 100, 1)\n",
    "datelist_forecast = pd.date_range(dia_zero, periods=100).tolist()\n",
    "datelist_actual=pd.date_range(dia_zero, periods=x.size)"
   ]
  },
  {
   "cell_type": "code",
   "execution_count": 84,
   "metadata": {},
   "outputs": [
    {
     "data": {
      "image/png": "[encoded data removed]",
      "text/plain": [
       "<Figure size 432x288 with 1 Axes>"
      ]
     },
     "metadata": {},
     "output_type": "display_data"
    }
   ],
   "source": [
    "plt.style.use('seaborn-white')\n",
    "plt.bar(x, y, align='center', color='red',alpha=.5)\n",
    "plt.plot(xFit, func(xFit, *popt), 'o')\n",
    "plt.show()"
   ]
  },
  {
   "cell_type": "code",
   "execution_count": 85,
   "metadata": {},
   "outputs": [],
   "source": [
    "def format_major_x(value, tick_number):\n",
    "    #return  tick_number\n",
    "    return datetime.fromordinal(int(value)).strftime('%d-%b')\n",
    "def format_minor_x(value, tick_number):\n",
    "    return  value\n",
    "def format_y(value, tick_number):\n",
    "    return '{:.1f}'.format(value)"
   ]
  },
  {
   "cell_type": "code",
   "execution_count": 86,
   "metadata": {},
   "outputs": [],
   "source": [
    "posicion_y=np.arange(0,max(y),50).tolist()\n",
    "posicion_x=datelist_forecast[::4]"
   ]
  },
  {
   "cell_type": "code",
   "execution_count": 87,
   "metadata": {},
   "outputs": [
    {
     "data": {
      "image/png": "[encoded data removed]",
      "text/plain": [
       "<Figure size 720x360 with 1 Axes>"
      ]
     },
     "metadata": {},
     "output_type": "display_data"
    }
   ],
   "source": [
    "f = plt.figure(figsize=(10,5))\n",
    "titulo='Previsión de fallecimientos a día '+datetime.today().strftime('%d-%b')\n",
    "f.suptitle(titulo,fontsize=20,x=0.5,y=0)\n",
    "ax = f.add_subplot(1,1,1)\n",
    "ax.bar(datelist_actual,y, alpha=.5,color='red')\n",
    "ax.set_yticks(posicion_y,'major')\n",
    "ax.xaxis_date()\n",
    "ax.xaxis.set_major_formatter(plt.FuncFormatter(format_major_x))\n",
    "ax.plot(datelist_forecast,func(xFit, *popt),'bo')\n",
    "ax.set_yticks(posicion_y)\n",
    "ax.set_xticks(posicion_x)\n",
    "#ax.set_ylim([0,400])\n",
    "ax.xaxis.set_tick_params(rotation=90)\n",
    "ax.grid(True)\n",
    "path_save='graficos/forecast_'+datetime.today().strftime('%d-%b')+'.png'\n",
    "f.savefig(path_save)\n",
    "plt.show()"
   ]
  },
  {
   "cell_type": "code",
   "execution_count": 88,
   "metadata": {},
   "outputs": [],
   "source": [
    "posicion_y=np.arange(0,max(y),20).tolist()\n",
    "posicion_x=datelist_forecast[::]\n",
    "fecha_inicio=datetime.today()-timedelta(days=10)\n",
    "fecha_fin=fecha_inicio+timedelta(days=50)\n",
    "limite_fechas=[fecha_inicio,fecha_fin]\n",
    "rango_fechas=np.arange(fecha_inicio+timedelta(days=1),fecha_fin+timedelta(days=1), dtype='datetime64[D]')\n",
    "style_etiquetas = dict(size=9, color='blue',rotation='vertical',horizontalalignment='left')"
   ]
  },
  {
   "cell_type": "code",
   "execution_count": 89,
   "metadata": {},
   "outputs": [
    {
     "data": {
      "image/png": "[encoded data removed]",
      "text/plain": [
       "<Figure size 864x360 with 1 Axes>"
      ]
     },
     "metadata": {},
     "output_type": "display_data"
    }
   ],
   "source": [
    "#sns.set_style(\"whitegrid\")\n",
    "#sns.set_palette(sns.color_palette(\"RdBu_r\",19))\n",
    "f = plt.figure(figsize=(12,5))\n",
    "#f.subplots_adjust(hspace=.5, wspace=.5)\n",
    "titulo='Previsión de fallecimientos a día '+datetime.today().strftime('%d-%b')\n",
    "f.suptitle(titulo,fontsize=20,x=0.5,y=0)\n",
    "\n",
    "ax = f.add_subplot(1,1,1)\n",
    "#ax2=ax.twinx()\n",
    "#ax2.grid(False)\n",
    "#colors = cm.RdYlBu_r(rango_color)\n",
    "ax.bar(datelist_actual,y, alpha=.5,color='red')\n",
    "ax.set_yticks(posicion_y,'major')\n",
    "ax.xaxis_date()\n",
    "ax.xaxis.set_major_formatter(plt.FuncFormatter(format_major_x))\n",
    "ax.plot(datelist_forecast,func(xFit, *popt),'bo')\n",
    "ax.set_yticks(posicion_y)\n",
    "ax.set_xticks(posicion_x)\n",
    "ax.set_xlim(limite_fechas)\n",
    "ax.set_ylim([0,500])\n",
    "ax.xaxis.set_tick_params(rotation=90)\n",
    "ax.grid(True)\n",
    "\n",
    "for i,j in enumerate(datelist_forecast):\n",
    "    if j in rango_fechas:\n",
    "     ax.text(j,func(i,*popt)+15, int(func(i,*popt)), **style_etiquetas)\n",
    "\n",
    "path_save='graficos/forecast_zoom_'+datetime.today().strftime('%d-%b')+'.png'\n",
    "plt.show()"
   ]
  },
  {
   "cell_type": "code",
   "execution_count": null,
   "metadata": {},
   "outputs": [],
   "source": []
  }
 ],
 "metadata": {
  "kernelspec": {
   "display_name": "Python 3",
   "language": "python",
   "name": "python3"
  },
  "language_info": {
   "codemirror_mode": {
    "name": "ipython",
    "version": 3
   },
   "file_extension": ".py",
   "mimetype": "text/x-python",
   "name": "python",
   "nbconvert_exporter": "python",
   "pygments_lexer": "ipython3",
   "version": "3.7.7"
  }
 },
 "nbformat": 4,
 "nbformat_minor": 4
}
