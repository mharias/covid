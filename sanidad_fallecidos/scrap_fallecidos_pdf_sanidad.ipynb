{
 "cells": [
  {
   "cell_type": "markdown",
   "metadata": {},
   "source": [
    "# Descarga de datos de Fallecimientos desde Sanidad"
   ]
  },
  {
   "cell_type": "markdown",
   "metadata": {},
   "source": [
    "## Objetivo"
   ]
  },
  {
   "cell_type": "markdown",
   "metadata": {},
   "source": [
    "Vamos a hacer una lectura de los datos publicados en los informes diarios de datos de Covid19 publicados por Sanidad. Este es un [ejemplo](https://www.mscbs.gob.es/profesionales/saludPublica/ccayes/alertasActual/nCov/documentos/Actualizacion_265_COVID-19.pdf) publicado del 4 de Diciembre 2020.\n",
    "  \n",
    "Manuel H. Arias  \n",
    "[@walyt](https://twitter.com/walyt)  \n",
    "\n",
    "[#escovid19data](https://github.com/montera34/escovid19data)\n",
    "\n",
    "versión definitiva documentada, para ser publicar en el repo\n",
    "\n",
    "[@walyt](https://twitter.com/walyt)"
   ]
  },
  {
   "cell_type": "markdown",
   "metadata": {},
   "source": [
    "## Código"
   ]
  },
  {
   "cell_type": "markdown",
   "metadata": {},
   "source": [
    "Tenemos un montón de librerias con las que vamos a trabajar, no he tenido ningún problema en instalar aquellas no disponibles en el entorno Anaconda con el que trabajo por medio de `pip install libreria` realizado desde un terminal abierto desde el entorno `env`."
   ]
  },
  {
   "cell_type": "code",
   "execution_count": 9,
   "metadata": {},
   "outputs": [],
   "source": [
    "import os.path as pth\n",
    "import datetime as dt\n",
    "import time\n",
    "from glob import glob\n",
    "import re\n",
    "import pandas as pd\n",
    "import numpy as np\n",
    "\n",
    "import requests\n",
    "from shutil import copyfile\n",
    "\n",
    "import matplotlib.pyplot as plt\n",
    "from matplotlib.ticker import FuncFormatter\n",
    "from matplotlib import cm\n",
    "import matplotlib.dates as mdates\n",
    "import matplotlib.ticker as ticker\n",
    "from matplotlib.dates import (YEARLY, MONTHLY, DateFormatter, WeekdayLocator, MonthLocator,DayLocator,\n",
    "                              rrulewrapper, RRuleLocator, drange)\n",
    "import seaborn as sns\n",
    "import matplotlib.colors as colors\n",
    "\n",
    "import numpy as np\n",
    "from datetime import datetime,timedelta\n",
    "import seaborn as sns\n",
    "%matplotlib inline\n",
    "\n",
    "from pdfminer.pdfinterp import PDFResourceManager, PDFPageInterpreter\n",
    "from pdfminer.pdfpage import PDFPage\n",
    "from pdfminer.converter import TextConverter\n",
    "from pdfminer.layout import LAParams\n",
    "from io import StringIO\n",
    "import fitz"
   ]
  },
  {
   "cell_type": "markdown",
   "metadata": {},
   "source": [
    "Preparamos las expresiones regulares que nos ayudarán en la interpretación de la información que sacamos de los pdf."
   ]
  },
  {
   "cell_type": "markdown",
   "metadata": {},
   "source": [
    "Definimos variables que nos ayuden en la gestión de los nombres de los ficheros."
   ]
  },
  {
   "cell_type": "code",
   "execution_count": 10,
   "metadata": {},
   "outputs": [],
   "source": [
    "fuente_ficheros_pdf_sanidad = '/Users/mharias/documents/proyectos/covid/scrap_sanidad/pdfs_sanidad/'\n",
    "dir_csv = '/Users/mharias/documents/proyectos/covid/scrap_sanidad/csv/'\n",
    "URL_reg='https://www.mscbs.gob.es/profesionales/saludPublica/ccayes/alertasActual/nCov/documentos/Actualizacion_{:02d}_COVID-19.pdf'"
   ]
  },
  {
   "cell_type": "markdown",
   "metadata": {},
   "source": [
    "# Actualización día ZERO con el histórico"
   ]
  },
  {
   "cell_type": "markdown",
   "metadata": {},
   "source": [
    "### Función de para descargar un fichero pdf, copiada del script de [@alfonsotwr](https://github.com/alfonsotwr/snippets/tree/master/covidia-cam)"
   ]
  },
  {
   "cell_type": "code",
   "execution_count": 11,
   "metadata": {},
   "outputs": [],
   "source": [
    "def descarga(url,num):\n",
    "    print('Descargando:', url)\n",
    "    fn=fuente_ficheros_pdf_sanidad+str(num)+'.pdf'\n",
    "    headers = {'User-Agent': 'Mozilla/5.0 (Macintosh; Intel Mac OS X 10_10_1) AppleWebKit/537.36 (KHTML, like Gecko) Chrome/39.0.2171.95 Safari/537.36'}\n",
    "    with requests.Session() as s:\n",
    "        r = s.get(url, headers=headers)\n",
    "    if r.status_code == requests.codes.ok:\n",
    "        with open(fn, 'wb') as fp:\n",
    "                fp.write(r.content)\n",
    "    else:\n",
    "        print ('Error con el ',num)\n",
    "    return True"
   ]
  },
  {
   "cell_type": "markdown",
   "metadata": {},
   "source": [
    "### Descarga de un rango o de un solo pdf"
   ]
  },
  {
   "cell_type": "markdown",
   "metadata": {},
   "source": [
    "Descargamos el rango completo en el caso de que sea la primera vez. Arrancamos con el 77, pues no pude descifrar el formato de los pdf anteriores."
   ]
  },
  {
   "cell_type": "code",
   "execution_count": 13,
   "metadata": {},
   "outputs": [
    {
     "name": "stdout",
     "output_type": "stream",
     "text": [
      "Descargando: https://www.mscbs.gob.es/profesionales/saludPublica/ccayes/alertasActual/nCov/documentos/Actualizacion_303_COVID-19.pdf\n",
      "Descargando: https://www.mscbs.gob.es/profesionales/saludPublica/ccayes/alertasActual/nCov/documentos/Actualizacion_304_COVID-19.pdf\n",
      "Descargando: https://www.mscbs.gob.es/profesionales/saludPublica/ccayes/alertasActual/nCov/documentos/Actualizacion_305_COVID-19.pdf\n",
      "Descargando: https://www.mscbs.gob.es/profesionales/saludPublica/ccayes/alertasActual/nCov/documentos/Actualizacion_306_COVID-19.pdf\n",
      "Descargando: https://www.mscbs.gob.es/profesionales/saludPublica/ccayes/alertasActual/nCov/documentos/Actualizacion_307_COVID-19.pdf\n",
      "Descargando: https://www.mscbs.gob.es/profesionales/saludPublica/ccayes/alertasActual/nCov/documentos/Actualizacion_308_COVID-19.pdf\n",
      "Descargando: https://www.mscbs.gob.es/profesionales/saludPublica/ccayes/alertasActual/nCov/documentos/Actualizacion_309_COVID-19.pdf\n",
      "Descargando: https://www.mscbs.gob.es/profesionales/saludPublica/ccayes/alertasActual/nCov/documentos/Actualizacion_310_COVID-19.pdf\n",
      "Descargando: https://www.mscbs.gob.es/profesionales/saludPublica/ccayes/alertasActual/nCov/documentos/Actualizacion_311_COVID-19.pdf\n"
     ]
    }
   ],
   "source": [
    "for i in range(303,312):\n",
    "    descarga(URL_reg.format(i),i)"
   ]
  },
  {
   "cell_type": "markdown",
   "metadata": {},
   "source": [
    "### Descarga de un solo fichero"
   ]
  },
  {
   "cell_type": "markdown",
   "metadata": {},
   "source": [
    "Como ejemplo 266 corresponde al Viernes 4 Diciembre 2020, grabamos el fichero en el directorio local con el nº de orden del documento."
   ]
  },
  {
   "cell_type": "code",
   "execution_count": 12,
   "metadata": {},
   "outputs": [
    {
     "name": "stdout",
     "output_type": "stream",
     "text": [
      "Descargando: https://www.mscbs.gob.es/profesionales/saludPublica/ccayes/alertasActual/nCov/documentos/Actualizacion_313_COVID-19.pdf\n"
     ]
    },
    {
     "data": {
      "text/plain": [
       "True"
      ]
     },
     "execution_count": 12,
     "metadata": {},
     "output_type": "execute_result"
    }
   ],
   "source": [
    "descarga(URL_reg.format(313),313)"
   ]
  },
  {
   "cell_type": "markdown",
   "metadata": {},
   "source": [
    "# Nuevo procedimiento tras los problemas de semana 12/02"
   ]
  },
  {
   "cell_type": "code",
   "execution_count": 308,
   "metadata": {},
   "outputs": [],
   "source": [
    "comunidades=['Andalucía','Aragón','Asturias','Baleares','Canarias','Cantabria','Castilla La Mancha',\n",
    "             'Castilla y León','Cataluña','Ceuta','C. Valenciana','Extremadura','Galicia',\n",
    "             'Madrid','Melilla','Murcia','Navarra','País Vasco','La Rioja']"
   ]
  },
  {
   "cell_type": "code",
   "execution_count": 310,
   "metadata": {},
   "outputs": [],
   "source": [
    "indice=['Andalucia','Aragon','Asturias','Baleares','Canarias','Cantabria','Castilla La Mancha',\n",
    "            'Castilla y Leon','Cataluña','Ceuta','C.Valenciana','Extremadura','Galicia','Madrid','Melilla','Murcia',\n",
    "             'Navarra','Pais Vasco','La Rioja']\n",
    "datos=pd.DataFrame()"
   ]
  },
  {
   "cell_type": "code",
   "execution_count": 311,
   "metadata": {},
   "outputs": [],
   "source": [
    "claves={}\n",
    "indice=76\n",
    "rango= np.arange(datetime(2020,4,16),datetime.today(),timedelta(days=1)).astype(datetime)\n",
    "for day in rango:\n",
    "    if not (((day>datetime(2020,6,30))&(day.weekday() in [5,6])) |\\\n",
    "            (day==datetime(2020,12,6)) | (day==datetime(2020,12,8)) | (day==datetime(2020,12,25)) | \\\n",
    "           (day==datetime(2021,1,1)) | (day==datetime(2021,1,6))):\n",
    "        #print (day,i,)\n",
    "        indice+=1\n",
    "        claves[indice]=day.strftime('%-d/%-m/%Y')"
   ]
  },
  {
   "cell_type": "code",
   "execution_count": 312,
   "metadata": {},
   "outputs": [],
   "source": [
    "rango = np.concatenate([np.arange(77,137),np.arange(138,234)])\n",
    "for i in rango: #original 100 a 234\n",
    "    fn=fuente_ficheros_pdf_sanidad+str(i)+'.pdf'\n",
    "    doc = fitz.open(fn)\n",
    "    numero_pagina=1\n",
    "    page = doc.load_page(numero_pagina)\n",
    "    text = page.get_text(opt)\n",
    "    for comunidad in comunidades:\n",
    "        regexp = r'{}[¥\\*]* '.format(comunidad)+'(((\\n\\d*[,.]?\\d+)[¥* ]* |\\n[ ]*|\\n\\*+ |\\n- ){6})'\n",
    "        pattern = re.compile(regexp)\n",
    "        cadena = re.search(pattern,text).group(1).replace('¥','').split('\\n')[1:]\n",
    "        \n",
    "        cadena = [i.rstrip().lstrip().replace('.','') if i not in ['',' '] else 0 for i in cadena]\n",
    "        c1,c2 = cadena[4:6]\n",
    "        datos = datos.append({'fecha':claves[i],'ccaa':comunidad,'fallecidos':c1},ignore_index=True)\n",
    "        #print (i,'->',comunidad,c1,c2)"
   ]
  },
  {
   "cell_type": "code",
   "execution_count": 313,
   "metadata": {},
   "outputs": [],
   "source": [
    "rango = np.concatenate([np.arange(235,266),np.arange(267,317)])\n",
    "opt='text'\n",
    "for i in rango:\n",
    "    fn=fuente_ficheros_pdf_sanidad+str(i)+'.pdf'\n",
    "    doc = fitz.open(fn)\n",
    "    numero_pagina=3 if i==266 else 5 if i==282 else 4\n",
    "    page = doc.load_page(numero_pagina)\n",
    "    text = page.get_text(opt)\n",
    "    #print (text)\n",
    "    for comunidad in comunidades:\n",
    "        regexp = r'{} '.format(comunidad)+'((\\n\\d*[,.]?\\d+¥? ){2})'\n",
    "        pattern = re.compile(regexp)\n",
    "        c1,c2 = re.search(pattern,text).group(1).replace('\\n','').split()\n",
    "        #print (i,'->',comunidad,c1,c2)\n",
    "        datos = datos.append({'fecha':claves[i],'ccaa':comunidad,'fallecidos':c1},ignore_index=True)"
   ]
  },
  {
   "cell_type": "code",
   "execution_count": 314,
   "metadata": {},
   "outputs": [
    {
     "data": {
      "text/html": [
       "<div>\n",
       "<style scoped>\n",
       "    .dataframe tbody tr th:only-of-type {\n",
       "        vertical-align: middle;\n",
       "    }\n",
       "\n",
       "    .dataframe tbody tr th {\n",
       "        vertical-align: top;\n",
       "    }\n",
       "\n",
       "    .dataframe thead th {\n",
       "        text-align: right;\n",
       "    }\n",
       "</style>\n",
       "<table border=\"1\" class=\"dataframe\">\n",
       "  <thead>\n",
       "    <tr style=\"text-align: right;\">\n",
       "      <th></th>\n",
       "      <th>ccaa</th>\n",
       "      <th>fallecidos</th>\n",
       "      <th>fecha</th>\n",
       "    </tr>\n",
       "  </thead>\n",
       "  <tbody>\n",
       "    <tr>\n",
       "      <th>0</th>\n",
       "      <td>Andalucía</td>\n",
       "      <td>912</td>\n",
       "      <td>16/4/2020</td>\n",
       "    </tr>\n",
       "    <tr>\n",
       "      <th>1</th>\n",
       "      <td>Aragón</td>\n",
       "      <td>543</td>\n",
       "      <td>16/4/2020</td>\n",
       "    </tr>\n",
       "    <tr>\n",
       "      <th>2</th>\n",
       "      <td>Asturias</td>\n",
       "      <td>168</td>\n",
       "      <td>16/4/2020</td>\n",
       "    </tr>\n",
       "    <tr>\n",
       "      <th>3</th>\n",
       "      <td>Baleares</td>\n",
       "      <td>131</td>\n",
       "      <td>16/4/2020</td>\n",
       "    </tr>\n",
       "    <tr>\n",
       "      <th>4</th>\n",
       "      <td>Canarias</td>\n",
       "      <td>107</td>\n",
       "      <td>16/4/2020</td>\n",
       "    </tr>\n",
       "    <tr>\n",
       "      <th>...</th>\n",
       "      <td>...</td>\n",
       "      <td>...</td>\n",
       "      <td>...</td>\n",
       "    </tr>\n",
       "    <tr>\n",
       "      <th>4498</th>\n",
       "      <td>Melilla</td>\n",
       "      <td>65</td>\n",
       "      <td>19/2/2021</td>\n",
       "    </tr>\n",
       "    <tr>\n",
       "      <th>4499</th>\n",
       "      <td>Murcia</td>\n",
       "      <td>1.389</td>\n",
       "      <td>19/2/2021</td>\n",
       "    </tr>\n",
       "    <tr>\n",
       "      <th>4500</th>\n",
       "      <td>Navarra</td>\n",
       "      <td>1.084</td>\n",
       "      <td>19/2/2021</td>\n",
       "    </tr>\n",
       "    <tr>\n",
       "      <th>4501</th>\n",
       "      <td>País Vasco</td>\n",
       "      <td>3.657</td>\n",
       "      <td>19/2/2021</td>\n",
       "    </tr>\n",
       "    <tr>\n",
       "      <th>4502</th>\n",
       "      <td>La Rioja</td>\n",
       "      <td>715</td>\n",
       "      <td>19/2/2021</td>\n",
       "    </tr>\n",
       "  </tbody>\n",
       "</table>\n",
       "<p>4503 rows × 3 columns</p>\n",
       "</div>"
      ],
      "text/plain": [
       "            ccaa fallecidos      fecha\n",
       "0      Andalucía        912  16/4/2020\n",
       "1         Aragón        543  16/4/2020\n",
       "2       Asturias        168  16/4/2020\n",
       "3       Baleares        131  16/4/2020\n",
       "4       Canarias        107  16/4/2020\n",
       "...          ...        ...        ...\n",
       "4498     Melilla         65  19/2/2021\n",
       "4499      Murcia      1.389  19/2/2021\n",
       "4500     Navarra      1.084  19/2/2021\n",
       "4501  País Vasco      3.657  19/2/2021\n",
       "4502    La Rioja        715  19/2/2021\n",
       "\n",
       "[4503 rows x 3 columns]"
      ]
     },
     "execution_count": 314,
     "metadata": {},
     "output_type": "execute_result"
    }
   ],
   "source": [
    "datos"
   ]
  },
  {
   "cell_type": "code",
   "execution_count": 315,
   "metadata": {},
   "outputs": [],
   "source": [
    "datos.to_csv(dir_csv+'datos_fallecidos_sanidad.csv',index=False,sep=',')"
   ]
  },
  {
   "cell_type": "code",
   "execution_count": null,
   "metadata": {},
   "outputs": [],
   "source": []
  }
 ],
 "metadata": {
  "kernelspec": {
   "display_name": "Python 3",
   "language": "python",
   "name": "python3"
  },
  "language_info": {
   "codemirror_mode": {
    "name": "ipython",
    "version": 3
   },
   "file_extension": ".py",
   "mimetype": "text/x-python",
   "name": "python",
   "nbconvert_exporter": "python",
   "pygments_lexer": "ipython3",
   "version": "3.8.5"
  }
 },
 "nbformat": 4,
 "nbformat_minor": 4
}
