{
 "cells": [
  {
   "cell_type": "markdown",
   "metadata": {},
   "source": [
    "# Descarga de datos de Fallecimientos desde Sanidad"
   ]
  },
  {
   "cell_type": "markdown",
   "metadata": {},
   "source": [
    "## Objetivo"
   ]
  },
  {
   "cell_type": "markdown",
   "metadata": {},
   "source": [
    "Vamos a hacer una lectura de los datos de hospitalizados publicados en los informes diarios de datos de Covid19 publicados por Sanidad. Este es un [ejemplo](https://www.mscbs.gob.es/profesionales/saludPublica/ccayes/alertasActual/nCov/documentos/Actualizacion_265_COVID-19.pdf) en página 3,  publicado del 4 de Diciembre 2020.\n",
    "  \n",
    "Manuel H. Arias  \n",
    "[@walyt](https://twitter.com/walyt)  \n",
    "\n",
    "[#escovid19data](https://github.com/montera34/escovid19data)\n",
    "\n",
    "versión definitiva documentada, para ser publicar en el repo\n",
    "\n",
    "[@walyt](https://twitter.com/walyt)"
   ]
  },
  {
   "cell_type": "markdown",
   "metadata": {},
   "source": [
    "## Código"
   ]
  },
  {
   "cell_type": "markdown",
   "metadata": {},
   "source": [
    "Tenemos un montón de librerias con las que vamos a trabajar, no he tenido ningún problema en instalar aquellas no disponibles en el entorno Anaconda con el que trabajo por medio de `pip install libreria` realizado desde un terminal abierto desde el entorno `env`."
   ]
  },
  {
   "cell_type": "code",
   "execution_count": 1,
   "metadata": {},
   "outputs": [],
   "source": [
    "import os.path as pth\n",
    "import datetime as dt\n",
    "import time\n",
    "from glob import glob\n",
    "import re\n",
    "import pandas as pd\n",
    "import numpy as np\n",
    "\n",
    "import requests\n",
    "from shutil import copyfile\n",
    "\n",
    "import matplotlib.pyplot as plt\n",
    "from matplotlib.ticker import FuncFormatter\n",
    "from matplotlib import cm\n",
    "import matplotlib.dates as mdates\n",
    "import matplotlib.ticker as ticker\n",
    "from matplotlib.dates import (YEARLY, MONTHLY, DateFormatter, WeekdayLocator, MonthLocator,DayLocator,\n",
    "                              rrulewrapper, RRuleLocator, drange)\n",
    "import seaborn as sns\n",
    "import matplotlib.colors as colors\n",
    "\n",
    "import numpy as np\n",
    "from datetime import datetime\n",
    "import seaborn as sns\n",
    "%matplotlib inline\n",
    "\n",
    "import fitz\n",
    "# https://pypi.org/project/PyMuPDF/#description"
   ]
  },
  {
   "cell_type": "markdown",
   "metadata": {},
   "source": [
    "Preparamos las expresiones regulares que nos ayudarán en la interpretación de la información que sacamos de los pdf."
   ]
  },
  {
   "cell_type": "markdown",
   "metadata": {},
   "source": [
    "Definimos variables que nos ayuden en la gestión de los nombres de los ficheros."
   ]
  },
  {
   "cell_type": "code",
   "execution_count": 2,
   "metadata": {},
   "outputs": [],
   "source": [
    "datadir='datos_sanidad/'\n",
    "csvdir='csv/'\n",
    "URL_reg='https://www.mscbs.gob.es/profesionales/saludPublica/ccayes/alertasActual/nCov/documentos/Actualizacion_{:02d}_COVID-19.pdf'"
   ]
  },
  {
   "cell_type": "markdown",
   "metadata": {},
   "source": [
    "## Descarga de los ficheros de Sanidad"
   ]
  },
  {
   "cell_type": "markdown",
   "metadata": {},
   "source": [
    "### Función de para descargar un fichero pdf, copiada del script de [@alfonsotwr](https://github.com/alfonsotwr/snippets/tree/master/covidia-cam)"
   ]
  },
  {
   "cell_type": "code",
   "execution_count": null,
   "metadata": {},
   "outputs": [],
   "source": [
    "def descarga(url,num):\n",
    "    print('Descargando:', url)\n",
    "    fn=datadir+str(num)+'.pdf'\n",
    "    headers = {'User-Agent': 'Mozilla/5.0 (Macintosh; Intel Mac OS X 10_10_1) AppleWebKit/537.36 (KHTML, like Gecko) Chrome/39.0.2171.95 Safari/537.36'}\n",
    "    with requests.Session() as s:\n",
    "        r = s.get(url, headers=headers)\n",
    "    if r.status_code == requests.codes.ok:\n",
    "        with open(fn, 'wb') as fp:\n",
    "                fp.write(r.content)\n",
    "    else:\n",
    "        print ('Error con el ',num)\n",
    "    return True"
   ]
  },
  {
   "cell_type": "markdown",
   "metadata": {},
   "source": [
    "### Descarga de un rango o de un solo pdf"
   ]
  },
  {
   "cell_type": "markdown",
   "metadata": {},
   "source": [
    "Descargamos el rango completo en el caso de que sea la primera vez. Arrancamos con el 77, pues no pude descifrar el formato de los pdf anteriores."
   ]
  },
  {
   "cell_type": "code",
   "execution_count": null,
   "metadata": {},
   "outputs": [],
   "source": [
    "for i in range(287,297):\n",
    "    descarga(URL_reg.format(i),i)"
   ]
  },
  {
   "cell_type": "markdown",
   "metadata": {},
   "source": [
    "### Descarga de un solo fichero"
   ]
  },
  {
   "cell_type": "markdown",
   "metadata": {},
   "source": [
    "Como ejemplo 266 corresponde al Viernes 4 Diciembre 2020, grabamos el fichero en el directorio local con el nº de orden del documento."
   ]
  },
  {
   "cell_type": "code",
   "execution_count": null,
   "metadata": {},
   "outputs": [],
   "source": [
    "descarga(URL_reg.format(303),303)"
   ]
  },
  {
   "cell_type": "markdown",
   "metadata": {},
   "source": [
    "## Parseado y preparación del pandas"
   ]
  },
  {
   "cell_type": "code",
   "execution_count": 5,
   "metadata": {},
   "outputs": [],
   "source": [
    "columnas = ['fecha','ccaa','Hosp_Totales','Hosp_7días','UCI_Totales','UCI_7dias','Hosp_actual','%CamasCovid',\n",
    "        'UCI_actual','%CamasUCI','Ingresos_24horas','Altas_24horas']\n",
    "datos = pd.DataFrame(columns=columnas)"
   ]
  },
  {
   "cell_type": "markdown",
   "metadata": {},
   "source": [
    "fichero auxiliar que mapea nº de informes con fechas....Mejora: automatizarlo"
   ]
  },
  {
   "cell_type": "code",
   "execution_count": 6,
   "metadata": {},
   "outputs": [
    {
     "name": "stderr",
     "output_type": "stream",
     "text": [
      "<ipython-input-6-728b972a0573>:1: FutureWarning: Your version of xlrd is 1.2.0. In xlrd >= 2.0, only the xls format is supported. As a result, the openpyxl engine will be used if it is installed and the engine argument is not specified. Install openpyxl instead.\n",
      "  claves=pd.read_excel('/Users/mharias/documents/proyectos/covid/scrap_sanidad/datos_sanidad/'+'clave_numero_fecha.xlsx')\n"
     ]
    }
   ],
   "source": [
    "claves=pd.read_excel('/Users/mharias/documents/proyectos/covid/scrap_sanidad/datos_sanidad/'+'clave_numero_fecha.xlsx')\n",
    "claves['Fecha']=claves['Fecha'].astype(str)"
   ]
  },
  {
   "cell_type": "code",
   "execution_count": null,
   "metadata": {},
   "outputs": [],
   "source": [
    "comunidades=['Andalucía','Aragón','Asturias','Baleares','Canarias','Cantabria','Castilla La Mancha',\n",
    "             'Castilla y León','Cataluña','Ceuta','C. Valenciana','Extremadura','Galicia',\n",
    "             'Madrid','Melilla','Murcia','Navarra','País Vasco','La Rioja']"
   ]
  },
  {
   "cell_type": "code",
   "execution_count": 8,
   "metadata": {},
   "outputs": [],
   "source": [
    "rango = np.concatenate([np.arange(235,266),np.arange(267,304)])\n",
    "opt='text'\n",
    "for i in rango:\n",
    "    fn='datos_sanidad/'+str(i)+'.pdf'\n",
    "    doc = fitz.open(fn)\n",
    "    numero_pagina = 3 if i==282 else 2\n",
    "    page = doc.load_page(numero_pagina)\n",
    "    text = page.get_text(opt)\n",
    "    \n",
    "    for comunidad in comunidades:\n",
    "        regexp = r'{} '.format(comunidad)+'((\\n\\d*[,.]?\\d+¥? ){4})'+\\\n",
    "        '(\\n \\n(\\w+[ .\\w]*) )((\\n\\d*[,.]?\\d+¥? ))'+\\\n",
    "        '((\\n+\\d{1,2}[,]?\\d*% ))'+\\\n",
    "        '((\\n\\d*[,.]?\\d+¥? ))'+\\\n",
    "        '((\\n+\\d{1,2}[,]?\\d*% ))'+\\\n",
    "        '(((\\n\\d*[,.]?\\d+¥? )){2})'\n",
    "        pattern = re.compile(regexp)\n",
    "        c1,c2,c3,c4 = re.search(pattern,text).group(1).replace('\\n','').split()\n",
    "        c5 = re.search(pattern,text).group(6).replace('\\n','')\n",
    "        c6 = re.search(pattern,text).group(8).replace('\\n','')\n",
    "        c7 = re.search(pattern,text).group(9).replace('\\n','')\n",
    "        c8 = re.search(pattern,text).group(11).replace('\\n','')\n",
    "        c9, c10 = re.search(pattern,text).group(13).replace('\\n','').split()\n",
    "        \n",
    "        #print (i,'--->',comunidad,c1,'-',c2,'-',c3,'-',c4,'-',c5,'-',c6,'-',c7,'-',c8,'-',c9,'-',c10)\n",
    "        datos = datos.append({'fecha':claves.loc[claves['Codigo']==i,'Fecha'].values[0],\n",
    "                                                 'ccaa':comunidad,'Hosp_Totales':c1,\n",
    "                                                 'Hosp_7días':c2,'UCI_Totales':c3,\n",
    "                                                 'UCI_7dias':c4,'Hosp_actual':c5,\n",
    "                                                 '%CamasCovid':c6,'UCI_actual':c7,\n",
    "                                                 '%CamasUCI':c8,'Ingresos_24horas':c9,\n",
    "                                                 'Altas_24horas':c10},ignore_index=True)\n",
    "        "
   ]
  },
  {
   "cell_type": "code",
   "execution_count": null,
   "metadata": {},
   "outputs": [],
   "source": [
    "datos.to_csv('datos_sanidad_hosp.csv',index=False,index_label=False)"
   ]
  },
  {
   "cell_type": "markdown",
   "metadata": {},
   "source": [
    "# código auxiliar para pruebas"
   ]
  },
  {
   "cell_type": "code",
   "execution_count": null,
   "metadata": {},
   "outputs": [],
   "source": [
    "i = 283\n",
    "fn='datos_sanidad/'+str(i)+'.pdf'\n",
    "doc = fitz.open(fn)\n",
    "page = doc.load_page(2)\n",
    "text = page.get_text(opt)\n",
    "pattern_Andalucia = re.compile(r'(Andalucía )((\\n\\d*[,.]?\\d+¥? ){4})'\n",
    "                               '(\\n \\nAndalucía )((\\n\\d*[,.]?\\d+¥? ))'\n",
    "                               '((\\n+\\d{1,2}[,]?\\d*% ))'\n",
    "                               '((\\n\\d*[,.]?\\d+¥? ))'\n",
    "                               '((\\n+\\d{1,2}[,]?\\d*% ))'\n",
    "                               '((\\n\\d*[,.]?\\d+¥? )){2}'\n",
    "                              )\n",
    "\n",
    "cadena = re.search(pattern_Andalucia,text).group(0)  \n",
    "print (cadena)"
   ]
  },
  {
   "cell_type": "code",
   "execution_count": null,
   "metadata": {},
   "outputs": [],
   "source": []
  },
  {
   "cell_type": "code",
   "execution_count": null,
   "metadata": {},
   "outputs": [],
   "source": []
  }
 ],
 "metadata": {
  "kernelspec": {
   "display_name": "Python 3",
   "language": "python",
   "name": "python3"
  },
  "language_info": {
   "codemirror_mode": {
    "name": "ipython",
    "version": 3
   },
   "file_extension": ".py",
   "mimetype": "text/x-python",
   "name": "python",
   "nbconvert_exporter": "python",
   "pygments_lexer": "ipython3",
   "version": "3.8.5"
  }
 },
 "nbformat": 4,
 "nbformat_minor": 4
}
