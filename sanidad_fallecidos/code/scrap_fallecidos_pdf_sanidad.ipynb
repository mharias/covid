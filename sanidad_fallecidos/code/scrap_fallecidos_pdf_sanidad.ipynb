{
 "cells": [
  {
   "cell_type": "markdown",
   "metadata": {},
   "source": [
    "# Descarga de datos de Fallecimientos desde Sanidad"
   ]
  },
  {
   "cell_type": "markdown",
   "metadata": {},
   "source": [
    "## Objetivo"
   ]
  },
  {
   "cell_type": "markdown",
   "metadata": {},
   "source": [
    "Vamos a hacer una lectura de los datos publicados en los informes diarios de datos de Covid19 publicados por Sanidad. Este es un [ejemplo](https://www.mscbs.gob.es/profesionales/saludPublica/ccayes/alertasActual/nCov/documentos/Actualizacion_265_COVID-19.pdf) publicado del 4 de Diciembre 2020.\n",
    "  \n",
    "Manuel H. Arias  \n",
    "[@walyt](https://twitter.com/walyt)  \n",
    "\n",
    "[#escovid19data](https://github.com/montera34/escovid19data)\n",
    "\n",
    "versión definitiva documentada, para ser publicar en el repo\n",
    "\n",
    "[@walyt](https://twitter.com/walyt)"
   ]
  },
  {
   "cell_type": "markdown",
   "metadata": {},
   "source": [
    "## Código"
   ]
  },
  {
   "cell_type": "markdown",
   "metadata": {},
   "source": [
    "Tenemos un montón de librerias con las que vamos a trabajar, no he tenido ningún problema en instalar aquellas no disponibles en el entorno Anaconda con el que trabajo por medio de `pip install libreria` realizado desde un terminal abierto desde el entorno `env`."
   ]
  },
  {
   "cell_type": "code",
   "execution_count": 17,
   "metadata": {},
   "outputs": [],
   "source": [
    "import os.path as pth\n",
    "import datetime as dt\n",
    "import time\n",
    "from glob import glob\n",
    "import re\n",
    "import pandas as pd\n",
    "import numpy as np\n",
    "\n",
    "import requests\n",
    "from shutil import copyfile\n",
    "\n",
    "import matplotlib.pyplot as plt\n",
    "from matplotlib.ticker import FuncFormatter\n",
    "from matplotlib import cm\n",
    "import matplotlib.dates as mdates\n",
    "import matplotlib.ticker as ticker\n",
    "from matplotlib.dates import (YEARLY, MONTHLY, DateFormatter, WeekdayLocator, MonthLocator,DayLocator,\n",
    "                              rrulewrapper, RRuleLocator, drange)\n",
    "import seaborn as sns\n",
    "import matplotlib.colors as colors\n",
    "\n",
    "import numpy as np\n",
    "from datetime import datetime,timedelta\n",
    "import seaborn as sns\n",
    "%matplotlib inline\n",
    "\n",
    "from io import StringIO\n",
    "import fitz"
   ]
  },
  {
   "cell_type": "markdown",
   "metadata": {},
   "source": [
    "Preparamos las expresiones regulares que nos ayudarán en la interpretación de la información que sacamos de los pdf."
   ]
  },
  {
   "cell_type": "markdown",
   "metadata": {},
   "source": [
    "Definimos variables que nos ayuden en la gestión de los nombres de los ficheros."
   ]
  },
  {
   "cell_type": "code",
   "execution_count": 18,
   "metadata": {},
   "outputs": [],
   "source": [
    "fuente_ficheros_pdf_sanidad = '/Users/mharias/documents/proyectos/covid/sanidad_fallecidos/pdfs_sanidad/'\n",
    "dir_csv = '/Users/mharias/documents/proyectos/covid/sanidad_fallecidos/csv/'\n",
    "URL_reg='https://www.mscbs.gob.es/profesionales/saludPublica/ccayes/alertasActual/nCov/documentos/Actualizacion_{:02d}_COVID-19.pdf'"
   ]
  },
  {
   "cell_type": "markdown",
   "metadata": {},
   "source": [
    "### Función para descargar un fichero pdf, copiada del script de [@alfonsotwr](https://github.com/alfonsotwr/snippets/tree/master/covidia-cam)"
   ]
  },
  {
   "cell_type": "code",
   "execution_count": 19,
   "metadata": {},
   "outputs": [],
   "source": [
    "def descarga(url,num):\n",
    "    print('Descargando:', url)\n",
    "    fn=fuente_ficheros_pdf_sanidad+str(num)+'.pdf'\n",
    "    headers = {'User-Agent': 'Mozilla/5.0 (Macintosh; Intel Mac OS X 10_10_1) AppleWebKit/537.36 (KHTML, like Gecko) Chrome/39.0.2171.95 Safari/537.36'}\n",
    "    with requests.Session() as s:\n",
    "        r = s.get(url, headers=headers)\n",
    "    if r.status_code == requests.codes.ok:\n",
    "        with open(fn, 'wb') as fp:\n",
    "                fp.write(r.content)\n",
    "    else:\n",
    "        print ('Error con el ',num)\n",
    "    return "
   ]
  },
  {
   "cell_type": "markdown",
   "metadata": {},
   "source": [
    "### Descarga de un rango o de un solo pdf"
   ]
  },
  {
   "cell_type": "markdown",
   "metadata": {},
   "source": [
    "Descargamos el rango completo en el caso de que sea la primera vez. Arrancamos con el 77, pues no pude descifrar el formato de los pdf anteriores."
   ]
  },
  {
   "cell_type": "code",
   "execution_count": 20,
   "metadata": {},
   "outputs": [],
   "source": [
    "#for i in range(303,312):\n",
    "#    descarga(URL_reg.format(i),i)"
   ]
  },
  {
   "cell_type": "markdown",
   "metadata": {},
   "source": [
    "### Descarga de un solo fichero"
   ]
  },
  {
   "cell_type": "markdown",
   "metadata": {},
   "source": [
    "Como ejemplo 266 corresponde al Viernes 4 Diciembre 2020, grabamos el fichero en el directorio local con el nº de orden del documento."
   ]
  },
  {
   "cell_type": "code",
   "execution_count": 21,
   "metadata": {},
   "outputs": [],
   "source": [
    "n_fichero = 344"
   ]
  },
  {
   "cell_type": "code",
   "execution_count": 22,
   "metadata": {},
   "outputs": [
    {
     "name": "stdout",
     "output_type": "stream",
     "text": [
      "Descargando: https://www.mscbs.gob.es/profesionales/saludPublica/ccayes/alertasActual/nCov/documentos/Actualizacion_344_COVID-19.pdf\n"
     ]
    }
   ],
   "source": [
    "descarga(URL_reg.format(n_fichero),n_fichero)"
   ]
  },
  {
   "cell_type": "markdown",
   "metadata": {},
   "source": [
    "# Nuevo procedimiento tras los problemas de semana 12/02"
   ]
  },
  {
   "cell_type": "code",
   "execution_count": 23,
   "metadata": {},
   "outputs": [],
   "source": [
    "comunidades=['Andalucía','Aragón','Asturias','Baleares','Canarias','Cantabria','Castilla La Mancha',\n",
    "             'Castilla y León','Cataluña','Ceuta','C. Valenciana','Extremadura','Galicia',\n",
    "             'Madrid','Melilla','Murcia','Navarra','País Vasco','La Rioja']"
   ]
  },
  {
   "cell_type": "code",
   "execution_count": 24,
   "metadata": {},
   "outputs": [],
   "source": [
    "indice=['Andalucia','Aragon','Asturias','Baleares','Canarias','Cantabria','Castilla La Mancha',\n",
    "            'Castilla y Leon','Cataluña','Ceuta','C.Valenciana','Extremadura','Galicia','Madrid','Melilla','Murcia',\n",
    "             'Navarra','Pais Vasco','La Rioja']\n",
    "datos=pd.DataFrame()"
   ]
  },
  {
   "cell_type": "code",
   "execution_count": 25,
   "metadata": {},
   "outputs": [],
   "source": [
    "claves={}\n",
    "indice=76\n",
    "rango= np.arange(datetime(2020,4,16),datetime.today(),timedelta(days=1)).astype(datetime)\n",
    "for day in rango:\n",
    "    if not (((day>datetime(2020,6,30))&(day.weekday() in [5,6])) |\\\n",
    "            (day==datetime(2020,12,6)) | (day==datetime(2020,12,8)) | (day==datetime(2020,12,25)) | \\\n",
    "           (day==datetime(2021,1,1)) | (day==datetime(2021,1,6)) | (day==datetime(2021,3,19))):\n",
    "        #print (day,i,)\n",
    "        indice+=1\n",
    "        claves[indice]=day.strftime('%-d/%-m/%Y')"
   ]
  },
  {
   "cell_type": "code",
   "execution_count": 26,
   "metadata": {},
   "outputs": [
    {
     "data": {
      "text/plain": [
       "{77: '16/4/2020',\n",
       " 78: '17/4/2020',\n",
       " 79: '18/4/2020',\n",
       " 80: '19/4/2020',\n",
       " 81: '20/4/2020',\n",
       " 82: '21/4/2020',\n",
       " 83: '22/4/2020',\n",
       " 84: '23/4/2020',\n",
       " 85: '24/4/2020',\n",
       " 86: '25/4/2020',\n",
       " 87: '26/4/2020',\n",
       " 88: '27/4/2020',\n",
       " 89: '28/4/2020',\n",
       " 90: '29/4/2020',\n",
       " 91: '30/4/2020',\n",
       " 92: '1/5/2020',\n",
       " 93: '2/5/2020',\n",
       " 94: '3/5/2020',\n",
       " 95: '4/5/2020',\n",
       " 96: '5/5/2020',\n",
       " 97: '6/5/2020',\n",
       " 98: '7/5/2020',\n",
       " 99: '8/5/2020',\n",
       " 100: '9/5/2020',\n",
       " 101: '10/5/2020',\n",
       " 102: '11/5/2020',\n",
       " 103: '12/5/2020',\n",
       " 104: '13/5/2020',\n",
       " 105: '14/5/2020',\n",
       " 106: '15/5/2020',\n",
       " 107: '16/5/2020',\n",
       " 108: '17/5/2020',\n",
       " 109: '18/5/2020',\n",
       " 110: '19/5/2020',\n",
       " 111: '20/5/2020',\n",
       " 112: '21/5/2020',\n",
       " 113: '22/5/2020',\n",
       " 114: '23/5/2020',\n",
       " 115: '24/5/2020',\n",
       " 116: '25/5/2020',\n",
       " 117: '26/5/2020',\n",
       " 118: '27/5/2020',\n",
       " 119: '28/5/2020',\n",
       " 120: '29/5/2020',\n",
       " 121: '30/5/2020',\n",
       " 122: '31/5/2020',\n",
       " 123: '1/6/2020',\n",
       " 124: '2/6/2020',\n",
       " 125: '3/6/2020',\n",
       " 126: '4/6/2020',\n",
       " 127: '5/6/2020',\n",
       " 128: '6/6/2020',\n",
       " 129: '7/6/2020',\n",
       " 130: '8/6/2020',\n",
       " 131: '9/6/2020',\n",
       " 132: '10/6/2020',\n",
       " 133: '11/6/2020',\n",
       " 134: '12/6/2020',\n",
       " 135: '13/6/2020',\n",
       " 136: '14/6/2020',\n",
       " 137: '15/6/2020',\n",
       " 138: '16/6/2020',\n",
       " 139: '17/6/2020',\n",
       " 140: '18/6/2020',\n",
       " 141: '19/6/2020',\n",
       " 142: '20/6/2020',\n",
       " 143: '21/6/2020',\n",
       " 144: '22/6/2020',\n",
       " 145: '23/6/2020',\n",
       " 146: '24/6/2020',\n",
       " 147: '25/6/2020',\n",
       " 148: '26/6/2020',\n",
       " 149: '27/6/2020',\n",
       " 150: '28/6/2020',\n",
       " 151: '29/6/2020',\n",
       " 152: '30/6/2020',\n",
       " 153: '1/7/2020',\n",
       " 154: '2/7/2020',\n",
       " 155: '3/7/2020',\n",
       " 156: '6/7/2020',\n",
       " 157: '7/7/2020',\n",
       " 158: '8/7/2020',\n",
       " 159: '9/7/2020',\n",
       " 160: '10/7/2020',\n",
       " 161: '13/7/2020',\n",
       " 162: '14/7/2020',\n",
       " 163: '15/7/2020',\n",
       " 164: '16/7/2020',\n",
       " 165: '17/7/2020',\n",
       " 166: '20/7/2020',\n",
       " 167: '21/7/2020',\n",
       " 168: '22/7/2020',\n",
       " 169: '23/7/2020',\n",
       " 170: '24/7/2020',\n",
       " 171: '27/7/2020',\n",
       " 172: '28/7/2020',\n",
       " 173: '29/7/2020',\n",
       " 174: '30/7/2020',\n",
       " 175: '31/7/2020',\n",
       " 176: '3/8/2020',\n",
       " 177: '4/8/2020',\n",
       " 178: '5/8/2020',\n",
       " 179: '6/8/2020',\n",
       " 180: '7/8/2020',\n",
       " 181: '10/8/2020',\n",
       " 182: '11/8/2020',\n",
       " 183: '12/8/2020',\n",
       " 184: '13/8/2020',\n",
       " 185: '14/8/2020',\n",
       " 186: '17/8/2020',\n",
       " 187: '18/8/2020',\n",
       " 188: '19/8/2020',\n",
       " 189: '20/8/2020',\n",
       " 190: '21/8/2020',\n",
       " 191: '24/8/2020',\n",
       " 192: '25/8/2020',\n",
       " 193: '26/8/2020',\n",
       " 194: '27/8/2020',\n",
       " 195: '28/8/2020',\n",
       " 196: '31/8/2020',\n",
       " 197: '1/9/2020',\n",
       " 198: '2/9/2020',\n",
       " 199: '3/9/2020',\n",
       " 200: '4/9/2020',\n",
       " 201: '7/9/2020',\n",
       " 202: '8/9/2020',\n",
       " 203: '9/9/2020',\n",
       " 204: '10/9/2020',\n",
       " 205: '11/9/2020',\n",
       " 206: '14/9/2020',\n",
       " 207: '15/9/2020',\n",
       " 208: '16/9/2020',\n",
       " 209: '17/9/2020',\n",
       " 210: '18/9/2020',\n",
       " 211: '21/9/2020',\n",
       " 212: '22/9/2020',\n",
       " 213: '23/9/2020',\n",
       " 214: '24/9/2020',\n",
       " 215: '25/9/2020',\n",
       " 216: '28/9/2020',\n",
       " 217: '29/9/2020',\n",
       " 218: '30/9/2020',\n",
       " 219: '1/10/2020',\n",
       " 220: '2/10/2020',\n",
       " 221: '5/10/2020',\n",
       " 222: '6/10/2020',\n",
       " 223: '7/10/2020',\n",
       " 224: '8/10/2020',\n",
       " 225: '9/10/2020',\n",
       " 226: '12/10/2020',\n",
       " 227: '13/10/2020',\n",
       " 228: '14/10/2020',\n",
       " 229: '15/10/2020',\n",
       " 230: '16/10/2020',\n",
       " 231: '19/10/2020',\n",
       " 232: '20/10/2020',\n",
       " 233: '21/10/2020',\n",
       " 234: '22/10/2020',\n",
       " 235: '23/10/2020',\n",
       " 236: '26/10/2020',\n",
       " 237: '27/10/2020',\n",
       " 238: '28/10/2020',\n",
       " 239: '29/10/2020',\n",
       " 240: '30/10/2020',\n",
       " 241: '2/11/2020',\n",
       " 242: '3/11/2020',\n",
       " 243: '4/11/2020',\n",
       " 244: '5/11/2020',\n",
       " 245: '6/11/2020',\n",
       " 246: '9/11/2020',\n",
       " 247: '10/11/2020',\n",
       " 248: '11/11/2020',\n",
       " 249: '12/11/2020',\n",
       " 250: '13/11/2020',\n",
       " 251: '16/11/2020',\n",
       " 252: '17/11/2020',\n",
       " 253: '18/11/2020',\n",
       " 254: '19/11/2020',\n",
       " 255: '20/11/2020',\n",
       " 256: '23/11/2020',\n",
       " 257: '24/11/2020',\n",
       " 258: '25/11/2020',\n",
       " 259: '26/11/2020',\n",
       " 260: '27/11/2020',\n",
       " 261: '30/11/2020',\n",
       " 262: '1/12/2020',\n",
       " 263: '2/12/2020',\n",
       " 264: '3/12/2020',\n",
       " 265: '4/12/2020',\n",
       " 266: '7/12/2020',\n",
       " 267: '9/12/2020',\n",
       " 268: '10/12/2020',\n",
       " 269: '11/12/2020',\n",
       " 270: '14/12/2020',\n",
       " 271: '15/12/2020',\n",
       " 272: '16/12/2020',\n",
       " 273: '17/12/2020',\n",
       " 274: '18/12/2020',\n",
       " 275: '21/12/2020',\n",
       " 276: '22/12/2020',\n",
       " 277: '23/12/2020',\n",
       " 278: '24/12/2020',\n",
       " 279: '28/12/2020',\n",
       " 280: '29/12/2020',\n",
       " 281: '30/12/2020',\n",
       " 282: '31/12/2020',\n",
       " 283: '4/1/2021',\n",
       " 284: '5/1/2021',\n",
       " 285: '7/1/2021',\n",
       " 286: '8/1/2021',\n",
       " 287: '11/1/2021',\n",
       " 288: '12/1/2021',\n",
       " 289: '13/1/2021',\n",
       " 290: '14/1/2021',\n",
       " 291: '15/1/2021',\n",
       " 292: '18/1/2021',\n",
       " 293: '19/1/2021',\n",
       " 294: '20/1/2021',\n",
       " 295: '21/1/2021',\n",
       " 296: '22/1/2021',\n",
       " 297: '25/1/2021',\n",
       " 298: '26/1/2021',\n",
       " 299: '27/1/2021',\n",
       " 300: '28/1/2021',\n",
       " 301: '29/1/2021',\n",
       " 302: '1/2/2021',\n",
       " 303: '2/2/2021',\n",
       " 304: '3/2/2021',\n",
       " 305: '4/2/2021',\n",
       " 306: '5/2/2021',\n",
       " 307: '8/2/2021',\n",
       " 308: '9/2/2021',\n",
       " 309: '10/2/2021',\n",
       " 310: '11/2/2021',\n",
       " 311: '12/2/2021',\n",
       " 312: '15/2/2021',\n",
       " 313: '16/2/2021',\n",
       " 314: '17/2/2021',\n",
       " 315: '18/2/2021',\n",
       " 316: '19/2/2021',\n",
       " 317: '22/2/2021',\n",
       " 318: '23/2/2021',\n",
       " 319: '24/2/2021',\n",
       " 320: '25/2/2021',\n",
       " 321: '26/2/2021',\n",
       " 322: '1/3/2021',\n",
       " 323: '2/3/2021',\n",
       " 324: '3/3/2021',\n",
       " 325: '4/3/2021',\n",
       " 326: '5/3/2021',\n",
       " 327: '8/3/2021',\n",
       " 328: '9/3/2021',\n",
       " 329: '10/3/2021',\n",
       " 330: '11/3/2021',\n",
       " 331: '12/3/2021',\n",
       " 332: '15/3/2021',\n",
       " 333: '16/3/2021',\n",
       " 334: '17/3/2021',\n",
       " 335: '18/3/2021',\n",
       " 336: '22/3/2021',\n",
       " 337: '23/3/2021',\n",
       " 338: '24/3/2021',\n",
       " 339: '25/3/2021',\n",
       " 340: '26/3/2021',\n",
       " 341: '29/3/2021',\n",
       " 342: '30/3/2021',\n",
       " 343: '31/3/2021',\n",
       " 344: '1/4/2021'}"
      ]
     },
     "execution_count": 26,
     "metadata": {},
     "output_type": "execute_result"
    }
   ],
   "source": [
    "claves"
   ]
  },
  {
   "cell_type": "code",
   "execution_count": 27,
   "metadata": {},
   "outputs": [
    {
     "data": {
      "text/plain": [
       "'1/4/2021'"
      ]
     },
     "execution_count": 27,
     "metadata": {},
     "output_type": "execute_result"
    }
   ],
   "source": [
    "claves[n_fichero]"
   ]
  },
  {
   "cell_type": "code",
   "execution_count": 28,
   "metadata": {},
   "outputs": [],
   "source": [
    "rango = np.concatenate([np.arange(77,137),np.arange(138,234)])\n",
    "opt='text'\n",
    "for i in rango: #original 100 a 234\n",
    "    fn=fuente_ficheros_pdf_sanidad+str(i)+'.pdf'\n",
    "    doc = fitz.open(fn)\n",
    "    numero_pagina=1\n",
    "    page = doc.load_page(numero_pagina)\n",
    "    text = page.get_text(opt)\n",
    "    for comunidad in comunidades:\n",
    "        regexp = r'{}[¥\\*]* '.format(comunidad)+'(((\\n\\d*[,.]?\\d+)[¥* ]* |\\n[ ]*|\\n\\*+ |\\n- ){6})'\n",
    "        pattern = re.compile(regexp)\n",
    "        cadena = re.search(pattern,text).group(1).replace('¥','').split('\\n')[1:]\n",
    "        \n",
    "        cadena = [i.rstrip().lstrip().replace('.','') if i not in ['',' '] else 0 for i in cadena]\n",
    "        c1,c2 = cadena[4:6]\n",
    "        datos = datos.append({'fecha':claves[i],'ccaa':comunidad,'fallecidos':c1},ignore_index=True)\n",
    "        #print (i,'->',comunidad,c1,c2)"
   ]
  },
  {
   "cell_type": "code",
   "execution_count": 29,
   "metadata": {},
   "outputs": [],
   "source": [
    "rango = np.concatenate([np.arange(235,266),np.arange(267,n_fichero+1)])\n",
    "\n",
    "for i in rango:\n",
    "    fn=fuente_ficheros_pdf_sanidad+str(i)+'.pdf'\n",
    "    doc = fitz.open(fn)\n",
    "    numero_pagina=3 if i==266 else 5 if i==282 else 4\n",
    "    page = doc.load_page(numero_pagina)\n",
    "    text = page.get_text(opt)\n",
    "    #print (text)\n",
    "    for comunidad in comunidades:\n",
    "        regexp = r'{} '.format(comunidad)+'((\\n\\d*[,.]?\\d+¥? ){2})'\n",
    "        pattern = re.compile(regexp)\n",
    "        c1,c2 = re.search(pattern,text).group(1).replace('\\n','').replace('.','').split()\n",
    "        #print (i,'->',comunidad,c1,c2)\n",
    "        datos = datos.append({'fecha':claves[i],'ccaa':comunidad,'fallecidos':c1},ignore_index=True)"
   ]
  },
  {
   "cell_type": "code",
   "execution_count": 30,
   "metadata": {},
   "outputs": [
    {
     "data": {
      "text/html": [
       "<div>\n",
       "<style scoped>\n",
       "    .dataframe tbody tr th:only-of-type {\n",
       "        vertical-align: middle;\n",
       "    }\n",
       "\n",
       "    .dataframe tbody tr th {\n",
       "        vertical-align: top;\n",
       "    }\n",
       "\n",
       "    .dataframe thead th {\n",
       "        text-align: right;\n",
       "    }\n",
       "</style>\n",
       "<table border=\"1\" class=\"dataframe\">\n",
       "  <thead>\n",
       "    <tr style=\"text-align: right;\">\n",
       "      <th></th>\n",
       "      <th>ccaa</th>\n",
       "      <th>fallecidos</th>\n",
       "      <th>fecha</th>\n",
       "    </tr>\n",
       "  </thead>\n",
       "  <tbody>\n",
       "    <tr>\n",
       "      <th>0</th>\n",
       "      <td>Andalucía</td>\n",
       "      <td>912</td>\n",
       "      <td>16/4/2020</td>\n",
       "    </tr>\n",
       "    <tr>\n",
       "      <th>1</th>\n",
       "      <td>Aragón</td>\n",
       "      <td>543</td>\n",
       "      <td>16/4/2020</td>\n",
       "    </tr>\n",
       "    <tr>\n",
       "      <th>2</th>\n",
       "      <td>Asturias</td>\n",
       "      <td>168</td>\n",
       "      <td>16/4/2020</td>\n",
       "    </tr>\n",
       "    <tr>\n",
       "      <th>3</th>\n",
       "      <td>Baleares</td>\n",
       "      <td>131</td>\n",
       "      <td>16/4/2020</td>\n",
       "    </tr>\n",
       "    <tr>\n",
       "      <th>4</th>\n",
       "      <td>Canarias</td>\n",
       "      <td>107</td>\n",
       "      <td>16/4/2020</td>\n",
       "    </tr>\n",
       "    <tr>\n",
       "      <th>...</th>\n",
       "      <td>...</td>\n",
       "      <td>...</td>\n",
       "      <td>...</td>\n",
       "    </tr>\n",
       "    <tr>\n",
       "      <th>5030</th>\n",
       "      <td>Melilla</td>\n",
       "      <td>79</td>\n",
       "      <td>1/4/2021</td>\n",
       "    </tr>\n",
       "    <tr>\n",
       "      <th>5031</th>\n",
       "      <td>Murcia</td>\n",
       "      <td>1563</td>\n",
       "      <td>1/4/2021</td>\n",
       "    </tr>\n",
       "    <tr>\n",
       "      <th>5032</th>\n",
       "      <td>Navarra</td>\n",
       "      <td>1121</td>\n",
       "      <td>1/4/2021</td>\n",
       "    </tr>\n",
       "    <tr>\n",
       "      <th>5033</th>\n",
       "      <td>País Vasco</td>\n",
       "      <td>3946</td>\n",
       "      <td>1/4/2021</td>\n",
       "    </tr>\n",
       "    <tr>\n",
       "      <th>5034</th>\n",
       "      <td>La Rioja</td>\n",
       "      <td>744</td>\n",
       "      <td>1/4/2021</td>\n",
       "    </tr>\n",
       "  </tbody>\n",
       "</table>\n",
       "<p>5035 rows × 3 columns</p>\n",
       "</div>"
      ],
      "text/plain": [
       "            ccaa fallecidos      fecha\n",
       "0      Andalucía        912  16/4/2020\n",
       "1         Aragón        543  16/4/2020\n",
       "2       Asturias        168  16/4/2020\n",
       "3       Baleares        131  16/4/2020\n",
       "4       Canarias        107  16/4/2020\n",
       "...          ...        ...        ...\n",
       "5030     Melilla         79   1/4/2021\n",
       "5031      Murcia       1563   1/4/2021\n",
       "5032     Navarra       1121   1/4/2021\n",
       "5033  País Vasco       3946   1/4/2021\n",
       "5034    La Rioja        744   1/4/2021\n",
       "\n",
       "[5035 rows x 3 columns]"
      ]
     },
     "execution_count": 30,
     "metadata": {},
     "output_type": "execute_result"
    }
   ],
   "source": [
    "datos"
   ]
  },
  {
   "cell_type": "code",
   "execution_count": 31,
   "metadata": {},
   "outputs": [
    {
     "data": {
      "text/plain": [
       "(5035, 3)"
      ]
     },
     "execution_count": 31,
     "metadata": {},
     "output_type": "execute_result"
    }
   ],
   "source": [
    "datos.shape"
   ]
  },
  {
   "cell_type": "code",
   "execution_count": 32,
   "metadata": {},
   "outputs": [],
   "source": [
    "datos.to_csv(dir_csv+'datos_fallecidos_sanidad.csv',index=False,sep=',')"
   ]
  },
  {
   "cell_type": "code",
   "execution_count": null,
   "metadata": {},
   "outputs": [],
   "source": []
  },
  {
   "cell_type": "code",
   "execution_count": null,
   "metadata": {},
   "outputs": [],
   "source": []
  }
 ],
 "metadata": {
  "kernelspec": {
   "display_name": "Python 3",
   "language": "python",
   "name": "python3"
  },
  "language_info": {
   "codemirror_mode": {
    "name": "ipython",
    "version": 3
   },
   "file_extension": ".py",
   "mimetype": "text/x-python",
   "name": "python",
   "nbconvert_exporter": "python",
   "pygments_lexer": "ipython3",
   "version": "3.8.5"
  }
 },
 "nbformat": 4,
 "nbformat_minor": 4
}
